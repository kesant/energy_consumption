{
 "cells": [
  {
   "cell_type": "code",
   "execution_count": 3,
   "id": "21aca410-aaf7-4aa0-96d9-33802fc38178",
   "metadata": {},
   "outputs": [],
   "source": [
    "import numpy as np\n",
    "import matplotlib.pyplot as plt\n",
    "import matplotlib as mpl\n",
    "import pandas as pd\n",
    "import seaborn as sns\n",
    "from statsmodels.stats.outliers_influence import variance_inflation_factor\n",
    "from sklearn.model_selection import train_test_split\n",
    "from sklearn.preprocessing import StandardScaler\n",
    "from sklearn.linear_model import LinearRegression, Lasso\n",
    "from sklearn.tree import DecisionTreeRegressor\n",
    "from sklearn.svm import SVR\n",
    "from sklearn.ensemble import RandomForestRegressor, VotingRegressor\n",
    "from sklearn.metrics import mean_squared_error, r2_score\n",
    "from sklearn.model_selection import GridSearchCV\n",
    "from joblib import load\n",
    "import os\n",
    "import re\n",
    "from sklearn.metrics import mean_absolute_percentage_error"
   ]
  },
  {
   "cell_type": "markdown",
   "id": "acf3d9a9-e8c2-4b5b-abe5-1e596bf88218",
   "metadata": {},
   "source": [
    "## IMPORTAR MODELOS DE REGRESION ENTRENADOS"
   ]
  },
  {
   "cell_type": "code",
   "execution_count": 4,
   "id": "3e120117-3f23-44fc-bb0d-2c0a99a7e51d",
   "metadata": {},
   "outputs": [],
   "source": [
    "# average_cluster_0=pd.read_csv(\"../data/interim/series_cluster_0.csv\",parse_dates=[\"Date/Time\"],index_col=\"Date/Time\")\n",
    "# average_cluster_1=pd.read_csv(\"../data/interim/series_cluster_1.csv\",parse_dates=[\"Date/Time\"],index_col=\"Date/Time\")\n",
    "# average_cluster_2=pd.read_csv(\"../data/interim/series_cluster_2.csv\",parse_dates=[\"Date/Time\"],index_col=\"Date/Time\")\n",
    "# average_cluster_3=pd.read_csv(\"../data/interim/series_cluster_3.csv\",parse_dates=[\"Date/Time\"],index_col=\"Date/Time\")"
   ]
  },
  {
   "cell_type": "code",
   "execution_count": 5,
   "id": "e345789c-1231-458c-9932-45034c20148e",
   "metadata": {},
   "outputs": [],
   "source": [
    "# closest_cluster_0=pd.read_csv(\"../data/interim/without_closest_cluster_0.csv\",parse_dates=[\"Date/Time\"],index_col=\"Date/Time\")\n",
    "# closest_cluster_1=pd.read_csv(\"../data/interim/without_closest_cluster_1.csv\",parse_dates=[\"Date/Time\"],index_col=\"Date/Time\")\n",
    "# closest_cluster_2=pd.read_csv(\"../data/interim/without_closest_cluster_2.csv\",parse_dates=[\"Date/Time\"],index_col=\"Date/Time\")\n",
    "# closest_cluster_3=pd.read_csv(\"../data/interim/without_closest_cluster_3.csv\",parse_dates=[\"Date/Time\"],index_col=\"Date/Time\")"
   ]
  },
  {
   "cell_type": "code",
   "execution_count": 6,
   "id": "524f0b45-f6b0-426f-8775-ff01e51369ef",
   "metadata": {},
   "outputs": [],
   "source": [
    "modelo_average_cluster_0= load('../models/modelo_average_cluster_0.joblib')\n",
    "scaler_average_cluster_0= load('../models/scaler_average_cluster_0.joblib')\n",
    "modelo_average_cluster_1= load('../models/modelo_average_cluster_1.joblib')\n",
    "scaler_average_cluster_1= load('../models/scaler_average_cluster_1.joblib')\n",
    "modelo_average_cluster_2= load('../models/modelo_average_cluster_2.joblib')\n",
    "scaler_average_cluster_2= load('../models/scaler_average_cluster_2.joblib')\n",
    "modelo_average_cluster_3= load('../models/modelo_average_cluster_3.joblib')\n",
    "scaler_average_cluster_3= load('../models/scaler_average_cluster_3.joblib')"
   ]
  },
  {
   "cell_type": "code",
   "execution_count": 7,
   "id": "55a4efec-779c-4081-8c93-133854fccd90",
   "metadata": {},
   "outputs": [],
   "source": [
    "modelo_closest_cluster_0= load('../models/modelo_closest_cluster_0.joblib')\n",
    "scaler_closest_cluster_0= load('../models/scaler_closest_cluster_0.joblib')\n",
    "modelo_closest_cluster_1= load('../models/modelo_closest_cluster_1.joblib')\n",
    "scaler_closest_cluster_1= load('../models/scaler_closest_cluster_1.joblib')\n",
    "modelo_closest_cluster_2= load('../models/modelo_closest_cluster_2.joblib')\n",
    "scaler_closest_cluster_2= load('../models/scaler_closest_cluster_2.joblib')\n",
    "modelo_closest_cluster_3= load('../models/modelo_closest_cluster_3.joblib')\n",
    "scaler_closest_cluster_3= load('../models/scaler_closest_cluster_3.joblib')"
   ]
  },
  {
   "cell_type": "code",
   "execution_count": 8,
   "id": "fba15105-f7fa-4b10-8edf-be552c401a31",
   "metadata": {},
   "outputs": [],
   "source": [
    "def smape(y_true, y_pred):\n",
    "    return 100 * np.mean(2 * np.abs(y_pred - y_true) / (np.abs(y_true) + np.abs(y_pred)))"
   ]
  },
  {
   "cell_type": "markdown",
   "id": "673a3da1-d5c5-4906-9c25-94385fb60adf",
   "metadata": {},
   "source": [
    "## IMPORTAR DATOS PARA LAS PRUEBAS"
   ]
  },
  {
   "cell_type": "code",
   "execution_count": 9,
   "id": "388dfb54-11e3-4614-8261-eee0d8a0ea16",
   "metadata": {},
   "outputs": [],
   "source": [
    "# Especifica el directorio donde están los archivos CSV\n",
    "carpeta =\"../data/raw/\"\n",
    "# Obtén la lista de todos los archivos en la carpeta\n",
    "archivos = os.listdir(carpeta)\n",
    "# Define the columns to keep\n",
    "columns_to_keep = [\n",
    "    'Date/Time',\n",
    "    'Electricity:Facility [kW](Hourly)',\n",
    "    'Fans:Electricity [kW](Hourly)',\n",
    "    'Cooling:Electricity [kW](Hourly)',\n",
    "    'Heating:Electricity [kW](Hourly)',\n",
    "    'InteriorLights:Electricity [kW](Hourly)',\n",
    "    'InteriorEquipment:Electricity [kW](Hourly)'\n",
    "]\n",
    "# Load and concatenate data from all files\n",
    "dfs = []\n",
    "for file in archivos:\n",
    "    df = pd.read_csv(f\"../data/raw/{file}\", usecols=columns_to_keep)\n",
    "    df[\"Date/Time\"] = '2004 ' + df[\"Date/Time\"]\n",
    "    date_format = '%Y %m/%d %H:%M:%S'\n",
    "    df[\"Date/Time\"] = pd.to_datetime(df[\"Date/Time\"], format=date_format, errors='coerce')\n",
    "    match = re.match(r'^[^_]+', file)\n",
    "    name = match.group(0)\n",
    "    df[\"type_building\"] = name\n",
    "    dfs.append(df)"
   ]
  },
  {
   "cell_type": "code",
   "execution_count": 10,
   "id": "a41a2bd7-cb2e-4652-9167-27a7c03c49ae",
   "metadata": {},
   "outputs": [],
   "source": [
    "#se extraen los datos clusterizados\n",
    "data_clustered=pd.read_csv(\"../data/interim/clustering_pca.csv\")"
   ]
  },
  {
   "cell_type": "code",
   "execution_count": 11,
   "id": "02318857-29ee-4af9-8d9b-7778c18ce3b8",
   "metadata": {},
   "outputs": [
    {
     "data": {
      "text/html": [
       "<div>\n",
       "<style scoped>\n",
       "    .dataframe tbody tr th:only-of-type {\n",
       "        vertical-align: middle;\n",
       "    }\n",
       "\n",
       "    .dataframe tbody tr th {\n",
       "        vertical-align: top;\n",
       "    }\n",
       "\n",
       "    .dataframe thead th {\n",
       "        text-align: right;\n",
       "    }\n",
       "</style>\n",
       "<table border=\"1\" class=\"dataframe\">\n",
       "  <thead>\n",
       "    <tr style=\"text-align: right;\">\n",
       "      <th></th>\n",
       "      <th>indice_closest</th>\n",
       "      <th>PC1</th>\n",
       "      <th>PC2</th>\n",
       "      <th>PC3</th>\n",
       "      <th>Cluster_KMeans</th>\n",
       "      <th>Cluster_DBSCAN</th>\n",
       "      <th>Cluster_Hierarchical</th>\n",
       "    </tr>\n",
       "  </thead>\n",
       "  <tbody>\n",
       "    <tr>\n",
       "      <th>0</th>\n",
       "      <td>67</td>\n",
       "      <td>-1.122322</td>\n",
       "      <td>-0.026253</td>\n",
       "      <td>0.075707</td>\n",
       "      <td>0</td>\n",
       "      <td>10</td>\n",
       "      <td>0</td>\n",
       "    </tr>\n",
       "    <tr>\n",
       "      <th>1</th>\n",
       "      <td>15</td>\n",
       "      <td>4.515147</td>\n",
       "      <td>1.414719</td>\n",
       "      <td>-1.786065</td>\n",
       "      <td>1</td>\n",
       "      <td>-1</td>\n",
       "      <td>1</td>\n",
       "    </tr>\n",
       "    <tr>\n",
       "      <th>2</th>\n",
       "      <td>5</td>\n",
       "      <td>5.561883</td>\n",
       "      <td>-2.633525</td>\n",
       "      <td>0.505042</td>\n",
       "      <td>2</td>\n",
       "      <td>-1</td>\n",
       "      <td>2</td>\n",
       "    </tr>\n",
       "    <tr>\n",
       "      <th>3</th>\n",
       "      <td>45</td>\n",
       "      <td>2.758477</td>\n",
       "      <td>2.785423</td>\n",
       "      <td>1.366780</td>\n",
       "      <td>1</td>\n",
       "      <td>-1</td>\n",
       "      <td>3</td>\n",
       "    </tr>\n",
       "  </tbody>\n",
       "</table>\n",
       "</div>"
      ],
      "text/plain": [
       "   indice_closest       PC1       PC2       PC3  Cluster_KMeans  \\\n",
       "0              67 -1.122322 -0.026253  0.075707               0   \n",
       "1              15  4.515147  1.414719 -1.786065               1   \n",
       "2               5  5.561883 -2.633525  0.505042               2   \n",
       "3              45  2.758477  2.785423  1.366780               1   \n",
       "\n",
       "   Cluster_DBSCAN  Cluster_Hierarchical  \n",
       "0              10                     0  \n",
       "1              -1                     1  \n",
       "2              -1                     2  \n",
       "3              -1                     3  "
      ]
     },
     "execution_count": 11,
     "metadata": {},
     "output_type": "execute_result"
    }
   ],
   "source": [
    "#se cargan los datos mas cercanos a los clusters\n",
    "closest_points_data=pd.read_csv(\"../data/interim/closest_points.csv\")\n",
    "closest_points_data=closest_points_data.rename(columns={\"Unnamed: 0\":\"indice_closest\"})\n",
    "closest_points_data"
   ]
  },
  {
   "cell_type": "code",
   "execution_count": 12,
   "id": "a5964b8a-6e07-44e2-a456-162897219a6a",
   "metadata": {},
   "outputs": [],
   "source": [
    "#OBTENER LAS SERIES MAS CERCANAS PARA CADA CLUSTER\n",
    "indices_clusters=closest_points_data.indice_closest.unique().tolist()\n",
    "closest_series=[]\n",
    "for indice in indices_clusters:\n",
    "    closest_series.append(dfs[indice])"
   ]
  },
  {
   "cell_type": "markdown",
   "id": "fda0758e-d0c9-4992-a79a-ff2c730d08d9",
   "metadata": {},
   "source": [
    "### OBTENER DATOS DE PRUEBA PARA LOS MODELOS ENTRENADOS CON LAS SERIE PROMEDIO DE CADA CLUSTER "
   ]
  },
  {
   "cell_type": "code",
   "execution_count": 13,
   "id": "7a5877cb-b4ec-4bfc-8cc6-e531a8c5ea15",
   "metadata": {},
   "outputs": [],
   "source": [
    "# Agrupar dataframes por cluster\n",
    "clusters = data_clustered['Cluster_Hierarchical'].unique()\n",
    "average_dfs = {cluster: [] for cluster in clusters}\n",
    "\n",
    "for i, df in enumerate(dfs):\n",
    "    cluster = data_clustered.loc[i, 'Cluster_Hierarchical']\n",
    "    average_dfs[cluster].append(df)"
   ]
  },
  {
   "cell_type": "markdown",
   "id": "460dfadb-e567-40c8-ac37-bc16e7bfcb34",
   "metadata": {},
   "source": [
    "### OBTENER DATOS DE PRUEBA PARA LOS MODELOS ENTRENADOS CON LAS SERIE MAS CERCANA DE CADA CLUSTER "
   ]
  },
  {
   "cell_type": "code",
   "execution_count": 14,
   "id": "91624125-e79e-4bc6-b39b-2aa70bf04f9e",
   "metadata": {},
   "outputs": [],
   "source": [
    "indices_clusters = closest_points_data.indice_closest.unique().tolist()\n",
    "\n",
    "# Filtrar la lista de DataFrames eliminando aquellos en los índices de indices_clusters\n",
    "dfs_actualizados = [df for i, df in enumerate(dfs) if i not in indices_clusters]"
   ]
  },
  {
   "cell_type": "code",
   "execution_count": 15,
   "id": "17c78211-eafa-4a32-b5d7-ef27e7ad6907",
   "metadata": {},
   "outputs": [],
   "source": [
    "# Agrupar dataframes por cluster\n",
    "clusters = data_clustered['Cluster_Hierarchical'].unique()\n",
    "closest_dfs = {cluster: [] for cluster in clusters}\n",
    "\n",
    "for i, df in enumerate(dfs_actualizados):\n",
    "    cluster = data_clustered.loc[i, 'Cluster_Hierarchical']\n",
    "    closest_dfs[cluster].append(df)"
   ]
  },
  {
   "cell_type": "markdown",
   "id": "510142ef-7dea-4de5-8304-4ba09bfff4bf",
   "metadata": {
    "jp-MarkdownHeadingCollapsed": true
   },
   "source": [
    "# PRUEBAS CLUSTER 0"
   ]
  },
  {
   "cell_type": "markdown",
   "id": "a383c2a8-99a0-4166-97b1-73c5a50db4ad",
   "metadata": {},
   "source": [
    "## closest"
   ]
  },
  {
   "cell_type": "code",
   "execution_count": 50,
   "id": "0f073f55-9e4e-421c-8f83-26a42dae0917",
   "metadata": {},
   "outputs": [],
   "source": [
    "# Inicializar variables para acumular resultados\n",
    "rmse_list = []\n",
    "smape_list = []\n",
    "# Lista de columnas para análisis\n",
    "columnas = ['Fans:Electricity [kW](Hourly)', 'Cooling:Electricity [kW](Hourly)',\n",
    "       'InteriorLights:Electricity [kW](Hourly)',\n",
    "       'InteriorEquipment:Electricity [kW](Hourly)', 'hour', 'day_of_week',\n",
    "       'month']\n",
    "\n",
    "for df_serie in closest_dfs[0]:\n",
    "    df=df_serie.copy()\n",
    "    df[\"Date/Time\"]=pd.to_datetime(df[\"Date/Time\"])\n",
    "    df.set_index(\"Date/Time\",inplace=True)\n",
    "    # Extraer características temporales\n",
    "    df['hour'] = df.index.hour\n",
    "    df['day_of_week'] = df.index.dayofweek\n",
    "    df['month'] = df.index.month\n",
    "    \n",
    "    X = df.loc[:, columnas].copy()\n",
    "    y = df.loc[:, 'Electricity:Facility [kW](Hourly)'].copy()\n",
    "    \n",
    "    # Escalar las características\n",
    "    X_scaled = scaler_closest_cluster_0.transform(X)\n",
    "    \n",
    "    # Predecir y calcular métricas de error\n",
    "    y_pred = modelo_closest_cluster_0.predict(X_scaled)\n",
    "    rmse = np.sqrt(mean_squared_error(y, y_pred))\n",
    "    smape_value = smape(y, y_pred)  # Calcular sMAPE\n",
    "    \n",
    "    # Almacenar resultados\n",
    "    rmse_list.append(rmse)\n",
    "    smape_list.append(smape_value)\n",
    "\n",
    "# Calcular promedios de las métricas de error\n",
    "average_rmse = np.mean(rmse_list)\n",
    "average_smape = np.mean(smape_list)\n",
    "\n",
    "# Resultados\n",
    "results = {\n",
    "    \"Metricas del modelo\": {\n",
    "        'Average RMSE': average_rmse,\n",
    "        'Average sMAPE (%)': average_smape\n",
    "    }\n",
    "}\n"
   ]
  },
  {
   "cell_type": "code",
   "execution_count": 51,
   "id": "5db688a5-f1e4-463a-8240-8c11dc8e2d14",
   "metadata": {},
   "outputs": [
    {
     "name": "stdout",
     "output_type": "stream",
     "text": [
      "Resultados del modelo:\n"
     ]
    },
    {
     "data": {
      "text/html": [
       "<div>\n",
       "<style scoped>\n",
       "    .dataframe tbody tr th:only-of-type {\n",
       "        vertical-align: middle;\n",
       "    }\n",
       "\n",
       "    .dataframe tbody tr th {\n",
       "        vertical-align: top;\n",
       "    }\n",
       "\n",
       "    .dataframe thead th {\n",
       "        text-align: right;\n",
       "    }\n",
       "</style>\n",
       "<table border=\"1\" class=\"dataframe\">\n",
       "  <thead>\n",
       "    <tr style=\"text-align: right;\">\n",
       "      <th></th>\n",
       "      <th>Metricas del modelo</th>\n",
       "    </tr>\n",
       "  </thead>\n",
       "  <tbody>\n",
       "    <tr>\n",
       "      <th>Average RMSE</th>\n",
       "      <td>76.949376</td>\n",
       "    </tr>\n",
       "    <tr>\n",
       "      <th>Average sMAPE (%)</th>\n",
       "      <td>52.271431</td>\n",
       "    </tr>\n",
       "  </tbody>\n",
       "</table>\n",
       "</div>"
      ],
      "text/plain": [
       "                   Metricas del modelo\n",
       "Average RMSE                 76.949376\n",
       "Average sMAPE (%)            52.271431"
      ]
     },
     "execution_count": 51,
     "metadata": {},
     "output_type": "execute_result"
    }
   ],
   "source": [
    "# Mostrar los resultados\n",
    "print(\"Resultados del modelo:\")\n",
    "optimized_rf_results_df=pd.DataFrame(results)\n",
    "optimized_rf_results_df"
   ]
  },
  {
   "cell_type": "code",
   "execution_count": 52,
   "id": "e9483f88-7336-4e25-b8f7-850472c26f0a",
   "metadata": {},
   "outputs": [
    {
     "data": {
      "text/plain": [
       "[6.124977211781756,\n",
       " 6.1278036919600725,\n",
       " 6.197875105992481,\n",
       " 6.026074754707554,\n",
       " 6.025296315720119,\n",
       " 203.70755366176908,\n",
       " 205.00498602915061,\n",
       " 194.4453555257644,\n",
       " 194.97655537691267,\n",
       " 830.6193049863855,\n",
       " 54.69345000469319,\n",
       " 61.693343187307306,\n",
       " 58.79954007173386,\n",
       " 4.830397025863422,\n",
       " 4.8093800977265095,\n",
       " 4.814209001054319,\n",
       " 4.796775708364841,\n",
       " 4.81574280283526,\n",
       " 108.88649989163953,\n",
       " 106.42613645929026,\n",
       " 107.93942627931271,\n",
       " 108.23492192095583,\n",
       " 106.62639512881027,\n",
       " 70.84029433481471,\n",
       " 71.61286768329569,\n",
       " 73.32792465189345,\n",
       " 66.43049626922893,\n",
       " 66.77146102112283,\n",
       " 5.796299815774096,\n",
       " 5.76197361871275,\n",
       " 5.744187582670508,\n",
       " 5.855106404705105,\n",
       " 5.834105355981151,\n",
       " 457.1233357849169,\n",
       " 473.6878822321656,\n",
       " 22.04843267954875,\n",
       " 20.694731129053864,\n",
       " 10.86641495139946,\n",
       " 10.83659267562603,\n",
       " 10.817813108599374,\n",
       " 10.943746129395652,\n",
       " 10.934001678318582,\n",
       " 5.439815304191012,\n",
       " 5.423381679651442,\n",
       " 5.400858204763316,\n",
       " 5.397140137813658,\n",
       " 5.4127557749034505,\n",
       " 0.6777456211589287,\n",
       " 0.719578159637776,\n",
       " 0.9987104930635001,\n",
       " 0.8790396122632108,\n",
       " 162.08018982440197,\n",
       " 165.62263157299526,\n",
       " 168.17845031198084,\n",
       " 159.97278411018732,\n",
       " 158.49315418654695,\n",
       " 8.884960153679298,\n",
       " 8.877454019762041,\n",
       " 8.861962190753925,\n",
       " 10.015904191151222,\n",
       " 10.025749046759122]"
      ]
     },
     "execution_count": 52,
     "metadata": {},
     "output_type": "execute_result"
    }
   ],
   "source": [
    "rmse_list"
   ]
  },
  {
   "cell_type": "markdown",
   "id": "2eb00c65-397c-4d40-be06-582a65b06c9e",
   "metadata": {},
   "source": [
    "## Average"
   ]
  },
  {
   "cell_type": "code",
   "execution_count": 53,
   "id": "dabbbe5a-f44c-4b3d-a8bb-68d610b27693",
   "metadata": {},
   "outputs": [],
   "source": [
    "# Inicializar variables para acumular resultados\n",
    "rmse_list = []\n",
    "smape_list = []"
   ]
  },
  {
   "cell_type": "code",
   "execution_count": 54,
   "id": "d40a201d-921e-49a5-9936-c4e27b64bb99",
   "metadata": {},
   "outputs": [],
   "source": [
    "# Lista de columnas para análisis\n",
    "columnas = ['Fans:Electricity [kW](Hourly)', 'Cooling:Electricity [kW](Hourly)',\n",
    "            'InteriorLights:Electricity [kW](Hourly)',\n",
    "            'InteriorEquipment:Electricity [kW](Hourly)', 'hour', 'day_of_week',\n",
    "            'month']\n",
    "\n",
    "for df_serie in average_dfs[0]:\n",
    "    df = df_serie.copy()\n",
    "    df[\"Date/Time\"] = pd.to_datetime(df[\"Date/Time\"])\n",
    "    df.set_index(\"Date/Time\", inplace=True)\n",
    "    # Extraer características temporales\n",
    "    df['hour'] = df.index.hour\n",
    "    df['day_of_week'] = df.index.dayofweek\n",
    "    df['month'] = df.index.month\n",
    "    df.dropna(inplace=True)\n",
    "    X = df.loc[:, columnas].copy()\n",
    "    y = df.loc[:, 'Electricity:Facility [kW](Hourly)'].copy()\n",
    "    \n",
    "    # Escalar las características\n",
    "    X_scaled = scaler_average_cluster_0.transform(X)\n",
    "    \n",
    "    # Predecir y calcular métricas de error\n",
    "    y_pred = modelo_average_cluster_0.predict(X_scaled)\n",
    "    rmse = np.sqrt(mean_squared_error(y, y_pred))\n",
    "    smape_value = smape(y, y_pred)  # Calcular sMAPE\n",
    "    \n",
    "    # Almacenar resultados\n",
    "    rmse_list.append(rmse)\n",
    "    smape_list.append(smape_value)\n",
    "\n",
    "# Calcular promedios de las métricas de error\n",
    "average_rmse = np.mean(rmse_list)\n",
    "average_smape = np.mean(smape_list)\n",
    "\n",
    "# Resultados\n",
    "results = {\n",
    "    \"Metricas del modelo\": {\n",
    "        'Average RMSE': average_rmse,\n",
    "        'Average sMAPE (%)': average_smape\n",
    "    }\n",
    "}\n"
   ]
  },
  {
   "cell_type": "code",
   "execution_count": 55,
   "id": "5d929785-7e0a-42b9-9049-77a968643c89",
   "metadata": {},
   "outputs": [
    {
     "name": "stdout",
     "output_type": "stream",
     "text": [
      "Resultados del modelo:\n"
     ]
    },
    {
     "data": {
      "text/html": [
       "<div>\n",
       "<style scoped>\n",
       "    .dataframe tbody tr th:only-of-type {\n",
       "        vertical-align: middle;\n",
       "    }\n",
       "\n",
       "    .dataframe tbody tr th {\n",
       "        vertical-align: top;\n",
       "    }\n",
       "\n",
       "    .dataframe thead th {\n",
       "        text-align: right;\n",
       "    }\n",
       "</style>\n",
       "<table border=\"1\" class=\"dataframe\">\n",
       "  <thead>\n",
       "    <tr style=\"text-align: right;\">\n",
       "      <th></th>\n",
       "      <th>Metricas del modelo</th>\n",
       "    </tr>\n",
       "  </thead>\n",
       "  <tbody>\n",
       "    <tr>\n",
       "      <th>Average RMSE</th>\n",
       "      <td>51.425706</td>\n",
       "    </tr>\n",
       "    <tr>\n",
       "      <th>Average sMAPE (%)</th>\n",
       "      <td>62.853891</td>\n",
       "    </tr>\n",
       "  </tbody>\n",
       "</table>\n",
       "</div>"
      ],
      "text/plain": [
       "                   Metricas del modelo\n",
       "Average RMSE                 51.425706\n",
       "Average sMAPE (%)            62.853891"
      ]
     },
     "execution_count": 55,
     "metadata": {},
     "output_type": "execute_result"
    }
   ],
   "source": [
    "# Mostrar los resultados\n",
    "print(\"Resultados del modelo:\")\n",
    "optimized_rf_results_df=pd.DataFrame(results)\n",
    "optimized_rf_results_df"
   ]
  },
  {
   "cell_type": "code",
   "execution_count": 45,
   "id": "7aa252eb-adb8-4418-aae0-d7fb5b1c43d3",
   "metadata": {},
   "outputs": [
    {
     "data": {
      "text/plain": [
       "[18.941344435982266,\n",
       " 18.775233435252886,\n",
       " 18.557105212936975,\n",
       " 19.367520143142656,\n",
       " 19.30393893298891,\n",
       " 159.82915470171372,\n",
       " 162.10058933321923,\n",
       " 163.17978046029444,\n",
       " 153.6936651551147,\n",
       " 154.11754575720062,\n",
       " 44.374161710342,\n",
       " 42.316849955025916,\n",
       " 43.13268718207002,\n",
       " 45.678872828477346,\n",
       " 42.45138932729322,\n",
       " 24.295682774051315,\n",
       " 24.113274181575967,\n",
       " 23.839092174970588,\n",
       " 24.658909574593874,\n",
       " 24.647738065018213,\n",
       " 71.7950211253372,\n",
       " 70.10874162565067,\n",
       " 71.58295231577608,\n",
       " 70.50571324541474,\n",
       " 69.39246436719984,\n",
       " 53.02309662124517,\n",
       " 54.39915524770963,\n",
       " 56.50079585522488,\n",
       " 49.22448582025587,\n",
       " 48.71672801988252,\n",
       " 26.70209318829037,\n",
       " 26.581120748631644,\n",
       " 26.414541234125696,\n",
       " 27.0253999552208,\n",
       " 26.99645804815017,\n",
       " 16.708115574899185,\n",
       " 16.544546293104375,\n",
       " 16.32013237895723,\n",
       " 16.35645361945462,\n",
       " 17.058281532364916,\n",
       " 31.955375413000034,\n",
       " 31.925794164013823,\n",
       " 31.864470764356774,\n",
       " 32.05267411345526,\n",
       " 32.06676477388521,\n",
       " 44.18531243330538,\n",
       " 44.061002300555685,\n",
       " 43.7123654688419,\n",
       " 44.993020885547956,\n",
       " 44.93547989872827,\n",
       " 28.759902253908436,\n",
       " 28.625183701851288,\n",
       " 28.262179459184967,\n",
       " 29.588122073841404,\n",
       " 29.600702141651187,\n",
       " 122.11557298794591,\n",
       " 125.87798140648852,\n",
       " 128.70239015819294,\n",
       " 119.08345325943306,\n",
       " 117.72243469401617,\n",
       " 26.28254213976016,\n",
       " 26.350245789151664,\n",
       " 26.29915673543652,\n",
       " 32.13273594294883,\n",
       " 32.185179358838475]"
      ]
     },
     "execution_count": 45,
     "metadata": {},
     "output_type": "execute_result"
    }
   ],
   "source": [
    "rmse_list"
   ]
  },
  {
   "cell_type": "markdown",
   "id": "739bcba1-4be7-478d-ae78-029e3892f9f3",
   "metadata": {
    "jp-MarkdownHeadingCollapsed": true
   },
   "source": [
    "# PRUEBAS CLUSTER 1"
   ]
  },
  {
   "cell_type": "markdown",
   "id": "6fabe08e-7cdc-429e-9f6a-d1a912ee7056",
   "metadata": {},
   "source": [
    "## closest"
   ]
  },
  {
   "cell_type": "code",
   "execution_count": 46,
   "id": "6707bade-8f4d-424d-9d7f-dc1f9dccfe91",
   "metadata": {},
   "outputs": [],
   "source": [
    "# Lista de columnas para análisis\n",
    "columnas = ['Fans:Electricity [kW](Hourly)', 'Cooling:Electricity [kW](Hourly)',\n",
    "       'InteriorLights:Electricity [kW](Hourly)',\n",
    "       'InteriorEquipment:Electricity [kW](Hourly)', 'hour', 'day_of_week',\n",
    "       'month']\n",
    "# Inicializar variables para acumular resultados\n",
    "rmse_list = []\n",
    "smape_list = []\n",
    "for df_serie in closest_dfs[1]:\n",
    "    df=df_serie.copy()\n",
    "    df[\"Date/Time\"]=pd.to_datetime(df[\"Date/Time\"])\n",
    "    df.set_index(\"Date/Time\",inplace=True)\n",
    "    # Extraer características temporales\n",
    "    df['hour'] = df.index.hour\n",
    "    df['day_of_week'] = df.index.dayofweek\n",
    "    df['month'] = df.index.month\n",
    "    \n",
    "    X = df.loc[:, columnas].copy()\n",
    "    y = df.loc[:, 'Electricity:Facility [kW](Hourly)'].copy()\n",
    "    \n",
    "    # Escalar las características\n",
    "    X_scaled = scaler_closest_cluster_1.transform(X)\n",
    "    \n",
    "    # Predecir y calcular métricas de error\n",
    "    y_pred = modelo_closest_cluster_1.predict(X_scaled)\n",
    "    rmse = np.sqrt(mean_squared_error(y, y_pred))\n",
    "    smape_value = smape(y, y_pred)  # Calcular sMAPE\n",
    "    \n",
    "    # Almacenar resultados\n",
    "    rmse_list.append(rmse)\n",
    "    smape_list.append(smape_value)\n",
    "\n",
    "# Calcular promedios de las métricas de error\n",
    "average_rmse = np.mean(rmse_list)\n",
    "average_smape = np.mean(smape_list)\n",
    "\n",
    "# Resultados\n",
    "results = {\n",
    "    \"Metricas del modelo\": {\n",
    "        'Average RMSE': average_rmse,\n",
    "        'Average sMAPE (%)': average_smape\n",
    "    }\n",
    "}"
   ]
  },
  {
   "cell_type": "code",
   "execution_count": 47,
   "id": "dccad079-213f-4c2e-b527-71c05b3e700c",
   "metadata": {},
   "outputs": [
    {
     "name": "stdout",
     "output_type": "stream",
     "text": [
      "Resultados del modelo\n"
     ]
    },
    {
     "data": {
      "text/html": [
       "<div>\n",
       "<style scoped>\n",
       "    .dataframe tbody tr th:only-of-type {\n",
       "        vertical-align: middle;\n",
       "    }\n",
       "\n",
       "    .dataframe tbody tr th {\n",
       "        vertical-align: top;\n",
       "    }\n",
       "\n",
       "    .dataframe thead th {\n",
       "        text-align: right;\n",
       "    }\n",
       "</style>\n",
       "<table border=\"1\" class=\"dataframe\">\n",
       "  <thead>\n",
       "    <tr style=\"text-align: right;\">\n",
       "      <th></th>\n",
       "      <th>Metricas del modelo</th>\n",
       "    </tr>\n",
       "  </thead>\n",
       "  <tbody>\n",
       "    <tr>\n",
       "      <th>Average RMSE</th>\n",
       "      <td>101.841944</td>\n",
       "    </tr>\n",
       "    <tr>\n",
       "      <th>Average sMAPE (%)</th>\n",
       "      <td>49.170538</td>\n",
       "    </tr>\n",
       "  </tbody>\n",
       "</table>\n",
       "</div>"
      ],
      "text/plain": [
       "                   Metricas del modelo\n",
       "Average RMSE                101.841944\n",
       "Average sMAPE (%)            49.170538"
      ]
     },
     "execution_count": 47,
     "metadata": {},
     "output_type": "execute_result"
    }
   ],
   "source": [
    "# Mostrar los resultados\n",
    "print(\"Resultados del modelo\")\n",
    "optimized_rf_results_df=pd.DataFrame(results)\n",
    "optimized_rf_results_df"
   ]
  },
  {
   "cell_type": "markdown",
   "id": "75a36d25-d77b-4b9f-b0ed-882d3d138fbb",
   "metadata": {},
   "source": [
    "## Average"
   ]
  },
  {
   "cell_type": "code",
   "execution_count": 48,
   "id": "c4175185-5e96-4551-bc85-c15ecb6d9641",
   "metadata": {},
   "outputs": [],
   "source": [
    "# Lista de columnas para análisis\n",
    "columnas = ['Fans:Electricity [kW](Hourly)', 'Cooling:Electricity [kW](Hourly)',\n",
    "       'InteriorLights:Electricity [kW](Hourly)',\n",
    "       'InteriorEquipment:Electricity [kW](Hourly)', 'hour', 'day_of_week',\n",
    "       'month']\n",
    "# Inicializar variables para acumular resultados\n",
    "rmse_list = []\n",
    "smape_list = []\n",
    "for df_serie in average_dfs[1]:\n",
    "    df=df_serie.dropna().copy()\n",
    "    df[\"Date/Time\"]=pd.to_datetime(df[\"Date/Time\"])\n",
    "    df.set_index(\"Date/Time\",inplace=True)\n",
    "    # Extraer características temporales\n",
    "    df['hour'] = df.index.hour\n",
    "    df['day_of_week'] = df.index.dayofweek\n",
    "    df['month'] = df.index.month\n",
    "    \n",
    "    X = df.loc[:, columnas].copy()\n",
    "    y = df.loc[:, 'Electricity:Facility [kW](Hourly)'].copy()\n",
    "    \n",
    "    # Escalar las características\n",
    "    X_scaled = scaler_average_cluster_1.transform(X)\n",
    "    \n",
    "    # Predecir y calcular métricas de error\n",
    "    y_pred = modelo_average_cluster_1.predict(X_scaled)\n",
    "    rmse = np.sqrt(mean_squared_error(y, y_pred))\n",
    "    smape_value = smape(y, y_pred)  # Calcular sMAPE\n",
    "    \n",
    "    # Almacenar resultados\n",
    "    rmse_list.append(rmse)\n",
    "    smape_list.append(smape_value)\n",
    "\n",
    "# Calcular promedios de las métricas de error\n",
    "average_rmse = np.mean(rmse_list)\n",
    "average_smape = np.mean(smape_list)\n",
    "\n",
    "# Resultados\n",
    "results = {\n",
    "    \"Metricas del modelo\": {\n",
    "        'Average RMSE': average_rmse,\n",
    "        'Average sMAPE (%)': average_smape\n",
    "    }\n",
    "}"
   ]
  },
  {
   "cell_type": "code",
   "execution_count": 49,
   "id": "1b4725fc-7994-46bb-a6a6-bcf4e00e85de",
   "metadata": {},
   "outputs": [
    {
     "name": "stdout",
     "output_type": "stream",
     "text": [
      "Resultados del modelo\n"
     ]
    },
    {
     "data": {
      "text/html": [
       "<div>\n",
       "<style scoped>\n",
       "    .dataframe tbody tr th:only-of-type {\n",
       "        vertical-align: middle;\n",
       "    }\n",
       "\n",
       "    .dataframe tbody tr th {\n",
       "        vertical-align: top;\n",
       "    }\n",
       "\n",
       "    .dataframe thead th {\n",
       "        text-align: right;\n",
       "    }\n",
       "</style>\n",
       "<table border=\"1\" class=\"dataframe\">\n",
       "  <thead>\n",
       "    <tr style=\"text-align: right;\">\n",
       "      <th></th>\n",
       "      <th>Metricas del modelo</th>\n",
       "    </tr>\n",
       "  </thead>\n",
       "  <tbody>\n",
       "    <tr>\n",
       "      <th>Average RMSE</th>\n",
       "      <td>26.765813</td>\n",
       "    </tr>\n",
       "    <tr>\n",
       "      <th>Average sMAPE (%)</th>\n",
       "      <td>2.206081</td>\n",
       "    </tr>\n",
       "  </tbody>\n",
       "</table>\n",
       "</div>"
      ],
      "text/plain": [
       "                   Metricas del modelo\n",
       "Average RMSE                 26.765813\n",
       "Average sMAPE (%)             2.206081"
      ]
     },
     "execution_count": 49,
     "metadata": {},
     "output_type": "execute_result"
    }
   ],
   "source": [
    "# Mostrar los resultados\n",
    "print(\"Resultados del modelo\")\n",
    "optimized_rf_results_df=pd.DataFrame(results)\n",
    "optimized_rf_results_df"
   ]
  },
  {
   "cell_type": "code",
   "execution_count": 112,
   "id": "e99893b1-9a9d-4878-89d6-442404f73c77",
   "metadata": {},
   "outputs": [
    {
     "data": {
      "text/plain": [
       "[27.026703412757403,\n",
       " 27.727829692903583,\n",
       " 30.12006124291278,\n",
       " 24.12867249186021,\n",
       " 24.825796674492913]"
      ]
     },
     "execution_count": 112,
     "metadata": {},
     "output_type": "execute_result"
    }
   ],
   "source": [
    "rmse_list"
   ]
  },
  {
   "cell_type": "markdown",
   "id": "8c0f5428-bdaa-4459-814d-eddec1e5115b",
   "metadata": {
    "jp-MarkdownHeadingCollapsed": true
   },
   "source": [
    "# PRUEBAS CLUSTER 2"
   ]
  },
  {
   "cell_type": "markdown",
   "id": "731e6aa5-56f0-4dc1-a847-b2d1c9bbf53c",
   "metadata": {},
   "source": [
    "## Closest"
   ]
  },
  {
   "cell_type": "code",
   "execution_count": 56,
   "id": "4bb5a1d2-7e58-4e5b-80b9-d046c17e96a1",
   "metadata": {},
   "outputs": [],
   "source": [
    "# Lista de columnas para análisis\n",
    "columnas = ['Fans:Electricity [kW](Hourly)', 'Cooling:Electricity [kW](Hourly)',\n",
    "       'InteriorLights:Electricity [kW](Hourly)',\n",
    "       'InteriorEquipment:Electricity [kW](Hourly)', 'hour', 'day_of_week',\n",
    "       'month']\n",
    "# Inicializar variables para acumular resultados\n",
    "rmse_list = []\n",
    "smape_list = []\n",
    "for df_serie in closest_dfs[2]:\n",
    "    df=df_serie.copy()\n",
    "    df[\"Date/Time\"]=pd.to_datetime(df[\"Date/Time\"])\n",
    "    df.set_index(\"Date/Time\",inplace=True)\n",
    "    # Extraer características temporales\n",
    "    df['hour'] = df.index.hour\n",
    "    df['day_of_week'] = df.index.dayofweek\n",
    "    df['month'] = df.index.month\n",
    "    \n",
    "    X = df.loc[:, columnas].copy()\n",
    "    y = df.loc[:, 'Electricity:Facility [kW](Hourly)'].copy()\n",
    "    \n",
    "    # Escalar las características\n",
    "    X_scaled = scaler_closest_cluster_2.transform(X)\n",
    "    \n",
    "    # Predecir y calcular métricas de error\n",
    "    y_pred = modelo_closest_cluster_2.predict(X_scaled)\n",
    "    rmse = np.sqrt(mean_squared_error(y, y_pred))\n",
    "    smape_value = smape(y, y_pred)  # Calcular sMAPE\n",
    "    \n",
    "    # Almacenar resultados\n",
    "    rmse_list.append(rmse)\n",
    "    smape_list.append(smape_value)\n",
    "\n",
    "# Calcular promedios de las métricas de error\n",
    "average_rmse = np.mean(rmse_list)\n",
    "average_smape = np.mean(smape_list)\n",
    "\n",
    "# Resultados\n",
    "results = {\n",
    "    \"Metricas del modelo\": {\n",
    "        'Average RMSE': average_rmse,\n",
    "        'Average sMAPE (%)': average_smape\n",
    "    }\n",
    "}\n"
   ]
  },
  {
   "cell_type": "code",
   "execution_count": 57,
   "id": "50d7cdd9-232a-4db7-92aa-1ff20129bd1b",
   "metadata": {},
   "outputs": [
    {
     "name": "stdout",
     "output_type": "stream",
     "text": [
      "Resultados del modelo \n"
     ]
    },
    {
     "data": {
      "text/html": [
       "<div>\n",
       "<style scoped>\n",
       "    .dataframe tbody tr th:only-of-type {\n",
       "        vertical-align: middle;\n",
       "    }\n",
       "\n",
       "    .dataframe tbody tr th {\n",
       "        vertical-align: top;\n",
       "    }\n",
       "\n",
       "    .dataframe thead th {\n",
       "        text-align: right;\n",
       "    }\n",
       "</style>\n",
       "<table border=\"1\" class=\"dataframe\">\n",
       "  <thead>\n",
       "    <tr style=\"text-align: right;\">\n",
       "      <th></th>\n",
       "      <th>Metricas del modelo</th>\n",
       "    </tr>\n",
       "  </thead>\n",
       "  <tbody>\n",
       "    <tr>\n",
       "      <th>Average RMSE</th>\n",
       "      <td>79.941561</td>\n",
       "    </tr>\n",
       "    <tr>\n",
       "      <th>Average sMAPE (%)</th>\n",
       "      <td>16.025339</td>\n",
       "    </tr>\n",
       "  </tbody>\n",
       "</table>\n",
       "</div>"
      ],
      "text/plain": [
       "                   Metricas del modelo\n",
       "Average RMSE                 79.941561\n",
       "Average sMAPE (%)            16.025339"
      ]
     },
     "execution_count": 57,
     "metadata": {},
     "output_type": "execute_result"
    }
   ],
   "source": [
    "# Mostrar los resultados\n",
    "print(\"Resultados del modelo \")\n",
    "optimized_rf_results_df=pd.DataFrame(results)\n",
    "optimized_rf_results_df"
   ]
  },
  {
   "cell_type": "markdown",
   "id": "7f89a8f8-9b8b-4802-b81e-cddf4c18d0ae",
   "metadata": {},
   "source": [
    "## Average"
   ]
  },
  {
   "cell_type": "code",
   "execution_count": 58,
   "id": "5e02d4da-9159-4057-843e-0462862c0fc3",
   "metadata": {},
   "outputs": [],
   "source": [
    "# Lista de columnas para análisis\n",
    "columnas = ['Fans:Electricity [kW](Hourly)', 'Cooling:Electricity [kW](Hourly)',\n",
    "       'InteriorLights:Electricity [kW](Hourly)',\n",
    "       'InteriorEquipment:Electricity [kW](Hourly)', 'hour', 'day_of_week',\n",
    "       'month']\n",
    "# Inicializar variables para acumular resultados\n",
    "rmse_list = []\n",
    "smape_list = []\n",
    "for df_serie in average_dfs[2]:\n",
    "    df=df_serie.dropna().copy()\n",
    "    df[\"Date/Time\"]=pd.to_datetime(df[\"Date/Time\"])\n",
    "    df.set_index(\"Date/Time\",inplace=True)\n",
    "    # Extraer características temporales\n",
    "    df['hour'] = df.index.hour\n",
    "    df['day_of_week'] = df.index.dayofweek\n",
    "    df['month'] = df.index.month\n",
    "    \n",
    "    X = df.loc[:, columnas].copy()\n",
    "    y = df.loc[:, 'Electricity:Facility [kW](Hourly)'].copy()\n",
    "    \n",
    "    # Escalar las características\n",
    "    X_scaled = scaler_average_cluster_2.transform(X)\n",
    "    \n",
    "    # Predecir y calcular métricas de error\n",
    "    y_pred = modelo_average_cluster_2.predict(X_scaled)\n",
    "    rmse = np.sqrt(mean_squared_error(y, y_pred))\n",
    "    smape_value = smape(y, y_pred)  # Calcular sMAPE\n",
    "    \n",
    "    # Almacenar resultados\n",
    "    rmse_list.append(rmse)\n",
    "    smape_list.append(smape_value)\n",
    "\n",
    "# Calcular promedios de las métricas de error\n",
    "average_rmse = np.mean(rmse_list)\n",
    "average_smape = np.mean(smape_list)\n",
    "\n",
    "# Resultados\n",
    "results = {\n",
    "    \"Metricas del modelo\": {\n",
    "        'Average RMSE': average_rmse,\n",
    "        'Average sMAPE (%)': average_smape\n",
    "    }\n",
    "}\n"
   ]
  },
  {
   "cell_type": "code",
   "execution_count": 59,
   "id": "2f03df6b-d479-4fdd-8f51-562ab13bbe9d",
   "metadata": {},
   "outputs": [
    {
     "name": "stdout",
     "output_type": "stream",
     "text": [
      "Resultados del modelo\n"
     ]
    },
    {
     "data": {
      "text/html": [
       "<div>\n",
       "<style scoped>\n",
       "    .dataframe tbody tr th:only-of-type {\n",
       "        vertical-align: middle;\n",
       "    }\n",
       "\n",
       "    .dataframe tbody tr th {\n",
       "        vertical-align: top;\n",
       "    }\n",
       "\n",
       "    .dataframe thead th {\n",
       "        text-align: right;\n",
       "    }\n",
       "</style>\n",
       "<table border=\"1\" class=\"dataframe\">\n",
       "  <thead>\n",
       "    <tr style=\"text-align: right;\">\n",
       "      <th></th>\n",
       "      <th>Metricas del modelo</th>\n",
       "    </tr>\n",
       "  </thead>\n",
       "  <tbody>\n",
       "    <tr>\n",
       "      <th>Average RMSE</th>\n",
       "      <td>23.392239</td>\n",
       "    </tr>\n",
       "    <tr>\n",
       "      <th>Average sMAPE (%)</th>\n",
       "      <td>1.560823</td>\n",
       "    </tr>\n",
       "  </tbody>\n",
       "</table>\n",
       "</div>"
      ],
      "text/plain": [
       "                   Metricas del modelo\n",
       "Average RMSE                 23.392239\n",
       "Average sMAPE (%)             1.560823"
      ]
     },
     "execution_count": 59,
     "metadata": {},
     "output_type": "execute_result"
    }
   ],
   "source": [
    "# Mostrar los resultados\n",
    "print(\"Resultados del modelo\")\n",
    "optimized_rf_results_df=pd.DataFrame(results)\n",
    "optimized_rf_results_df"
   ]
  },
  {
   "cell_type": "code",
   "execution_count": 117,
   "id": "94576b81-3adc-4b1e-a3d3-baf1c55f4b30",
   "metadata": {},
   "outputs": [
    {
     "data": {
      "text/plain": [
       "[24.759659017705108,\n",
       " 19.029786268807403,\n",
       " 21.63894027294141,\n",
       " 26.10129572973282,\n",
       " 25.431515620352677]"
      ]
     },
     "execution_count": 117,
     "metadata": {},
     "output_type": "execute_result"
    }
   ],
   "source": [
    "rmse_list"
   ]
  },
  {
   "cell_type": "markdown",
   "id": "4b1e3fcd-0719-4630-b88e-092ec8892ad7",
   "metadata": {},
   "source": [
    "# PRUEBAS CLUSTER 3"
   ]
  },
  {
   "cell_type": "markdown",
   "id": "ee37a2d8-0653-4a4b-b0df-185f96ee7437",
   "metadata": {},
   "source": [
    "## Closest"
   ]
  },
  {
   "cell_type": "code",
   "execution_count": 60,
   "id": "2a1f431b-1798-4992-8471-de265c2c0a9b",
   "metadata": {},
   "outputs": [],
   "source": [
    "# Lista de columnas para análisis\n",
    "columnas = ['Fans:Electricity [kW](Hourly)', 'Cooling:Electricity [kW](Hourly)',\n",
    "       'InteriorLights:Electricity [kW](Hourly)',\n",
    "       'InteriorEquipment:Electricity [kW](Hourly)', 'hour', 'day_of_week',\n",
    "       'month']\n",
    "# Inicializar variables para acumular resultados\n",
    "rmse_list = []\n",
    "smape_list = []\n",
    "for df_serie in closest_dfs[3]:\n",
    "    df=df_serie.dropna().copy()\n",
    "    df[\"Date/Time\"]=pd.to_datetime(df[\"Date/Time\"])\n",
    "    df.set_index(\"Date/Time\",inplace=True)\n",
    "    # Extraer características temporales\n",
    "    df['hour'] = df.index.hour\n",
    "    df['day_of_week'] = df.index.dayofweek\n",
    "    df['month'] = df.index.month\n",
    "    \n",
    "    X = df.loc[:, columnas].copy()\n",
    "    y = df.loc[:, 'Electricity:Facility [kW](Hourly)'].copy()\n",
    "    \n",
    "    # Escalar las características\n",
    "    X_scaled = scaler_closest_cluster_3.transform(X)\n",
    "    \n",
    "    # Predecir y calcular métricas de error\n",
    "    y_pred = modelo_closest_cluster_3.predict(X_scaled)\n",
    "    rmse = np.sqrt(mean_squared_error(y, y_pred))\n",
    "    smape_value = smape(y, y_pred)  # Calcular sMAPE\n",
    "    \n",
    "    # Almacenar resultados\n",
    "    rmse_list.append(rmse)\n",
    "    smape_list.append(smape_value)\n",
    "\n",
    "# Calcular promedios de las métricas de error\n",
    "average_rmse = np.mean(rmse_list)\n",
    "average_smape = np.mean(smape_list)\n",
    "\n",
    "# Resultados\n",
    "results = {\n",
    "    \"Metricas del modelo\": {\n",
    "        'Average RMSE': average_rmse,\n",
    "        'Average sMAPE (%)': average_smape\n",
    "    }\n",
    "}\n"
   ]
  },
  {
   "cell_type": "code",
   "execution_count": 61,
   "id": "4093db43-c2e9-4db0-858e-8f228e3fbd7f",
   "metadata": {},
   "outputs": [
    {
     "name": "stdout",
     "output_type": "stream",
     "text": [
      "Resultados del modelo\n"
     ]
    },
    {
     "data": {
      "text/html": [
       "<div>\n",
       "<style scoped>\n",
       "    .dataframe tbody tr th:only-of-type {\n",
       "        vertical-align: middle;\n",
       "    }\n",
       "\n",
       "    .dataframe tbody tr th {\n",
       "        vertical-align: top;\n",
       "    }\n",
       "\n",
       "    .dataframe thead th {\n",
       "        text-align: right;\n",
       "    }\n",
       "</style>\n",
       "<table border=\"1\" class=\"dataframe\">\n",
       "  <thead>\n",
       "    <tr style=\"text-align: right;\">\n",
       "      <th></th>\n",
       "      <th>Metricas del modelo</th>\n",
       "    </tr>\n",
       "  </thead>\n",
       "  <tbody>\n",
       "    <tr>\n",
       "      <th>Average RMSE</th>\n",
       "      <td>45.097759</td>\n",
       "    </tr>\n",
       "    <tr>\n",
       "      <th>Average sMAPE (%)</th>\n",
       "      <td>41.222661</td>\n",
       "    </tr>\n",
       "  </tbody>\n",
       "</table>\n",
       "</div>"
      ],
      "text/plain": [
       "                   Metricas del modelo\n",
       "Average RMSE                 45.097759\n",
       "Average sMAPE (%)            41.222661"
      ]
     },
     "execution_count": 61,
     "metadata": {},
     "output_type": "execute_result"
    }
   ],
   "source": [
    "# Mostrar los resultados\n",
    "print(\"Resultados del modelo\")\n",
    "optimized_rf_results_df=pd.DataFrame(results)\n",
    "optimized_rf_results_df"
   ]
  },
  {
   "cell_type": "code",
   "execution_count": 62,
   "id": "0c0e89ff-4405-44cc-a592-90cbb37cdbf0",
   "metadata": {},
   "outputs": [
    {
     "data": {
      "text/plain": [
       "[9.066959835535027,\n",
       " 10.46565449313518,\n",
       " 68.45180454280451,\n",
       " 68.74370114605156,\n",
       " 68.76067719962609]"
      ]
     },
     "execution_count": 62,
     "metadata": {},
     "output_type": "execute_result"
    }
   ],
   "source": [
    "rmse_list"
   ]
  },
  {
   "cell_type": "markdown",
   "id": "a2a592f7-45d4-4cd8-9829-80fed998a25a",
   "metadata": {},
   "source": [
    "## Average "
   ]
  },
  {
   "cell_type": "code",
   "execution_count": 63,
   "id": "89c31a3a-7016-4fdb-a378-80c17189dea6",
   "metadata": {},
   "outputs": [],
   "source": [
    "# Lista de columnas para análisis\n",
    "columnas = ['Fans:Electricity [kW](Hourly)', 'Cooling:Electricity [kW](Hourly)',\n",
    "       'InteriorLights:Electricity [kW](Hourly)',\n",
    "       'InteriorEquipment:Electricity [kW](Hourly)', 'hour', 'day_of_week',\n",
    "       'month']\n",
    "# Inicializar variables para acumular resultados\n",
    "rmse_list = []\n",
    "smape_list = []\n",
    "for df_serie in average_dfs[3]:\n",
    "    df=df_serie.dropna().copy()\n",
    "    df[\"Date/Time\"]=pd.to_datetime(df[\"Date/Time\"])\n",
    "    df.set_index(\"Date/Time\",inplace=True)\n",
    "    # Extraer características temporales\n",
    "    df['hour'] = df.index.hour\n",
    "    df['day_of_week'] = df.index.dayofweek\n",
    "    df['month'] = df.index.month\n",
    "    \n",
    "    X = df.loc[:, columnas].copy()\n",
    "    y = df.loc[:, 'Electricity:Facility [kW](Hourly)'].copy()\n",
    "    \n",
    "    # Escalar las características\n",
    "    X_scaled = scaler_average_cluster_3.transform(X)\n",
    "    \n",
    "    # Predecir y calcular métricas de error\n",
    "    y_pred = modelo_average_cluster_3.predict(X_scaled)\n",
    "    rmse = np.sqrt(mean_squared_error(y, y_pred))\n",
    "    smape_value = smape(y, y_pred)  # Calcular sMAPE\n",
    "    \n",
    "    # Almacenar resultados\n",
    "    rmse_list.append(rmse)\n",
    "    smape_list.append(smape_value)\n",
    "\n",
    "# Calcular promedios de las métricas de error\n",
    "average_rmse = np.mean(rmse_list)\n",
    "average_smape = np.mean(smape_list)\n",
    "\n",
    "# Resultados\n",
    "results = {\n",
    "    \"Metricas del modelo\": {\n",
    "        'Average RMSE': average_rmse,\n",
    "        'Average sMAPE (%)': average_smape\n",
    "    }\n",
    "}\n"
   ]
  },
  {
   "cell_type": "code",
   "execution_count": 64,
   "id": "5480d524-2c31-4fdd-a82c-30f22028a909",
   "metadata": {},
   "outputs": [
    {
     "name": "stdout",
     "output_type": "stream",
     "text": [
      "Resultados del modelo\n"
     ]
    },
    {
     "data": {
      "text/html": [
       "<div>\n",
       "<style scoped>\n",
       "    .dataframe tbody tr th:only-of-type {\n",
       "        vertical-align: middle;\n",
       "    }\n",
       "\n",
       "    .dataframe tbody tr th {\n",
       "        vertical-align: top;\n",
       "    }\n",
       "\n",
       "    .dataframe thead th {\n",
       "        text-align: right;\n",
       "    }\n",
       "</style>\n",
       "<table border=\"1\" class=\"dataframe\">\n",
       "  <thead>\n",
       "    <tr style=\"text-align: right;\">\n",
       "      <th></th>\n",
       "      <th>Metricas del modelo</th>\n",
       "    </tr>\n",
       "  </thead>\n",
       "  <tbody>\n",
       "    <tr>\n",
       "      <th>Average RMSE</th>\n",
       "      <td>7.019017</td>\n",
       "    </tr>\n",
       "    <tr>\n",
       "      <th>Average sMAPE (%)</th>\n",
       "      <td>2.421630</td>\n",
       "    </tr>\n",
       "  </tbody>\n",
       "</table>\n",
       "</div>"
      ],
      "text/plain": [
       "                   Metricas del modelo\n",
       "Average RMSE                  7.019017\n",
       "Average sMAPE (%)             2.421630"
      ]
     },
     "execution_count": 64,
     "metadata": {},
     "output_type": "execute_result"
    }
   ],
   "source": [
    "# Mostrar los resultados\n",
    "print(\"Resultados del modelo\")\n",
    "optimized_rf_results_df=pd.DataFrame(results)\n",
    "optimized_rf_results_df"
   ]
  },
  {
   "cell_type": "code",
   "execution_count": 28,
   "id": "612c104b-0df8-48b4-8912-1f39caec2904",
   "metadata": {},
   "outputs": [
    {
     "data": {
      "text/plain": [
       "[6.950168961681085,\n",
       " 7.092564274942147,\n",
       " 7.749185976478021,\n",
       " 6.880926274093964,\n",
       " 6.422238170246827]"
      ]
     },
     "execution_count": 28,
     "metadata": {},
     "output_type": "execute_result"
    }
   ],
   "source": [
    "rmse_list"
   ]
  },
  {
   "cell_type": "code",
   "execution_count": null,
   "id": "1203ad94-299d-4e24-9f68-eb169af18550",
   "metadata": {},
   "outputs": [],
   "source": []
  },
  {
   "cell_type": "code",
   "execution_count": null,
   "id": "66842b82-ead3-4173-8858-9300b8be67e0",
   "metadata": {},
   "outputs": [],
   "source": []
  }
 ],
 "metadata": {
  "kernelspec": {
   "display_name": "Python 3 (ipykernel)",
   "language": "python",
   "name": "python3"
  },
  "language_info": {
   "codemirror_mode": {
    "name": "ipython",
    "version": 3
   },
   "file_extension": ".py",
   "mimetype": "text/x-python",
   "name": "python",
   "nbconvert_exporter": "python",
   "pygments_lexer": "ipython3",
   "version": "3.11.9"
  }
 },
 "nbformat": 4,
 "nbformat_minor": 5
}
