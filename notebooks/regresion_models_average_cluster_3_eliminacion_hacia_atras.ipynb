{
 "cells": [
  {
   "cell_type": "markdown",
   "id": "d3c7855c-0aca-4b19-88fa-a21d1d67210f",
   "metadata": {},
   "source": [
    "# Importar librerias"
   ]
  },
  {
   "cell_type": "code",
   "execution_count": 1,
   "id": "cca32c39-a545-4316-82aa-bbeef64bbec5",
   "metadata": {},
   "outputs": [],
   "source": [
    "import numpy as np\n",
    "import matplotlib.pyplot as plt\n",
    "import matplotlib as mpl\n",
    "import pandas as pd\n",
    "import seaborn as sns\n",
    "from statsmodels.stats.outliers_influence import variance_inflation_factor\n",
    "from sklearn.model_selection import train_test_split\n",
    "from sklearn.preprocessing import StandardScaler\n",
    "from sklearn.linear_model import LinearRegression, Lasso\n",
    "from sklearn.tree import DecisionTreeRegressor\n",
    "from sklearn.svm import SVR\n",
    "from sklearn.ensemble import RandomForestRegressor, VotingRegressor\n",
    "from sklearn.metrics import mean_squared_error, r2_score\n",
    "from sklearn.model_selection import GridSearchCV\n",
    "from pycaret.regression import setup\n",
    "import statsmodels.api as sm"
   ]
  },
  {
   "cell_type": "markdown",
   "id": "79a490d9-8eef-40ec-be92-5c361cd76895",
   "metadata": {},
   "source": [
    "# Funciones auxiliares"
   ]
  },
  {
   "cell_type": "code",
   "execution_count": 2,
   "id": "a4fa5fbc-3eae-40fd-bab5-8ad8e0e44de0",
   "metadata": {},
   "outputs": [],
   "source": [
    "def matriz_correlacion(dataset, target):\n",
    "    corr_matrix = dataset.corr()\n",
    "    corr_matrix[target].sort_values(ascending=False)\n",
    "    #from matplotlib.colors import ListedColormap\n",
    "    #cm_blue_orange = ListedColormap(['tab:blue', 'orange'])\n",
    "    cm_red_blue = mpl.colormaps['RdBu']\n",
    "    mask = np.triu(np.ones_like(corr_matrix, dtype=bool))\n",
    "    f, ax = plt.subplots(figsize=(8, 6))\n",
    "    sns.heatmap(corr_matrix, mask=mask, annot=True, fmt=\".2f\", cmap=cm_red_blue, vmax=1, vmin=-1, center=0,\n",
    "                square=True, linewidths=.5, cbar_kws={\"shrink\": .5})\n",
    "    plt.title('Heatmap con Valores Numéricos y Colores')\n",
    "    # Mostrar el gráfico\n",
    "    plt.show()"
   ]
  },
  {
   "cell_type": "code",
   "execution_count": 3,
   "id": "8a1bd2c0-cc06-42b3-b987-1faf29b9b210",
   "metadata": {},
   "outputs": [],
   "source": [
    "# Calcular el VIF para cada característica\n",
    "def calculate_vif(df):\n",
    "    vif_data = pd.DataFrame()\n",
    "    vif_data[\"feature\"] = df.columns\n",
    "    vif_data[\"VIF\"] = [variance_inflation_factor(df.values, i) for i in range(df.shape[1])]\n",
    "    return vif_data"
   ]
  },
  {
   "cell_type": "code",
   "execution_count": 4,
   "id": "84b2d8c9-aa57-447e-88d7-f3c662a56e65",
   "metadata": {},
   "outputs": [],
   "source": [
    "# # Función para entrenar y evaluar un modelo\n",
    "# def train_evaluate_model(model, X_train, X_test, y_train, y_test):\n",
    "#     model.fit(X_train, y_train)\n",
    "#     y_pred = model.predict(X_test)\n",
    "#     rmse = np.sqrt(mean_squared_error(y_test, y_pred))  # Calcular RMSE\n",
    "#     r2 = r2_score(y_test, y_pred)\n",
    "#     return rmse, r2"
   ]
  },
  {
   "cell_type": "code",
   "execution_count": 5,
   "id": "94f55d30-5716-457f-ab10-afd255982afe",
   "metadata": {},
   "outputs": [],
   "source": [
    "# Función para entrenar y evaluar el modelo\n",
    "def train_evaluate_model(model, X_train, X_test, y_train, y_test):\n",
    "    model.fit(X_train, y_train)\n",
    "    y_train_pred = model.predict(X_train)\n",
    "    y_test_pred = model.predict(X_test)\n",
    "    \n",
    "    rmse_train = np.sqrt(mean_squared_error(y_train, y_train_pred))\n",
    "    r2_train = r2_score(y_train, y_train_pred)\n",
    "    rmse_test = np.sqrt(mean_squared_error(y_test, y_test_pred))\n",
    "    r2_test = r2_score(y_test, y_test_pred)\n",
    "    \n",
    "    return rmse_train, r2_train, rmse_test, r2_test"
   ]
  },
  {
   "cell_type": "code",
   "execution_count": 6,
   "id": "ef9cd4e5-d745-44c0-9662-8530eed75ac6",
   "metadata": {},
   "outputs": [],
   "source": [
    "'''eliminación_hacia_atras https://www.statsmodels.org/devel/generated/statsmodels.regression.linear_model.OLSResults.html\n",
    "\n",
    "dataset: datos a entrenar (dataframe)\n",
    "level_significance: nivel de significancia, por default 0.05\n",
    "\n",
    "Este método hace la eliminación hacia atrás de la regresión lineal múltiple de acuerdo a un nivel de significancia (p valor)\n",
    "utilizando como métrica al valor r cuadrado ajustado.\n",
    "Return: Arroja una lista de los nombres de las variables más significativas para el modelo'''\n",
    "def eliminacion_hacia_atras(dataset:pd.DataFrame, target:str, level_significance = 0.05):\n",
    "    X = dataset.loc[:, (dataset.columns != target)]\n",
    "    y = dataset.loc[:, target]\n",
    "    columnas_X = X.columns.tolist()\n",
    "    \n",
    "    X_train, _, y_train, _ = train_test_split(X, y, test_size=0.2, random_state=123)\n",
    "    X_train = pd.DataFrame(X_train, columns=X.columns)  # Reconstruir DataFrame para entrenamiento\n",
    "    y_train = pd.Series(y_train)\n",
    "    y_train.name = target\n",
    "\n",
    "    #preparar los predictores para función OLS\n",
    "    #Se agrega una columna de '1' (constante) al inicio a los predictores para el método OLS (obligatorio)\n",
    "    X_OLS = sm.add_constant(X_train)\n",
    "    y_OLS = y_train\n",
    "    \n",
    "    rsquared_adj_dictionary = {} #clave: r cuadrado ajustado, valor: nombre de las variable independiente\n",
    "\n",
    "    while len(columnas_X) > 0:\n",
    "        regression_OLS = sm.OLS(endog = y_OLS, exog = X_OLS).fit()\n",
    "        \n",
    "        pvalues = regression_OLS.pvalues.iloc[1:] #Se tiene los p valores del modelo // No se escoge la columna llena de 1 (constante)\n",
    "        max_p_value = max(pvalues) #el mayor p valor\n",
    "        model_rsquared_adj = regression_OLS.rsquared_adj # r2 ajustado del modelo\n",
    "\n",
    "        feature_to_remove = pvalues.idxmax() #nombre de la variable a eliminar (p valor max)\n",
    "        rsquared_adj_dictionary[model_rsquared_adj] = columnas_X.copy()\n",
    "\n",
    "        #Print de los resultados estadísticos (opcional - se puede comentar)\n",
    "        print('*'*80)\n",
    "        print(regression_OLS.summary(), end= '\\n'*2)\n",
    "        print('Criterio de Información de Akaike (AIC), debe ser preferiblemente el menor entre todos los modelos:', regression_OLS.aic)\n",
    "        print(rsquared_adj_dictionary[model_rsquared_adj])\n",
    "        print('*'*80, end= '\\n'*4)\n",
    "        #Print de los resultados estadísticos (opcional - se puede comentar)\n",
    "\n",
    "        if max_p_value > level_significance:\n",
    "\n",
    "            X_OLS = X_OLS.drop(columns=[feature_to_remove])\n",
    "            columnas_X.remove(feature_to_remove)\n",
    "        else: #si ya se superó el umbral de significancia se para el ciclo while\n",
    "            break\n",
    "\n",
    "    maximo_r2_adj = max(rsquared_adj_dictionary)\n",
    "\n",
    "    #Print de los resultados (opcional - se puede comentar)\n",
    "    print('//ESTE ES EL MEJOR MODELO')\n",
    "    print(f\"R^2: {maximo_r2_adj}, variables de este modelo: {rsquared_adj_dictionary[maximo_r2_adj]}\")\n",
    "    #Print de los resultados (opcional - se puede comentar)\n",
    "\n",
    "    return rsquared_adj_dictionary[maximo_r2_adj] + [target]"
   ]
  },
  {
   "cell_type": "markdown",
   "id": "7f340b51-e59f-47e7-bdd0-b4ba78dcb364",
   "metadata": {},
   "source": [
    "# Preprocesamiento"
   ]
  },
  {
   "cell_type": "code",
   "execution_count": 7,
   "id": "6b190f71-f024-449b-9a5a-dee9a70f0be8",
   "metadata": {},
   "outputs": [],
   "source": [
    "average_cluster_3=pd.read_csv(\"../data/interim/average_series_cluster_3.csv\",parse_dates=[\"Date/Time\"])\n",
    "\n"
   ]
  },
  {
   "cell_type": "code",
   "execution_count": 8,
   "id": "1407aa9a-0289-451b-a49e-585d8812711f",
   "metadata": {},
   "outputs": [],
   "source": [
    "average_cluster_3.drop(columns=\"Heating:Electricity [kW](Hourly)\",inplace=True)"
   ]
  },
  {
   "cell_type": "code",
   "execution_count": 9,
   "id": "b4769d2c-08a8-40db-aa41-d0776103c7f8",
   "metadata": {},
   "outputs": [
    {
     "data": {
      "text/plain": [
       "(8783, 6)"
      ]
     },
     "execution_count": 9,
     "metadata": {},
     "output_type": "execute_result"
    }
   ],
   "source": [
    "average_cluster_3.shape"
   ]
  },
  {
   "cell_type": "code",
   "execution_count": 10,
   "id": "27284d3a-acdb-4e88-bdf5-8631c685e606",
   "metadata": {},
   "outputs": [
    {
     "data": {
      "text/html": [
       "<div>\n",
       "<style scoped>\n",
       "    .dataframe tbody tr th:only-of-type {\n",
       "        vertical-align: middle;\n",
       "    }\n",
       "\n",
       "    .dataframe tbody tr th {\n",
       "        vertical-align: top;\n",
       "    }\n",
       "\n",
       "    .dataframe thead th {\n",
       "        text-align: right;\n",
       "    }\n",
       "</style>\n",
       "<table border=\"1\" class=\"dataframe\">\n",
       "  <thead>\n",
       "    <tr style=\"text-align: right;\">\n",
       "      <th></th>\n",
       "      <th>Date/Time</th>\n",
       "      <th>Electricity:Facility [kW](Hourly)</th>\n",
       "      <th>Fans:Electricity [kW](Hourly)</th>\n",
       "      <th>Cooling:Electricity [kW](Hourly)</th>\n",
       "      <th>InteriorLights:Electricity [kW](Hourly)</th>\n",
       "      <th>InteriorEquipment:Electricity [kW](Hourly)</th>\n",
       "    </tr>\n",
       "  </thead>\n",
       "  <tbody>\n",
       "    <tr>\n",
       "      <th>0</th>\n",
       "      <td>2004-01-01 01:00:00</td>\n",
       "      <td>161.387407</td>\n",
       "      <td>16.394480</td>\n",
       "      <td>26.970423</td>\n",
       "      <td>43.513342</td>\n",
       "      <td>52.539744</td>\n",
       "    </tr>\n",
       "    <tr>\n",
       "      <th>1</th>\n",
       "      <td>2004-01-01 02:00:00</td>\n",
       "      <td>156.571442</td>\n",
       "      <td>16.303037</td>\n",
       "      <td>22.348740</td>\n",
       "      <td>43.513342</td>\n",
       "      <td>52.539744</td>\n",
       "    </tr>\n",
       "    <tr>\n",
       "      <th>2</th>\n",
       "      <td>2004-01-01 03:00:00</td>\n",
       "      <td>170.833916</td>\n",
       "      <td>25.161407</td>\n",
       "      <td>27.599414</td>\n",
       "      <td>43.513342</td>\n",
       "      <td>52.539744</td>\n",
       "    </tr>\n",
       "    <tr>\n",
       "      <th>3</th>\n",
       "      <td>2004-01-01 04:00:00</td>\n",
       "      <td>157.000881</td>\n",
       "      <td>16.670542</td>\n",
       "      <td>22.405555</td>\n",
       "      <td>43.513342</td>\n",
       "      <td>52.539744</td>\n",
       "    </tr>\n",
       "    <tr>\n",
       "      <th>4</th>\n",
       "      <td>2004-01-01 05:00:00</td>\n",
       "      <td>171.708903</td>\n",
       "      <td>25.424457</td>\n",
       "      <td>27.787371</td>\n",
       "      <td>43.513342</td>\n",
       "      <td>52.539744</td>\n",
       "    </tr>\n",
       "  </tbody>\n",
       "</table>\n",
       "</div>"
      ],
      "text/plain": [
       "            Date/Time  Electricity:Facility [kW](Hourly)  \\\n",
       "0 2004-01-01 01:00:00                         161.387407   \n",
       "1 2004-01-01 02:00:00                         156.571442   \n",
       "2 2004-01-01 03:00:00                         170.833916   \n",
       "3 2004-01-01 04:00:00                         157.000881   \n",
       "4 2004-01-01 05:00:00                         171.708903   \n",
       "\n",
       "   Fans:Electricity [kW](Hourly)  Cooling:Electricity [kW](Hourly)  \\\n",
       "0                      16.394480                         26.970423   \n",
       "1                      16.303037                         22.348740   \n",
       "2                      25.161407                         27.599414   \n",
       "3                      16.670542                         22.405555   \n",
       "4                      25.424457                         27.787371   \n",
       "\n",
       "   InteriorLights:Electricity [kW](Hourly)  \\\n",
       "0                                43.513342   \n",
       "1                                43.513342   \n",
       "2                                43.513342   \n",
       "3                                43.513342   \n",
       "4                                43.513342   \n",
       "\n",
       "   InteriorEquipment:Electricity [kW](Hourly)  \n",
       "0                                   52.539744  \n",
       "1                                   52.539744  \n",
       "2                                   52.539744  \n",
       "3                                   52.539744  \n",
       "4                                   52.539744  "
      ]
     },
     "execution_count": 10,
     "metadata": {},
     "output_type": "execute_result"
    }
   ],
   "source": [
    "average_cluster_3.head()"
   ]
  },
  {
   "cell_type": "code",
   "execution_count": 11,
   "id": "7e9bcaf8-6a5f-46b4-ba54-7f51fbf53fd3",
   "metadata": {},
   "outputs": [
    {
     "name": "stdout",
     "output_type": "stream",
     "text": [
      "<class 'pandas.core.frame.DataFrame'>\n",
      "RangeIndex: 8783 entries, 0 to 8782\n",
      "Data columns (total 6 columns):\n",
      " #   Column                                      Non-Null Count  Dtype         \n",
      "---  ------                                      --------------  -----         \n",
      " 0   Date/Time                                   8783 non-null   datetime64[ns]\n",
      " 1   Electricity:Facility [kW](Hourly)           8395 non-null   float64       \n",
      " 2   Fans:Electricity [kW](Hourly)               8395 non-null   float64       \n",
      " 3   Cooling:Electricity [kW](Hourly)            8395 non-null   float64       \n",
      " 4   InteriorLights:Electricity [kW](Hourly)     8395 non-null   float64       \n",
      " 5   InteriorEquipment:Electricity [kW](Hourly)  8395 non-null   float64       \n",
      "dtypes: datetime64[ns](1), float64(5)\n",
      "memory usage: 411.8 KB\n"
     ]
    }
   ],
   "source": [
    "average_cluster_3.info()"
   ]
  },
  {
   "cell_type": "code",
   "execution_count": 12,
   "id": "a83e5732-4f23-4e5d-8259-418081130c5e",
   "metadata": {},
   "outputs": [
    {
     "data": {
      "text/plain": [
       "Date/Time                                       0\n",
       "Electricity:Facility [kW](Hourly)             388\n",
       "Fans:Electricity [kW](Hourly)                 388\n",
       "Cooling:Electricity [kW](Hourly)              388\n",
       "InteriorLights:Electricity [kW](Hourly)       388\n",
       "InteriorEquipment:Electricity [kW](Hourly)    388\n",
       "dtype: int64"
      ]
     },
     "execution_count": 12,
     "metadata": {},
     "output_type": "execute_result"
    }
   ],
   "source": [
    "average_cluster_3.isna().sum()"
   ]
  },
  {
   "cell_type": "code",
   "execution_count": 13,
   "id": "c65eaf12-92f7-4c2c-bc62-ee5aab6c50a8",
   "metadata": {},
   "outputs": [],
   "source": [
    "# Imputar o eliminar valores faltantes si existen\n",
    "average_cluster_3.fillna(method='ffill', inplace=True)"
   ]
  },
  {
   "cell_type": "code",
   "execution_count": 14,
   "id": "a7092d43-d884-42e4-89aa-f0a4d5d0e7b0",
   "metadata": {},
   "outputs": [
    {
     "data": {
      "text/plain": [
       "Date/Time                                     0\n",
       "Electricity:Facility [kW](Hourly)             0\n",
       "Fans:Electricity [kW](Hourly)                 0\n",
       "Cooling:Electricity [kW](Hourly)              0\n",
       "InteriorLights:Electricity [kW](Hourly)       0\n",
       "InteriorEquipment:Electricity [kW](Hourly)    0\n",
       "dtype: int64"
      ]
     },
     "execution_count": 14,
     "metadata": {},
     "output_type": "execute_result"
    }
   ],
   "source": [
    "average_cluster_3.isna().sum()"
   ]
  },
  {
   "cell_type": "code",
   "execution_count": 15,
   "id": "4197a69c-54bc-4924-83d2-63ec56e640f4",
   "metadata": {},
   "outputs": [],
   "source": [
    "# Establecer la columna de fecha como índice\n",
    "average_cluster_3.set_index('Date/Time', inplace=True)"
   ]
  },
  {
   "cell_type": "code",
   "execution_count": 16,
   "id": "19923402-5eed-4edd-8600-3bb8be6eea14",
   "metadata": {},
   "outputs": [],
   "source": [
    "# Extraer características temporales\n",
    "average_cluster_3['hour'] = average_cluster_3.index.hour\n",
    "average_cluster_3['day_of_week'] = average_cluster_3.index.dayofweek\n",
    "average_cluster_3['month'] = average_cluster_3.index.month"
   ]
  },
  {
   "cell_type": "code",
   "execution_count": 17,
   "id": "3e318af4-38be-487e-b843-96d4a369308f",
   "metadata": {},
   "outputs": [
    {
     "data": {
      "text/html": [
       "<div>\n",
       "<style scoped>\n",
       "    .dataframe tbody tr th:only-of-type {\n",
       "        vertical-align: middle;\n",
       "    }\n",
       "\n",
       "    .dataframe tbody tr th {\n",
       "        vertical-align: top;\n",
       "    }\n",
       "\n",
       "    .dataframe thead th {\n",
       "        text-align: right;\n",
       "    }\n",
       "</style>\n",
       "<table border=\"1\" class=\"dataframe\">\n",
       "  <thead>\n",
       "    <tr style=\"text-align: right;\">\n",
       "      <th></th>\n",
       "      <th>Electricity:Facility [kW](Hourly)</th>\n",
       "      <th>Fans:Electricity [kW](Hourly)</th>\n",
       "      <th>Cooling:Electricity [kW](Hourly)</th>\n",
       "      <th>InteriorLights:Electricity [kW](Hourly)</th>\n",
       "      <th>InteriorEquipment:Electricity [kW](Hourly)</th>\n",
       "      <th>hour</th>\n",
       "      <th>day_of_week</th>\n",
       "      <th>month</th>\n",
       "    </tr>\n",
       "    <tr>\n",
       "      <th>Date/Time</th>\n",
       "      <th></th>\n",
       "      <th></th>\n",
       "      <th></th>\n",
       "      <th></th>\n",
       "      <th></th>\n",
       "      <th></th>\n",
       "      <th></th>\n",
       "      <th></th>\n",
       "    </tr>\n",
       "  </thead>\n",
       "  <tbody>\n",
       "    <tr>\n",
       "      <th>2004-01-01 01:00:00</th>\n",
       "      <td>161.387407</td>\n",
       "      <td>16.394480</td>\n",
       "      <td>26.970423</td>\n",
       "      <td>43.513342</td>\n",
       "      <td>52.539744</td>\n",
       "      <td>1</td>\n",
       "      <td>3</td>\n",
       "      <td>1</td>\n",
       "    </tr>\n",
       "    <tr>\n",
       "      <th>2004-01-01 02:00:00</th>\n",
       "      <td>156.571442</td>\n",
       "      <td>16.303037</td>\n",
       "      <td>22.348740</td>\n",
       "      <td>43.513342</td>\n",
       "      <td>52.539744</td>\n",
       "      <td>2</td>\n",
       "      <td>3</td>\n",
       "      <td>1</td>\n",
       "    </tr>\n",
       "    <tr>\n",
       "      <th>2004-01-01 03:00:00</th>\n",
       "      <td>170.833916</td>\n",
       "      <td>25.161407</td>\n",
       "      <td>27.599414</td>\n",
       "      <td>43.513342</td>\n",
       "      <td>52.539744</td>\n",
       "      <td>3</td>\n",
       "      <td>3</td>\n",
       "      <td>1</td>\n",
       "    </tr>\n",
       "    <tr>\n",
       "      <th>2004-01-01 04:00:00</th>\n",
       "      <td>157.000881</td>\n",
       "      <td>16.670542</td>\n",
       "      <td>22.405555</td>\n",
       "      <td>43.513342</td>\n",
       "      <td>52.539744</td>\n",
       "      <td>4</td>\n",
       "      <td>3</td>\n",
       "      <td>1</td>\n",
       "    </tr>\n",
       "    <tr>\n",
       "      <th>2004-01-01 05:00:00</th>\n",
       "      <td>171.708903</td>\n",
       "      <td>25.424457</td>\n",
       "      <td>27.787371</td>\n",
       "      <td>43.513342</td>\n",
       "      <td>52.539744</td>\n",
       "      <td>5</td>\n",
       "      <td>3</td>\n",
       "      <td>1</td>\n",
       "    </tr>\n",
       "  </tbody>\n",
       "</table>\n",
       "</div>"
      ],
      "text/plain": [
       "                     Electricity:Facility [kW](Hourly)  \\\n",
       "Date/Time                                                \n",
       "2004-01-01 01:00:00                         161.387407   \n",
       "2004-01-01 02:00:00                         156.571442   \n",
       "2004-01-01 03:00:00                         170.833916   \n",
       "2004-01-01 04:00:00                         157.000881   \n",
       "2004-01-01 05:00:00                         171.708903   \n",
       "\n",
       "                     Fans:Electricity [kW](Hourly)  \\\n",
       "Date/Time                                            \n",
       "2004-01-01 01:00:00                      16.394480   \n",
       "2004-01-01 02:00:00                      16.303037   \n",
       "2004-01-01 03:00:00                      25.161407   \n",
       "2004-01-01 04:00:00                      16.670542   \n",
       "2004-01-01 05:00:00                      25.424457   \n",
       "\n",
       "                     Cooling:Electricity [kW](Hourly)  \\\n",
       "Date/Time                                               \n",
       "2004-01-01 01:00:00                         26.970423   \n",
       "2004-01-01 02:00:00                         22.348740   \n",
       "2004-01-01 03:00:00                         27.599414   \n",
       "2004-01-01 04:00:00                         22.405555   \n",
       "2004-01-01 05:00:00                         27.787371   \n",
       "\n",
       "                     InteriorLights:Electricity [kW](Hourly)  \\\n",
       "Date/Time                                                      \n",
       "2004-01-01 01:00:00                                43.513342   \n",
       "2004-01-01 02:00:00                                43.513342   \n",
       "2004-01-01 03:00:00                                43.513342   \n",
       "2004-01-01 04:00:00                                43.513342   \n",
       "2004-01-01 05:00:00                                43.513342   \n",
       "\n",
       "                     InteriorEquipment:Electricity [kW](Hourly)  hour  \\\n",
       "Date/Time                                                               \n",
       "2004-01-01 01:00:00                                   52.539744     1   \n",
       "2004-01-01 02:00:00                                   52.539744     2   \n",
       "2004-01-01 03:00:00                                   52.539744     3   \n",
       "2004-01-01 04:00:00                                   52.539744     4   \n",
       "2004-01-01 05:00:00                                   52.539744     5   \n",
       "\n",
       "                     day_of_week  month  \n",
       "Date/Time                                \n",
       "2004-01-01 01:00:00            3      1  \n",
       "2004-01-01 02:00:00            3      1  \n",
       "2004-01-01 03:00:00            3      1  \n",
       "2004-01-01 04:00:00            3      1  \n",
       "2004-01-01 05:00:00            3      1  "
      ]
     },
     "execution_count": 17,
     "metadata": {},
     "output_type": "execute_result"
    }
   ],
   "source": [
    "average_cluster_3.head()"
   ]
  },
  {
   "cell_type": "code",
   "execution_count": 18,
   "id": "dcf295c8-be76-4cc9-9d97-374930b3bce7",
   "metadata": {},
   "outputs": [
    {
     "data": {
      "text/plain": [
       "Index(['Electricity:Facility [kW](Hourly)', 'Fans:Electricity [kW](Hourly)',\n",
       "       'Cooling:Electricity [kW](Hourly)',\n",
       "       'InteriorLights:Electricity [kW](Hourly)',\n",
       "       'InteriorEquipment:Electricity [kW](Hourly)', 'hour', 'day_of_week',\n",
       "       'month'],\n",
       "      dtype='object')"
      ]
     },
     "execution_count": 18,
     "metadata": {},
     "output_type": "execute_result"
    }
   ],
   "source": [
    "average_cluster_3.columns"
   ]
  },
  {
   "cell_type": "code",
   "execution_count": 19,
   "id": "4529d36c-d913-4a9d-bd95-c45f8fb6464e",
   "metadata": {},
   "outputs": [],
   "source": [
    "target='Electricity:Facility [kW](Hourly)'"
   ]
  },
  {
   "cell_type": "code",
   "execution_count": 20,
   "id": "f5f07bde-a652-4f34-8bd0-7108ace451d9",
   "metadata": {},
   "outputs": [
    {
     "data": {
      "image/png": "[encoded data removed]",
      "text/plain": [
       "<Figure size 800x600 with 2 Axes>"
      ]
     },
     "metadata": {},
     "output_type": "display_data"
    }
   ],
   "source": [
    "matriz_correlacion(average_cluster_3, target)"
   ]
  },
  {
   "cell_type": "code",
   "execution_count": 21,
   "id": "b0464d29-3515-4bbf-9bbd-9a0c4d3270ba",
   "metadata": {},
   "outputs": [
    {
     "data": {
      "text/html": [
       "<style type=\"text/css\">\n",
       "#T_427fb_row8_col1, #T_427fb_row12_col1 {\n",
       "  background-color: lightgreen;\n",
       "}\n",
       "</style>\n",
       "<table id=\"T_427fb\">\n",
       "  <thead>\n",
       "    <tr>\n",
       "      <th class=\"blank level0\" >&nbsp;</th>\n",
       "      <th id=\"T_427fb_level0_col0\" class=\"col_heading level0 col0\" >Description</th>\n",
       "      <th id=\"T_427fb_level0_col1\" class=\"col_heading level0 col1\" >Value</th>\n",
       "    </tr>\n",
       "  </thead>\n",
       "  <tbody>\n",
       "    <tr>\n",
       "      <th id=\"T_427fb_level0_row0\" class=\"row_heading level0 row0\" >0</th>\n",
       "      <td id=\"T_427fb_row0_col0\" class=\"data row0 col0\" >Session id</td>\n",
       "      <td id=\"T_427fb_row0_col1\" class=\"data row0 col1\" >6795</td>\n",
       "    </tr>\n",
       "    <tr>\n",
       "      <th id=\"T_427fb_level0_row1\" class=\"row_heading level0 row1\" >1</th>\n",
       "      <td id=\"T_427fb_row1_col0\" class=\"data row1 col0\" >Target</td>\n",
       "      <td id=\"T_427fb_row1_col1\" class=\"data row1 col1\" >Electricity:Facility [kW](Hourly)</td>\n",
       "    </tr>\n",
       "    <tr>\n",
       "      <th id=\"T_427fb_level0_row2\" class=\"row_heading level0 row2\" >2</th>\n",
       "      <td id=\"T_427fb_row2_col0\" class=\"data row2 col0\" >Target type</td>\n",
       "      <td id=\"T_427fb_row2_col1\" class=\"data row2 col1\" >Regression</td>\n",
       "    </tr>\n",
       "    <tr>\n",
       "      <th id=\"T_427fb_level0_row3\" class=\"row_heading level0 row3\" >3</th>\n",
       "      <td id=\"T_427fb_row3_col0\" class=\"data row3 col0\" >Original data shape</td>\n",
       "      <td id=\"T_427fb_row3_col1\" class=\"data row3 col1\" >(8783, 8)</td>\n",
       "    </tr>\n",
       "    <tr>\n",
       "      <th id=\"T_427fb_level0_row4\" class=\"row_heading level0 row4\" >4</th>\n",
       "      <td id=\"T_427fb_row4_col0\" class=\"data row4 col0\" >Transformed data shape</td>\n",
       "      <td id=\"T_427fb_row4_col1\" class=\"data row4 col1\" >(8783, 6)</td>\n",
       "    </tr>\n",
       "    <tr>\n",
       "      <th id=\"T_427fb_level0_row5\" class=\"row_heading level0 row5\" >5</th>\n",
       "      <td id=\"T_427fb_row5_col0\" class=\"data row5 col0\" >Transformed train set shape</td>\n",
       "      <td id=\"T_427fb_row5_col1\" class=\"data row5 col1\" >(6148, 6)</td>\n",
       "    </tr>\n",
       "    <tr>\n",
       "      <th id=\"T_427fb_level0_row6\" class=\"row_heading level0 row6\" >6</th>\n",
       "      <td id=\"T_427fb_row6_col0\" class=\"data row6 col0\" >Transformed test set shape</td>\n",
       "      <td id=\"T_427fb_row6_col1\" class=\"data row6 col1\" >(2635, 6)</td>\n",
       "    </tr>\n",
       "    <tr>\n",
       "      <th id=\"T_427fb_level0_row7\" class=\"row_heading level0 row7\" >7</th>\n",
       "      <td id=\"T_427fb_row7_col0\" class=\"data row7 col0\" >Numeric features</td>\n",
       "      <td id=\"T_427fb_row7_col1\" class=\"data row7 col1\" >7</td>\n",
       "    </tr>\n",
       "    <tr>\n",
       "      <th id=\"T_427fb_level0_row8\" class=\"row_heading level0 row8\" >8</th>\n",
       "      <td id=\"T_427fb_row8_col0\" class=\"data row8 col0\" >Preprocess</td>\n",
       "      <td id=\"T_427fb_row8_col1\" class=\"data row8 col1\" >True</td>\n",
       "    </tr>\n",
       "    <tr>\n",
       "      <th id=\"T_427fb_level0_row9\" class=\"row_heading level0 row9\" >9</th>\n",
       "      <td id=\"T_427fb_row9_col0\" class=\"data row9 col0\" >Imputation type</td>\n",
       "      <td id=\"T_427fb_row9_col1\" class=\"data row9 col1\" >simple</td>\n",
       "    </tr>\n",
       "    <tr>\n",
       "      <th id=\"T_427fb_level0_row10\" class=\"row_heading level0 row10\" >10</th>\n",
       "      <td id=\"T_427fb_row10_col0\" class=\"data row10 col0\" >Numeric imputation</td>\n",
       "      <td id=\"T_427fb_row10_col1\" class=\"data row10 col1\" >mean</td>\n",
       "    </tr>\n",
       "    <tr>\n",
       "      <th id=\"T_427fb_level0_row11\" class=\"row_heading level0 row11\" >11</th>\n",
       "      <td id=\"T_427fb_row11_col0\" class=\"data row11 col0\" >Categorical imputation</td>\n",
       "      <td id=\"T_427fb_row11_col1\" class=\"data row11 col1\" >mode</td>\n",
       "    </tr>\n",
       "    <tr>\n",
       "      <th id=\"T_427fb_level0_row12\" class=\"row_heading level0 row12\" >12</th>\n",
       "      <td id=\"T_427fb_row12_col0\" class=\"data row12 col0\" >Remove multicollinearity</td>\n",
       "      <td id=\"T_427fb_row12_col1\" class=\"data row12 col1\" >True</td>\n",
       "    </tr>\n",
       "    <tr>\n",
       "      <th id=\"T_427fb_level0_row13\" class=\"row_heading level0 row13\" >13</th>\n",
       "      <td id=\"T_427fb_row13_col0\" class=\"data row13 col0\" >Multicollinearity threshold</td>\n",
       "      <td id=\"T_427fb_row13_col1\" class=\"data row13 col1\" >0.600000</td>\n",
       "    </tr>\n",
       "    <tr>\n",
       "      <th id=\"T_427fb_level0_row14\" class=\"row_heading level0 row14\" >14</th>\n",
       "      <td id=\"T_427fb_row14_col0\" class=\"data row14 col0\" >Fold Generator</td>\n",
       "      <td id=\"T_427fb_row14_col1\" class=\"data row14 col1\" >KFold</td>\n",
       "    </tr>\n",
       "    <tr>\n",
       "      <th id=\"T_427fb_level0_row15\" class=\"row_heading level0 row15\" >15</th>\n",
       "      <td id=\"T_427fb_row15_col0\" class=\"data row15 col0\" >Fold Number</td>\n",
       "      <td id=\"T_427fb_row15_col1\" class=\"data row15 col1\" >10</td>\n",
       "    </tr>\n",
       "    <tr>\n",
       "      <th id=\"T_427fb_level0_row16\" class=\"row_heading level0 row16\" >16</th>\n",
       "      <td id=\"T_427fb_row16_col0\" class=\"data row16 col0\" >CPU Jobs</td>\n",
       "      <td id=\"T_427fb_row16_col1\" class=\"data row16 col1\" >-1</td>\n",
       "    </tr>\n",
       "    <tr>\n",
       "      <th id=\"T_427fb_level0_row17\" class=\"row_heading level0 row17\" >17</th>\n",
       "      <td id=\"T_427fb_row17_col0\" class=\"data row17 col0\" >Use GPU</td>\n",
       "      <td id=\"T_427fb_row17_col1\" class=\"data row17 col1\" >False</td>\n",
       "    </tr>\n",
       "    <tr>\n",
       "      <th id=\"T_427fb_level0_row18\" class=\"row_heading level0 row18\" >18</th>\n",
       "      <td id=\"T_427fb_row18_col0\" class=\"data row18 col0\" >Log Experiment</td>\n",
       "      <td id=\"T_427fb_row18_col1\" class=\"data row18 col1\" >False</td>\n",
       "    </tr>\n",
       "    <tr>\n",
       "      <th id=\"T_427fb_level0_row19\" class=\"row_heading level0 row19\" >19</th>\n",
       "      <td id=\"T_427fb_row19_col0\" class=\"data row19 col0\" >Experiment Name</td>\n",
       "      <td id=\"T_427fb_row19_col1\" class=\"data row19 col1\" >reg-default-name</td>\n",
       "    </tr>\n",
       "    <tr>\n",
       "      <th id=\"T_427fb_level0_row20\" class=\"row_heading level0 row20\" >20</th>\n",
       "      <td id=\"T_427fb_row20_col0\" class=\"data row20 col0\" >USI</td>\n",
       "      <td id=\"T_427fb_row20_col1\" class=\"data row20 col1\" >88b0</td>\n",
       "    </tr>\n",
       "  </tbody>\n",
       "</table>\n"
      ],
      "text/plain": [
       "<pandas.io.formats.style.Styler at 0x237e2cc1710>"
      ]
     },
     "metadata": {},
     "output_type": "display_data"
    }
   ],
   "source": [
    "dataset_sin_correlacion = average_cluster_3.copy()\n",
    "multicollinearity_threshold = 0.6 #definir umbral para eliminar las variables altamente correlacionadas entre sí \n",
    "sin_correlacion = setup(data = dataset_sin_correlacion, target = target, remove_multicollinearity = True, multicollinearity_threshold = multicollinearity_threshold) #se eliminan los valores con correlación mayor a \"multicollinearity_threshold\""
   ]
  },
  {
   "cell_type": "code",
   "execution_count": 22,
   "id": "b24ed8a4-f250-4bf7-962f-3076f44c3607",
   "metadata": {},
   "outputs": [
    {
     "data": {
      "text/plain": [
       "['FansElectricity kW(Hourly)',\n",
       " 'CoolingElectricity kW(Hourly)',\n",
       " 'hour',\n",
       " 'day_of_week',\n",
       " 'month',\n",
       " 'Electricity:Facility [kW](Hourly)']"
      ]
     },
     "execution_count": 22,
     "metadata": {},
     "output_type": "execute_result"
    }
   ],
   "source": [
    "lista_sin_correlacion = sin_correlacion.dataset_transformed.columns.to_list()\n",
    "lista_sin_correlacion"
   ]
  },
  {
   "cell_type": "code",
   "execution_count": 23,
   "id": "4f93cf54-d9ba-4a24-ac1b-a05526a7ba03",
   "metadata": {},
   "outputs": [],
   "source": [
    "lista_sin_correlacion_p=[\"Electricity:Facility [kW](Hourly)\",'Fans:Electricity [kW](Hourly)','Cooling:Electricity [kW](Hourly)', 'hour', 'day_of_week',\n",
    "       'month']"
   ]
  },
  {
   "cell_type": "code",
   "execution_count": 24,
   "id": "6ac5f725-9cfb-4b0a-a6a2-125ee2f206fe",
   "metadata": {},
   "outputs": [],
   "source": [
    "dataset_sin_correlacion = dataset_sin_correlacion.loc[:,lista_sin_correlacion_p]"
   ]
  },
  {
   "cell_type": "code",
   "execution_count": 25,
   "id": "2a04d70e-223a-4c82-b305-5e6139fc0567",
   "metadata": {},
   "outputs": [
    {
     "data": {
      "text/html": [
       "<div>\n",
       "<style scoped>\n",
       "    .dataframe tbody tr th:only-of-type {\n",
       "        vertical-align: middle;\n",
       "    }\n",
       "\n",
       "    .dataframe tbody tr th {\n",
       "        vertical-align: top;\n",
       "    }\n",
       "\n",
       "    .dataframe thead th {\n",
       "        text-align: right;\n",
       "    }\n",
       "</style>\n",
       "<table border=\"1\" class=\"dataframe\">\n",
       "  <thead>\n",
       "    <tr style=\"text-align: right;\">\n",
       "      <th></th>\n",
       "      <th>Electricity:Facility [kW](Hourly)</th>\n",
       "      <th>Fans:Electricity [kW](Hourly)</th>\n",
       "      <th>Cooling:Electricity [kW](Hourly)</th>\n",
       "      <th>hour</th>\n",
       "      <th>day_of_week</th>\n",
       "      <th>month</th>\n",
       "    </tr>\n",
       "    <tr>\n",
       "      <th>Date/Time</th>\n",
       "      <th></th>\n",
       "      <th></th>\n",
       "      <th></th>\n",
       "      <th></th>\n",
       "      <th></th>\n",
       "      <th></th>\n",
       "    </tr>\n",
       "  </thead>\n",
       "  <tbody>\n",
       "    <tr>\n",
       "      <th>2004-01-01 01:00:00</th>\n",
       "      <td>161.387407</td>\n",
       "      <td>16.394480</td>\n",
       "      <td>26.970423</td>\n",
       "      <td>1</td>\n",
       "      <td>3</td>\n",
       "      <td>1</td>\n",
       "    </tr>\n",
       "    <tr>\n",
       "      <th>2004-01-01 02:00:00</th>\n",
       "      <td>156.571442</td>\n",
       "      <td>16.303037</td>\n",
       "      <td>22.348740</td>\n",
       "      <td>2</td>\n",
       "      <td>3</td>\n",
       "      <td>1</td>\n",
       "    </tr>\n",
       "    <tr>\n",
       "      <th>2004-01-01 03:00:00</th>\n",
       "      <td>170.833916</td>\n",
       "      <td>25.161407</td>\n",
       "      <td>27.599414</td>\n",
       "      <td>3</td>\n",
       "      <td>3</td>\n",
       "      <td>1</td>\n",
       "    </tr>\n",
       "    <tr>\n",
       "      <th>2004-01-01 04:00:00</th>\n",
       "      <td>157.000881</td>\n",
       "      <td>16.670542</td>\n",
       "      <td>22.405555</td>\n",
       "      <td>4</td>\n",
       "      <td>3</td>\n",
       "      <td>1</td>\n",
       "    </tr>\n",
       "    <tr>\n",
       "      <th>2004-01-01 05:00:00</th>\n",
       "      <td>171.708903</td>\n",
       "      <td>25.424457</td>\n",
       "      <td>27.787371</td>\n",
       "      <td>5</td>\n",
       "      <td>3</td>\n",
       "      <td>1</td>\n",
       "    </tr>\n",
       "  </tbody>\n",
       "</table>\n",
       "</div>"
      ],
      "text/plain": [
       "                     Electricity:Facility [kW](Hourly)  \\\n",
       "Date/Time                                                \n",
       "2004-01-01 01:00:00                         161.387407   \n",
       "2004-01-01 02:00:00                         156.571442   \n",
       "2004-01-01 03:00:00                         170.833916   \n",
       "2004-01-01 04:00:00                         157.000881   \n",
       "2004-01-01 05:00:00                         171.708903   \n",
       "\n",
       "                     Fans:Electricity [kW](Hourly)  \\\n",
       "Date/Time                                            \n",
       "2004-01-01 01:00:00                      16.394480   \n",
       "2004-01-01 02:00:00                      16.303037   \n",
       "2004-01-01 03:00:00                      25.161407   \n",
       "2004-01-01 04:00:00                      16.670542   \n",
       "2004-01-01 05:00:00                      25.424457   \n",
       "\n",
       "                     Cooling:Electricity [kW](Hourly)  hour  day_of_week  \\\n",
       "Date/Time                                                                  \n",
       "2004-01-01 01:00:00                         26.970423     1            3   \n",
       "2004-01-01 02:00:00                         22.348740     2            3   \n",
       "2004-01-01 03:00:00                         27.599414     3            3   \n",
       "2004-01-01 04:00:00                         22.405555     4            3   \n",
       "2004-01-01 05:00:00                         27.787371     5            3   \n",
       "\n",
       "                     month  \n",
       "Date/Time                   \n",
       "2004-01-01 01:00:00      1  \n",
       "2004-01-01 02:00:00      1  \n",
       "2004-01-01 03:00:00      1  \n",
       "2004-01-01 04:00:00      1  \n",
       "2004-01-01 05:00:00      1  "
      ]
     },
     "execution_count": 25,
     "metadata": {},
     "output_type": "execute_result"
    }
   ],
   "source": [
    "dataset_sin_correlacion.head()"
   ]
  },
  {
   "cell_type": "code",
   "execution_count": 26,
   "id": "f6abd3a4-6e3e-4e35-af7c-84b5700df6e9",
   "metadata": {},
   "outputs": [],
   "source": [
    "features_corr=dataset_sin_correlacion.drop(columns='Electricity:Facility [kW](Hourly)').copy()"
   ]
  },
  {
   "cell_type": "markdown",
   "id": "257adc75-4dd3-4198-9efe-220b6a8a3fd0",
   "metadata": {},
   "source": [
    "**Evaluación de la Multicolinealidad**\n",
    "\n",
    "* La multicolinealidad ocurre cuando dos o más variables están altamente correlacionadas entre sí.\n",
    "\n",
    "* Esto puede causar problemas en los modelos de regresión porque dificulta determinar el efecto individual de cada variable.\n",
    "  \n",
    "**¿Cómo evaluamos la multicolinealidad?**\n",
    "\n",
    "* Usamos el Factor de Inflación de la Varianza (VIF). Un VIF alto (mayor a 10) indica multicolinealidad alta.\n",
    "\n",
    "* Eliminamos las variables con VIF mayor a 10 para reducir la multicolinealidad y simplificar nuestro modelo."
   ]
  },
  {
   "cell_type": "code",
   "execution_count": 27,
   "id": "84d2ebd7-37a4-450f-84ed-1c8594dbccd6",
   "metadata": {},
   "outputs": [
    {
     "data": {
      "text/html": [
       "<div>\n",
       "<style scoped>\n",
       "    .dataframe tbody tr th:only-of-type {\n",
       "        vertical-align: middle;\n",
       "    }\n",
       "\n",
       "    .dataframe tbody tr th {\n",
       "        vertical-align: top;\n",
       "    }\n",
       "\n",
       "    .dataframe thead th {\n",
       "        text-align: right;\n",
       "    }\n",
       "</style>\n",
       "<table border=\"1\" class=\"dataframe\">\n",
       "  <thead>\n",
       "    <tr style=\"text-align: right;\">\n",
       "      <th></th>\n",
       "      <th>feature</th>\n",
       "      <th>VIF</th>\n",
       "    </tr>\n",
       "  </thead>\n",
       "  <tbody>\n",
       "    <tr>\n",
       "      <th>0</th>\n",
       "      <td>Fans:Electricity [kW](Hourly)</td>\n",
       "      <td>2.750153</td>\n",
       "    </tr>\n",
       "    <tr>\n",
       "      <th>1</th>\n",
       "      <td>Cooling:Electricity [kW](Hourly)</td>\n",
       "      <td>2.157480</td>\n",
       "    </tr>\n",
       "    <tr>\n",
       "      <th>2</th>\n",
       "      <td>hour</td>\n",
       "      <td>3.178037</td>\n",
       "    </tr>\n",
       "    <tr>\n",
       "      <th>3</th>\n",
       "      <td>day_of_week</td>\n",
       "      <td>2.491498</td>\n",
       "    </tr>\n",
       "    <tr>\n",
       "      <th>4</th>\n",
       "      <td>month</td>\n",
       "      <td>2.965254</td>\n",
       "    </tr>\n",
       "  </tbody>\n",
       "</table>\n",
       "</div>"
      ],
      "text/plain": [
       "                            feature       VIF\n",
       "0     Fans:Electricity [kW](Hourly)  2.750153\n",
       "1  Cooling:Electricity [kW](Hourly)  2.157480\n",
       "2                              hour  3.178037\n",
       "3                       day_of_week  2.491498\n",
       "4                             month  2.965254"
      ]
     },
     "execution_count": 27,
     "metadata": {},
     "output_type": "execute_result"
    }
   ],
   "source": [
    "# Paso 3: Evaluación de la Multicolinealidad\n",
    "vif_before_corr = calculate_vif(features_corr)\n",
    "vif_before_corr"
   ]
  },
  {
   "cell_type": "code",
   "execution_count": 28,
   "id": "085529aa-c120-4468-a16f-bc20b9cc920b",
   "metadata": {},
   "outputs": [
    {
     "data": {
      "text/html": [
       "<div>\n",
       "<style scoped>\n",
       "    .dataframe tbody tr th:only-of-type {\n",
       "        vertical-align: middle;\n",
       "    }\n",
       "\n",
       "    .dataframe tbody tr th {\n",
       "        vertical-align: top;\n",
       "    }\n",
       "\n",
       "    .dataframe thead th {\n",
       "        text-align: right;\n",
       "    }\n",
       "</style>\n",
       "<table border=\"1\" class=\"dataframe\">\n",
       "  <thead>\n",
       "    <tr style=\"text-align: right;\">\n",
       "      <th></th>\n",
       "      <th>Fans:Electricity [kW](Hourly)</th>\n",
       "      <th>Cooling:Electricity [kW](Hourly)</th>\n",
       "      <th>hour</th>\n",
       "      <th>day_of_week</th>\n",
       "      <th>month</th>\n",
       "    </tr>\n",
       "    <tr>\n",
       "      <th>Date/Time</th>\n",
       "      <th></th>\n",
       "      <th></th>\n",
       "      <th></th>\n",
       "      <th></th>\n",
       "      <th></th>\n",
       "    </tr>\n",
       "  </thead>\n",
       "  <tbody>\n",
       "    <tr>\n",
       "      <th>2004-01-01 01:00:00</th>\n",
       "      <td>16.394480</td>\n",
       "      <td>26.970423</td>\n",
       "      <td>1</td>\n",
       "      <td>3</td>\n",
       "      <td>1</td>\n",
       "    </tr>\n",
       "    <tr>\n",
       "      <th>2004-01-01 02:00:00</th>\n",
       "      <td>16.303037</td>\n",
       "      <td>22.348740</td>\n",
       "      <td>2</td>\n",
       "      <td>3</td>\n",
       "      <td>1</td>\n",
       "    </tr>\n",
       "    <tr>\n",
       "      <th>2004-01-01 03:00:00</th>\n",
       "      <td>25.161407</td>\n",
       "      <td>27.599414</td>\n",
       "      <td>3</td>\n",
       "      <td>3</td>\n",
       "      <td>1</td>\n",
       "    </tr>\n",
       "    <tr>\n",
       "      <th>2004-01-01 04:00:00</th>\n",
       "      <td>16.670542</td>\n",
       "      <td>22.405555</td>\n",
       "      <td>4</td>\n",
       "      <td>3</td>\n",
       "      <td>1</td>\n",
       "    </tr>\n",
       "    <tr>\n",
       "      <th>2004-01-01 05:00:00</th>\n",
       "      <td>25.424457</td>\n",
       "      <td>27.787371</td>\n",
       "      <td>5</td>\n",
       "      <td>3</td>\n",
       "      <td>1</td>\n",
       "    </tr>\n",
       "  </tbody>\n",
       "</table>\n",
       "</div>"
      ],
      "text/plain": [
       "                     Fans:Electricity [kW](Hourly)  \\\n",
       "Date/Time                                            \n",
       "2004-01-01 01:00:00                      16.394480   \n",
       "2004-01-01 02:00:00                      16.303037   \n",
       "2004-01-01 03:00:00                      25.161407   \n",
       "2004-01-01 04:00:00                      16.670542   \n",
       "2004-01-01 05:00:00                      25.424457   \n",
       "\n",
       "                     Cooling:Electricity [kW](Hourly)  hour  day_of_week  \\\n",
       "Date/Time                                                                  \n",
       "2004-01-01 01:00:00                         26.970423     1            3   \n",
       "2004-01-01 02:00:00                         22.348740     2            3   \n",
       "2004-01-01 03:00:00                         27.599414     3            3   \n",
       "2004-01-01 04:00:00                         22.405555     4            3   \n",
       "2004-01-01 05:00:00                         27.787371     5            3   \n",
       "\n",
       "                     month  \n",
       "Date/Time                   \n",
       "2004-01-01 01:00:00      1  \n",
       "2004-01-01 02:00:00      1  \n",
       "2004-01-01 03:00:00      1  \n",
       "2004-01-01 04:00:00      1  \n",
       "2004-01-01 05:00:00      1  "
      ]
     },
     "execution_count": 28,
     "metadata": {},
     "output_type": "execute_result"
    }
   ],
   "source": [
    "features_selected_corr=features_corr.copy()\n",
    "features_selected_corr.head()\n"
   ]
  },
  {
   "cell_type": "code",
   "execution_count": 29,
   "id": "c365b343-935d-4df8-9063-fbd026751dd1",
   "metadata": {},
   "outputs": [],
   "source": [
    "taget_predict=dataset_sin_correlacion.loc[:,'Electricity:Facility [kW](Hourly)'].copy()"
   ]
  },
  {
   "cell_type": "code",
   "execution_count": 30,
   "id": "b8ab9902-1ed1-4e6a-a5e9-67e8f6c72892",
   "metadata": {},
   "outputs": [
    {
     "name": "stdout",
     "output_type": "stream",
     "text": [
      "********************************************************************************\n",
      "                                    OLS Regression Results                                   \n",
      "=============================================================================================\n",
      "Dep. Variable:     Electricity:Facility [kW](Hourly)   R-squared:                       0.973\n",
      "Model:                                           OLS   Adj. R-squared:                  0.973\n",
      "Method:                                Least Squares   F-statistic:                 5.023e+04\n",
      "Date:                               Mon, 12 Aug 2024   Prob (F-statistic):               0.00\n",
      "Time:                                       01:13:12   Log-Likelihood:                -37581.\n",
      "No. Observations:                               7026   AIC:                         7.517e+04\n",
      "Df Residuals:                                   7020   BIC:                         7.522e+04\n",
      "Df Model:                                          5                                         \n",
      "Covariance Type:                           nonrobust                                         \n",
      "====================================================================================================\n",
      "                                       coef    std err          t      P>|t|      [0.025      0.975]\n",
      "----------------------------------------------------------------------------------------------------\n",
      "const                              102.3323      1.936     52.865      0.000      98.538     106.127\n",
      "Fans:Electricity [kW](Hourly)        4.0203      0.020    198.127      0.000       3.981       4.060\n",
      "Cooling:Electricity [kW](Hourly)     0.8691      0.003    259.915      0.000       0.863       0.876\n",
      "hour                                 0.6086      0.091      6.714      0.000       0.431       0.786\n",
      "day_of_week                         -0.3640      0.306     -1.189      0.234      -0.964       0.236\n",
      "month                               -0.1115      0.177     -0.630      0.529      -0.459       0.236\n",
      "==============================================================================\n",
      "Omnibus:                     2440.783   Durbin-Watson:                   1.994\n",
      "Prob(Omnibus):                  0.000   Jarque-Bera (JB):            10679.038\n",
      "Skew:                          -1.653   Prob(JB):                         0.00\n",
      "Kurtosis:                       8.054   Cond. No.                         864.\n",
      "==============================================================================\n",
      "\n",
      "Notes:\n",
      "[1] Standard Errors assume that the covariance matrix of the errors is correctly specified.\n",
      "\n",
      "Criterio de Información de Akaike (AIC), debe ser preferiblemente el menor entre todos los modelos: 75174.91496995224\n",
      "['Fans:Electricity [kW](Hourly)', 'Cooling:Electricity [kW](Hourly)', 'hour', 'day_of_week', 'month']\n",
      "********************************************************************************\n",
      "\n",
      "\n",
      "\n",
      "********************************************************************************\n",
      "                                    OLS Regression Results                                   \n",
      "=============================================================================================\n",
      "Dep. Variable:     Electricity:Facility [kW](Hourly)   R-squared:                       0.973\n",
      "Model:                                           OLS   Adj. R-squared:                  0.973\n",
      "Method:                                Least Squares   F-statistic:                 6.279e+04\n",
      "Date:                               Mon, 12 Aug 2024   Prob (F-statistic):               0.00\n",
      "Time:                                       01:13:12   Log-Likelihood:                -37582.\n",
      "No. Observations:                               7026   AIC:                         7.517e+04\n",
      "Df Residuals:                                   7021   BIC:                         7.521e+04\n",
      "Df Model:                                          4                                         \n",
      "Covariance Type:                           nonrobust                                         \n",
      "====================================================================================================\n",
      "                                       coef    std err          t      P>|t|      [0.025      0.975]\n",
      "----------------------------------------------------------------------------------------------------\n",
      "const                              101.6028      1.551     65.518      0.000      98.563     104.643\n",
      "Fans:Electricity [kW](Hourly)        4.0212      0.020    198.662      0.000       3.982       4.061\n",
      "Cooling:Electricity [kW](Hourly)     0.8688      0.003    261.748      0.000       0.862       0.875\n",
      "hour                                 0.6090      0.091      6.719      0.000       0.431       0.787\n",
      "day_of_week                         -0.3625      0.306     -1.185      0.236      -0.962       0.237\n",
      "==============================================================================\n",
      "Omnibus:                     2441.189   Durbin-Watson:                   1.994\n",
      "Prob(Omnibus):                  0.000   Jarque-Bera (JB):            10683.578\n",
      "Skew:                          -1.653   Prob(JB):                         0.00\n",
      "Kurtosis:                       8.056   Cond. No.                         694.\n",
      "==============================================================================\n",
      "\n",
      "Notes:\n",
      "[1] Standard Errors assume that the covariance matrix of the errors is correctly specified.\n",
      "\n",
      "Criterio de Información de Akaike (AIC), debe ser preferiblemente el menor entre todos los modelos: 75173.31185238539\n",
      "['Fans:Electricity [kW](Hourly)', 'Cooling:Electricity [kW](Hourly)', 'hour', 'day_of_week']\n",
      "********************************************************************************\n",
      "\n",
      "\n",
      "\n",
      "********************************************************************************\n",
      "                                    OLS Regression Results                                   \n",
      "=============================================================================================\n",
      "Dep. Variable:     Electricity:Facility [kW](Hourly)   R-squared:                       0.973\n",
      "Model:                                           OLS   Adj. R-squared:                  0.973\n",
      "Method:                                Least Squares   F-statistic:                 8.372e+04\n",
      "Date:                               Mon, 12 Aug 2024   Prob (F-statistic):               0.00\n",
      "Time:                                       01:13:12   Log-Likelihood:                -37582.\n",
      "No. Observations:                               7026   AIC:                         7.517e+04\n",
      "Df Residuals:                                   7022   BIC:                         7.520e+04\n",
      "Df Model:                                          3                                         \n",
      "Covariance Type:                           nonrobust                                         \n",
      "====================================================================================================\n",
      "                                       coef    std err          t      P>|t|      [0.025      0.975]\n",
      "----------------------------------------------------------------------------------------------------\n",
      "const                              100.4890      1.233     81.487      0.000      98.072     102.906\n",
      "Fans:Electricity [kW](Hourly)        4.0227      0.020    199.111      0.000       3.983       4.062\n",
      "Cooling:Electricity [kW](Hourly)     0.8689      0.003    261.758      0.000       0.862       0.875\n",
      "hour                                 0.6062      0.091      6.690      0.000       0.429       0.784\n",
      "==============================================================================\n",
      "Omnibus:                     2441.972   Durbin-Watson:                   1.994\n",
      "Prob(Omnibus):                  0.000   Jarque-Bera (JB):            10687.913\n",
      "Skew:                          -1.654   Prob(JB):                         0.00\n",
      "Kurtosis:                       8.056   Cond. No.                         548.\n",
      "==============================================================================\n",
      "\n",
      "Notes:\n",
      "[1] Standard Errors assume that the covariance matrix of the errors is correctly specified.\n",
      "\n",
      "Criterio de Información de Akaike (AIC), debe ser preferiblemente el menor entre todos los modelos: 75172.71578910091\n",
      "['Fans:Electricity [kW](Hourly)', 'Cooling:Electricity [kW](Hourly)', 'hour']\n",
      "********************************************************************************\n",
      "\n",
      "\n",
      "\n",
      "//ESTE ES EL MEJOR MODELO\n",
      "R^2: 0.9727908196751492, variables de este modelo: ['Fans:Electricity [kW](Hourly)', 'Cooling:Electricity [kW](Hourly)', 'hour', 'day_of_week']\n"
     ]
    }
   ],
   "source": [
    "lista_eliminicacion_hacia_atras = eliminacion_hacia_atras(dataset_sin_correlacion,target)"
   ]
  },
  {
   "cell_type": "code",
   "execution_count": 31,
   "id": "8ce09069-76c6-4156-b6df-9b3050a0527c",
   "metadata": {},
   "outputs": [
    {
     "data": {
      "text/plain": [
       "['Fans:Electricity [kW](Hourly)',\n",
       " 'Cooling:Electricity [kW](Hourly)',\n",
       " 'hour',\n",
       " 'day_of_week',\n",
       " 'Electricity:Facility [kW](Hourly)']"
      ]
     },
     "execution_count": 31,
     "metadata": {},
     "output_type": "execute_result"
    }
   ],
   "source": [
    "lista_eliminicacion_hacia_atras"
   ]
  },
  {
   "cell_type": "code",
   "execution_count": 32,
   "id": "d4fc329a-cf34-4b95-be1c-0cc79b4a0695",
   "metadata": {},
   "outputs": [],
   "source": [
    "lista_sin_correlacion_p=['Fans:Electricity [kW](Hourly)','Cooling:Electricity [kW](Hourly)', 'hour', 'day_of_week']"
   ]
  },
  {
   "cell_type": "code",
   "execution_count": 33,
   "id": "6377dbbb-84c4-4bbe-b6a6-a4a9d5474582",
   "metadata": {},
   "outputs": [],
   "source": [
    "features_predict=average_cluster_3.loc[:,lista_sin_correlacion_p].copy()"
   ]
  },
  {
   "cell_type": "code",
   "execution_count": 34,
   "id": "6194b442-4219-426d-a6e5-570b4e207ab9",
   "metadata": {},
   "outputs": [],
   "source": [
    "taget_predict=dataset_sin_correlacion.loc[:,'Electricity:Facility [kW](Hourly)'].copy()"
   ]
  },
  {
   "cell_type": "markdown",
   "id": "1fff6d13-3af5-4d21-8bfe-060831d15237",
   "metadata": {},
   "source": [
    "# Seleccion del modelo"
   ]
  },
  {
   "cell_type": "code",
   "execution_count": 35,
   "id": "8db868da-093c-4cbe-9e57-23a0ea03be86",
   "metadata": {},
   "outputs": [],
   "source": [
    "# Dividir los datos en conjuntos de entrenamiento y prueba\n",
    "X_train_corr, X_test_corr, y_train_corr, y_test_corr = train_test_split(features_predict, taget_predict, test_size=0.2, random_state=42)"
   ]
  },
  {
   "cell_type": "code",
   "execution_count": 36,
   "id": "5f7f018d-8311-45e5-a0c0-d357d4db5697",
   "metadata": {},
   "outputs": [],
   "source": [
    "# Escalar las características\n",
    "scaler_corr = StandardScaler()\n",
    "X_train_scaled_corr = scaler_corr.fit_transform(X_train_corr)\n",
    "X_test_scaled_corr = scaler_corr.transform(X_test_corr)"
   ]
  },
  {
   "cell_type": "code",
   "execution_count": 37,
   "id": "64021972-2632-4bd8-81d2-45279d3d69b9",
   "metadata": {},
   "outputs": [],
   "source": [
    "# Definición de modelos\n",
    "models = {\n",
    "    \"Linear Regression\": LinearRegression(),\n",
    "    \"Stepwise Linear Regression\": Lasso(alpha=0.01),  # Utilizando Lasso como aproximación a la regresión paso a paso\n",
    "    \"Tree\": DecisionTreeRegressor(),\n",
    "    \"SVM\": SVR(kernel='rbf'),\n",
    "    \"Efficient Linear\": LinearRegression(),  # Utilizando Linear Regression como proxy\n",
    "    \"Ensemble\": VotingRegressor(estimators=[\n",
    "        ('lr', LinearRegression()),\n",
    "        ('lasso', Lasso(alpha=0.01)),\n",
    "        ('rf', RandomForestRegressor(n_estimators=100, random_state=42))\n",
    "    ]),\n",
    "    \"Random Forest\": RandomForestRegressor(n_estimators=100, random_state=42)\n",
    "}\n",
    "\n",
    "# Variables para almacenar resultados y modelos entrenados\n",
    "results = {}\n",
    "trained_models = {}\n",
    "\n",
    "# Entrenar y evaluar cada modelo\n",
    "for model_name, model in models.items():\n",
    "    rmse_train, r2_train, rmse_test, r2_test = train_evaluate_model(model, X_train_scaled_corr, X_test_scaled_corr, y_train_corr, y_test_corr)\n",
    "    results[model_name] = {\n",
    "        'RMSE Train': rmse_train, \n",
    "        'R2 Train': r2_train,\n",
    "        'RMSE Test': rmse_test, \n",
    "        'R2 Test': r2_test\n",
    "    }\n",
    "    # Guardar el modelo entrenado en el diccionario\n",
    "    trained_models[model_name] = model "
   ]
  },
  {
   "cell_type": "code",
   "execution_count": 38,
   "id": "a09be69c-4128-4110-a749-f49d8fee42fa",
   "metadata": {},
   "outputs": [
    {
     "data": {
      "text/html": [
       "<div>\n",
       "<style scoped>\n",
       "    .dataframe tbody tr th:only-of-type {\n",
       "        vertical-align: middle;\n",
       "    }\n",
       "\n",
       "    .dataframe tbody tr th {\n",
       "        vertical-align: top;\n",
       "    }\n",
       "\n",
       "    .dataframe thead th {\n",
       "        text-align: right;\n",
       "    }\n",
       "</style>\n",
       "<table border=\"1\" class=\"dataframe\">\n",
       "  <thead>\n",
       "    <tr style=\"text-align: right;\">\n",
       "      <th></th>\n",
       "      <th>Linear Regression</th>\n",
       "      <th>Stepwise Linear Regression</th>\n",
       "      <th>Tree</th>\n",
       "      <th>SVM</th>\n",
       "      <th>Efficient Linear</th>\n",
       "      <th>Ensemble</th>\n",
       "      <th>Random Forest</th>\n",
       "    </tr>\n",
       "  </thead>\n",
       "  <tbody>\n",
       "    <tr>\n",
       "      <th>RMSE Train</th>\n",
       "      <td>51.436615</td>\n",
       "      <td>51.436617</td>\n",
       "      <td>6.714445</td>\n",
       "      <td>73.678802</td>\n",
       "      <td>51.436615</td>\n",
       "      <td>34.991087</td>\n",
       "      <td>7.982640</td>\n",
       "    </tr>\n",
       "    <tr>\n",
       "      <th>R2 Train</th>\n",
       "      <td>0.972457</td>\n",
       "      <td>0.972457</td>\n",
       "      <td>0.999531</td>\n",
       "      <td>0.943486</td>\n",
       "      <td>0.972457</td>\n",
       "      <td>0.987254</td>\n",
       "      <td>0.999337</td>\n",
       "    </tr>\n",
       "    <tr>\n",
       "      <th>RMSE Test</th>\n",
       "      <td>48.499956</td>\n",
       "      <td>48.499244</td>\n",
       "      <td>17.651389</td>\n",
       "      <td>66.218987</td>\n",
       "      <td>48.499956</td>\n",
       "      <td>33.890942</td>\n",
       "      <td>14.228275</td>\n",
       "    </tr>\n",
       "    <tr>\n",
       "      <th>R2 Test</th>\n",
       "      <td>0.975091</td>\n",
       "      <td>0.975091</td>\n",
       "      <td>0.996701</td>\n",
       "      <td>0.953565</td>\n",
       "      <td>0.975091</td>\n",
       "      <td>0.987837</td>\n",
       "      <td>0.997856</td>\n",
       "    </tr>\n",
       "  </tbody>\n",
       "</table>\n",
       "</div>"
      ],
      "text/plain": [
       "            Linear Regression  Stepwise Linear Regression       Tree  \\\n",
       "RMSE Train          51.436615                   51.436617   6.714445   \n",
       "R2 Train             0.972457                    0.972457   0.999531   \n",
       "RMSE Test           48.499956                   48.499244  17.651389   \n",
       "R2 Test              0.975091                    0.975091   0.996701   \n",
       "\n",
       "                  SVM  Efficient Linear   Ensemble  Random Forest  \n",
       "RMSE Train  73.678802         51.436615  34.991087       7.982640  \n",
       "R2 Train     0.943486          0.972457   0.987254       0.999337  \n",
       "RMSE Test   66.218987         48.499956  33.890942      14.228275  \n",
       "R2 Test      0.953565          0.975091   0.987837       0.997856  "
      ]
     },
     "execution_count": 38,
     "metadata": {},
     "output_type": "execute_result"
    }
   ],
   "source": [
    "# Convertir a DataFrame y verificar overfitting\n",
    "df_overfitting_results= pd.DataFrame(results)\n",
    "df_overfitting_results.head()"
   ]
  },
  {
   "cell_type": "markdown",
   "id": "b57fa81f-27be-4140-b4fc-cd97f77acfed",
   "metadata": {
    "jp-MarkdownHeadingCollapsed": true
   },
   "source": [
    "# Mejorar hiperparametros"
   ]
  },
  {
   "cell_type": "code",
   "execution_count": 51,
   "id": "c0665f32-b66a-4075-a8d9-5407e2928990",
   "metadata": {},
   "outputs": [
    {
     "name": "stdout",
     "output_type": "stream",
     "text": [
      "Fitting 3 folds for each of 216 candidates, totalling 648 fits\n"
     ]
    }
   ],
   "source": [
    "# Definir el espacio de búsqueda de hiperparámetros\n",
    "param_grid = {\n",
    "    'n_estimators': [50, 100, 200],\n",
    "    'max_depth': [None, 10, 20, 30],\n",
    "    'min_samples_split': [2, 5, 10],\n",
    "    'min_samples_leaf': [1, 2, 4],\n",
    "    'bootstrap': [True, False]\n",
    "}\n",
    "\n",
    "# Configurar GridSearchCV\n",
    "grid_search = GridSearchCV(estimator=RandomForestRegressor(random_state=42),\n",
    "                           param_grid=param_grid,\n",
    "                           cv=3,  # Validación cruzada de 3 pliegues\n",
    "                           n_jobs=-1,  # Usar todos los núcleos disponibles\n",
    "                           scoring='neg_root_mean_squared_error',  # Usar RMSE\n",
    "                           verbose=2)\n",
    "\n",
    "# Realizar la búsqueda en cuadrícula\n",
    "grid_search.fit(X_train_scaled_corr, y_train_corr)\n",
    "\n",
    "# Obtener los mejores hiperparámetros\n",
    "best_params = grid_search.best_params_"
   ]
  },
  {
   "cell_type": "code",
   "execution_count": 52,
   "id": "8e12d6f2-65cb-47a2-9984-5792b29689ea",
   "metadata": {},
   "outputs": [
    {
     "data": {
      "text/plain": [
       "{'bootstrap': True,\n",
       " 'max_depth': None,\n",
       " 'min_samples_leaf': 1,\n",
       " 'min_samples_split': 2,\n",
       " 'n_estimators': 200}"
      ]
     },
     "execution_count": 52,
     "metadata": {},
     "output_type": "execute_result"
    }
   ],
   "source": [
    "print(\"Mejores hiperparámetros:\", best_params)"
   ]
  },
  {
   "cell_type": "code",
   "execution_count": 53,
   "id": "e2d44881-e0a6-4d0d-90c0-f16307e0fc1f",
   "metadata": {},
   "outputs": [],
   "source": [
    "# Entrenar el modelo con los mejores hiperparámetros\n",
    "optimized_rf_model = RandomForestRegressor(**best_params, random_state=42)\n",
    "optimized_rf_model.fit(X_train_scaled_corr, y_train_corr)\n",
    "\n",
    "# Evaluar el modelo optimizado\n",
    "rmse_train_opt = np.sqrt(mean_squared_error(y_train_corr, optimized_rf_model.predict(X_train_scaled_corr)))\n",
    "r2_train_opt = r2_score(y_train_corr, optimized_rf_model.predict(X_train_scaled_corr))\n",
    "\n",
    "rmse_test_opt = np.sqrt(mean_squared_error(y_test_corr, optimized_rf_model.predict(X_test_scaled_corr)))\n",
    "r2_test_opt = r2_score(y_test_corr, optimized_rf_model.predict(X_test_scaled_corr))\n",
    "\n",
    "# Resultados\n",
    "optimized_rf_results = {\n",
    "    \"Optimized Random Forest\": {\n",
    "        'RMSE Train': rmse_train_opt,\n",
    "        'R2 Train': r2_train_opt,\n",
    "        'RMSE Test': rmse_test_opt,\n",
    "        'R2 Test': r2_test_opt\n",
    "    }\n",
    "}"
   ]
  },
  {
   "cell_type": "code",
   "execution_count": 54,
   "id": "d1817bd9-d789-4771-b790-cc9aaed41db8",
   "metadata": {},
   "outputs": [
    {
     "data": {
      "text/html": [
       "<div>\n",
       "<style scoped>\n",
       "    .dataframe tbody tr th:only-of-type {\n",
       "        vertical-align: middle;\n",
       "    }\n",
       "\n",
       "    .dataframe tbody tr th {\n",
       "        vertical-align: top;\n",
       "    }\n",
       "\n",
       "    .dataframe thead th {\n",
       "        text-align: right;\n",
       "    }\n",
       "</style>\n",
       "<table border=\"1\" class=\"dataframe\">\n",
       "  <thead>\n",
       "    <tr style=\"text-align: right;\">\n",
       "      <th></th>\n",
       "      <th>Optimized Random Forest</th>\n",
       "    </tr>\n",
       "  </thead>\n",
       "  <tbody>\n",
       "    <tr>\n",
       "      <th>MSE Test</th>\n",
       "      <td>202.817803</td>\n",
       "    </tr>\n",
       "    <tr>\n",
       "      <th>MSE Train</th>\n",
       "      <td>63.835873</td>\n",
       "    </tr>\n",
       "    <tr>\n",
       "      <th>R2 Test</th>\n",
       "      <td>0.997852</td>\n",
       "    </tr>\n",
       "    <tr>\n",
       "      <th>R2 Train</th>\n",
       "      <td>0.999335</td>\n",
       "    </tr>\n",
       "  </tbody>\n",
       "</table>\n",
       "</div>"
      ],
      "text/plain": [
       "           Optimized Random Forest\n",
       "MSE Test                202.817803\n",
       "MSE Train                63.835873\n",
       "R2 Test                   0.997852\n",
       "R2 Train                  0.999335"
      ]
     },
     "execution_count": 54,
     "metadata": {},
     "output_type": "execute_result"
    }
   ],
   "source": [
    "# Mostrar los resultados\n",
    "print(\"Resultados del modelo Random Forest optimizado:\")\n",
    "optimized_rf_results_df=pd.DataFrame(optimized_rf_results)\n",
    "optimized_rf_results_df"
   ]
  },
  {
   "cell_type": "code",
   "execution_count": null,
   "id": "5fa04289-5b38-4865-9b14-6e1feb07728b",
   "metadata": {},
   "outputs": [],
   "source": []
  },
  {
   "cell_type": "code",
   "execution_count": null,
   "id": "5f60f1a1-0bca-48dd-8f81-578c525619db",
   "metadata": {},
   "outputs": [],
   "source": []
  }
 ],
 "metadata": {
  "kernelspec": {
   "display_name": "Python 3 (ipykernel)",
   "language": "python",
   "name": "python3"
  },
  "language_info": {
   "codemirror_mode": {
    "name": "ipython",
    "version": 3
   },
   "file_extension": ".py",
   "mimetype": "text/x-python",
   "name": "python",
   "nbconvert_exporter": "python",
   "pygments_lexer": "ipython3",
   "version": "3.11.9"
  }
 },
 "nbformat": 4,
 "nbformat_minor": 5
}
