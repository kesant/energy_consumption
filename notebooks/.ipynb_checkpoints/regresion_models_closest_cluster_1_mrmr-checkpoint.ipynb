{
 "cells": [
  {
   "cell_type": "markdown",
   "id": "d3c7855c-0aca-4b19-88fa-a21d1d67210f",
   "metadata": {},
   "source": [
    "# Importar librerias"
   ]
  },
  {
   "cell_type": "code",
   "execution_count": 5,
   "id": "cca32c39-a545-4316-82aa-bbeef64bbec5",
   "metadata": {},
   "outputs": [],
   "source": [
    "import numpy as np\n",
    "import matplotlib.pyplot as plt\n",
    "import matplotlib as mpl\n",
    "import pandas as pd\n",
    "import seaborn as sns\n",
    "from statsmodels.stats.outliers_influence import variance_inflation_factor\n",
    "from sklearn.model_selection import train_test_split\n",
    "from sklearn.preprocessing import StandardScaler\n",
    "from sklearn.linear_model import LinearRegression, Lasso\n",
    "from sklearn.tree import DecisionTreeRegressor\n",
    "from sklearn.svm import SVR\n",
    "from sklearn.ensemble import RandomForestRegressor, VotingRegressor\n",
    "from sklearn.metrics import mean_squared_error, r2_score\n",
    "from sklearn.model_selection import GridSearchCV\n",
    "# select top 10 features using mRMR\n",
    "from mrmr import mrmr_classif\n",
    "from sklearn.metrics import mean_squared_error, r2_score"
   ]
  },
  {
   "cell_type": "markdown",
   "id": "79a490d9-8eef-40ec-be92-5c361cd76895",
   "metadata": {},
   "source": [
    "# Funciones auxiliares"
   ]
  },
  {
   "cell_type": "code",
   "execution_count": 6,
   "id": "a4fa5fbc-3eae-40fd-bab5-8ad8e0e44de0",
   "metadata": {},
   "outputs": [],
   "source": [
    "def matriz_correlacion(dataset, target):\n",
    "    corr_matrix = dataset.corr()\n",
    "    corr_matrix[target].sort_values(ascending=False)\n",
    "    #from matplotlib.colors import ListedColormap\n",
    "    #cm_blue_orange = ListedColormap(['tab:blue', 'orange'])\n",
    "    cm_red_blue = mpl.colormaps['RdBu']\n",
    "    mask = np.triu(np.ones_like(corr_matrix, dtype=bool))\n",
    "    f, ax = plt.subplots(figsize=(8, 6))\n",
    "    sns.heatmap(corr_matrix, mask=mask, annot=True, fmt=\".2f\", cmap=cm_red_blue, vmax=1, vmin=-1, center=0,\n",
    "                square=True, linewidths=.5, cbar_kws={\"shrink\": .5})\n",
    "    plt.title('Heatmap con Valores Numéricos y Colores')\n",
    "    # Mostrar el gráfico\n",
    "    plt.show()"
   ]
  },
  {
   "cell_type": "code",
   "execution_count": 7,
   "id": "8a1bd2c0-cc06-42b3-b987-1faf29b9b210",
   "metadata": {},
   "outputs": [],
   "source": [
    "# Calcular el VIF para cada característica\n",
    "def calculate_vif(df):\n",
    "    vif_data = pd.DataFrame()\n",
    "    vif_data[\"feature\"] = df.columns\n",
    "    vif_data[\"VIF\"] = [variance_inflation_factor(df.values, i) for i in range(df.shape[1])]\n",
    "    return vif_data"
   ]
  },
  {
   "cell_type": "code",
   "execution_count": 8,
   "id": "84b2d8c9-aa57-447e-88d7-f3c662a56e65",
   "metadata": {},
   "outputs": [],
   "source": [
    "# Función para entrenar y evaluar un modelo\n",
    "def train_evaluate_model(model, X_train, X_test, y_train, y_test):\n",
    "    model.fit(X_train, y_train)\n",
    "    y_pred = model.predict(X_test)\n",
    "    rmse = np.sqrt(mean_squared_error(y_test, y_pred))  # Calcular RMSE\n",
    "    r2 = r2_score(y_test, y_pred)\n",
    "    return rmse, r2"
   ]
  },
  {
   "cell_type": "markdown",
   "id": "7f340b51-e59f-47e7-bdd0-b4ba78dcb364",
   "metadata": {},
   "source": [
    "# Preprocesamiento"
   ]
  },
  {
   "cell_type": "code",
   "execution_count": 9,
   "id": "6b190f71-f024-449b-9a5a-dee9a70f0be8",
   "metadata": {},
   "outputs": [],
   "source": [
    "average_cluster_1=pd.read_csv(\"../data/interim/closest_series_cluster_1.csv\",parse_dates=[\"Date/Time\"])"
   ]
  },
  {
   "cell_type": "code",
   "execution_count": 10,
   "id": "832d27d3-954b-4980-ae76-6f7cafb688b6",
   "metadata": {},
   "outputs": [],
   "source": [
    "#eliminamos la columna type building porque no es relevante \n",
    "average_cluster_1.drop(columns=[\"type_building\"], inplace=True)"
   ]
  },
  {
   "cell_type": "code",
   "execution_count": 11,
   "id": "b4769d2c-08a8-40db-aa41-d0776103c7f8",
   "metadata": {},
   "outputs": [
    {
     "data": {
      "text/plain": [
       "(8760, 7)"
      ]
     },
     "execution_count": 11,
     "metadata": {},
     "output_type": "execute_result"
    }
   ],
   "source": [
    "average_cluster_1.shape"
   ]
  },
  {
   "cell_type": "code",
   "execution_count": 12,
   "id": "27284d3a-acdb-4e88-bdf5-8631c685e606",
   "metadata": {},
   "outputs": [
    {
     "data": {
      "text/html": [
       "<div>\n",
       "<style scoped>\n",
       "    .dataframe tbody tr th:only-of-type {\n",
       "        vertical-align: middle;\n",
       "    }\n",
       "\n",
       "    .dataframe tbody tr th {\n",
       "        vertical-align: top;\n",
       "    }\n",
       "\n",
       "    .dataframe thead th {\n",
       "        text-align: right;\n",
       "    }\n",
       "</style>\n",
       "<table border=\"1\" class=\"dataframe\">\n",
       "  <thead>\n",
       "    <tr style=\"text-align: right;\">\n",
       "      <th></th>\n",
       "      <th>Date/Time</th>\n",
       "      <th>Electricity:Facility [kW](Hourly)</th>\n",
       "      <th>Fans:Electricity [kW](Hourly)</th>\n",
       "      <th>Cooling:Electricity [kW](Hourly)</th>\n",
       "      <th>Heating:Electricity [kW](Hourly)</th>\n",
       "      <th>InteriorLights:Electricity [kW](Hourly)</th>\n",
       "      <th>InteriorEquipment:Electricity [kW](Hourly)</th>\n",
       "    </tr>\n",
       "  </thead>\n",
       "  <tbody>\n",
       "    <tr>\n",
       "      <th>0</th>\n",
       "      <td>2004-01-01 01:00:00</td>\n",
       "      <td>377.173911</td>\n",
       "      <td>22.142737</td>\n",
       "      <td>78.943162</td>\n",
       "      <td>0.0</td>\n",
       "      <td>24.920364</td>\n",
       "      <td>149.522181</td>\n",
       "    </tr>\n",
       "    <tr>\n",
       "      <th>1</th>\n",
       "      <td>2004-01-01 02:00:00</td>\n",
       "      <td>350.282947</td>\n",
       "      <td>18.452281</td>\n",
       "      <td>63.343172</td>\n",
       "      <td>0.0</td>\n",
       "      <td>24.920364</td>\n",
       "      <td>149.522181</td>\n",
       "    </tr>\n",
       "    <tr>\n",
       "      <th>2</th>\n",
       "      <td>2004-01-01 03:00:00</td>\n",
       "      <td>376.426031</td>\n",
       "      <td>23.065351</td>\n",
       "      <td>77.234495</td>\n",
       "      <td>0.0</td>\n",
       "      <td>24.920364</td>\n",
       "      <td>149.522181</td>\n",
       "    </tr>\n",
       "    <tr>\n",
       "      <th>3</th>\n",
       "      <td>2004-01-01 04:00:00</td>\n",
       "      <td>350.215700</td>\n",
       "      <td>18.452281</td>\n",
       "      <td>63.051518</td>\n",
       "      <td>0.0</td>\n",
       "      <td>24.920364</td>\n",
       "      <td>149.522181</td>\n",
       "    </tr>\n",
       "    <tr>\n",
       "      <th>4</th>\n",
       "      <td>2004-01-01 05:00:00</td>\n",
       "      <td>390.337565</td>\n",
       "      <td>23.065351</td>\n",
       "      <td>78.315875</td>\n",
       "      <td>0.0</td>\n",
       "      <td>24.920364</td>\n",
       "      <td>149.522181</td>\n",
       "    </tr>\n",
       "  </tbody>\n",
       "</table>\n",
       "</div>"
      ],
      "text/plain": [
       "            Date/Time  Electricity:Facility [kW](Hourly)  \\\n",
       "0 2004-01-01 01:00:00                         377.173911   \n",
       "1 2004-01-01 02:00:00                         350.282947   \n",
       "2 2004-01-01 03:00:00                         376.426031   \n",
       "3 2004-01-01 04:00:00                         350.215700   \n",
       "4 2004-01-01 05:00:00                         390.337565   \n",
       "\n",
       "   Fans:Electricity [kW](Hourly)  Cooling:Electricity [kW](Hourly)  \\\n",
       "0                      22.142737                         78.943162   \n",
       "1                      18.452281                         63.343172   \n",
       "2                      23.065351                         77.234495   \n",
       "3                      18.452281                         63.051518   \n",
       "4                      23.065351                         78.315875   \n",
       "\n",
       "   Heating:Electricity [kW](Hourly)  InteriorLights:Electricity [kW](Hourly)  \\\n",
       "0                               0.0                                24.920364   \n",
       "1                               0.0                                24.920364   \n",
       "2                               0.0                                24.920364   \n",
       "3                               0.0                                24.920364   \n",
       "4                               0.0                                24.920364   \n",
       "\n",
       "   InteriorEquipment:Electricity [kW](Hourly)  \n",
       "0                                  149.522181  \n",
       "1                                  149.522181  \n",
       "2                                  149.522181  \n",
       "3                                  149.522181  \n",
       "4                                  149.522181  "
      ]
     },
     "execution_count": 12,
     "metadata": {},
     "output_type": "execute_result"
    }
   ],
   "source": [
    "average_cluster_1.head()"
   ]
  },
  {
   "cell_type": "code",
   "execution_count": 13,
   "id": "7e9bcaf8-6a5f-46b4-ba54-7f51fbf53fd3",
   "metadata": {},
   "outputs": [
    {
     "name": "stdout",
     "output_type": "stream",
     "text": [
      "<class 'pandas.core.frame.DataFrame'>\n",
      "RangeIndex: 8760 entries, 0 to 8759\n",
      "Data columns (total 7 columns):\n",
      " #   Column                                      Non-Null Count  Dtype         \n",
      "---  ------                                      --------------  -----         \n",
      " 0   Date/Time                                   8395 non-null   datetime64[ns]\n",
      " 1   Electricity:Facility [kW](Hourly)           8760 non-null   float64       \n",
      " 2   Fans:Electricity [kW](Hourly)               8760 non-null   float64       \n",
      " 3   Cooling:Electricity [kW](Hourly)            8760 non-null   float64       \n",
      " 4   Heating:Electricity [kW](Hourly)            8760 non-null   float64       \n",
      " 5   InteriorLights:Electricity [kW](Hourly)     8760 non-null   float64       \n",
      " 6   InteriorEquipment:Electricity [kW](Hourly)  8760 non-null   float64       \n",
      "dtypes: datetime64[ns](1), float64(6)\n",
      "memory usage: 479.2 KB\n"
     ]
    }
   ],
   "source": [
    "average_cluster_1.info()"
   ]
  },
  {
   "cell_type": "code",
   "execution_count": 14,
   "id": "a83e5732-4f23-4e5d-8259-418081130c5e",
   "metadata": {},
   "outputs": [
    {
     "data": {
      "text/plain": [
       "Date/Time                                     365\n",
       "Electricity:Facility [kW](Hourly)               0\n",
       "Fans:Electricity [kW](Hourly)                   0\n",
       "Cooling:Electricity [kW](Hourly)                0\n",
       "Heating:Electricity [kW](Hourly)                0\n",
       "InteriorLights:Electricity [kW](Hourly)         0\n",
       "InteriorEquipment:Electricity [kW](Hourly)      0\n",
       "dtype: int64"
      ]
     },
     "execution_count": 14,
     "metadata": {},
     "output_type": "execute_result"
    }
   ],
   "source": [
    "average_cluster_1.isna().sum()"
   ]
  },
  {
   "cell_type": "code",
   "execution_count": 15,
   "id": "c65eaf12-92f7-4c2c-bc62-ee5aab6c50a8",
   "metadata": {},
   "outputs": [],
   "source": [
    "# Imputar o eliminar valores faltantes si existen\n",
    "average_cluster_1.fillna(method='ffill', inplace=True)"
   ]
  },
  {
   "cell_type": "code",
   "execution_count": 16,
   "id": "a7092d43-d884-42e4-89aa-f0a4d5d0e7b0",
   "metadata": {},
   "outputs": [
    {
     "data": {
      "text/plain": [
       "Date/Time                                     0\n",
       "Electricity:Facility [kW](Hourly)             0\n",
       "Fans:Electricity [kW](Hourly)                 0\n",
       "Cooling:Electricity [kW](Hourly)              0\n",
       "Heating:Electricity [kW](Hourly)              0\n",
       "InteriorLights:Electricity [kW](Hourly)       0\n",
       "InteriorEquipment:Electricity [kW](Hourly)    0\n",
       "dtype: int64"
      ]
     },
     "execution_count": 16,
     "metadata": {},
     "output_type": "execute_result"
    }
   ],
   "source": [
    "average_cluster_1.isna().sum()"
   ]
  },
  {
   "cell_type": "code",
   "execution_count": 17,
   "id": "4197a69c-54bc-4924-83d2-63ec56e640f4",
   "metadata": {},
   "outputs": [],
   "source": [
    "# Establecer la columna de fecha como índice\n",
    "average_cluster_1.set_index('Date/Time', inplace=True)"
   ]
  },
  {
   "cell_type": "code",
   "execution_count": 18,
   "id": "19923402-5eed-4edd-8600-3bb8be6eea14",
   "metadata": {},
   "outputs": [],
   "source": [
    "# Extraer características temporales\n",
    "average_cluster_1['hour'] = average_cluster_1.index.hour\n",
    "average_cluster_1['day_of_week'] = average_cluster_1.index.dayofweek\n",
    "average_cluster_1['month'] = average_cluster_1.index.month"
   ]
  },
  {
   "cell_type": "code",
   "execution_count": 19,
   "id": "3e318af4-38be-487e-b843-96d4a369308f",
   "metadata": {},
   "outputs": [
    {
     "data": {
      "text/html": [
       "<div>\n",
       "<style scoped>\n",
       "    .dataframe tbody tr th:only-of-type {\n",
       "        vertical-align: middle;\n",
       "    }\n",
       "\n",
       "    .dataframe tbody tr th {\n",
       "        vertical-align: top;\n",
       "    }\n",
       "\n",
       "    .dataframe thead th {\n",
       "        text-align: right;\n",
       "    }\n",
       "</style>\n",
       "<table border=\"1\" class=\"dataframe\">\n",
       "  <thead>\n",
       "    <tr style=\"text-align: right;\">\n",
       "      <th></th>\n",
       "      <th>Electricity:Facility [kW](Hourly)</th>\n",
       "      <th>Fans:Electricity [kW](Hourly)</th>\n",
       "      <th>Cooling:Electricity [kW](Hourly)</th>\n",
       "      <th>Heating:Electricity [kW](Hourly)</th>\n",
       "      <th>InteriorLights:Electricity [kW](Hourly)</th>\n",
       "      <th>InteriorEquipment:Electricity [kW](Hourly)</th>\n",
       "      <th>hour</th>\n",
       "      <th>day_of_week</th>\n",
       "      <th>month</th>\n",
       "    </tr>\n",
       "    <tr>\n",
       "      <th>Date/Time</th>\n",
       "      <th></th>\n",
       "      <th></th>\n",
       "      <th></th>\n",
       "      <th></th>\n",
       "      <th></th>\n",
       "      <th></th>\n",
       "      <th></th>\n",
       "      <th></th>\n",
       "      <th></th>\n",
       "    </tr>\n",
       "  </thead>\n",
       "  <tbody>\n",
       "    <tr>\n",
       "      <th>2004-01-01 01:00:00</th>\n",
       "      <td>377.173911</td>\n",
       "      <td>22.142737</td>\n",
       "      <td>78.943162</td>\n",
       "      <td>0.0</td>\n",
       "      <td>24.920364</td>\n",
       "      <td>149.522181</td>\n",
       "      <td>1</td>\n",
       "      <td>3</td>\n",
       "      <td>1</td>\n",
       "    </tr>\n",
       "    <tr>\n",
       "      <th>2004-01-01 02:00:00</th>\n",
       "      <td>350.282947</td>\n",
       "      <td>18.452281</td>\n",
       "      <td>63.343172</td>\n",
       "      <td>0.0</td>\n",
       "      <td>24.920364</td>\n",
       "      <td>149.522181</td>\n",
       "      <td>2</td>\n",
       "      <td>3</td>\n",
       "      <td>1</td>\n",
       "    </tr>\n",
       "    <tr>\n",
       "      <th>2004-01-01 03:00:00</th>\n",
       "      <td>376.426031</td>\n",
       "      <td>23.065351</td>\n",
       "      <td>77.234495</td>\n",
       "      <td>0.0</td>\n",
       "      <td>24.920364</td>\n",
       "      <td>149.522181</td>\n",
       "      <td>3</td>\n",
       "      <td>3</td>\n",
       "      <td>1</td>\n",
       "    </tr>\n",
       "    <tr>\n",
       "      <th>2004-01-01 04:00:00</th>\n",
       "      <td>350.215700</td>\n",
       "      <td>18.452281</td>\n",
       "      <td>63.051518</td>\n",
       "      <td>0.0</td>\n",
       "      <td>24.920364</td>\n",
       "      <td>149.522181</td>\n",
       "      <td>4</td>\n",
       "      <td>3</td>\n",
       "      <td>1</td>\n",
       "    </tr>\n",
       "    <tr>\n",
       "      <th>2004-01-01 05:00:00</th>\n",
       "      <td>390.337565</td>\n",
       "      <td>23.065351</td>\n",
       "      <td>78.315875</td>\n",
       "      <td>0.0</td>\n",
       "      <td>24.920364</td>\n",
       "      <td>149.522181</td>\n",
       "      <td>5</td>\n",
       "      <td>3</td>\n",
       "      <td>1</td>\n",
       "    </tr>\n",
       "  </tbody>\n",
       "</table>\n",
       "</div>"
      ],
      "text/plain": [
       "                     Electricity:Facility [kW](Hourly)  \\\n",
       "Date/Time                                                \n",
       "2004-01-01 01:00:00                         377.173911   \n",
       "2004-01-01 02:00:00                         350.282947   \n",
       "2004-01-01 03:00:00                         376.426031   \n",
       "2004-01-01 04:00:00                         350.215700   \n",
       "2004-01-01 05:00:00                         390.337565   \n",
       "\n",
       "                     Fans:Electricity [kW](Hourly)  \\\n",
       "Date/Time                                            \n",
       "2004-01-01 01:00:00                      22.142737   \n",
       "2004-01-01 02:00:00                      18.452281   \n",
       "2004-01-01 03:00:00                      23.065351   \n",
       "2004-01-01 04:00:00                      18.452281   \n",
       "2004-01-01 05:00:00                      23.065351   \n",
       "\n",
       "                     Cooling:Electricity [kW](Hourly)  \\\n",
       "Date/Time                                               \n",
       "2004-01-01 01:00:00                         78.943162   \n",
       "2004-01-01 02:00:00                         63.343172   \n",
       "2004-01-01 03:00:00                         77.234495   \n",
       "2004-01-01 04:00:00                         63.051518   \n",
       "2004-01-01 05:00:00                         78.315875   \n",
       "\n",
       "                     Heating:Electricity [kW](Hourly)  \\\n",
       "Date/Time                                               \n",
       "2004-01-01 01:00:00                               0.0   \n",
       "2004-01-01 02:00:00                               0.0   \n",
       "2004-01-01 03:00:00                               0.0   \n",
       "2004-01-01 04:00:00                               0.0   \n",
       "2004-01-01 05:00:00                               0.0   \n",
       "\n",
       "                     InteriorLights:Electricity [kW](Hourly)  \\\n",
       "Date/Time                                                      \n",
       "2004-01-01 01:00:00                                24.920364   \n",
       "2004-01-01 02:00:00                                24.920364   \n",
       "2004-01-01 03:00:00                                24.920364   \n",
       "2004-01-01 04:00:00                                24.920364   \n",
       "2004-01-01 05:00:00                                24.920364   \n",
       "\n",
       "                     InteriorEquipment:Electricity [kW](Hourly)  hour  \\\n",
       "Date/Time                                                               \n",
       "2004-01-01 01:00:00                                  149.522181     1   \n",
       "2004-01-01 02:00:00                                  149.522181     2   \n",
       "2004-01-01 03:00:00                                  149.522181     3   \n",
       "2004-01-01 04:00:00                                  149.522181     4   \n",
       "2004-01-01 05:00:00                                  149.522181     5   \n",
       "\n",
       "                     day_of_week  month  \n",
       "Date/Time                                \n",
       "2004-01-01 01:00:00            3      1  \n",
       "2004-01-01 02:00:00            3      1  \n",
       "2004-01-01 03:00:00            3      1  \n",
       "2004-01-01 04:00:00            3      1  \n",
       "2004-01-01 05:00:00            3      1  "
      ]
     },
     "execution_count": 19,
     "metadata": {},
     "output_type": "execute_result"
    }
   ],
   "source": [
    "average_cluster_1.head()"
   ]
  },
  {
   "cell_type": "code",
   "execution_count": 20,
   "id": "dcf295c8-be76-4cc9-9d97-374930b3bce7",
   "metadata": {},
   "outputs": [
    {
     "data": {
      "text/plain": [
       "Index(['Electricity:Facility [kW](Hourly)', 'Fans:Electricity [kW](Hourly)',\n",
       "       'Cooling:Electricity [kW](Hourly)', 'Heating:Electricity [kW](Hourly)',\n",
       "       'InteriorLights:Electricity [kW](Hourly)',\n",
       "       'InteriorEquipment:Electricity [kW](Hourly)', 'hour', 'day_of_week',\n",
       "       'month'],\n",
       "      dtype='object')"
      ]
     },
     "execution_count": 20,
     "metadata": {},
     "output_type": "execute_result"
    }
   ],
   "source": [
    "average_cluster_1.columns"
   ]
  },
  {
   "cell_type": "code",
   "execution_count": 21,
   "id": "4529d36c-d913-4a9d-bd95-c45f8fb6464e",
   "metadata": {},
   "outputs": [],
   "source": [
    "target='Electricity:Facility [kW](Hourly)'"
   ]
  },
  {
   "cell_type": "code",
   "execution_count": 22,
   "id": "f5f07bde-a652-4f34-8bd0-7108ace451d9",
   "metadata": {},
   "outputs": [
    {
     "data": {
      "image/png": "[encoded data removed]",
      "text/plain": [
       "<Figure size 800x600 with 2 Axes>"
      ]
     },
     "metadata": {},
     "output_type": "display_data"
    }
   ],
   "source": [
    "matriz_correlacion(average_cluster_1, target)"
   ]
  },
  {
   "cell_type": "code",
   "execution_count": 23,
   "id": "eeb5b685-aca9-401a-a879-c60fefb6ec49",
   "metadata": {},
   "outputs": [],
   "source": [
    "# # Calcular la correlación de cada característica con la variable objetivo\n",
    "# correlation_matrix = average_cluster_0.corr()\n",
    "# target_correlation = correlation_matrix['Electricity:Facility [kW](Hourly)'].sort_values(ascending=False)\n",
    "\n",
    "# # Mostrar la correlación de cada característica con la variable objetivo\n",
    "# target_correlation"
   ]
  },
  {
   "cell_type": "code",
   "execution_count": 24,
   "id": "d550dd60-7dbe-4497-ab38-9c2ef8a2b231",
   "metadata": {},
   "outputs": [],
   "source": [
    "# # Mantener características con correlación absoluta mayor o igual a 0.3\n",
    "# selected_features = target_correlation[abs(target_correlation) >= 0.3].index.drop('Electricity:Facility [kW](Hourly)')\n",
    "# features_corr = average_cluster_0[selected_features]"
   ]
  },
  {
   "cell_type": "code",
   "execution_count": 25,
   "id": "cf0c741b-ef60-49c4-9dc7-a949f1c33d3e",
   "metadata": {},
   "outputs": [],
   "source": [
    "# X=features_corr\n",
    "X=average_cluster_1.drop(columns=\"Electricity:Facility [kW](Hourly)\").copy()\n",
    "y=average_cluster_1.loc[:,target]"
   ]
  },
  {
   "cell_type": "code",
   "execution_count": 26,
   "id": "35cd3b45-5109-4b5b-8ff8-f4a51e171595",
   "metadata": {},
   "outputs": [
    {
     "name": "stderr",
     "output_type": "stream",
     "text": [
      "100%|████████████████████████████████████████████████████████████████████████████████████████████| 1/1 [00:00<?, ?it/s]\n",
      "100%|████████████████████████████████████████████████████████████████████████████████████| 2/2 [00:00<00:00,  8.92it/s]\n",
      "100%|████████████████████████████████████████████████████████████████████████████████████| 3/3 [00:01<00:00,  2.94it/s]\n",
      "100%|████████████████████████████████████████████████████████████████████████████████████| 4/4 [00:01<00:00,  2.69it/s]\n",
      "100%|████████████████████████████████████████████████████████████████████████████████████| 5/5 [00:02<00:00,  2.46it/s]\n",
      "100%|████████████████████████████████████████████████████████████████████████████████████| 6/6 [00:02<00:00,  2.37it/s]\n",
      "100%|████████████████████████████████████████████████████████████████████████████████████| 7/7 [00:02<00:00,  2.77it/s]\n",
      "100%|████████████████████████████████████████████████████████████████████████████████████| 7/7 [00:02<00:00,  2.79it/s]\n"
     ]
    },
    {
     "data": {
      "image/png": "[encoded data removed]",
      "text/plain": [
       "<Figure size 640x480 with 1 Axes>"
      ]
     },
     "metadata": {},
     "output_type": "display_data"
    }
   ],
   "source": [
    "from sklearn.model_selection import cross_val_score\n",
    "from sklearn.ensemble import RandomForestRegressor\n",
    "import matplotlib.pyplot as plt\n",
    "from mrmr import mrmr_classif\n",
    "import pandas as pd\n",
    "from sklearn.datasets import make_regression\n",
    "\n",
    "performance = []\n",
    "k_pruebas = len(X.columns)\n",
    "\n",
    "for k in range(1, k_pruebas + 1):  # Probar desde 1 hasta todas las características\n",
    "    selected_features = mrmr_classif(X=X, y=y, K=k)\n",
    "    X_selected = X[selected_features]\n",
    "    \n",
    "    # Evaluar el modelo con validación cruzada\n",
    "    model = RandomForestRegressor(n_estimators=100, random_state=42)\n",
    "    scores = cross_val_score(model, X_selected, y, cv=5, scoring='neg_root_mean_squared_error')  # Usar MSE como métrica\n",
    "    performance.append(scores.mean())\n",
    "\n",
    "# Convertir el rendimiento a valores positivos si se usa 'neg_mean_squared_error'\n",
    "performance = [-x for x in performance]\n",
    "\n",
    "plt.plot(range(1, k_pruebas + 1), performance, marker='o')\n",
    "plt.xlabel('Número de características (K)')\n",
    "plt.ylabel('Rendimiento del modelo (Error cuadrático medio negativo)')\n",
    "plt.title('Determinación del número óptimo de características')\n",
    "plt.show()"
   ]
  },
  {
   "cell_type": "code",
   "execution_count": 27,
   "id": "bce9f743-267d-413c-8dda-63c310feac91",
   "metadata": {},
   "outputs": [
    {
     "name": "stderr",
     "output_type": "stream",
     "text": [
      "100%|████████████████████████████████████████████████████████████████████████████████████| 3/3 [00:01<00:00,  2.83it/s]\n"
     ]
    }
   ],
   "source": [
    "selected_features = mrmr_classif(X=X, y=y, K=3)"
   ]
  },
  {
   "cell_type": "code",
   "execution_count": 28,
   "id": "7e745bd7-ffbe-464d-8ff7-a4aa17bc9457",
   "metadata": {},
   "outputs": [
    {
     "data": {
      "text/plain": [
       "['Fans:Electricity [kW](Hourly)',\n",
       " 'Cooling:Electricity [kW](Hourly)',\n",
       " 'InteriorLights:Electricity [kW](Hourly)']"
      ]
     },
     "execution_count": 28,
     "metadata": {},
     "output_type": "execute_result"
    }
   ],
   "source": [
    "selected_features"
   ]
  },
  {
   "cell_type": "code",
   "execution_count": 29,
   "id": "e928c876-48f4-48a7-9c4a-27833e491a82",
   "metadata": {},
   "outputs": [],
   "source": [
    " taget_predict=average_cluster_1['Electricity:Facility [kW](Hourly)'].copy()"
   ]
  },
  {
   "cell_type": "code",
   "execution_count": 30,
   "id": "466dfea1-9968-49cf-b88d-696b2b235278",
   "metadata": {},
   "outputs": [],
   "source": [
    "features_selected_corr=average_cluster_1.loc[:,selected_features].copy()"
   ]
  },
  {
   "cell_type": "markdown",
   "id": "1fff6d13-3af5-4d21-8bfe-060831d15237",
   "metadata": {},
   "source": [
    "# Seleccion del modelo"
   ]
  },
  {
   "cell_type": "code",
   "execution_count": null,
   "id": "9bad78c0-beb4-424d-98f9-d679b1dc132a",
   "metadata": {},
   "outputs": [],
   "source": []
  },
  {
   "cell_type": "code",
   "execution_count": 31,
   "id": "8db868da-093c-4cbe-9e57-23a0ea03be86",
   "metadata": {},
   "outputs": [],
   "source": [
    "# Dividir los datos en conjuntos de entrenamiento y prueba\n",
    "X_train_corr, X_test_corr, y_train_corr, y_test_corr = train_test_split(features_selected_corr, taget_predict, test_size=0.2, random_state=42)"
   ]
  },
  {
   "cell_type": "code",
   "execution_count": 32,
   "id": "5f7f018d-8311-45e5-a0c0-d357d4db5697",
   "metadata": {},
   "outputs": [],
   "source": [
    "# Escalar las características\n",
    "scaler_corr = StandardScaler()\n",
    "X_train_scaled_corr = scaler_corr.fit_transform(X_train_corr)\n",
    "X_test_scaled_corr = scaler_corr.transform(X_test_corr)"
   ]
  },
  {
   "cell_type": "code",
   "execution_count": 33,
   "id": "a5c7aff8-4e0d-4f3d-a34b-6ce9339f9c97",
   "metadata": {},
   "outputs": [],
   "source": [
    "# Definir los modelos\n",
    "models = {\n",
    "    \"Linear Regression\": LinearRegression(),\n",
    "    \"Stepwise Linear Regression\": Lasso(alpha=0.01),  # Utilizando Lasso como aproximación a la regresión paso a paso\n",
    "    \"Tree\": DecisionTreeRegressor(),\n",
    "    \"SVM\": SVR(kernel='rbf'),\n",
    "    \"Efficient Linear\": LinearRegression(),  # Utilizando Linear Regression como proxy\n",
    "    \"Ensemble\": VotingRegressor(estimators=[\n",
    "        ('lr', LinearRegression()),\n",
    "        ('dt', DecisionTreeRegressor()),\n",
    "        ('rf', RandomForestRegressor(n_estimators=100, random_state=42))\n",
    "    ]),\n",
    "    \"Random Forest\": RandomForestRegressor(n_estimators=100, random_state=42)\n",
    "}\n",
    "\n",
    "# Variables para almacenar resultados\n",
    "results = {}\n",
    "\n",
    "# Entrenar y evaluar cada modelo\n",
    "for model_name, model in models.items():\n",
    "    rmse, r2 = train_evaluate_model(model, X_train_scaled_corr, X_test_scaled_corr, y_train_corr, y_test_corr)\n",
    "    results[model_name] = {'RMSE': rmse, 'R2 Score': r2}"
   ]
  },
  {
   "cell_type": "code",
   "execution_count": 34,
   "id": "e8d92fe2-7521-400f-9973-ce813b01a430",
   "metadata": {},
   "outputs": [
    {
     "data": {
      "text/html": [
       "<div>\n",
       "<style scoped>\n",
       "    .dataframe tbody tr th:only-of-type {\n",
       "        vertical-align: middle;\n",
       "    }\n",
       "\n",
       "    .dataframe tbody tr th {\n",
       "        vertical-align: top;\n",
       "    }\n",
       "\n",
       "    .dataframe thead th {\n",
       "        text-align: right;\n",
       "    }\n",
       "</style>\n",
       "<table border=\"1\" class=\"dataframe\">\n",
       "  <thead>\n",
       "    <tr style=\"text-align: right;\">\n",
       "      <th></th>\n",
       "      <th>Linear Regression</th>\n",
       "      <th>Stepwise Linear Regression</th>\n",
       "      <th>Tree</th>\n",
       "      <th>SVM</th>\n",
       "      <th>Efficient Linear</th>\n",
       "      <th>Ensemble</th>\n",
       "      <th>Random Forest</th>\n",
       "    </tr>\n",
       "  </thead>\n",
       "  <tbody>\n",
       "    <tr>\n",
       "      <th>RMSE</th>\n",
       "      <td>46.261744</td>\n",
       "      <td>46.264419</td>\n",
       "      <td>44.827797</td>\n",
       "      <td>69.861803</td>\n",
       "      <td>46.261744</td>\n",
       "      <td>38.820755</td>\n",
       "      <td>38.242286</td>\n",
       "    </tr>\n",
       "    <tr>\n",
       "      <th>R2 Score</th>\n",
       "      <td>0.990179</td>\n",
       "      <td>0.990178</td>\n",
       "      <td>0.990778</td>\n",
       "      <td>0.977602</td>\n",
       "      <td>0.990179</td>\n",
       "      <td>0.993084</td>\n",
       "      <td>0.993289</td>\n",
       "    </tr>\n",
       "  </tbody>\n",
       "</table>\n",
       "</div>"
      ],
      "text/plain": [
       "          Linear Regression  Stepwise Linear Regression       Tree        SVM  \\\n",
       "RMSE              46.261744                   46.264419  44.827797  69.861803   \n",
       "R2 Score           0.990179                    0.990178   0.990778   0.977602   \n",
       "\n",
       "          Efficient Linear   Ensemble  Random Forest  \n",
       "RMSE             46.261744  38.820755      38.242286  \n",
       "R2 Score          0.990179   0.993084       0.993289  "
      ]
     },
     "execution_count": 34,
     "metadata": {},
     "output_type": "execute_result"
    }
   ],
   "source": [
    "# Convertir a DataFrame\n",
    "df_results = pd.DataFrame(results)\n",
    "df_results.head()"
   ]
  },
  {
   "cell_type": "code",
   "execution_count": 35,
   "id": "64021972-2632-4bd8-81d2-45279d3d69b9",
   "metadata": {},
   "outputs": [],
   "source": [
    "# Entrenar el modelo de Random Forest\n",
    "rf_model = RandomForestRegressor(n_estimators=100, random_state=42)\n",
    "rf_model.fit(X_train_scaled_corr, y_train_corr)\n",
    "\n",
    "# Evaluar el modelo de Random Forest\n",
    "rmse_train_rf, r2_train_rf = train_evaluate_model(rf_model, X_train_scaled_corr, X_train_scaled_corr, y_train_corr, y_train_corr)\n",
    "rmse_test_rf, r2_test_rf = train_evaluate_model(rf_model, X_train_scaled_corr, X_test_scaled_corr, y_train_corr, y_test_corr)\n",
    "\n",
    "# Resultados\n",
    "rf_results = {\n",
    "    \"Random Forest\": {\n",
    "        'RMSE Train': rmse_train_rf, \n",
    "        'R2 Train': r2_train_rf,\n",
    "        'RMSE Test': rmse_test_rf, \n",
    "        'R2 Test': r2_test_rf\n",
    "    }\n",
    "}"
   ]
  },
  {
   "cell_type": "code",
   "execution_count": 36,
   "id": "a09be69c-4128-4110-a749-f49d8fee42fa",
   "metadata": {},
   "outputs": [
    {
     "data": {
      "text/html": [
       "<div>\n",
       "<style scoped>\n",
       "    .dataframe tbody tr th:only-of-type {\n",
       "        vertical-align: middle;\n",
       "    }\n",
       "\n",
       "    .dataframe tbody tr th {\n",
       "        vertical-align: top;\n",
       "    }\n",
       "\n",
       "    .dataframe thead th {\n",
       "        text-align: right;\n",
       "    }\n",
       "</style>\n",
       "<table border=\"1\" class=\"dataframe\">\n",
       "  <thead>\n",
       "    <tr style=\"text-align: right;\">\n",
       "      <th></th>\n",
       "      <th>Random Forest</th>\n",
       "    </tr>\n",
       "  </thead>\n",
       "  <tbody>\n",
       "    <tr>\n",
       "      <th>R2 Test</th>\n",
       "      <td>0.993289</td>\n",
       "    </tr>\n",
       "    <tr>\n",
       "      <th>R2 Train</th>\n",
       "      <td>0.997500</td>\n",
       "    </tr>\n",
       "    <tr>\n",
       "      <th>RMSE Test</th>\n",
       "      <td>38.242286</td>\n",
       "    </tr>\n",
       "    <tr>\n",
       "      <th>RMSE Train</th>\n",
       "      <td>23.143322</td>\n",
       "    </tr>\n",
       "  </tbody>\n",
       "</table>\n",
       "</div>"
      ],
      "text/plain": [
       "            Random Forest\n",
       "R2 Test          0.993289\n",
       "R2 Train         0.997500\n",
       "RMSE Test       38.242286\n",
       "RMSE Train      23.143322"
      ]
     },
     "execution_count": 36,
     "metadata": {},
     "output_type": "execute_result"
    }
   ],
   "source": [
    "# Convertir a DataFrame y verificar overfitting\n",
    "df_overfitting_results= pd.DataFrame(rf_results)\n",
    "df_overfitting_results.head()"
   ]
  },
  {
   "cell_type": "markdown",
   "id": "b57fa81f-27be-4140-b4fc-cd97f77acfed",
   "metadata": {},
   "source": [
    "# Mejorar hiperparametros"
   ]
  },
  {
   "cell_type": "code",
   "execution_count": 34,
   "id": "c0665f32-b66a-4075-a8d9-5407e2928990",
   "metadata": {},
   "outputs": [
    {
     "name": "stdout",
     "output_type": "stream",
     "text": [
      "Fitting 3 folds for each of 216 candidates, totalling 648 fits\n"
     ]
    }
   ],
   "source": [
    "# Definir el espacio de búsqueda de hiperparámetros\n",
    "param_grid = {\n",
    "    'n_estimators': [50, 100, 200],\n",
    "    'max_depth': [None, 10, 20, 30],\n",
    "    'min_samples_split': [2, 5, 10],\n",
    "    'min_samples_leaf': [1, 2, 4],\n",
    "    'bootstrap': [True, False]\n",
    "}\n",
    "\n",
    "# Configurar GridSearchCV\n",
    "grid_search = GridSearchCV(estimator=RandomForestRegressor(random_state=42),\n",
    "                           param_grid=param_grid,\n",
    "                           cv=3,  # Validación cruzada de 3 pliegues\n",
    "                           n_jobs=-1,  # Usar todos los núcleos disponibles\n",
    "                           scoring='neg_root_mean_squared_error',  # Usar RMSE\n",
    "                           verbose=2)\n",
    "\n",
    "# Realizar la búsqueda en cuadrícula\n",
    "grid_search.fit(X_train_scaled_corr, y_train_corr)\n",
    "\n",
    "# Obtener los mejores hiperparámetros\n",
    "best_params = grid_search.best_params_"
   ]
  },
  {
   "cell_type": "code",
   "execution_count": 35,
   "id": "8e12d6f2-65cb-47a2-9984-5792b29689ea",
   "metadata": {},
   "outputs": [
    {
     "name": "stdout",
     "output_type": "stream",
     "text": [
      "Mejores hiperparámetros: {'bootstrap': True, 'max_depth': 10, 'min_samples_leaf': 1, 'min_samples_split': 10, 'n_estimators': 100}\n"
     ]
    }
   ],
   "source": [
    "print(\"Mejores hiperparámetros:\", best_params)"
   ]
  },
  {
   "cell_type": "code",
   "execution_count": 36,
   "id": "e2d44881-e0a6-4d0d-90c0-f16307e0fc1f",
   "metadata": {},
   "outputs": [],
   "source": [
    "# Entrenar el modelo con los mejores hiperparámetros\n",
    "optimized_rf_model = RandomForestRegressor(**best_params, random_state=42)\n",
    "optimized_rf_model.fit(X_train_scaled_corr, y_train_corr)\n",
    "\n",
    "# Evaluar el modelo optimizado\n",
    "rmse_train_opt = np.sqrt(mean_squared_error(y_train_corr, optimized_rf_model.predict(X_train_scaled_corr)))\n",
    "r2_train_opt = r2_score(y_train_corr, optimized_rf_model.predict(X_train_scaled_corr))\n",
    "\n",
    "rmse_test_opt = np.sqrt(mean_squared_error(y_test_corr, optimized_rf_model.predict(X_test_scaled_corr)))\n",
    "r2_test_opt = r2_score(y_test_corr, optimized_rf_model.predict(X_test_scaled_corr))\n",
    "\n",
    "# Resultados\n",
    "optimized_rf_results = {\n",
    "    \"Optimized Random Forest\": {\n",
    "        'RMSE Train': rmse_train_opt,\n",
    "        'R2 Train': r2_train_opt,\n",
    "        'RMSE Test': rmse_test_opt,\n",
    "        'R2 Test': r2_test_opt\n",
    "    }\n",
    "}"
   ]
  },
  {
   "cell_type": "code",
   "execution_count": 37,
   "id": "d1817bd9-d789-4771-b790-cc9aaed41db8",
   "metadata": {},
   "outputs": [
    {
     "name": "stdout",
     "output_type": "stream",
     "text": [
      "Resultados del modelo Random Forest optimizado:\n"
     ]
    },
    {
     "data": {
      "text/html": [
       "<div>\n",
       "<style scoped>\n",
       "    .dataframe tbody tr th:only-of-type {\n",
       "        vertical-align: middle;\n",
       "    }\n",
       "\n",
       "    .dataframe tbody tr th {\n",
       "        vertical-align: top;\n",
       "    }\n",
       "\n",
       "    .dataframe thead th {\n",
       "        text-align: right;\n",
       "    }\n",
       "</style>\n",
       "<table border=\"1\" class=\"dataframe\">\n",
       "  <thead>\n",
       "    <tr style=\"text-align: right;\">\n",
       "      <th></th>\n",
       "      <th>Optimized Random Forest</th>\n",
       "    </tr>\n",
       "  </thead>\n",
       "  <tbody>\n",
       "    <tr>\n",
       "      <th>R2 Test</th>\n",
       "      <td>0.994091</td>\n",
       "    </tr>\n",
       "    <tr>\n",
       "      <th>R2 Train</th>\n",
       "      <td>0.995344</td>\n",
       "    </tr>\n",
       "    <tr>\n",
       "      <th>RMSE Test</th>\n",
       "      <td>35.882317</td>\n",
       "    </tr>\n",
       "    <tr>\n",
       "      <th>RMSE Train</th>\n",
       "      <td>31.579651</td>\n",
       "    </tr>\n",
       "  </tbody>\n",
       "</table>\n",
       "</div>"
      ],
      "text/plain": [
       "            Optimized Random Forest\n",
       "R2 Test                    0.994091\n",
       "R2 Train                   0.995344\n",
       "RMSE Test                 35.882317\n",
       "RMSE Train                31.579651"
      ]
     },
     "execution_count": 37,
     "metadata": {},
     "output_type": "execute_result"
    }
   ],
   "source": [
    "# Mostrar los resultados\n",
    "print(\"Resultados del modelo Random Forest optimizado:\")\n",
    "optimized_rf_results_df=pd.DataFrame(optimized_rf_results)\n",
    "optimized_rf_results_df"
   ]
  },
  {
   "cell_type": "code",
   "execution_count": null,
   "id": "5fa04289-5b38-4865-9b14-6e1feb07728b",
   "metadata": {},
   "outputs": [],
   "source": []
  },
  {
   "cell_type": "code",
   "execution_count": null,
   "id": "0a48ddad-4e79-4223-ae82-3bfa2b72440a",
   "metadata": {},
   "outputs": [],
   "source": []
  },
  {
   "cell_type": "code",
   "execution_count": null,
   "id": "76cde6bd-6f11-41a7-a600-194d01c70a25",
   "metadata": {},
   "outputs": [],
   "source": []
  }
 ],
 "metadata": {
  "kernelspec": {
   "display_name": "Python 3 (ipykernel)",
   "language": "python",
   "name": "python3"
  },
  "language_info": {
   "codemirror_mode": {
    "name": "ipython",
    "version": 3
   },
   "file_extension": ".py",
   "mimetype": "text/x-python",
   "name": "python",
   "nbconvert_exporter": "python",
   "pygments_lexer": "ipython3",
   "version": "3.11.9"
  }
 },
 "nbformat": 4,
 "nbformat_minor": 5
}
