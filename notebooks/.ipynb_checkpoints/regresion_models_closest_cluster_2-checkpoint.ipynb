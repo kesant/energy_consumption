{
 "cells": [
  {
   "cell_type": "markdown",
   "id": "d3c7855c-0aca-4b19-88fa-a21d1d67210f",
   "metadata": {},
   "source": [
    "# Importar librerias"
   ]
  },
  {
   "cell_type": "code",
   "execution_count": 1,
   "id": "cca32c39-a545-4316-82aa-bbeef64bbec5",
   "metadata": {},
   "outputs": [],
   "source": [
    "import numpy as np\n",
    "import matplotlib.pyplot as plt\n",
    "import matplotlib as mpl\n",
    "import pandas as pd\n",
    "import seaborn as sns\n",
    "from statsmodels.stats.outliers_influence import variance_inflation_factor\n",
    "from sklearn.model_selection import train_test_split\n",
    "from sklearn.preprocessing import StandardScaler\n",
    "from sklearn.linear_model import LinearRegression, Lasso\n",
    "from sklearn.tree import DecisionTreeRegressor\n",
    "from sklearn.svm import SVR\n",
    "from sklearn.ensemble import RandomForestRegressor, VotingRegressor\n",
    "from sklearn.metrics import mean_squared_error, r2_score\n",
    "from sklearn.model_selection import GridSearchCV"
   ]
  },
  {
   "cell_type": "markdown",
   "id": "79a490d9-8eef-40ec-be92-5c361cd76895",
   "metadata": {},
   "source": [
    "# Funciones auxiliares"
   ]
  },
  {
   "cell_type": "code",
   "execution_count": 2,
   "id": "a4fa5fbc-3eae-40fd-bab5-8ad8e0e44de0",
   "metadata": {},
   "outputs": [],
   "source": [
    "def matriz_correlacion(dataset, target):\n",
    "    corr_matrix = dataset.corr()\n",
    "    corr_matrix[target].sort_values(ascending=False)\n",
    "    #from matplotlib.colors import ListedColormap\n",
    "    #cm_blue_orange = ListedColormap(['tab:blue', 'orange'])\n",
    "    cm_red_blue = mpl.colormaps['RdBu']\n",
    "    mask = np.triu(np.ones_like(corr_matrix, dtype=bool))\n",
    "    f, ax = plt.subplots(figsize=(8, 6))\n",
    "    sns.heatmap(corr_matrix, mask=mask, annot=True, fmt=\".2f\", cmap=cm_red_blue, vmax=1, vmin=-1, center=0,\n",
    "                square=True, linewidths=.5, cbar_kws={\"shrink\": .5})\n",
    "    plt.title('Heatmap con Valores Numéricos y Colores')\n",
    "    # Mostrar el gráfico\n",
    "    plt.show()"
   ]
  },
  {
   "cell_type": "code",
   "execution_count": 3,
   "id": "8a1bd2c0-cc06-42b3-b987-1faf29b9b210",
   "metadata": {},
   "outputs": [],
   "source": [
    "# Calcular el VIF para cada característica\n",
    "def calculate_vif(df):\n",
    "    vif_data = pd.DataFrame()\n",
    "    vif_data[\"feature\"] = df.columns\n",
    "    vif_data[\"VIF\"] = [variance_inflation_factor(df.values, i) for i in range(df.shape[1])]\n",
    "    return vif_data"
   ]
  },
  {
   "cell_type": "code",
   "execution_count": 4,
   "id": "84b2d8c9-aa57-447e-88d7-f3c662a56e65",
   "metadata": {},
   "outputs": [],
   "source": [
    "# Función para entrenar y evaluar un modelo\n",
    "def train_evaluate_model(model, X_train, X_test, y_train, y_test):\n",
    "    model.fit(X_train, y_train)\n",
    "    y_pred = model.predict(X_test)\n",
    "    rmse = np.sqrt(mean_squared_error(y_test, y_pred))  # Calcular RMSE\n",
    "    r2 = r2_score(y_test, y_pred)\n",
    "    return rmse, r2"
   ]
  },
  {
   "cell_type": "markdown",
   "id": "7f340b51-e59f-47e7-bdd0-b4ba78dcb364",
   "metadata": {},
   "source": [
    "# Preprocesamiento"
   ]
  },
  {
   "cell_type": "code",
   "execution_count": 5,
   "id": "6b190f71-f024-449b-9a5a-dee9a70f0be8",
   "metadata": {},
   "outputs": [],
   "source": [
    "average_cluster_0=pd.read_csv(\"../data/interim/closest_series_cluster_2.csv\",parse_dates=[\"Date/Time\"])\n",
    "\n"
   ]
  },
  {
   "cell_type": "code",
   "execution_count": 6,
   "id": "ab519b1a-3a76-418d-96a1-a211f0d21702",
   "metadata": {},
   "outputs": [],
   "source": [
    "#eliminamos la columna type building porque no es relevante \n",
    "average_cluster_0.drop(columns=[\"type_building\"], inplace=True)"
   ]
  },
  {
   "cell_type": "code",
   "execution_count": 7,
   "id": "b4769d2c-08a8-40db-aa41-d0776103c7f8",
   "metadata": {},
   "outputs": [
    {
     "data": {
      "text/plain": [
       "(8760, 7)"
      ]
     },
     "execution_count": 7,
     "metadata": {},
     "output_type": "execute_result"
    }
   ],
   "source": [
    "average_cluster_0.shape"
   ]
  },
  {
   "cell_type": "code",
   "execution_count": null,
   "id": "cdfba46c-7b87-48b0-a86b-3c6ea917ac1c",
   "metadata": {},
   "outputs": [],
   "source": []
  },
  {
   "cell_type": "code",
   "execution_count": 8,
   "id": "27284d3a-acdb-4e88-bdf5-8631c685e606",
   "metadata": {},
   "outputs": [
    {
     "data": {
      "text/html": [
       "<div>\n",
       "<style scoped>\n",
       "    .dataframe tbody tr th:only-of-type {\n",
       "        vertical-align: middle;\n",
       "    }\n",
       "\n",
       "    .dataframe tbody tr th {\n",
       "        vertical-align: top;\n",
       "    }\n",
       "\n",
       "    .dataframe thead th {\n",
       "        text-align: right;\n",
       "    }\n",
       "</style>\n",
       "<table border=\"1\" class=\"dataframe\">\n",
       "  <thead>\n",
       "    <tr style=\"text-align: right;\">\n",
       "      <th></th>\n",
       "      <th>Date/Time</th>\n",
       "      <th>Electricity:Facility [kW](Hourly)</th>\n",
       "      <th>Fans:Electricity [kW](Hourly)</th>\n",
       "      <th>Cooling:Electricity [kW](Hourly)</th>\n",
       "      <th>Heating:Electricity [kW](Hourly)</th>\n",
       "      <th>InteriorLights:Electricity [kW](Hourly)</th>\n",
       "      <th>InteriorEquipment:Electricity [kW](Hourly)</th>\n",
       "    </tr>\n",
       "  </thead>\n",
       "  <tbody>\n",
       "    <tr>\n",
       "      <th>0</th>\n",
       "      <td>2004-01-01 01:00:00</td>\n",
       "      <td>541.751026</td>\n",
       "      <td>96.637915</td>\n",
       "      <td>80.830795</td>\n",
       "      <td>0.0</td>\n",
       "      <td>34.961655</td>\n",
       "      <td>113.31278</td>\n",
       "    </tr>\n",
       "    <tr>\n",
       "      <th>1</th>\n",
       "      <td>2004-01-01 02:00:00</td>\n",
       "      <td>485.201509</td>\n",
       "      <td>96.637915</td>\n",
       "      <td>11.358384</td>\n",
       "      <td>0.0</td>\n",
       "      <td>34.961655</td>\n",
       "      <td>113.31278</td>\n",
       "    </tr>\n",
       "    <tr>\n",
       "      <th>2</th>\n",
       "      <td>2004-01-01 03:00:00</td>\n",
       "      <td>486.708558</td>\n",
       "      <td>96.637915</td>\n",
       "      <td>13.746297</td>\n",
       "      <td>0.0</td>\n",
       "      <td>34.961655</td>\n",
       "      <td>113.31278</td>\n",
       "    </tr>\n",
       "    <tr>\n",
       "      <th>3</th>\n",
       "      <td>2004-01-01 04:00:00</td>\n",
       "      <td>507.964444</td>\n",
       "      <td>96.637915</td>\n",
       "      <td>37.896481</td>\n",
       "      <td>0.0</td>\n",
       "      <td>34.961655</td>\n",
       "      <td>113.31278</td>\n",
       "    </tr>\n",
       "    <tr>\n",
       "      <th>4</th>\n",
       "      <td>2004-01-01 05:00:00</td>\n",
       "      <td>530.380035</td>\n",
       "      <td>96.637915</td>\n",
       "      <td>55.235068</td>\n",
       "      <td>0.0</td>\n",
       "      <td>44.493766</td>\n",
       "      <td>113.31278</td>\n",
       "    </tr>\n",
       "  </tbody>\n",
       "</table>\n",
       "</div>"
      ],
      "text/plain": [
       "            Date/Time  Electricity:Facility [kW](Hourly)  \\\n",
       "0 2004-01-01 01:00:00                         541.751026   \n",
       "1 2004-01-01 02:00:00                         485.201509   \n",
       "2 2004-01-01 03:00:00                         486.708558   \n",
       "3 2004-01-01 04:00:00                         507.964444   \n",
       "4 2004-01-01 05:00:00                         530.380035   \n",
       "\n",
       "   Fans:Electricity [kW](Hourly)  Cooling:Electricity [kW](Hourly)  \\\n",
       "0                      96.637915                         80.830795   \n",
       "1                      96.637915                         11.358384   \n",
       "2                      96.637915                         13.746297   \n",
       "3                      96.637915                         37.896481   \n",
       "4                      96.637915                         55.235068   \n",
       "\n",
       "   Heating:Electricity [kW](Hourly)  InteriorLights:Electricity [kW](Hourly)  \\\n",
       "0                               0.0                                34.961655   \n",
       "1                               0.0                                34.961655   \n",
       "2                               0.0                                34.961655   \n",
       "3                               0.0                                34.961655   \n",
       "4                               0.0                                44.493766   \n",
       "\n",
       "   InteriorEquipment:Electricity [kW](Hourly)  \n",
       "0                                   113.31278  \n",
       "1                                   113.31278  \n",
       "2                                   113.31278  \n",
       "3                                   113.31278  \n",
       "4                                   113.31278  "
      ]
     },
     "execution_count": 8,
     "metadata": {},
     "output_type": "execute_result"
    }
   ],
   "source": [
    "average_cluster_0.head()"
   ]
  },
  {
   "cell_type": "code",
   "execution_count": 9,
   "id": "7e9bcaf8-6a5f-46b4-ba54-7f51fbf53fd3",
   "metadata": {},
   "outputs": [
    {
     "name": "stdout",
     "output_type": "stream",
     "text": [
      "<class 'pandas.core.frame.DataFrame'>\n",
      "RangeIndex: 8760 entries, 0 to 8759\n",
      "Data columns (total 7 columns):\n",
      " #   Column                                      Non-Null Count  Dtype         \n",
      "---  ------                                      --------------  -----         \n",
      " 0   Date/Time                                   8395 non-null   datetime64[ns]\n",
      " 1   Electricity:Facility [kW](Hourly)           8760 non-null   float64       \n",
      " 2   Fans:Electricity [kW](Hourly)               8760 non-null   float64       \n",
      " 3   Cooling:Electricity [kW](Hourly)            8760 non-null   float64       \n",
      " 4   Heating:Electricity [kW](Hourly)            8760 non-null   float64       \n",
      " 5   InteriorLights:Electricity [kW](Hourly)     8760 non-null   float64       \n",
      " 6   InteriorEquipment:Electricity [kW](Hourly)  8760 non-null   float64       \n",
      "dtypes: datetime64[ns](1), float64(6)\n",
      "memory usage: 479.2 KB\n"
     ]
    }
   ],
   "source": [
    "average_cluster_0.info()"
   ]
  },
  {
   "cell_type": "code",
   "execution_count": 10,
   "id": "a83e5732-4f23-4e5d-8259-418081130c5e",
   "metadata": {},
   "outputs": [
    {
     "data": {
      "text/plain": [
       "Date/Time                                     365\n",
       "Electricity:Facility [kW](Hourly)               0\n",
       "Fans:Electricity [kW](Hourly)                   0\n",
       "Cooling:Electricity [kW](Hourly)                0\n",
       "Heating:Electricity [kW](Hourly)                0\n",
       "InteriorLights:Electricity [kW](Hourly)         0\n",
       "InteriorEquipment:Electricity [kW](Hourly)      0\n",
       "dtype: int64"
      ]
     },
     "execution_count": 10,
     "metadata": {},
     "output_type": "execute_result"
    }
   ],
   "source": [
    "average_cluster_0.isna().sum()"
   ]
  },
  {
   "cell_type": "code",
   "execution_count": 11,
   "id": "c65eaf12-92f7-4c2c-bc62-ee5aab6c50a8",
   "metadata": {},
   "outputs": [
    {
     "name": "stderr",
     "output_type": "stream",
     "text": [
      "C:\\Users\\ASUS TUF\\AppData\\Local\\Temp\\ipykernel_16272\\1271873523.py:2: FutureWarning: DataFrame.fillna with 'method' is deprecated and will raise in a future version. Use obj.ffill() or obj.bfill() instead.\n",
      "  average_cluster_0.fillna(method='ffill', inplace=True)\n"
     ]
    }
   ],
   "source": [
    "# Imputar o eliminar valores faltantes si existen\n",
    "average_cluster_0.fillna(method='ffill', inplace=True)"
   ]
  },
  {
   "cell_type": "code",
   "execution_count": 12,
   "id": "a7092d43-d884-42e4-89aa-f0a4d5d0e7b0",
   "metadata": {},
   "outputs": [
    {
     "data": {
      "text/plain": [
       "Date/Time                                     0\n",
       "Electricity:Facility [kW](Hourly)             0\n",
       "Fans:Electricity [kW](Hourly)                 0\n",
       "Cooling:Electricity [kW](Hourly)              0\n",
       "Heating:Electricity [kW](Hourly)              0\n",
       "InteriorLights:Electricity [kW](Hourly)       0\n",
       "InteriorEquipment:Electricity [kW](Hourly)    0\n",
       "dtype: int64"
      ]
     },
     "execution_count": 12,
     "metadata": {},
     "output_type": "execute_result"
    }
   ],
   "source": [
    "average_cluster_0.isna().sum()"
   ]
  },
  {
   "cell_type": "code",
   "execution_count": 13,
   "id": "4197a69c-54bc-4924-83d2-63ec56e640f4",
   "metadata": {},
   "outputs": [],
   "source": [
    "# Establecer la columna de fecha como índice\n",
    "average_cluster_0.set_index('Date/Time', inplace=True)"
   ]
  },
  {
   "cell_type": "code",
   "execution_count": 14,
   "id": "19923402-5eed-4edd-8600-3bb8be6eea14",
   "metadata": {},
   "outputs": [],
   "source": [
    "# Extraer características temporales\n",
    "average_cluster_0['hour'] = average_cluster_0.index.hour\n",
    "average_cluster_0['day_of_week'] = average_cluster_0.index.dayofweek\n",
    "average_cluster_0['month'] = average_cluster_0.index.month"
   ]
  },
  {
   "cell_type": "code",
   "execution_count": 15,
   "id": "3e318af4-38be-487e-b843-96d4a369308f",
   "metadata": {},
   "outputs": [
    {
     "data": {
      "text/html": [
       "<div>\n",
       "<style scoped>\n",
       "    .dataframe tbody tr th:only-of-type {\n",
       "        vertical-align: middle;\n",
       "    }\n",
       "\n",
       "    .dataframe tbody tr th {\n",
       "        vertical-align: top;\n",
       "    }\n",
       "\n",
       "    .dataframe thead th {\n",
       "        text-align: right;\n",
       "    }\n",
       "</style>\n",
       "<table border=\"1\" class=\"dataframe\">\n",
       "  <thead>\n",
       "    <tr style=\"text-align: right;\">\n",
       "      <th></th>\n",
       "      <th>Electricity:Facility [kW](Hourly)</th>\n",
       "      <th>Fans:Electricity [kW](Hourly)</th>\n",
       "      <th>Cooling:Electricity [kW](Hourly)</th>\n",
       "      <th>Heating:Electricity [kW](Hourly)</th>\n",
       "      <th>InteriorLights:Electricity [kW](Hourly)</th>\n",
       "      <th>InteriorEquipment:Electricity [kW](Hourly)</th>\n",
       "      <th>hour</th>\n",
       "      <th>day_of_week</th>\n",
       "      <th>month</th>\n",
       "    </tr>\n",
       "    <tr>\n",
       "      <th>Date/Time</th>\n",
       "      <th></th>\n",
       "      <th></th>\n",
       "      <th></th>\n",
       "      <th></th>\n",
       "      <th></th>\n",
       "      <th></th>\n",
       "      <th></th>\n",
       "      <th></th>\n",
       "      <th></th>\n",
       "    </tr>\n",
       "  </thead>\n",
       "  <tbody>\n",
       "    <tr>\n",
       "      <th>2004-01-01 01:00:00</th>\n",
       "      <td>541.751026</td>\n",
       "      <td>96.637915</td>\n",
       "      <td>80.830795</td>\n",
       "      <td>0.0</td>\n",
       "      <td>34.961655</td>\n",
       "      <td>113.31278</td>\n",
       "      <td>1</td>\n",
       "      <td>3</td>\n",
       "      <td>1</td>\n",
       "    </tr>\n",
       "    <tr>\n",
       "      <th>2004-01-01 02:00:00</th>\n",
       "      <td>485.201509</td>\n",
       "      <td>96.637915</td>\n",
       "      <td>11.358384</td>\n",
       "      <td>0.0</td>\n",
       "      <td>34.961655</td>\n",
       "      <td>113.31278</td>\n",
       "      <td>2</td>\n",
       "      <td>3</td>\n",
       "      <td>1</td>\n",
       "    </tr>\n",
       "    <tr>\n",
       "      <th>2004-01-01 03:00:00</th>\n",
       "      <td>486.708558</td>\n",
       "      <td>96.637915</td>\n",
       "      <td>13.746297</td>\n",
       "      <td>0.0</td>\n",
       "      <td>34.961655</td>\n",
       "      <td>113.31278</td>\n",
       "      <td>3</td>\n",
       "      <td>3</td>\n",
       "      <td>1</td>\n",
       "    </tr>\n",
       "    <tr>\n",
       "      <th>2004-01-01 04:00:00</th>\n",
       "      <td>507.964444</td>\n",
       "      <td>96.637915</td>\n",
       "      <td>37.896481</td>\n",
       "      <td>0.0</td>\n",
       "      <td>34.961655</td>\n",
       "      <td>113.31278</td>\n",
       "      <td>4</td>\n",
       "      <td>3</td>\n",
       "      <td>1</td>\n",
       "    </tr>\n",
       "    <tr>\n",
       "      <th>2004-01-01 05:00:00</th>\n",
       "      <td>530.380035</td>\n",
       "      <td>96.637915</td>\n",
       "      <td>55.235068</td>\n",
       "      <td>0.0</td>\n",
       "      <td>44.493766</td>\n",
       "      <td>113.31278</td>\n",
       "      <td>5</td>\n",
       "      <td>3</td>\n",
       "      <td>1</td>\n",
       "    </tr>\n",
       "  </tbody>\n",
       "</table>\n",
       "</div>"
      ],
      "text/plain": [
       "                     Electricity:Facility [kW](Hourly)  \\\n",
       "Date/Time                                                \n",
       "2004-01-01 01:00:00                         541.751026   \n",
       "2004-01-01 02:00:00                         485.201509   \n",
       "2004-01-01 03:00:00                         486.708558   \n",
       "2004-01-01 04:00:00                         507.964444   \n",
       "2004-01-01 05:00:00                         530.380035   \n",
       "\n",
       "                     Fans:Electricity [kW](Hourly)  \\\n",
       "Date/Time                                            \n",
       "2004-01-01 01:00:00                      96.637915   \n",
       "2004-01-01 02:00:00                      96.637915   \n",
       "2004-01-01 03:00:00                      96.637915   \n",
       "2004-01-01 04:00:00                      96.637915   \n",
       "2004-01-01 05:00:00                      96.637915   \n",
       "\n",
       "                     Cooling:Electricity [kW](Hourly)  \\\n",
       "Date/Time                                               \n",
       "2004-01-01 01:00:00                         80.830795   \n",
       "2004-01-01 02:00:00                         11.358384   \n",
       "2004-01-01 03:00:00                         13.746297   \n",
       "2004-01-01 04:00:00                         37.896481   \n",
       "2004-01-01 05:00:00                         55.235068   \n",
       "\n",
       "                     Heating:Electricity [kW](Hourly)  \\\n",
       "Date/Time                                               \n",
       "2004-01-01 01:00:00                               0.0   \n",
       "2004-01-01 02:00:00                               0.0   \n",
       "2004-01-01 03:00:00                               0.0   \n",
       "2004-01-01 04:00:00                               0.0   \n",
       "2004-01-01 05:00:00                               0.0   \n",
       "\n",
       "                     InteriorLights:Electricity [kW](Hourly)  \\\n",
       "Date/Time                                                      \n",
       "2004-01-01 01:00:00                                34.961655   \n",
       "2004-01-01 02:00:00                                34.961655   \n",
       "2004-01-01 03:00:00                                34.961655   \n",
       "2004-01-01 04:00:00                                34.961655   \n",
       "2004-01-01 05:00:00                                44.493766   \n",
       "\n",
       "                     InteriorEquipment:Electricity [kW](Hourly)  hour  \\\n",
       "Date/Time                                                               \n",
       "2004-01-01 01:00:00                                   113.31278     1   \n",
       "2004-01-01 02:00:00                                   113.31278     2   \n",
       "2004-01-01 03:00:00                                   113.31278     3   \n",
       "2004-01-01 04:00:00                                   113.31278     4   \n",
       "2004-01-01 05:00:00                                   113.31278     5   \n",
       "\n",
       "                     day_of_week  month  \n",
       "Date/Time                                \n",
       "2004-01-01 01:00:00            3      1  \n",
       "2004-01-01 02:00:00            3      1  \n",
       "2004-01-01 03:00:00            3      1  \n",
       "2004-01-01 04:00:00            3      1  \n",
       "2004-01-01 05:00:00            3      1  "
      ]
     },
     "execution_count": 15,
     "metadata": {},
     "output_type": "execute_result"
    }
   ],
   "source": [
    "average_cluster_0.head()"
   ]
  },
  {
   "cell_type": "code",
   "execution_count": 16,
   "id": "dcf295c8-be76-4cc9-9d97-374930b3bce7",
   "metadata": {},
   "outputs": [
    {
     "data": {
      "text/plain": [
       "Index(['Electricity:Facility [kW](Hourly)', 'Fans:Electricity [kW](Hourly)',\n",
       "       'Cooling:Electricity [kW](Hourly)', 'Heating:Electricity [kW](Hourly)',\n",
       "       'InteriorLights:Electricity [kW](Hourly)',\n",
       "       'InteriorEquipment:Electricity [kW](Hourly)', 'hour', 'day_of_week',\n",
       "       'month'],\n",
       "      dtype='object')"
      ]
     },
     "execution_count": 16,
     "metadata": {},
     "output_type": "execute_result"
    }
   ],
   "source": [
    "average_cluster_0.columns"
   ]
  },
  {
   "cell_type": "code",
   "execution_count": 17,
   "id": "4529d36c-d913-4a9d-bd95-c45f8fb6464e",
   "metadata": {},
   "outputs": [],
   "source": [
    "target='Electricity:Facility [kW](Hourly)'"
   ]
  },
  {
   "cell_type": "code",
   "execution_count": 18,
   "id": "f5f07bde-a652-4f34-8bd0-7108ace451d9",
   "metadata": {},
   "outputs": [
    {
     "data": {
      "image/png": "[encoded data removed]",
      "text/plain": [
       "<Figure size 800x600 with 2 Axes>"
      ]
     },
     "metadata": {},
     "output_type": "display_data"
    }
   ],
   "source": [
    "matriz_correlacion(average_cluster_0, target)"
   ]
  },
  {
   "cell_type": "markdown",
   "id": "f1b6d585-7b6f-4c6a-b90a-e73fe196a4b0",
   "metadata": {},
   "source": [
    "La correlación mide la relación entre dos variables. Puede ir de -1 a 1.\n",
    "\n",
    "* 1 significa una relación positiva perfecta.\n",
    "* -1 significa una relación negativa perfecta.\n",
    "* 0 significa que no hay relación."
   ]
  },
  {
   "cell_type": "code",
   "execution_count": 19,
   "id": "ceba78e0-5a2a-4e18-982f-8caffdfe2ac6",
   "metadata": {},
   "outputs": [
    {
     "data": {
      "text/plain": [
       "Electricity:Facility [kW](Hourly)             1.000000\n",
       "InteriorLights:Electricity [kW](Hourly)       0.866243\n",
       "InteriorEquipment:Electricity [kW](Hourly)    0.851607\n",
       "Cooling:Electricity [kW](Hourly)              0.504242\n",
       "Fans:Electricity [kW](Hourly)                 0.459125\n",
       "hour                                          0.078823\n",
       "month                                         0.045261\n",
       "day_of_week                                  -0.060950\n",
       "Heating:Electricity [kW](Hourly)                   NaN\n",
       "Name: Electricity:Facility [kW](Hourly), dtype: float64"
      ]
     },
     "execution_count": 19,
     "metadata": {},
     "output_type": "execute_result"
    }
   ],
   "source": [
    "# Calcular la correlación de cada característica con la variable objetivo\n",
    "correlation_matrix = average_cluster_0.corr()\n",
    "target_correlation = correlation_matrix['Electricity:Facility [kW](Hourly)'].sort_values(ascending=False)\n",
    "\n",
    "# Mostrar la correlación de cada característica con la variable objetivo\n",
    "target_correlation\n"
   ]
  },
  {
   "cell_type": "markdown",
   "id": "bea683c0-3c33-43f1-a1db-9276dd221803",
   "metadata": {},
   "source": [
    "Queremos saber qué variables están más relacionadas con la variable que queremos predecir (Electricity:Facility [kW](Hourly)).\n",
    "\n",
    "Las variables con alta correlación pueden ser más útiles para nuestro modelo.\n",
    "\n",
    "**Regla utilizada:**\n",
    "\n",
    "* Seleccionamos variables con una correlación absoluta mayor o igual a 0.3. \n",
    "* Esto significa que estas variables tienen una relación suficientemente fuerte con nuestra variable objetivo."
   ]
  },
  {
   "cell_type": "code",
   "execution_count": 20,
   "id": "a8ba041a-0376-4313-902f-0339ea3eb06f",
   "metadata": {},
   "outputs": [],
   "source": [
    "# Mantener características con correlación absoluta mayor o igual a 0.3\n",
    "selected_features = target_correlation[abs(target_correlation) >= 0.3].index.drop('Electricity:Facility [kW](Hourly)')\n",
    "features_corr = average_cluster_0[selected_features]"
   ]
  },
  {
   "cell_type": "code",
   "execution_count": 21,
   "id": "1f0ed0ce-38b8-4215-aaec-0cb6a6b28474",
   "metadata": {},
   "outputs": [
    {
     "data": {
      "text/plain": [
       "Index(['InteriorLights:Electricity [kW](Hourly)',\n",
       "       'InteriorEquipment:Electricity [kW](Hourly)',\n",
       "       'Cooling:Electricity [kW](Hourly)', 'Fans:Electricity [kW](Hourly)'],\n",
       "      dtype='object')"
      ]
     },
     "execution_count": 21,
     "metadata": {},
     "output_type": "execute_result"
    }
   ],
   "source": [
    "features_corr.columns"
   ]
  },
  {
   "cell_type": "markdown",
   "id": "257adc75-4dd3-4198-9efe-220b6a8a3fd0",
   "metadata": {},
   "source": [
    "**Evaluación de la Multicolinealidad**\n",
    "\n",
    "* La multicolinealidad ocurre cuando dos o más variables están altamente correlacionadas entre sí.\n",
    "\n",
    "* Esto puede causar problemas en los modelos de regresión porque dificulta determinar el efecto individual de cada variable.\n",
    "  \n",
    "**¿Cómo evaluamos la multicolinealidad?**\n",
    "\n",
    "* Usamos el Factor de Inflación de la Varianza (VIF). Un VIF alto (mayor a 10) indica multicolinealidad alta.\n",
    "\n",
    "* Eliminamos las variables con VIF mayor a 10 para reducir la multicolinealidad y simplificar nuestro modelo."
   ]
  },
  {
   "cell_type": "code",
   "execution_count": 22,
   "id": "84d2ebd7-37a4-450f-84ed-1c8594dbccd6",
   "metadata": {},
   "outputs": [
    {
     "data": {
      "text/html": [
       "<div>\n",
       "<style scoped>\n",
       "    .dataframe tbody tr th:only-of-type {\n",
       "        vertical-align: middle;\n",
       "    }\n",
       "\n",
       "    .dataframe tbody tr th {\n",
       "        vertical-align: top;\n",
       "    }\n",
       "\n",
       "    .dataframe thead th {\n",
       "        text-align: right;\n",
       "    }\n",
       "</style>\n",
       "<table border=\"1\" class=\"dataframe\">\n",
       "  <thead>\n",
       "    <tr style=\"text-align: right;\">\n",
       "      <th></th>\n",
       "      <th>feature</th>\n",
       "      <th>VIF</th>\n",
       "    </tr>\n",
       "  </thead>\n",
       "  <tbody>\n",
       "    <tr>\n",
       "      <th>0</th>\n",
       "      <td>InteriorLights:Electricity [kW](Hourly)</td>\n",
       "      <td>20.853374</td>\n",
       "    </tr>\n",
       "    <tr>\n",
       "      <th>1</th>\n",
       "      <td>InteriorEquipment:Electricity [kW](Hourly)</td>\n",
       "      <td>46.339949</td>\n",
       "    </tr>\n",
       "    <tr>\n",
       "      <th>2</th>\n",
       "      <td>Cooling:Electricity [kW](Hourly)</td>\n",
       "      <td>12.043259</td>\n",
       "    </tr>\n",
       "    <tr>\n",
       "      <th>3</th>\n",
       "      <td>Fans:Electricity [kW](Hourly)</td>\n",
       "      <td>22.195952</td>\n",
       "    </tr>\n",
       "  </tbody>\n",
       "</table>\n",
       "</div>"
      ],
      "text/plain": [
       "                                      feature        VIF\n",
       "0     InteriorLights:Electricity [kW](Hourly)  20.853374\n",
       "1  InteriorEquipment:Electricity [kW](Hourly)  46.339949\n",
       "2            Cooling:Electricity [kW](Hourly)  12.043259\n",
       "3               Fans:Electricity [kW](Hourly)  22.195952"
      ]
     },
     "execution_count": 22,
     "metadata": {},
     "output_type": "execute_result"
    }
   ],
   "source": [
    "# Paso 3: Evaluación de la Multicolinealidad\n",
    "vif_before_corr = calculate_vif(features_corr)\n",
    "vif_before_corr"
   ]
  },
  {
   "cell_type": "code",
   "execution_count": 23,
   "id": "bbda658b-3379-4245-ac51-19756c1d1bfe",
   "metadata": {},
   "outputs": [],
   "source": [
    "# Eliminar características con VIF alto (umbral de 10)\n",
    "features_selected_corr = features_corr.drop(['InteriorEquipment:Electricity [kW](Hourly)','Fans:Electricity [kW](Hourly)'], axis=1)\n",
    "vif_after_corr = calculate_vif(features_selected_corr)"
   ]
  },
  {
   "cell_type": "code",
   "execution_count": 24,
   "id": "014faab3-72b3-4142-9342-f3806d88670a",
   "metadata": {},
   "outputs": [
    {
     "data": {
      "text/html": [
       "<div>\n",
       "<style scoped>\n",
       "    .dataframe tbody tr th:only-of-type {\n",
       "        vertical-align: middle;\n",
       "    }\n",
       "\n",
       "    .dataframe tbody tr th {\n",
       "        vertical-align: top;\n",
       "    }\n",
       "\n",
       "    .dataframe thead th {\n",
       "        text-align: right;\n",
       "    }\n",
       "</style>\n",
       "<table border=\"1\" class=\"dataframe\">\n",
       "  <thead>\n",
       "    <tr style=\"text-align: right;\">\n",
       "      <th></th>\n",
       "      <th>feature</th>\n",
       "      <th>VIF</th>\n",
       "    </tr>\n",
       "  </thead>\n",
       "  <tbody>\n",
       "    <tr>\n",
       "      <th>0</th>\n",
       "      <td>InteriorLights:Electricity [kW](Hourly)</td>\n",
       "      <td>3.039319</td>\n",
       "    </tr>\n",
       "    <tr>\n",
       "      <th>1</th>\n",
       "      <td>Cooling:Electricity [kW](Hourly)</td>\n",
       "      <td>3.039319</td>\n",
       "    </tr>\n",
       "  </tbody>\n",
       "</table>\n",
       "</div>"
      ],
      "text/plain": [
       "                                   feature       VIF\n",
       "0  InteriorLights:Electricity [kW](Hourly)  3.039319\n",
       "1         Cooling:Electricity [kW](Hourly)  3.039319"
      ]
     },
     "execution_count": 24,
     "metadata": {},
     "output_type": "execute_result"
    }
   ],
   "source": [
    "vif_after_corr"
   ]
  },
  {
   "cell_type": "code",
   "execution_count": 25,
   "id": "085529aa-c120-4468-a16f-bc20b9cc920b",
   "metadata": {},
   "outputs": [
    {
     "data": {
      "text/html": [
       "<div>\n",
       "<style scoped>\n",
       "    .dataframe tbody tr th:only-of-type {\n",
       "        vertical-align: middle;\n",
       "    }\n",
       "\n",
       "    .dataframe tbody tr th {\n",
       "        vertical-align: top;\n",
       "    }\n",
       "\n",
       "    .dataframe thead th {\n",
       "        text-align: right;\n",
       "    }\n",
       "</style>\n",
       "<table border=\"1\" class=\"dataframe\">\n",
       "  <thead>\n",
       "    <tr style=\"text-align: right;\">\n",
       "      <th></th>\n",
       "      <th>InteriorLights:Electricity [kW](Hourly)</th>\n",
       "      <th>Cooling:Electricity [kW](Hourly)</th>\n",
       "    </tr>\n",
       "    <tr>\n",
       "      <th>Date/Time</th>\n",
       "      <th></th>\n",
       "      <th></th>\n",
       "    </tr>\n",
       "  </thead>\n",
       "  <tbody>\n",
       "    <tr>\n",
       "      <th>2004-01-01 01:00:00</th>\n",
       "      <td>34.961655</td>\n",
       "      <td>80.830795</td>\n",
       "    </tr>\n",
       "    <tr>\n",
       "      <th>2004-01-01 02:00:00</th>\n",
       "      <td>34.961655</td>\n",
       "      <td>11.358384</td>\n",
       "    </tr>\n",
       "    <tr>\n",
       "      <th>2004-01-01 03:00:00</th>\n",
       "      <td>34.961655</td>\n",
       "      <td>13.746297</td>\n",
       "    </tr>\n",
       "    <tr>\n",
       "      <th>2004-01-01 04:00:00</th>\n",
       "      <td>34.961655</td>\n",
       "      <td>37.896481</td>\n",
       "    </tr>\n",
       "    <tr>\n",
       "      <th>2004-01-01 05:00:00</th>\n",
       "      <td>44.493766</td>\n",
       "      <td>55.235068</td>\n",
       "    </tr>\n",
       "    <tr>\n",
       "      <th>...</th>\n",
       "      <td>...</td>\n",
       "      <td>...</td>\n",
       "    </tr>\n",
       "    <tr>\n",
       "      <th>2004-12-31 20:00:00</th>\n",
       "      <td>44.493766</td>\n",
       "      <td>307.992477</td>\n",
       "    </tr>\n",
       "    <tr>\n",
       "      <th>2004-12-31 21:00:00</th>\n",
       "      <td>44.493766</td>\n",
       "      <td>304.947887</td>\n",
       "    </tr>\n",
       "    <tr>\n",
       "      <th>2004-12-31 22:00:00</th>\n",
       "      <td>44.493766</td>\n",
       "      <td>346.505946</td>\n",
       "    </tr>\n",
       "    <tr>\n",
       "      <th>2004-12-31 23:00:00</th>\n",
       "      <td>34.961655</td>\n",
       "      <td>340.132901</td>\n",
       "    </tr>\n",
       "    <tr>\n",
       "      <th>2004-12-31 23:00:00</th>\n",
       "      <td>34.961655</td>\n",
       "      <td>282.644487</td>\n",
       "    </tr>\n",
       "  </tbody>\n",
       "</table>\n",
       "<p>8760 rows × 2 columns</p>\n",
       "</div>"
      ],
      "text/plain": [
       "                     InteriorLights:Electricity [kW](Hourly)  \\\n",
       "Date/Time                                                      \n",
       "2004-01-01 01:00:00                                34.961655   \n",
       "2004-01-01 02:00:00                                34.961655   \n",
       "2004-01-01 03:00:00                                34.961655   \n",
       "2004-01-01 04:00:00                                34.961655   \n",
       "2004-01-01 05:00:00                                44.493766   \n",
       "...                                                      ...   \n",
       "2004-12-31 20:00:00                                44.493766   \n",
       "2004-12-31 21:00:00                                44.493766   \n",
       "2004-12-31 22:00:00                                44.493766   \n",
       "2004-12-31 23:00:00                                34.961655   \n",
       "2004-12-31 23:00:00                                34.961655   \n",
       "\n",
       "                     Cooling:Electricity [kW](Hourly)  \n",
       "Date/Time                                              \n",
       "2004-01-01 01:00:00                         80.830795  \n",
       "2004-01-01 02:00:00                         11.358384  \n",
       "2004-01-01 03:00:00                         13.746297  \n",
       "2004-01-01 04:00:00                         37.896481  \n",
       "2004-01-01 05:00:00                         55.235068  \n",
       "...                                               ...  \n",
       "2004-12-31 20:00:00                        307.992477  \n",
       "2004-12-31 21:00:00                        304.947887  \n",
       "2004-12-31 22:00:00                        346.505946  \n",
       "2004-12-31 23:00:00                        340.132901  \n",
       "2004-12-31 23:00:00                        282.644487  \n",
       "\n",
       "[8760 rows x 2 columns]"
      ]
     },
     "execution_count": 25,
     "metadata": {},
     "output_type": "execute_result"
    }
   ],
   "source": [
    "features_selected_corr"
   ]
  },
  {
   "cell_type": "code",
   "execution_count": 26,
   "id": "e928c876-48f4-48a7-9c4a-27833e491a82",
   "metadata": {},
   "outputs": [],
   "source": [
    " taget_predict=average_cluster_0['Electricity:Facility [kW](Hourly)'].copy()"
   ]
  },
  {
   "cell_type": "markdown",
   "id": "1fff6d13-3af5-4d21-8bfe-060831d15237",
   "metadata": {},
   "source": [
    "# Seleccion del modelo"
   ]
  },
  {
   "cell_type": "code",
   "execution_count": 27,
   "id": "8db868da-093c-4cbe-9e57-23a0ea03be86",
   "metadata": {},
   "outputs": [],
   "source": [
    "# Dividir los datos en conjuntos de entrenamiento y prueba\n",
    "X_train_corr, X_test_corr, y_train_corr, y_test_corr = train_test_split(features_selected_corr, taget_predict, test_size=0.2, random_state=42)"
   ]
  },
  {
   "cell_type": "code",
   "execution_count": 28,
   "id": "5f7f018d-8311-45e5-a0c0-d357d4db5697",
   "metadata": {},
   "outputs": [],
   "source": [
    "# Escalar las características\n",
    "scaler_corr = StandardScaler()\n",
    "X_train_scaled_corr = scaler_corr.fit_transform(X_train_corr)\n",
    "X_test_scaled_corr = scaler_corr.transform(X_test_corr)"
   ]
  },
  {
   "cell_type": "code",
   "execution_count": 29,
   "id": "47d7abc4-3ac5-48d8-a2ce-52ab57947c47",
   "metadata": {},
   "outputs": [],
   "source": [
    "# Definir los modelos\n",
    "models = {\n",
    "    \"Linear Regression\": LinearRegression(),\n",
    "    \"Stepwise Linear Regression\": Lasso(alpha=0.01),  # Utilizando Lasso como aproximación a la regresión paso a paso\n",
    "    \"Tree\": DecisionTreeRegressor(),\n",
    "    \"SVM\": SVR(kernel='rbf'),\n",
    "    \"Efficient Linear\": LinearRegression(),  # Utilizando Linear Regression como proxy\n",
    "    \"Ensemble\": VotingRegressor(estimators=[\n",
    "        ('lr', LinearRegression()),\n",
    "        ('dt', DecisionTreeRegressor()),\n",
    "        ('rf', RandomForestRegressor(n_estimators=100, random_state=42))\n",
    "    ]),\n",
    "    \"Random Forest\": RandomForestRegressor(n_estimators=100, random_state=42)\n",
    "}\n",
    "\n",
    "# Variables para almacenar resultados\n",
    "results = {}\n",
    "\n",
    "# Entrenar y evaluar cada modelo\n",
    "for model_name, model in models.items():\n",
    "    rmse, r2 = train_evaluate_model(model, X_train_scaled_corr, X_test_scaled_corr, y_train_corr, y_test_corr)\n",
    "    results[model_name] = {'RMSE': rmse, 'R2 Score': r2}"
   ]
  },
  {
   "cell_type": "code",
   "execution_count": 30,
   "id": "e8d92fe2-7521-400f-9973-ce813b01a430",
   "metadata": {},
   "outputs": [
    {
     "data": {
      "text/html": [
       "<div>\n",
       "<style scoped>\n",
       "    .dataframe tbody tr th:only-of-type {\n",
       "        vertical-align: middle;\n",
       "    }\n",
       "\n",
       "    .dataframe tbody tr th {\n",
       "        vertical-align: top;\n",
       "    }\n",
       "\n",
       "    .dataframe thead th {\n",
       "        text-align: right;\n",
       "    }\n",
       "</style>\n",
       "<table border=\"1\" class=\"dataframe\">\n",
       "  <thead>\n",
       "    <tr style=\"text-align: right;\">\n",
       "      <th></th>\n",
       "      <th>Linear Regression</th>\n",
       "      <th>Stepwise Linear Regression</th>\n",
       "      <th>Tree</th>\n",
       "      <th>SVM</th>\n",
       "      <th>Efficient Linear</th>\n",
       "      <th>Ensemble</th>\n",
       "      <th>Random Forest</th>\n",
       "    </tr>\n",
       "  </thead>\n",
       "  <tbody>\n",
       "    <tr>\n",
       "      <th>RMSE</th>\n",
       "      <td>46.102851</td>\n",
       "      <td>46.102868</td>\n",
       "      <td>38.623413</td>\n",
       "      <td>59.387889</td>\n",
       "      <td>46.102851</td>\n",
       "      <td>33.472479</td>\n",
       "      <td>32.645047</td>\n",
       "    </tr>\n",
       "    <tr>\n",
       "      <th>R2 Score</th>\n",
       "      <td>0.966148</td>\n",
       "      <td>0.966148</td>\n",
       "      <td>0.976241</td>\n",
       "      <td>0.943828</td>\n",
       "      <td>0.966148</td>\n",
       "      <td>0.982156</td>\n",
       "      <td>0.983027</td>\n",
       "    </tr>\n",
       "  </tbody>\n",
       "</table>\n",
       "</div>"
      ],
      "text/plain": [
       "          Linear Regression  Stepwise Linear Regression       Tree        SVM  \\\n",
       "RMSE              46.102851                   46.102868  38.623413  59.387889   \n",
       "R2 Score           0.966148                    0.966148   0.976241   0.943828   \n",
       "\n",
       "          Efficient Linear   Ensemble  Random Forest  \n",
       "RMSE             46.102851  33.472479      32.645047  \n",
       "R2 Score          0.966148   0.982156       0.983027  "
      ]
     },
     "execution_count": 30,
     "metadata": {},
     "output_type": "execute_result"
    }
   ],
   "source": [
    "# Convertir a DataFrame\n",
    "df_results = pd.DataFrame(results)\n",
    "df_results.head()"
   ]
  },
  {
   "cell_type": "code",
   "execution_count": 31,
   "id": "64021972-2632-4bd8-81d2-45279d3d69b9",
   "metadata": {},
   "outputs": [],
   "source": [
    "# Entrenar el modelo de Random Forest\n",
    "rf_model = RandomForestRegressor(n_estimators=100, random_state=42)\n",
    "rf_model.fit(X_train_scaled_corr, y_train_corr)\n",
    "\n",
    "# Evaluar el modelo de Random Forest\n",
    "rmse_train_rf, r2_train_rf = train_evaluate_model(rf_model, X_train_scaled_corr, X_train_scaled_corr, y_train_corr, y_train_corr)\n",
    "rmse_test_rf, r2_test_rf = train_evaluate_model(rf_model, X_train_scaled_corr, X_test_scaled_corr, y_train_corr, y_test_corr)\n",
    "\n",
    "# Resultados\n",
    "rf_results = {\n",
    "    \"Random Forest\": {\n",
    "        'RMSE Train': rmse_train_rf, \n",
    "        'R2 Train': r2_train_rf,\n",
    "        'RMSE Test': rmse_test_rf, \n",
    "        'R2 Test': r2_test_rf\n",
    "    }\n",
    "}"
   ]
  },
  {
   "cell_type": "code",
   "execution_count": 32,
   "id": "a09be69c-4128-4110-a749-f49d8fee42fa",
   "metadata": {},
   "outputs": [
    {
     "data": {
      "text/html": [
       "<div>\n",
       "<style scoped>\n",
       "    .dataframe tbody tr th:only-of-type {\n",
       "        vertical-align: middle;\n",
       "    }\n",
       "\n",
       "    .dataframe tbody tr th {\n",
       "        vertical-align: top;\n",
       "    }\n",
       "\n",
       "    .dataframe thead th {\n",
       "        text-align: right;\n",
       "    }\n",
       "</style>\n",
       "<table border=\"1\" class=\"dataframe\">\n",
       "  <thead>\n",
       "    <tr style=\"text-align: right;\">\n",
       "      <th></th>\n",
       "      <th>Random Forest</th>\n",
       "    </tr>\n",
       "  </thead>\n",
       "  <tbody>\n",
       "    <tr>\n",
       "      <th>R2 Test</th>\n",
       "      <td>0.983027</td>\n",
       "    </tr>\n",
       "    <tr>\n",
       "      <th>R2 Train</th>\n",
       "      <td>0.997353</td>\n",
       "    </tr>\n",
       "    <tr>\n",
       "      <th>RMSE Test</th>\n",
       "      <td>32.645047</td>\n",
       "    </tr>\n",
       "    <tr>\n",
       "      <th>RMSE Train</th>\n",
       "      <td>12.682312</td>\n",
       "    </tr>\n",
       "  </tbody>\n",
       "</table>\n",
       "</div>"
      ],
      "text/plain": [
       "            Random Forest\n",
       "R2 Test          0.983027\n",
       "R2 Train         0.997353\n",
       "RMSE Test       32.645047\n",
       "RMSE Train      12.682312"
      ]
     },
     "execution_count": 32,
     "metadata": {},
     "output_type": "execute_result"
    }
   ],
   "source": [
    "# Convertir a DataFrame y verificar overfitting\n",
    "df_overfitting_results= pd.DataFrame(rf_results)\n",
    "df_overfitting_results.head()"
   ]
  },
  {
   "cell_type": "markdown",
   "id": "b57fa81f-27be-4140-b4fc-cd97f77acfed",
   "metadata": {},
   "source": [
    "# Mejorar hiperparametros"
   ]
  },
  {
   "cell_type": "code",
   "execution_count": 72,
   "id": "c0665f32-b66a-4075-a8d9-5407e2928990",
   "metadata": {},
   "outputs": [
    {
     "name": "stdout",
     "output_type": "stream",
     "text": [
      "Fitting 3 folds for each of 216 candidates, totalling 648 fits\n"
     ]
    }
   ],
   "source": [
    "# Definir el espacio de búsqueda de hiperparámetros\n",
    "param_grid = {\n",
    "    'n_estimators': [50, 100, 200],\n",
    "    'max_depth': [None, 10, 20, 30],\n",
    "    'min_samples_split': [2, 5, 10],\n",
    "    'min_samples_leaf': [1, 2, 4],\n",
    "    'bootstrap': [True, False]\n",
    "}\n",
    "\n",
    "# Configurar GridSearchCV\n",
    "grid_search = GridSearchCV(estimator=RandomForestRegressor(random_state=42),\n",
    "                           param_grid=param_grid,\n",
    "                           cv=3,  # Validación cruzada de 3 pliegues\n",
    "                           n_jobs=-1,  # Usar todos los núcleos disponibles\n",
    "                           scoring='neg_root_mean_squared_error',  # Usar RMSE\n",
    "                           verbose=2)\n",
    "\n",
    "# Realizar la búsqueda en cuadrícula\n",
    "grid_search.fit(X_train_scaled_corr, y_train_corr)\n",
    "\n",
    "# Obtener los mejores hiperparámetros\n",
    "best_params = grid_search.best_params_"
   ]
  },
  {
   "cell_type": "code",
   "execution_count": 73,
   "id": "8e12d6f2-65cb-47a2-9984-5792b29689ea",
   "metadata": {},
   "outputs": [
    {
     "data": {
      "text/plain": [
       "{'bootstrap': True,\n",
       " 'max_depth': 10,\n",
       " 'min_samples_leaf': 1,\n",
       " 'min_samples_split': 10,\n",
       " 'n_estimators': 200}"
      ]
     },
     "execution_count": 73,
     "metadata": {},
     "output_type": "execute_result"
    }
   ],
   "source": [
    "print(\"Mejores hiperparámetros:\", best_params)"
   ]
  },
  {
   "cell_type": "code",
   "execution_count": 74,
   "id": "e2d44881-e0a6-4d0d-90c0-f16307e0fc1f",
   "metadata": {},
   "outputs": [],
   "source": [
    "# Entrenar el modelo con los mejores hiperparámetros\n",
    "optimized_rf_model = RandomForestRegressor(**best_params, random_state=42)\n",
    "optimized_rf_model.fit(X_train_scaled_corr, y_train_corr)\n",
    "\n",
    "# Evaluar el modelo optimizado\n",
    "rmse_train_opt = np.sqrt(mean_squared_error(y_train_corr, optimized_rf_model.predict(X_train_scaled_corr)))\n",
    "r2_train_opt = r2_score(y_train_corr, optimized_rf_model.predict(X_train_scaled_corr))\n",
    "\n",
    "rmse_test_opt = np.sqrt(mean_squared_error(y_test_corr, optimized_rf_model.predict(X_test_scaled_corr)))\n",
    "r2_test_opt = r2_score(y_test_corr, optimized_rf_model.predict(X_test_scaled_corr))\n",
    "\n",
    "# Resultados\n",
    "optimized_rf_results = {\n",
    "    \"Optimized Random Forest\": {\n",
    "        'RMSE Train': rmse_train_opt,\n",
    "        'R2 Train': r2_train_opt,\n",
    "        'RMSE Test': rmse_test_opt,\n",
    "        'R2 Test': r2_test_opt\n",
    "    }\n",
    "}"
   ]
  },
  {
   "cell_type": "code",
   "execution_count": 75,
   "id": "d1817bd9-d789-4771-b790-cc9aaed41db8",
   "metadata": {},
   "outputs": [
    {
     "data": {
      "text/html": [
       "<div>\n",
       "<style scoped>\n",
       "    .dataframe tbody tr th:only-of-type {\n",
       "        vertical-align: middle;\n",
       "    }\n",
       "\n",
       "    .dataframe tbody tr th {\n",
       "        vertical-align: top;\n",
       "    }\n",
       "\n",
       "    .dataframe thead th {\n",
       "        text-align: right;\n",
       "    }\n",
       "</style>\n",
       "<table border=\"1\" class=\"dataframe\">\n",
       "  <thead>\n",
       "    <tr style=\"text-align: right;\">\n",
       "      <th></th>\n",
       "      <th>Optimized Random Forest</th>\n",
       "    </tr>\n",
       "  </thead>\n",
       "  <tbody>\n",
       "    <tr>\n",
       "      <th>MSE Test</th>\n",
       "      <td>785.432142</td>\n",
       "    </tr>\n",
       "    <tr>\n",
       "      <th>MSE Train</th>\n",
       "      <td>625.202914</td>\n",
       "    </tr>\n",
       "    <tr>\n",
       "      <th>R2 Test</th>\n",
       "      <td>0.987491</td>\n",
       "    </tr>\n",
       "    <tr>\n",
       "      <th>R2 Train</th>\n",
       "      <td>0.989711</td>\n",
       "    </tr>\n",
       "  </tbody>\n",
       "</table>\n",
       "</div>"
      ],
      "text/plain": [
       "           Optimized Random Forest\n",
       "MSE Test                785.432142\n",
       "MSE Train               625.202914\n",
       "R2 Test                   0.987491\n",
       "R2 Train                  0.989711"
      ]
     },
     "execution_count": 75,
     "metadata": {},
     "output_type": "execute_result"
    }
   ],
   "source": [
    "# Mostrar los resultados\n",
    "print(\"Resultados del modelo Random Forest optimizado:\")\n",
    "optimized_rf_results_df=pd.DataFrame(optimized_rf_results)\n",
    "optimized_rf_results_df"
   ]
  },
  {
   "cell_type": "code",
   "execution_count": null,
   "id": "5fa04289-5b38-4865-9b14-6e1feb07728b",
   "metadata": {},
   "outputs": [],
   "source": []
  },
  {
   "cell_type": "code",
   "execution_count": null,
   "id": "0a48ddad-4e79-4223-ae82-3bfa2b72440a",
   "metadata": {},
   "outputs": [],
   "source": []
  },
  {
   "cell_type": "code",
   "execution_count": null,
   "id": "76cde6bd-6f11-41a7-a600-194d01c70a25",
   "metadata": {},
   "outputs": [],
   "source": []
  }
 ],
 "metadata": {
  "kernelspec": {
   "display_name": "Python 3 (ipykernel)",
   "language": "python",
   "name": "python3"
  },
  "language_info": {
   "codemirror_mode": {
    "name": "ipython",
    "version": 3
   },
   "file_extension": ".py",
   "mimetype": "text/x-python",
   "name": "python",
   "nbconvert_exporter": "python",
   "pygments_lexer": "ipython3",
   "version": "3.11.9"
  }
 },
 "nbformat": 4,
 "nbformat_minor": 5
}
