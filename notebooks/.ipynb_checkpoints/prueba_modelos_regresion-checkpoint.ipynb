{
 "cells": [
  {
   "cell_type": "code",
   "execution_count": 1,
   "id": "21aca410-aaf7-4aa0-96d9-33802fc38178",
   "metadata": {},
   "outputs": [],
   "source": [
    "import numpy as np\n",
    "import matplotlib.pyplot as plt\n",
    "import matplotlib as mpl\n",
    "import pandas as pd\n",
    "import seaborn as sns\n",
    "from statsmodels.stats.outliers_influence import variance_inflation_factor\n",
    "from sklearn.model_selection import train_test_split\n",
    "from sklearn.preprocessing import StandardScaler\n",
    "from sklearn.linear_model import LinearRegression, Lasso\n",
    "from sklearn.tree import DecisionTreeRegressor\n",
    "from sklearn.svm import SVR\n",
    "from sklearn.ensemble import RandomForestRegressor, VotingRegressor\n",
    "from sklearn.metrics import mean_squared_error, r2_score\n",
    "from sklearn.model_selection import GridSearchCV\n",
    "from joblib import load\n",
    "import os\n",
    "import re"
   ]
  },
  {
   "cell_type": "markdown",
   "id": "acf3d9a9-e8c2-4b5b-abe5-1e596bf88218",
   "metadata": {},
   "source": [
    "## IMPORTAR MODELOS DE REGRESION ENTRENADOS"
   ]
  },
  {
   "cell_type": "code",
   "execution_count": 2,
   "id": "3e120117-3f23-44fc-bb0d-2c0a99a7e51d",
   "metadata": {},
   "outputs": [],
   "source": [
    "# average_cluster_0=pd.read_csv(\"../data/interim/series_cluster_0.csv\",parse_dates=[\"Date/Time\"],index_col=\"Date/Time\")\n",
    "# average_cluster_1=pd.read_csv(\"../data/interim/series_cluster_1.csv\",parse_dates=[\"Date/Time\"],index_col=\"Date/Time\")\n",
    "# average_cluster_2=pd.read_csv(\"../data/interim/series_cluster_2.csv\",parse_dates=[\"Date/Time\"],index_col=\"Date/Time\")\n",
    "# average_cluster_3=pd.read_csv(\"../data/interim/series_cluster_3.csv\",parse_dates=[\"Date/Time\"],index_col=\"Date/Time\")"
   ]
  },
  {
   "cell_type": "code",
   "execution_count": 3,
   "id": "e345789c-1231-458c-9932-45034c20148e",
   "metadata": {},
   "outputs": [],
   "source": [
    "# closest_cluster_0=pd.read_csv(\"../data/interim/without_closest_cluster_0.csv\",parse_dates=[\"Date/Time\"],index_col=\"Date/Time\")\n",
    "# closest_cluster_1=pd.read_csv(\"../data/interim/without_closest_cluster_1.csv\",parse_dates=[\"Date/Time\"],index_col=\"Date/Time\")\n",
    "# closest_cluster_2=pd.read_csv(\"../data/interim/without_closest_cluster_2.csv\",parse_dates=[\"Date/Time\"],index_col=\"Date/Time\")\n",
    "# closest_cluster_3=pd.read_csv(\"../data/interim/without_closest_cluster_3.csv\",parse_dates=[\"Date/Time\"],index_col=\"Date/Time\")"
   ]
  },
  {
   "cell_type": "code",
   "execution_count": 4,
   "id": "524f0b45-f6b0-426f-8775-ff01e51369ef",
   "metadata": {},
   "outputs": [],
   "source": [
    "modelo_average_cluster_0= load('../models/modelo_average_cluster_0.joblib')\n",
    "scaler_average_cluster_0= load('../models/scaler_average_cluster_0.joblib')\n",
    "modelo_average_cluster_1= load('../models/modelo_average_cluster_1.joblib')\n",
    "scaler_average_cluster_1= load('../models/scaler_average_cluster_1.joblib')\n",
    "modelo_average_cluster_2= load('../models/modelo_average_cluster_2.joblib')\n",
    "scaler_average_cluster_2= load('../models/scaler_average_cluster_2.joblib')\n",
    "modelo_average_cluster_3= load('../models/modelo_average_cluster_3.joblib')\n",
    "scaler_average_cluster_3= load('../models/scaler_average_cluster_3.joblib')"
   ]
  },
  {
   "cell_type": "code",
   "execution_count": 5,
   "id": "55a4efec-779c-4081-8c93-133854fccd90",
   "metadata": {},
   "outputs": [],
   "source": [
    "modelo_closest_cluster_0= load('../models/modelo_closest_cluster_0.joblib')\n",
    "scaler_closest_cluster_0= load('../models/scaler_closest_cluster_0.joblib')\n",
    "modelo_closest_cluster_1= load('../models/modelo_closest_cluster_1.joblib')\n",
    "scaler_closest_cluster_1= load('../models/scaler_closest_cluster_1.joblib')\n",
    "modelo_closest_cluster_2= load('../models/modelo_closest_cluster_2.joblib')\n",
    "scaler_closest_cluster_2= load('../models/scaler_closest_cluster_2.joblib')\n",
    "modelo_closest_cluster_3= load('../models/modelo_closest_cluster_3.joblib')\n",
    "scaler_closest_cluster_3= load('../models/scaler_closest_cluster_3.joblib')"
   ]
  },
  {
   "cell_type": "markdown",
   "id": "673a3da1-d5c5-4906-9c25-94385fb60adf",
   "metadata": {},
   "source": [
    "## IMPORTAR DATOS PARA LAS PRUEBAS"
   ]
  },
  {
   "cell_type": "code",
   "execution_count": 6,
   "id": "388dfb54-11e3-4614-8261-eee0d8a0ea16",
   "metadata": {},
   "outputs": [],
   "source": [
    "# Especifica el directorio donde están los archivos CSV\n",
    "carpeta =\"../data/raw/\"\n",
    "# Obtén la lista de todos los archivos en la carpeta\n",
    "archivos = os.listdir(carpeta)\n",
    "# Define the columns to keep\n",
    "columns_to_keep = [\n",
    "    'Date/Time',\n",
    "    'Electricity:Facility [kW](Hourly)',\n",
    "    'Fans:Electricity [kW](Hourly)',\n",
    "    'Cooling:Electricity [kW](Hourly)',\n",
    "    'Heating:Electricity [kW](Hourly)',\n",
    "    'InteriorLights:Electricity [kW](Hourly)',\n",
    "    'InteriorEquipment:Electricity [kW](Hourly)'\n",
    "]\n",
    "# Load and concatenate data from all files\n",
    "dfs = []\n",
    "for file in archivos:\n",
    "    df = pd.read_csv(f\"../data/raw/{file}\", usecols=columns_to_keep)\n",
    "    df[\"Date/Time\"] = '2004 ' + df[\"Date/Time\"]\n",
    "    date_format = '%Y %m/%d %H:%M:%S'\n",
    "    df[\"Date/Time\"] = pd.to_datetime(df[\"Date/Time\"], format=date_format, errors='coerce')\n",
    "    match = re.match(r'^[^_]+', file)\n",
    "    name = match.group(0)\n",
    "    df[\"type_building\"] = name\n",
    "    dfs.append(df)"
   ]
  },
  {
   "cell_type": "code",
   "execution_count": 7,
   "id": "a41a2bd7-cb2e-4652-9167-27a7c03c49ae",
   "metadata": {},
   "outputs": [],
   "source": [
    "#se extraen los datos clusterizados\n",
    "data_clustered=pd.read_csv(\"../data/interim/clustering_pca.csv\")"
   ]
  },
  {
   "cell_type": "code",
   "execution_count": 8,
   "id": "02318857-29ee-4af9-8d9b-7778c18ce3b8",
   "metadata": {},
   "outputs": [
    {
     "data": {
      "text/html": [
       "<div>\n",
       "<style scoped>\n",
       "    .dataframe tbody tr th:only-of-type {\n",
       "        vertical-align: middle;\n",
       "    }\n",
       "\n",
       "    .dataframe tbody tr th {\n",
       "        vertical-align: top;\n",
       "    }\n",
       "\n",
       "    .dataframe thead th {\n",
       "        text-align: right;\n",
       "    }\n",
       "</style>\n",
       "<table border=\"1\" class=\"dataframe\">\n",
       "  <thead>\n",
       "    <tr style=\"text-align: right;\">\n",
       "      <th></th>\n",
       "      <th>indice_closest</th>\n",
       "      <th>PC1</th>\n",
       "      <th>PC2</th>\n",
       "      <th>PC3</th>\n",
       "      <th>Cluster_KMeans</th>\n",
       "      <th>Cluster_DBSCAN</th>\n",
       "      <th>Cluster_Hierarchical</th>\n",
       "    </tr>\n",
       "  </thead>\n",
       "  <tbody>\n",
       "    <tr>\n",
       "      <th>0</th>\n",
       "      <td>67</td>\n",
       "      <td>-1.122322</td>\n",
       "      <td>-0.026253</td>\n",
       "      <td>0.075707</td>\n",
       "      <td>0</td>\n",
       "      <td>10</td>\n",
       "      <td>0</td>\n",
       "    </tr>\n",
       "    <tr>\n",
       "      <th>1</th>\n",
       "      <td>15</td>\n",
       "      <td>4.515147</td>\n",
       "      <td>1.414719</td>\n",
       "      <td>-1.786065</td>\n",
       "      <td>1</td>\n",
       "      <td>-1</td>\n",
       "      <td>1</td>\n",
       "    </tr>\n",
       "    <tr>\n",
       "      <th>2</th>\n",
       "      <td>5</td>\n",
       "      <td>5.561883</td>\n",
       "      <td>-2.633525</td>\n",
       "      <td>0.505042</td>\n",
       "      <td>2</td>\n",
       "      <td>-1</td>\n",
       "      <td>2</td>\n",
       "    </tr>\n",
       "    <tr>\n",
       "      <th>3</th>\n",
       "      <td>45</td>\n",
       "      <td>2.758477</td>\n",
       "      <td>2.785423</td>\n",
       "      <td>1.366780</td>\n",
       "      <td>1</td>\n",
       "      <td>-1</td>\n",
       "      <td>3</td>\n",
       "    </tr>\n",
       "  </tbody>\n",
       "</table>\n",
       "</div>"
      ],
      "text/plain": [
       "   indice_closest       PC1       PC2       PC3  Cluster_KMeans  \\\n",
       "0              67 -1.122322 -0.026253  0.075707               0   \n",
       "1              15  4.515147  1.414719 -1.786065               1   \n",
       "2               5  5.561883 -2.633525  0.505042               2   \n",
       "3              45  2.758477  2.785423  1.366780               1   \n",
       "\n",
       "   Cluster_DBSCAN  Cluster_Hierarchical  \n",
       "0              10                     0  \n",
       "1              -1                     1  \n",
       "2              -1                     2  \n",
       "3              -1                     3  "
      ]
     },
     "execution_count": 8,
     "metadata": {},
     "output_type": "execute_result"
    }
   ],
   "source": [
    "#se cargan los datos mas cercanos a los clusters\n",
    "closest_points_data=pd.read_csv(\"../data/interim/closest_points.csv\")\n",
    "closest_points_data=closest_points_data.rename(columns={\"Unnamed: 0\":\"indice_closest\"})\n",
    "closest_points_data"
   ]
  },
  {
   "cell_type": "code",
   "execution_count": 9,
   "id": "a5964b8a-6e07-44e2-a456-162897219a6a",
   "metadata": {},
   "outputs": [],
   "source": [
    "#OBTENER LAS SERIES MAS CERCANAS PARA CADA CLUSTER\n",
    "indices_clusters=closest_points_data.indice_closest.unique().tolist()\n",
    "closest_series=[]\n",
    "for indice in indices_clusters:\n",
    "    closest_series.append(dfs[indice])"
   ]
  },
  {
   "cell_type": "markdown",
   "id": "fda0758e-d0c9-4992-a79a-ff2c730d08d9",
   "metadata": {},
   "source": [
    "### OBTENER DATOS DE PRUEBA PARA LOS MODELOS ENTRENADOS CON LAS SERIE PROMEDIO DE CADA CLUSTER "
   ]
  },
  {
   "cell_type": "code",
   "execution_count": 10,
   "id": "7a5877cb-b4ec-4bfc-8cc6-e531a8c5ea15",
   "metadata": {},
   "outputs": [],
   "source": [
    "# Agrupar dataframes por cluster\n",
    "clusters = data_clustered['Cluster_Hierarchical'].unique()\n",
    "average_dfs = {cluster: [] for cluster in clusters}\n",
    "\n",
    "for i, df in enumerate(dfs):\n",
    "    cluster = data_clustered.loc[i, 'Cluster_Hierarchical']\n",
    "    average_dfs[cluster].append(df)"
   ]
  },
  {
   "cell_type": "markdown",
   "id": "460dfadb-e567-40c8-ac37-bc16e7bfcb34",
   "metadata": {},
   "source": [
    "### OBTENER DATOS DE PRUEBA PARA LOS MODELOS ENTRENADOS CON LAS SERIE MAS CERCANA DE CADA CLUSTER "
   ]
  },
  {
   "cell_type": "code",
   "execution_count": 11,
   "id": "91624125-e79e-4bc6-b39b-2aa70bf04f9e",
   "metadata": {},
   "outputs": [],
   "source": [
    "indices_clusters = closest_points_data.indice_closest.unique().tolist()\n",
    "\n",
    "# Filtrar la lista de DataFrames eliminando aquellos en los índices de indices_clusters\n",
    "dfs_actualizados = [df for i, df in enumerate(dfs) if i not in indices_clusters]"
   ]
  },
  {
   "cell_type": "code",
   "execution_count": 12,
   "id": "17c78211-eafa-4a32-b5d7-ef27e7ad6907",
   "metadata": {},
   "outputs": [],
   "source": [
    "# Agrupar dataframes por cluster\n",
    "clusters = data_clustered['Cluster_Hierarchical'].unique()\n",
    "closest_dfs = {cluster: [] for cluster in clusters}\n",
    "\n",
    "for i, df in enumerate(dfs_actualizados):\n",
    "    cluster = data_clustered.loc[i, 'Cluster_Hierarchical']\n",
    "    closest_dfs[cluster].append(df)"
   ]
  },
  {
   "cell_type": "markdown",
   "id": "510142ef-7dea-4de5-8304-4ba09bfff4bf",
   "metadata": {},
   "source": [
    "# PRUEBAS CLUSTER 0"
   ]
  },
  {
   "cell_type": "markdown",
   "id": "a383c2a8-99a0-4166-97b1-73c5a50db4ad",
   "metadata": {},
   "source": [
    "## closest"
   ]
  },
  {
   "cell_type": "code",
   "execution_count": 16,
   "id": "0f073f55-9e4e-421c-8f83-26a42dae0917",
   "metadata": {},
   "outputs": [],
   "source": [
    "# Inicializar variables para acumular resultados\n",
    "rmse_list = []\n",
    "r2_list = []\n",
    "# Lista de columnas para análisis\n",
    "columnas = ['Fans:Electricity [kW](Hourly)', 'Cooling:Electricity [kW](Hourly)',\n",
    "       'InteriorLights:Electricity [kW](Hourly)',\n",
    "       'InteriorEquipment:Electricity [kW](Hourly)', 'hour', 'day_of_week',\n",
    "       'month']\n",
    "\n",
    "for df_serie in closest_dfs[0]:\n",
    "    df=df_serie.copy()\n",
    "    df[\"Date/Time\"]=pd.to_datetime(df[\"Date/Time\"])\n",
    "    df.set_index(\"Date/Time\",inplace=True)\n",
    "    # Extraer características temporales\n",
    "    df['hour'] = df.index.hour\n",
    "    df['day_of_week'] = df.index.dayofweek\n",
    "    df['month'] = df.index.month\n",
    "    \n",
    "    X = df.loc[:, columnas].copy()\n",
    "    y = df.loc[:, 'Electricity:Facility [kW](Hourly)'].copy()\n",
    "    \n",
    "    # Escalar las características\n",
    "    X_scaled = scaler_closest_cluster_0.transform(X)\n",
    "    \n",
    "    # Predecir y calcular métricas de error\n",
    "    y_pred = modelo_closest_cluster_0.predict(X_scaled)\n",
    "    rmse = np.sqrt(mean_squared_error(y, y_pred))\n",
    "    r2 = r2_score(y, y_pred)\n",
    "    \n",
    "    # Almacenar resultados\n",
    "    rmse_list.append(rmse)\n",
    "    r2_list.append(r2)\n",
    "\n",
    "# Calcular promedios de las métricas de error\n",
    "average_rmse = np.mean(rmse_list)\n",
    "average_r2 = np.mean(r2_list)\n",
    "\n",
    "# Resultados\n",
    "results = {\n",
    "    \"Optimized Random Forest\": {\n",
    "        'Average RMSE': average_rmse}\n",
    "}\n"
   ]
  },
  {
   "cell_type": "code",
   "execution_count": 17,
   "id": "5db688a5-f1e4-463a-8240-8c11dc8e2d14",
   "metadata": {},
   "outputs": [
    {
     "name": "stdout",
     "output_type": "stream",
     "text": [
      "Resultados del modelo:\n"
     ]
    },
    {
     "data": {
      "text/html": [
       "<div>\n",
       "<style scoped>\n",
       "    .dataframe tbody tr th:only-of-type {\n",
       "        vertical-align: middle;\n",
       "    }\n",
       "\n",
       "    .dataframe tbody tr th {\n",
       "        vertical-align: top;\n",
       "    }\n",
       "\n",
       "    .dataframe thead th {\n",
       "        text-align: right;\n",
       "    }\n",
       "</style>\n",
       "<table border=\"1\" class=\"dataframe\">\n",
       "  <thead>\n",
       "    <tr style=\"text-align: right;\">\n",
       "      <th></th>\n",
       "      <th>Optimized Random Forest</th>\n",
       "    </tr>\n",
       "  </thead>\n",
       "  <tbody>\n",
       "    <tr>\n",
       "      <th>Average RMSE</th>\n",
       "      <td>76.949376</td>\n",
       "    </tr>\n",
       "  </tbody>\n",
       "</table>\n",
       "</div>"
      ],
      "text/plain": [
       "              Optimized Random Forest\n",
       "Average RMSE                76.949376"
      ]
     },
     "execution_count": 17,
     "metadata": {},
     "output_type": "execute_result"
    }
   ],
   "source": [
    "# Mostrar los resultados\n",
    "print(\"Resultados del modelo:\")\n",
    "optimized_rf_results_df=pd.DataFrame(results)\n",
    "optimized_rf_results_df"
   ]
  },
  {
   "cell_type": "markdown",
   "id": "2eb00c65-397c-4d40-be06-582a65b06c9e",
   "metadata": {},
   "source": [
    "## Average"
   ]
  },
  {
   "cell_type": "code",
   "execution_count": 18,
   "id": "dabbbe5a-f44c-4b3d-a8bb-68d610b27693",
   "metadata": {},
   "outputs": [],
   "source": [
    "# Inicializar variables para acumular resultados\n",
    "rmse_list = []\n",
    "r2_list = []"
   ]
  },
  {
   "cell_type": "code",
   "execution_count": 20,
   "id": "d40a201d-921e-49a5-9936-c4e27b64bb99",
   "metadata": {},
   "outputs": [],
   "source": [
    "# Lista de columnas para análisis\n",
    "columnas = ['Cooling:Electricity [kW](Hourly)', 'Heating:Electricity [kW](Hourly)',\n",
    "       'InteriorLights:Electricity [kW](Hourly)', 'hour', 'day_of_week',\n",
    "       'month']\n",
    "for df_serie in average_dfs[0]:\n",
    "    df=df_serie.copy()\n",
    "    df[\"Date/Time\"]=pd.to_datetime(df[\"Date/Time\"])\n",
    "    df.set_index(\"Date/Time\",inplace=True)\n",
    "    # Extraer características temporales\n",
    "    df['hour'] = df.index.hour\n",
    "    df['day_of_week'] = df.index.dayofweek\n",
    "    df['month'] = df.index.month\n",
    "    df.dropna(inplace=True)\n",
    "    X = df.loc[:, columnas].copy()\n",
    "    y = df.loc[:, 'Electricity:Facility [kW](Hourly)'].copy()\n",
    "    \n",
    "    # Escalar las características\n",
    "    X_scaled = scaler_average_cluster_0.transform(X)\n",
    "    \n",
    "    # Predecir y calcular métricas de error\n",
    "    y_pred = modelo_average_cluster_0.predict(X_scaled)\n",
    "    rmse = np.sqrt(mean_squared_error(y, y_pred))\n",
    "    r2 = r2_score(y, y_pred)\n",
    "    \n",
    "    # Almacenar resultados\n",
    "    rmse_list.append(rmse)\n",
    "    r2_list.append(r2)\n",
    "\n",
    "# Calcular promedios de las métricas de error\n",
    "average_rmse = np.mean(rmse_list)\n",
    "average_r2 = np.mean(r2_list)\n",
    "\n",
    "# Resultados\n",
    "results = {\n",
    "    \"Optimized Random Forest\": {\n",
    "        'Average RMSE': average_rmse\n",
    "    }\n",
    "}\n"
   ]
  },
  {
   "cell_type": "code",
   "execution_count": 21,
   "id": "5d929785-7e0a-42b9-9049-77a968643c89",
   "metadata": {},
   "outputs": [
    {
     "name": "stdout",
     "output_type": "stream",
     "text": [
      "Resultados del modelo:\n"
     ]
    },
    {
     "data": {
      "text/html": [
       "<div>\n",
       "<style scoped>\n",
       "    .dataframe tbody tr th:only-of-type {\n",
       "        vertical-align: middle;\n",
       "    }\n",
       "\n",
       "    .dataframe tbody tr th {\n",
       "        vertical-align: top;\n",
       "    }\n",
       "\n",
       "    .dataframe thead th {\n",
       "        text-align: right;\n",
       "    }\n",
       "</style>\n",
       "<table border=\"1\" class=\"dataframe\">\n",
       "  <thead>\n",
       "    <tr style=\"text-align: right;\">\n",
       "      <th></th>\n",
       "      <th>Optimized Random Forest</th>\n",
       "    </tr>\n",
       "  </thead>\n",
       "  <tbody>\n",
       "    <tr>\n",
       "      <th>Average RMSE</th>\n",
       "      <td>51.44925</td>\n",
       "    </tr>\n",
       "  </tbody>\n",
       "</table>\n",
       "</div>"
      ],
      "text/plain": [
       "              Optimized Random Forest\n",
       "Average RMSE                 51.44925"
      ]
     },
     "execution_count": 21,
     "metadata": {},
     "output_type": "execute_result"
    }
   ],
   "source": [
    "# Mostrar los resultados\n",
    "print(\"Resultados del modelo:\")\n",
    "optimized_rf_results_df=pd.DataFrame(results)\n",
    "optimized_rf_results_df"
   ]
  },
  {
   "cell_type": "markdown",
   "id": "739bcba1-4be7-478d-ae78-029e3892f9f3",
   "metadata": {},
   "source": [
    "# PRUEBAS CLUSTER 1"
   ]
  },
  {
   "cell_type": "markdown",
   "id": "6fabe08e-7cdc-429e-9f6a-d1a912ee7056",
   "metadata": {},
   "source": [
    "## closest"
   ]
  },
  {
   "cell_type": "code",
   "execution_count": 22,
   "id": "6707bade-8f4d-424d-9d7f-dc1f9dccfe91",
   "metadata": {},
   "outputs": [],
   "source": [
    "# Lista de columnas para análisis\n",
    "columnas = ['Fans:Electricity [kW](Hourly)', 'Cooling:Electricity [kW](Hourly)',\n",
    "       'InteriorLights:Electricity [kW](Hourly)',\n",
    "       'InteriorEquipment:Electricity [kW](Hourly)', 'hour', 'day_of_week',\n",
    "       'month']\n",
    "# Inicializar variables para acumular resultados\n",
    "rmse_list = []\n",
    "r2_list = []\n",
    "for df_serie in closest_dfs[1]:\n",
    "    df=df_serie.copy()\n",
    "    df[\"Date/Time\"]=pd.to_datetime(df[\"Date/Time\"])\n",
    "    df.set_index(\"Date/Time\",inplace=True)\n",
    "    # Extraer características temporales\n",
    "    df['hour'] = df.index.hour\n",
    "    df['day_of_week'] = df.index.dayofweek\n",
    "    df['month'] = df.index.month\n",
    "    \n",
    "    X = df.loc[:, columnas].copy()\n",
    "    y = df.loc[:, 'Electricity:Facility [kW](Hourly)'].copy()\n",
    "    \n",
    "    # Escalar las características\n",
    "    X_scaled = scaler_closest_cluster_1.transform(X)\n",
    "    \n",
    "    # Predecir y calcular métricas de error\n",
    "    y_pred = modelo_closest_cluster_1.predict(X_scaled)\n",
    "    rmse = np.sqrt(mean_squared_error(y, y_pred))\n",
    "    r2 = r2_score(y, y_pred)\n",
    "    \n",
    "    # Almacenar resultados\n",
    "    rmse_list.append(rmse)\n",
    "    r2_list.append(r2)\n",
    "\n",
    "# Calcular promedios de las métricas de error\n",
    "average_rmse = np.mean(rmse_list)\n",
    "average_r2 = np.mean(r2_list)\n",
    "\n",
    "# Resultados\n",
    "results = {\n",
    "    \"Optimized Random Forest\": {\n",
    "        'Average RMSE': average_rmse\n",
    "    }\n",
    "}"
   ]
  },
  {
   "cell_type": "code",
   "execution_count": 23,
   "id": "dccad079-213f-4c2e-b527-71c05b3e700c",
   "metadata": {},
   "outputs": [
    {
     "name": "stdout",
     "output_type": "stream",
     "text": [
      "Resultados del modelo Random Forest optimizado:\n"
     ]
    },
    {
     "data": {
      "text/html": [
       "<div>\n",
       "<style scoped>\n",
       "    .dataframe tbody tr th:only-of-type {\n",
       "        vertical-align: middle;\n",
       "    }\n",
       "\n",
       "    .dataframe tbody tr th {\n",
       "        vertical-align: top;\n",
       "    }\n",
       "\n",
       "    .dataframe thead th {\n",
       "        text-align: right;\n",
       "    }\n",
       "</style>\n",
       "<table border=\"1\" class=\"dataframe\">\n",
       "  <thead>\n",
       "    <tr style=\"text-align: right;\">\n",
       "      <th></th>\n",
       "      <th>Optimized Random Forest</th>\n",
       "    </tr>\n",
       "  </thead>\n",
       "  <tbody>\n",
       "    <tr>\n",
       "      <th>Average RMSE</th>\n",
       "      <td>101.841944</td>\n",
       "    </tr>\n",
       "  </tbody>\n",
       "</table>\n",
       "</div>"
      ],
      "text/plain": [
       "              Optimized Random Forest\n",
       "Average RMSE               101.841944"
      ]
     },
     "execution_count": 23,
     "metadata": {},
     "output_type": "execute_result"
    }
   ],
   "source": [
    "# Mostrar los resultados\n",
    "print(\"Resultados del modelo Random Forest optimizado:\")\n",
    "optimized_rf_results_df=pd.DataFrame(results)\n",
    "optimized_rf_results_df"
   ]
  },
  {
   "cell_type": "markdown",
   "id": "75a36d25-d77b-4b9f-b0ed-882d3d138fbb",
   "metadata": {},
   "source": [
    "## Average"
   ]
  },
  {
   "cell_type": "code",
   "execution_count": 24,
   "id": "c4175185-5e96-4551-bc85-c15ecb6d9641",
   "metadata": {},
   "outputs": [],
   "source": [
    "# Lista de columnas para análisis\n",
    "columnas = ['Fans:Electricity [kW](Hourly)', 'Cooling:Electricity [kW](Hourly)',\n",
    "       'InteriorLights:Electricity [kW](Hourly)',\n",
    "       'InteriorEquipment:Electricity [kW](Hourly)', 'hour', 'day_of_week',\n",
    "       'month']\n",
    "# Inicializar variables para acumular resultados\n",
    "rmse_list = []\n",
    "r2_list = []\n",
    "for df_serie in average_dfs[1]:\n",
    "    df=df_serie.copy()\n",
    "    df[\"Date/Time\"]=pd.to_datetime(df[\"Date/Time\"])\n",
    "    df.set_index(\"Date/Time\",inplace=True)\n",
    "    # Extraer características temporales\n",
    "    df['hour'] = df.index.hour\n",
    "    df['day_of_week'] = df.index.dayofweek\n",
    "    df['month'] = df.index.month\n",
    "    \n",
    "    X = df.loc[:, columnas].copy()\n",
    "    y = df.loc[:, 'Electricity:Facility [kW](Hourly)'].copy()\n",
    "    \n",
    "    # Escalar las características\n",
    "    X_scaled = scaler_average_cluster_1.transform(X)\n",
    "    \n",
    "    # Predecir y calcular métricas de error\n",
    "    y_pred = modelo_average_cluster_1.predict(X_scaled)\n",
    "    rmse = np.sqrt(mean_squared_error(y, y_pred))\n",
    "    r2 = r2_score(y, y_pred)\n",
    "    \n",
    "    # Almacenar resultados\n",
    "    rmse_list.append(rmse)\n",
    "    r2_list.append(r2)\n",
    "\n",
    "# Calcular promedios de las métricas de error\n",
    "average_rmse = np.mean(rmse_list)\n",
    "average_r2 = np.mean(r2_list)\n",
    "\n",
    "# Resultados\n",
    "results = {\n",
    "    \"Optimized Random Forest\": {\n",
    "        'Average RMSE': average_rmse\n",
    "    }\n",
    "}"
   ]
  },
  {
   "cell_type": "code",
   "execution_count": 25,
   "id": "1b4725fc-7994-46bb-a6a6-bcf4e00e85de",
   "metadata": {},
   "outputs": [
    {
     "name": "stdout",
     "output_type": "stream",
     "text": [
      "Resultados del modelo Random Forest optimizado:\n"
     ]
    },
    {
     "data": {
      "text/html": [
       "<div>\n",
       "<style scoped>\n",
       "    .dataframe tbody tr th:only-of-type {\n",
       "        vertical-align: middle;\n",
       "    }\n",
       "\n",
       "    .dataframe tbody tr th {\n",
       "        vertical-align: top;\n",
       "    }\n",
       "\n",
       "    .dataframe thead th {\n",
       "        text-align: right;\n",
       "    }\n",
       "</style>\n",
       "<table border=\"1\" class=\"dataframe\">\n",
       "  <thead>\n",
       "    <tr style=\"text-align: right;\">\n",
       "      <th></th>\n",
       "      <th>Optimized Random Forest</th>\n",
       "    </tr>\n",
       "  </thead>\n",
       "  <tbody>\n",
       "    <tr>\n",
       "      <th>Average RMSE</th>\n",
       "      <td>26.466887</td>\n",
       "    </tr>\n",
       "  </tbody>\n",
       "</table>\n",
       "</div>"
      ],
      "text/plain": [
       "              Optimized Random Forest\n",
       "Average RMSE                26.466887"
      ]
     },
     "execution_count": 25,
     "metadata": {},
     "output_type": "execute_result"
    }
   ],
   "source": [
    "# Mostrar los resultados\n",
    "print(\"Resultados del modelo Random Forest optimizado:\")\n",
    "optimized_rf_results_df=pd.DataFrame(results)\n",
    "optimized_rf_results_df"
   ]
  },
  {
   "cell_type": "markdown",
   "id": "8c0f5428-bdaa-4459-814d-eddec1e5115b",
   "metadata": {},
   "source": [
    "# PRUEBAS CLUSTER 2"
   ]
  },
  {
   "cell_type": "markdown",
   "id": "731e6aa5-56f0-4dc1-a847-b2d1c9bbf53c",
   "metadata": {},
   "source": [
    "## Closest"
   ]
  },
  {
   "cell_type": "code",
   "execution_count": 26,
   "id": "4bb5a1d2-7e58-4e5b-80b9-d046c17e96a1",
   "metadata": {},
   "outputs": [],
   "source": [
    "# Lista de columnas para análisis\n",
    "columnas = ['Fans:Electricity [kW](Hourly)', 'Cooling:Electricity [kW](Hourly)',\n",
    "       'InteriorLights:Electricity [kW](Hourly)',\n",
    "       'InteriorEquipment:Electricity [kW](Hourly)', 'hour', 'day_of_week',\n",
    "       'month']\n",
    "# Inicializar variables para acumular resultados\n",
    "rmse_list = []\n",
    "r2_list = []\n",
    "for df_serie in closest_dfs[2]:\n",
    "    df=df_serie.copy()\n",
    "    df[\"Date/Time\"]=pd.to_datetime(df[\"Date/Time\"])\n",
    "    df.set_index(\"Date/Time\",inplace=True)\n",
    "    # Extraer características temporales\n",
    "    df['hour'] = df.index.hour\n",
    "    df['day_of_week'] = df.index.dayofweek\n",
    "    df['month'] = df.index.month\n",
    "    \n",
    "    X = df.loc[:, columnas].copy()\n",
    "    y = df.loc[:, 'Electricity:Facility [kW](Hourly)'].copy()\n",
    "    \n",
    "    # Escalar las características\n",
    "    X_scaled = scaler_closest_cluster_2.transform(X)\n",
    "    \n",
    "    # Predecir y calcular métricas de error\n",
    "    y_pred = modelo_closest_cluster_2.predict(X_scaled)\n",
    "    rmse = np.sqrt(mean_squared_error(y, y_pred))\n",
    "    r2 = r2_score(y, y_pred)\n",
    "    \n",
    "    # Almacenar resultados\n",
    "    rmse_list.append(rmse)\n",
    "    r2_list.append(r2)\n",
    "\n",
    "# Calcular promedios de las métricas de error\n",
    "average_rmse = np.mean(rmse_list)\n",
    "average_r2 = np.mean(r2_list)\n",
    "\n",
    "# Resultados\n",
    "results = {\n",
    "    \"Optimized Random Forest\": {\n",
    "        'Average RMSE': average_rmse\n",
    "    }\n",
    "}"
   ]
  },
  {
   "cell_type": "code",
   "execution_count": 27,
   "id": "50d7cdd9-232a-4db7-92aa-1ff20129bd1b",
   "metadata": {},
   "outputs": [
    {
     "name": "stdout",
     "output_type": "stream",
     "text": [
      "Resultados del modelo Random Forest optimizado:\n"
     ]
    },
    {
     "data": {
      "text/html": [
       "<div>\n",
       "<style scoped>\n",
       "    .dataframe tbody tr th:only-of-type {\n",
       "        vertical-align: middle;\n",
       "    }\n",
       "\n",
       "    .dataframe tbody tr th {\n",
       "        vertical-align: top;\n",
       "    }\n",
       "\n",
       "    .dataframe thead th {\n",
       "        text-align: right;\n",
       "    }\n",
       "</style>\n",
       "<table border=\"1\" class=\"dataframe\">\n",
       "  <thead>\n",
       "    <tr style=\"text-align: right;\">\n",
       "      <th></th>\n",
       "      <th>Optimized Random Forest</th>\n",
       "    </tr>\n",
       "  </thead>\n",
       "  <tbody>\n",
       "    <tr>\n",
       "      <th>Average RMSE</th>\n",
       "      <td>79.941561</td>\n",
       "    </tr>\n",
       "  </tbody>\n",
       "</table>\n",
       "</div>"
      ],
      "text/plain": [
       "              Optimized Random Forest\n",
       "Average RMSE                79.941561"
      ]
     },
     "execution_count": 27,
     "metadata": {},
     "output_type": "execute_result"
    }
   ],
   "source": [
    "# Mostrar los resultados\n",
    "print(\"Resultados del modelo Random Forest optimizado:\")\n",
    "optimized_rf_results_df=pd.DataFrame(results)\n",
    "optimized_rf_results_df"
   ]
  },
  {
   "cell_type": "markdown",
   "id": "7f89a8f8-9b8b-4802-b81e-cddf4c18d0ae",
   "metadata": {},
   "source": [
    "## Average"
   ]
  },
  {
   "cell_type": "code",
   "execution_count": 28,
   "id": "5e02d4da-9159-4057-843e-0462862c0fc3",
   "metadata": {},
   "outputs": [],
   "source": [
    "# Lista de columnas para análisis\n",
    "columnas = ['Fans:Electricity [kW](Hourly)', 'Cooling:Electricity [kW](Hourly)',\n",
    "       'InteriorLights:Electricity [kW](Hourly)',\n",
    "       'InteriorEquipment:Electricity [kW](Hourly)', 'hour', 'day_of_week',\n",
    "       'month']\n",
    "# Inicializar variables para acumular resultados\n",
    "rmse_list = []\n",
    "r2_list = []\n",
    "for df_serie in average_dfs[2]:\n",
    "    df=df_serie.copy()\n",
    "    df[\"Date/Time\"]=pd.to_datetime(df[\"Date/Time\"])\n",
    "    df.set_index(\"Date/Time\",inplace=True)\n",
    "    # Extraer características temporales\n",
    "    df['hour'] = df.index.hour\n",
    "    df['day_of_week'] = df.index.dayofweek\n",
    "    df['month'] = df.index.month\n",
    "    \n",
    "    X = df.loc[:, columnas].copy()\n",
    "    y = df.loc[:, 'Electricity:Facility [kW](Hourly)'].copy()\n",
    "    \n",
    "    # Escalar las características\n",
    "    X_scaled = scaler_average_cluster_2.transform(X)\n",
    "    \n",
    "    # Predecir y calcular métricas de error\n",
    "    y_pred = modelo_average_cluster_2.predict(X_scaled)\n",
    "    rmse = np.sqrt(mean_squared_error(y, y_pred))\n",
    "    r2 = r2_score(y, y_pred)\n",
    "    \n",
    "    # Almacenar resultados\n",
    "    rmse_list.append(rmse)\n",
    "    r2_list.append(r2)\n",
    "\n",
    "# Calcular promedios de las métricas de error\n",
    "average_rmse = np.mean(rmse_list)\n",
    "average_r2 = np.mean(r2_list)\n",
    "\n",
    "# Resultados\n",
    "results = {\n",
    "    \"Optimized Random Forest\": {\n",
    "        'Average RMSE': average_rmse\n",
    "    }\n",
    "}"
   ]
  },
  {
   "cell_type": "code",
   "execution_count": 29,
   "id": "2f03df6b-d479-4fdd-8f51-562ab13bbe9d",
   "metadata": {},
   "outputs": [
    {
     "name": "stdout",
     "output_type": "stream",
     "text": [
      "Resultados del modelo Random Forest optimizado:\n"
     ]
    },
    {
     "data": {
      "text/html": [
       "<div>\n",
       "<style scoped>\n",
       "    .dataframe tbody tr th:only-of-type {\n",
       "        vertical-align: middle;\n",
       "    }\n",
       "\n",
       "    .dataframe tbody tr th {\n",
       "        vertical-align: top;\n",
       "    }\n",
       "\n",
       "    .dataframe thead th {\n",
       "        text-align: right;\n",
       "    }\n",
       "</style>\n",
       "<table border=\"1\" class=\"dataframe\">\n",
       "  <thead>\n",
       "    <tr style=\"text-align: right;\">\n",
       "      <th></th>\n",
       "      <th>Optimized Random Forest</th>\n",
       "    </tr>\n",
       "  </thead>\n",
       "  <tbody>\n",
       "    <tr>\n",
       "      <th>Average RMSE</th>\n",
       "      <td>23.293884</td>\n",
       "    </tr>\n",
       "  </tbody>\n",
       "</table>\n",
       "</div>"
      ],
      "text/plain": [
       "              Optimized Random Forest\n",
       "Average RMSE                23.293884"
      ]
     },
     "execution_count": 29,
     "metadata": {},
     "output_type": "execute_result"
    }
   ],
   "source": [
    "# Mostrar los resultados\n",
    "print(\"Resultados del modelo Random Forest optimizado:\")\n",
    "optimized_rf_results_df=pd.DataFrame(results)\n",
    "optimized_rf_results_df"
   ]
  },
  {
   "cell_type": "markdown",
   "id": "4b1e3fcd-0719-4630-b88e-092ec8892ad7",
   "metadata": {},
   "source": [
    "# PRUEBAS CLUSTER 3"
   ]
  },
  {
   "cell_type": "markdown",
   "id": "ee37a2d8-0653-4a4b-b0df-185f96ee7437",
   "metadata": {},
   "source": [
    "## Closest"
   ]
  },
  {
   "cell_type": "code",
   "execution_count": 33,
   "id": "2a1f431b-1798-4992-8471-de265c2c0a9b",
   "metadata": {},
   "outputs": [],
   "source": [
    "# Lista de columnas para análisis\n",
    "columnas = ['Fans:Electricity [kW](Hourly)', 'Cooling:Electricity [kW](Hourly)',\n",
    "       'InteriorLights:Electricity [kW](Hourly)',\n",
    "       'InteriorEquipment:Electricity [kW](Hourly)', 'hour', 'day_of_week',\n",
    "       'month']\n",
    "# Inicializar variables para acumular resultados\n",
    "rmse_list = []\n",
    "r2_list = []\n",
    "for df_serie in closest_dfs[3]:\n",
    "    df=df_serie.dropna().copy()\n",
    "    df[\"Date/Time\"]=pd.to_datetime(df[\"Date/Time\"])\n",
    "    df.set_index(\"Date/Time\",inplace=True)\n",
    "    # Extraer características temporales\n",
    "    df['hour'] = df.index.hour\n",
    "    df['day_of_week'] = df.index.dayofweek\n",
    "    df['month'] = df.index.month\n",
    "    \n",
    "    X = df.loc[:, columnas].copy()\n",
    "    y = df.loc[:, 'Electricity:Facility [kW](Hourly)'].copy()\n",
    "    \n",
    "    # Escalar las características\n",
    "    X_scaled = scaler_closest_cluster_3.transform(X)\n",
    "    \n",
    "    # Predecir y calcular métricas de error\n",
    "    y_pred = modelo_closest_cluster_3.predict(X_scaled)\n",
    "    rmse = np.sqrt(mean_squared_error(y, y_pred))\n",
    "    r2 = r2_score(y, y_pred)\n",
    "    \n",
    "    # Almacenar resultados\n",
    "    rmse_list.append(rmse)\n",
    "    r2_list.append(r2)\n",
    "\n",
    "# Calcular promedios de las métricas de error\n",
    "average_rmse = np.mean(rmse_list)\n",
    "average_r2 = np.mean(r2_list)\n",
    "\n",
    "# Resultados\n",
    "results = {\n",
    "    \"Optimized Random Forest\": {\n",
    "        'Average RMSE': average_rmse\n",
    "    }\n",
    "}"
   ]
  },
  {
   "cell_type": "code",
   "execution_count": 34,
   "id": "4093db43-c2e9-4db0-858e-8f228e3fbd7f",
   "metadata": {},
   "outputs": [
    {
     "name": "stdout",
     "output_type": "stream",
     "text": [
      "Resultados del modelo Random Forest optimizado:\n"
     ]
    },
    {
     "data": {
      "text/html": [
       "<div>\n",
       "<style scoped>\n",
       "    .dataframe tbody tr th:only-of-type {\n",
       "        vertical-align: middle;\n",
       "    }\n",
       "\n",
       "    .dataframe tbody tr th {\n",
       "        vertical-align: top;\n",
       "    }\n",
       "\n",
       "    .dataframe thead th {\n",
       "        text-align: right;\n",
       "    }\n",
       "</style>\n",
       "<table border=\"1\" class=\"dataframe\">\n",
       "  <thead>\n",
       "    <tr style=\"text-align: right;\">\n",
       "      <th></th>\n",
       "      <th>Optimized Random Forest</th>\n",
       "    </tr>\n",
       "  </thead>\n",
       "  <tbody>\n",
       "    <tr>\n",
       "      <th>Average RMSE</th>\n",
       "      <td>31.248123</td>\n",
       "    </tr>\n",
       "  </tbody>\n",
       "</table>\n",
       "</div>"
      ],
      "text/plain": [
       "              Optimized Random Forest\n",
       "Average RMSE                31.248123"
      ]
     },
     "execution_count": 34,
     "metadata": {},
     "output_type": "execute_result"
    }
   ],
   "source": [
    "# Mostrar los resultados\n",
    "print(\"Resultados del modelo Random Forest optimizado:\")\n",
    "optimized_rf_results_df=pd.DataFrame(results)\n",
    "optimized_rf_results_df"
   ]
  },
  {
   "cell_type": "markdown",
   "id": "a2a592f7-45d4-4cd8-9829-80fed998a25a",
   "metadata": {},
   "source": [
    "## Average "
   ]
  },
  {
   "cell_type": "code",
   "execution_count": 35,
   "id": "89c31a3a-7016-4fdb-a378-80c17189dea6",
   "metadata": {},
   "outputs": [],
   "source": [
    "# Lista de columnas para análisis\n",
    "columnas = ['Fans:Electricity [kW](Hourly)', 'Cooling:Electricity [kW](Hourly)',\n",
    "       'InteriorLights:Electricity [kW](Hourly)',\n",
    "       'InteriorEquipment:Electricity [kW](Hourly)', 'hour', 'day_of_week',\n",
    "       'month']\n",
    "# Inicializar variables para acumular resultados\n",
    "rmse_list = []\n",
    "r2_list = []\n",
    "for df_serie in average_dfs[3]:\n",
    "    df=df_serie.dropna().copy()\n",
    "    df[\"Date/Time\"]=pd.to_datetime(df[\"Date/Time\"])\n",
    "    df.set_index(\"Date/Time\",inplace=True)\n",
    "    # Extraer características temporales\n",
    "    df['hour'] = df.index.hour\n",
    "    df['day_of_week'] = df.index.dayofweek\n",
    "    df['month'] = df.index.month\n",
    "    \n",
    "    X = df.loc[:, columnas].copy()\n",
    "    y = df.loc[:, 'Electricity:Facility [kW](Hourly)'].copy()\n",
    "    \n",
    "    # Escalar las características\n",
    "    X_scaled = scaler_average_cluster_3.transform(X)\n",
    "    \n",
    "    # Predecir y calcular métricas de error\n",
    "    y_pred = modelo_average_cluster_3.predict(X_scaled)\n",
    "    rmse = np.sqrt(mean_squared_error(y, y_pred))\n",
    "    r2 = r2_score(y, y_pred)\n",
    "    \n",
    "    # Almacenar resultados\n",
    "    rmse_list.append(rmse)\n",
    "    r2_list.append(r2)\n",
    "\n",
    "# Calcular promedios de las métricas de error\n",
    "average_rmse = np.mean(rmse_list)\n",
    "average_r2 = np.mean(r2_list)\n",
    "\n",
    "# Resultados\n",
    "results = {\n",
    "    \"Optimized Random Forest\": {\n",
    "        'Average RMSE': average_rmse\n",
    "    }\n",
    "}"
   ]
  },
  {
   "cell_type": "code",
   "execution_count": 36,
   "id": "5480d524-2c31-4fdd-a82c-30f22028a909",
   "metadata": {},
   "outputs": [
    {
     "name": "stdout",
     "output_type": "stream",
     "text": [
      "Resultados del modelo Random Forest optimizado:\n"
     ]
    },
    {
     "data": {
      "text/html": [
       "<div>\n",
       "<style scoped>\n",
       "    .dataframe tbody tr th:only-of-type {\n",
       "        vertical-align: middle;\n",
       "    }\n",
       "\n",
       "    .dataframe tbody tr th {\n",
       "        vertical-align: top;\n",
       "    }\n",
       "\n",
       "    .dataframe thead th {\n",
       "        text-align: right;\n",
       "    }\n",
       "</style>\n",
       "<table border=\"1\" class=\"dataframe\">\n",
       "  <thead>\n",
       "    <tr style=\"text-align: right;\">\n",
       "      <th></th>\n",
       "      <th>Optimized Random Forest</th>\n",
       "    </tr>\n",
       "  </thead>\n",
       "  <tbody>\n",
       "    <tr>\n",
       "      <th>Average RMSE</th>\n",
       "      <td>9.582929</td>\n",
       "    </tr>\n",
       "  </tbody>\n",
       "</table>\n",
       "</div>"
      ],
      "text/plain": [
       "              Optimized Random Forest\n",
       "Average RMSE                 9.582929"
      ]
     },
     "execution_count": 36,
     "metadata": {},
     "output_type": "execute_result"
    }
   ],
   "source": [
    "# Mostrar los resultados\n",
    "print(\"Resultados del modelo Random Forest optimizado:\")\n",
    "optimized_rf_results_df=pd.DataFrame(results)\n",
    "optimized_rf_results_df"
   ]
  },
  {
   "cell_type": "code",
   "execution_count": null,
   "id": "612c104b-0df8-48b4-8912-1f39caec2904",
   "metadata": {},
   "outputs": [],
   "source": []
  },
  {
   "cell_type": "code",
   "execution_count": null,
   "id": "1203ad94-299d-4e24-9f68-eb169af18550",
   "metadata": {},
   "outputs": [],
   "source": []
  }
 ],
 "metadata": {
  "kernelspec": {
   "display_name": "Python 3 (ipykernel)",
   "language": "python",
   "name": "python3"
  },
  "language_info": {
   "codemirror_mode": {
    "name": "ipython",
    "version": 3
   },
   "file_extension": ".py",
   "mimetype": "text/x-python",
   "name": "python",
   "nbconvert_exporter": "python",
   "pygments_lexer": "ipython3",
   "version": "3.11.9"
  }
 },
 "nbformat": 4,
 "nbformat_minor": 5
}
