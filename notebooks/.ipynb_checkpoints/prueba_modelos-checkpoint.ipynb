{
 "cells": [
  {
   "cell_type": "code",
   "execution_count": 1,
   "id": "21aca410-aaf7-4aa0-96d9-33802fc38178",
   "metadata": {},
   "outputs": [],
   "source": [
    "import numpy as np\n",
    "import matplotlib.pyplot as plt\n",
    "import matplotlib as mpl\n",
    "import pandas as pd\n",
    "import seaborn as sns\n",
    "from statsmodels.stats.outliers_influence import variance_inflation_factor\n",
    "from sklearn.model_selection import train_test_split\n",
    "from sklearn.preprocessing import StandardScaler\n",
    "from sklearn.linear_model import LinearRegression, Lasso\n",
    "from sklearn.tree import DecisionTreeRegressor\n",
    "from sklearn.svm import SVR\n",
    "from sklearn.ensemble import RandomForestRegressor, VotingRegressor\n",
    "from sklearn.metrics import mean_squared_error, r2_score\n",
    "from sklearn.model_selection import GridSearchCV\n",
    "from joblib import load"
   ]
  },
  {
   "cell_type": "code",
   "execution_count": null,
   "id": "a52c2eb5-1360-4310-b9e4-c7e15632a6a5",
   "metadata": {},
   "outputs": [],
   "source": []
  },
  {
   "cell_type": "code",
   "execution_count": 24,
   "id": "3e120117-3f23-44fc-bb0d-2c0a99a7e51d",
   "metadata": {},
   "outputs": [],
   "source": [
    "average_cluster_0=pd.read_csv(\"../data/interim/series_cluster_0.csv\",parse_dates=[\"Date/Time\"],index_col=\"Date/Time\")\n",
    "average_cluster_1=pd.read_csv(\"../data/interim/series_cluster_1.csv\",parse_dates=[\"Date/Time\"],index_col=\"Date/Time\")\n",
    "average_cluster_2=pd.read_csv(\"../data/interim/series_cluster_2.csv\",parse_dates=[\"Date/Time\"],index_col=\"Date/Time\")\n",
    "average_cluster_3=pd.read_csv(\"../data/interim/series_cluster_3.csv\",parse_dates=[\"Date/Time\"],index_col=\"Date/Time\")"
   ]
  },
  {
   "cell_type": "code",
   "execution_count": 46,
   "id": "524f0b45-f6b0-426f-8775-ff01e51369ef",
   "metadata": {},
   "outputs": [],
   "source": [
    "modelo_average_cluster_0= load('../models/modelo_average_cluster_0.joblib')\n",
    "scaler_average_cluster_0= load('../models/scaler_average_cluster_0.joblib')\n",
    "modelo_average_cluster_1= load('../models/modelo_average_cluster_1.joblib')\n",
    "scaler_average_cluster_1= load('../models/scaler_average_cluster_1.joblib')\n",
    "modelo_average_cluster_2= load('../models/modelo_average_cluster_2.joblib')\n",
    "scaler_average_cluster_2= load('../models/scaler_average_cluster_2.joblib')\n",
    "modelo_average_cluster_3= load('../models/modelo_average_cluster_3.joblib')\n",
    "scaler_average_cluster_3= load('../models/scaler_average_cluster_3.joblib')"
   ]
  },
  {
   "cell_type": "code",
   "execution_count": 15,
   "id": "d4f0a6fd-728a-44d6-9277-36a9a900dbb9",
   "metadata": {},
   "outputs": [],
   "source": [
    "closest_cluster_0=pd.read_csv(\"../data/interim/without_closest_cluster_0.csv\",parse_dates=[\"Date/Time\"],index_col=\"Date/Time\")\n",
    "closest_cluster_1=pd.read_csv(\"../data/interim/without_closest_cluster_1.csv\",parse_dates=[\"Date/Time\"],index_col=\"Date/Time\")\n",
    "closest_cluster_2=pd.read_csv(\"../data/interim/without_closest_cluster_2.csv\",parse_dates=[\"Date/Time\"],index_col=\"Date/Time\")\n",
    "closest_cluster_3=pd.read_csv(\"../data/interim/without_closest_cluster_3.csv\",parse_dates=[\"Date/Time\"],index_col=\"Date/Time\")"
   ]
  },
  {
   "cell_type": "code",
   "execution_count": 54,
   "id": "55a4efec-779c-4081-8c93-133854fccd90",
   "metadata": {},
   "outputs": [],
   "source": [
    "modelo_closest_cluster_0= load('../models/modelo_closest_cluster_0.joblib')\n",
    "scaler_closest_cluster_0= load('../models/scaler_closest_cluster_0.joblib')\n",
    "modelo_closest_cluster_1= load('../models/modelo_closest_cluster_1.joblib')\n",
    "scaler_closest_cluster_1= load('../models/scaler_closest_cluster_1.joblib')\n",
    "modelo_closest_cluster_2= load('../models/modelo_closest_cluster_2.joblib')\n",
    "scaler_closest_cluster_2= load('../models/scaler_closest_cluster_2.joblib')\n",
    "modelo_closest_cluster_3= load('../models/modelo_closest_cluster_3.joblib')\n",
    "scaler_closest_cluster_3= load('../models/scaler_closest_cluster_3.joblib')"
   ]
  },
  {
   "cell_type": "markdown",
   "id": "9bc06b3d-aa26-49b2-b3ea-582d1b168f92",
   "metadata": {},
   "source": [
    "# PRUEBAS CLUSTER 0"
   ]
  },
  {
   "cell_type": "code",
   "execution_count": 25,
   "id": "0f073f55-9e4e-421c-8f83-26a42dae0917",
   "metadata": {},
   "outputs": [],
   "source": [
    "columnas=['Cooling:Electricity [kW](Hourly)', 'Heating:Electricity [kW](Hourly)',\n",
    "       'InteriorLights:Electricity [kW](Hourly)', 'hour', 'day_of_week',\n",
    "       'month']\n",
    "# Extraer características temporales\n",
    "closest_cluster_0['hour'] = closest_cluster_0.index.hour\n",
    "closest_cluster_0['day_of_week'] = closest_cluster_0.index.dayofweek\n",
    "closest_cluster_0['month'] = closest_cluster_0.index.month"
   ]
  },
  {
   "cell_type": "code",
   "execution_count": 26,
   "id": "50dc07d2-542f-4350-bd11-3194785dd6cc",
   "metadata": {},
   "outputs": [],
   "source": [
    "X=closest_cluster_0.loc[:,columnas].copy()\n",
    "y=closest_cluster_0.loc[:,'Electricity:Facility [kW](Hourly)'].copy()\n",
    "X_scaled = scaler_closest_cluster_0.transform(X)\n",
    "rmse_train_opt = np.sqrt(mean_squared_error(y, modelo_closest_cluster_0.predict(X_scaled)))\n",
    "r2_train_opt = r2_score(y, modelo_closest_cluster_0.predict(X_scaled))\n",
    "# Resultados\n",
    "results = {\n",
    "    \"Optimized Random Forest\": {\n",
    "        'RMSE Train': rmse_train_opt,\n",
    "        'R2 Train': r2_train_opt\n",
    "    }\n",
    "}"
   ]
  },
  {
   "cell_type": "code",
   "execution_count": 27,
   "id": "5db688a5-f1e4-463a-8240-8c11dc8e2d14",
   "metadata": {},
   "outputs": [
    {
     "name": "stdout",
     "output_type": "stream",
     "text": [
      "Resultados del modelo Random Forest optimizado:\n"
     ]
    },
    {
     "data": {
      "text/html": [
       "<div>\n",
       "<style scoped>\n",
       "    .dataframe tbody tr th:only-of-type {\n",
       "        vertical-align: middle;\n",
       "    }\n",
       "\n",
       "    .dataframe tbody tr th {\n",
       "        vertical-align: top;\n",
       "    }\n",
       "\n",
       "    .dataframe thead th {\n",
       "        text-align: right;\n",
       "    }\n",
       "</style>\n",
       "<table border=\"1\" class=\"dataframe\">\n",
       "  <thead>\n",
       "    <tr style=\"text-align: right;\">\n",
       "      <th></th>\n",
       "      <th>Optimized Random Forest</th>\n",
       "    </tr>\n",
       "  </thead>\n",
       "  <tbody>\n",
       "    <tr>\n",
       "      <th>R2 Train</th>\n",
       "      <td>0.051649</td>\n",
       "    </tr>\n",
       "    <tr>\n",
       "      <th>RMSE Train</th>\n",
       "      <td>157.982570</td>\n",
       "    </tr>\n",
       "  </tbody>\n",
       "</table>\n",
       "</div>"
      ],
      "text/plain": [
       "            Optimized Random Forest\n",
       "R2 Train                   0.051649\n",
       "RMSE Train               157.982570"
      ]
     },
     "execution_count": 27,
     "metadata": {},
     "output_type": "execute_result"
    }
   ],
   "source": [
    "# Mostrar los resultados\n",
    "print(\"Resultados del modelo Random Forest optimizado:\")\n",
    "optimized_rf_results_df=pd.DataFrame(results)\n",
    "optimized_rf_results_df"
   ]
  },
  {
   "cell_type": "code",
   "execution_count": 28,
   "id": "dabbbe5a-f44c-4b3d-a8bb-68d610b27693",
   "metadata": {},
   "outputs": [],
   "source": [
    "columnas=['Cooling:Electricity [kW](Hourly)', 'Heating:Electricity [kW](Hourly)',\n",
    "       'InteriorLights:Electricity [kW](Hourly)', 'hour', 'day_of_week',\n",
    "       'month']\n",
    "# Extraer características temporales\n",
    "average_cluster_0['hour'] = average_cluster_0.index.hour\n",
    "average_cluster_0['day_of_week'] = average_cluster_0.index.dayofweek\n",
    "average_cluster_0['month'] = average_cluster_0.index.month"
   ]
  },
  {
   "cell_type": "code",
   "execution_count": 29,
   "id": "d40a201d-921e-49a5-9936-c4e27b64bb99",
   "metadata": {},
   "outputs": [],
   "source": [
    "X=average_cluster_0.loc[:,columnas].copy()\n",
    "y=average_cluster_0.loc[:,'Electricity:Facility [kW](Hourly)'].copy()\n",
    "X_scaled = scaler_average_cluster_0.transform(X)\n",
    "rmse_train_opt = np.sqrt(mean_squared_error(y, modelo_average_cluster_0.predict(X_scaled)))\n",
    "r2_train_opt = r2_score(y, modelo_average_cluster_0.predict(X_scaled))\n",
    "# Resultados\n",
    "results = {\n",
    "    \"Optimized Random Forest\": {\n",
    "        'RMSE Train': rmse_train_opt,\n",
    "        'R2 Train': r2_train_opt\n",
    "    }\n",
    "}"
   ]
  },
  {
   "cell_type": "code",
   "execution_count": 30,
   "id": "5d929785-7e0a-42b9-9049-77a968643c89",
   "metadata": {},
   "outputs": [
    {
     "name": "stdout",
     "output_type": "stream",
     "text": [
      "Resultados del modelo Random Forest optimizado:\n"
     ]
    },
    {
     "data": {
      "text/html": [
       "<div>\n",
       "<style scoped>\n",
       "    .dataframe tbody tr th:only-of-type {\n",
       "        vertical-align: middle;\n",
       "    }\n",
       "\n",
       "    .dataframe tbody tr th {\n",
       "        vertical-align: top;\n",
       "    }\n",
       "\n",
       "    .dataframe thead th {\n",
       "        text-align: right;\n",
       "    }\n",
       "</style>\n",
       "<table border=\"1\" class=\"dataframe\">\n",
       "  <thead>\n",
       "    <tr style=\"text-align: right;\">\n",
       "      <th></th>\n",
       "      <th>Optimized Random Forest</th>\n",
       "    </tr>\n",
       "  </thead>\n",
       "  <tbody>\n",
       "    <tr>\n",
       "      <th>R2 Train</th>\n",
       "      <td>0.473871</td>\n",
       "    </tr>\n",
       "    <tr>\n",
       "      <th>RMSE Train</th>\n",
       "      <td>66.101081</td>\n",
       "    </tr>\n",
       "  </tbody>\n",
       "</table>\n",
       "</div>"
      ],
      "text/plain": [
       "            Optimized Random Forest\n",
       "R2 Train                   0.473871\n",
       "RMSE Train                66.101081"
      ]
     },
     "execution_count": 30,
     "metadata": {},
     "output_type": "execute_result"
    }
   ],
   "source": [
    "# Mostrar los resultados\n",
    "print(\"Resultados del modelo Random Forest optimizado:\")\n",
    "optimized_rf_results_df=pd.DataFrame(results)\n",
    "optimized_rf_results_df"
   ]
  },
  {
   "cell_type": "markdown",
   "id": "739bcba1-4be7-478d-ae78-029e3892f9f3",
   "metadata": {},
   "source": [
    "# PRUEBAS CLUSTER 1"
   ]
  },
  {
   "cell_type": "code",
   "execution_count": 32,
   "id": "6707bade-8f4d-424d-9d7f-dc1f9dccfe91",
   "metadata": {},
   "outputs": [],
   "source": [
    "columnas=[\"InteriorLights:Electricity [kW](Hourly)\",\"InteriorEquipment:Electricity [kW](Hourly)\",\"Cooling:Electricity [kW](Hourly)\"]\n",
    "# Extraer características temporales\n",
    "average_cluster_1['hour'] = average_cluster_1.index.hour\n",
    "average_cluster_1['day_of_week'] = average_cluster_1.index.dayofweek\n",
    "average_cluster_1['month'] = average_cluster_1.index.month"
   ]
  },
  {
   "cell_type": "code",
   "execution_count": 33,
   "id": "e3be689c-75c9-4abc-8734-b4df6b9e9f91",
   "metadata": {},
   "outputs": [],
   "source": [
    "X=average_cluster_1.loc[:,columnas].copy()\n",
    "y=average_cluster_1.loc[:,'Electricity:Facility [kW](Hourly)'].copy()\n",
    "X_scaled = scaler_average_cluster_1.transform(X)\n",
    "rmse_train_opt = np.sqrt(mean_squared_error(y, modelo_average_cluster_1.predict(X_scaled)))\n",
    "r2_train_opt = r2_score(y, modelo_average_cluster_1.predict(X_scaled))\n",
    "# Resultados\n",
    "results = {\n",
    "    \"Optimized Random Forest\": {\n",
    "        'RMSE Train': rmse_train_opt,\n",
    "        'R2 Train': r2_train_opt\n",
    "    }\n",
    "}"
   ]
  },
  {
   "cell_type": "code",
   "execution_count": 34,
   "id": "dccad079-213f-4c2e-b527-71c05b3e700c",
   "metadata": {},
   "outputs": [
    {
     "name": "stdout",
     "output_type": "stream",
     "text": [
      "Resultados del modelo Random Forest optimizado:\n"
     ]
    },
    {
     "data": {
      "text/html": [
       "<div>\n",
       "<style scoped>\n",
       "    .dataframe tbody tr th:only-of-type {\n",
       "        vertical-align: middle;\n",
       "    }\n",
       "\n",
       "    .dataframe tbody tr th {\n",
       "        vertical-align: top;\n",
       "    }\n",
       "\n",
       "    .dataframe thead th {\n",
       "        text-align: right;\n",
       "    }\n",
       "</style>\n",
       "<table border=\"1\" class=\"dataframe\">\n",
       "  <thead>\n",
       "    <tr style=\"text-align: right;\">\n",
       "      <th></th>\n",
       "      <th>Optimized Random Forest</th>\n",
       "    </tr>\n",
       "  </thead>\n",
       "  <tbody>\n",
       "    <tr>\n",
       "      <th>R2 Train</th>\n",
       "      <td>0.994931</td>\n",
       "    </tr>\n",
       "    <tr>\n",
       "      <th>RMSE Train</th>\n",
       "      <td>32.792618</td>\n",
       "    </tr>\n",
       "  </tbody>\n",
       "</table>\n",
       "</div>"
      ],
      "text/plain": [
       "            Optimized Random Forest\n",
       "R2 Train                   0.994931\n",
       "RMSE Train                32.792618"
      ]
     },
     "execution_count": 34,
     "metadata": {},
     "output_type": "execute_result"
    }
   ],
   "source": [
    "# Mostrar los resultados\n",
    "print(\"Resultados del modelo Random Forest optimizado:\")\n",
    "optimized_rf_results_df=pd.DataFrame(results)\n",
    "optimized_rf_results_df"
   ]
  },
  {
   "cell_type": "code",
   "execution_count": 31,
   "id": "dda99de9-cb94-444d-a62d-96afe1256be0",
   "metadata": {},
   "outputs": [],
   "source": [
    "## closest"
   ]
  },
  {
   "cell_type": "code",
   "execution_count": 36,
   "id": "c4175185-5e96-4551-bc85-c15ecb6d9641",
   "metadata": {},
   "outputs": [],
   "source": [
    "columnas=[\"InteriorLights:Electricity [kW](Hourly)\",\"InteriorEquipment:Electricity [kW](Hourly)\",\"Cooling:Electricity [kW](Hourly)\"]\n",
    "# Extraer características temporales\n",
    "closest_cluster_1['hour'] = closest_cluster_1.index.hour\n",
    "closest_cluster_1['day_of_week'] = closest_cluster_1.index.dayofweek\n",
    "closest_cluster_1['month'] = closest_cluster_1.index.month"
   ]
  },
  {
   "cell_type": "code",
   "execution_count": 37,
   "id": "92d7f774-fca6-4f50-9290-85497f7c319c",
   "metadata": {},
   "outputs": [],
   "source": [
    "X=closest_cluster_1.loc[:,columnas].copy()\n",
    "y=closest_cluster_1.loc[:,'Electricity:Facility [kW](Hourly)'].copy()\n",
    "X_scaled = scaler_closest_cluster_1.transform(X)\n",
    "rmse_train_opt = np.sqrt(mean_squared_error(y, modelo_closest_cluster_1.predict(X_scaled)))\n",
    "r2_train_opt = r2_score(y, modelo_closest_cluster_1.predict(X_scaled))\n",
    "# Resultados\n",
    "results = {\n",
    "    \"Optimized Random Forest\": {\n",
    "        'RMSE Train': rmse_train_opt,\n",
    "        'R2 Train': r2_train_opt\n",
    "    }\n",
    "}"
   ]
  },
  {
   "cell_type": "code",
   "execution_count": 38,
   "id": "1b4725fc-7994-46bb-a6a6-bcf4e00e85de",
   "metadata": {},
   "outputs": [
    {
     "name": "stdout",
     "output_type": "stream",
     "text": [
      "Resultados del modelo Random Forest optimizado:\n"
     ]
    },
    {
     "data": {
      "text/html": [
       "<div>\n",
       "<style scoped>\n",
       "    .dataframe tbody tr th:only-of-type {\n",
       "        vertical-align: middle;\n",
       "    }\n",
       "\n",
       "    .dataframe tbody tr th {\n",
       "        vertical-align: top;\n",
       "    }\n",
       "\n",
       "    .dataframe thead th {\n",
       "        text-align: right;\n",
       "    }\n",
       "</style>\n",
       "<table border=\"1\" class=\"dataframe\">\n",
       "  <thead>\n",
       "    <tr style=\"text-align: right;\">\n",
       "      <th></th>\n",
       "      <th>Optimized Random Forest</th>\n",
       "    </tr>\n",
       "  </thead>\n",
       "  <tbody>\n",
       "    <tr>\n",
       "      <th>R2 Train</th>\n",
       "      <td>0.896388</td>\n",
       "    </tr>\n",
       "    <tr>\n",
       "      <th>RMSE Train</th>\n",
       "      <td>151.006533</td>\n",
       "    </tr>\n",
       "  </tbody>\n",
       "</table>\n",
       "</div>"
      ],
      "text/plain": [
       "            Optimized Random Forest\n",
       "R2 Train                   0.896388\n",
       "RMSE Train               151.006533"
      ]
     },
     "execution_count": 38,
     "metadata": {},
     "output_type": "execute_result"
    }
   ],
   "source": [
    "# Mostrar los resultados\n",
    "print(\"Resultados del modelo Random Forest optimizado:\")\n",
    "optimized_rf_results_df=pd.DataFrame(results)\n",
    "optimized_rf_results_df"
   ]
  },
  {
   "cell_type": "markdown",
   "id": "8c0f5428-bdaa-4459-814d-eddec1e5115b",
   "metadata": {},
   "source": [
    "# PRUEBAS CLUSTER 2"
   ]
  },
  {
   "cell_type": "code",
   "execution_count": 44,
   "id": "34f5fec3-31c0-4fbd-99c0-81133ac923c8",
   "metadata": {},
   "outputs": [],
   "source": [
    "#average"
   ]
  },
  {
   "cell_type": "code",
   "execution_count": 47,
   "id": "5e02d4da-9159-4057-843e-0462862c0fc3",
   "metadata": {},
   "outputs": [],
   "source": [
    "columnas=[\"InteriorLights:Electricity [kW](Hourly)\",\"Cooling:Electricity [kW](Hourly)\"]\n",
    "# Extraer características temporales\n",
    "average_cluster_2['hour'] = average_cluster_2.index.hour\n",
    "average_cluster_2['day_of_week'] = average_cluster_2.index.dayofweek\n",
    "average_cluster_2['month'] = average_cluster_2.index.month"
   ]
  },
  {
   "cell_type": "code",
   "execution_count": 48,
   "id": "08c6ff61-f62d-4423-8284-977a64c81219",
   "metadata": {},
   "outputs": [],
   "source": [
    "X=average_cluster_2.loc[:,columnas].copy()\n",
    "y=average_cluster_2.loc[:,'Electricity:Facility [kW](Hourly)'].copy()\n",
    "X_scaled = scaler_average_cluster_2.transform(X)\n",
    "rmse_train_opt = np.sqrt(mean_squared_error(y, modelo_average_cluster_2.predict(X_scaled)))\n",
    "r2_train_opt = r2_score(y, modelo_average_cluster_2.predict(X_scaled))\n",
    "# Resultados\n",
    "results = {\n",
    "    \"Optimized Random Forest\": {\n",
    "        'RMSE Train': rmse_train_opt,\n",
    "        'R2 Train': r2_train_opt\n",
    "    }\n",
    "}"
   ]
  },
  {
   "cell_type": "code",
   "execution_count": 49,
   "id": "2f03df6b-d479-4fdd-8f51-562ab13bbe9d",
   "metadata": {},
   "outputs": [
    {
     "name": "stdout",
     "output_type": "stream",
     "text": [
      "Resultados del modelo Random Forest optimizado:\n"
     ]
    },
    {
     "data": {
      "text/html": [
       "<div>\n",
       "<style scoped>\n",
       "    .dataframe tbody tr th:only-of-type {\n",
       "        vertical-align: middle;\n",
       "    }\n",
       "\n",
       "    .dataframe tbody tr th {\n",
       "        vertical-align: top;\n",
       "    }\n",
       "\n",
       "    .dataframe thead th {\n",
       "        text-align: right;\n",
       "    }\n",
       "</style>\n",
       "<table border=\"1\" class=\"dataframe\">\n",
       "  <thead>\n",
       "    <tr style=\"text-align: right;\">\n",
       "      <th></th>\n",
       "      <th>Optimized Random Forest</th>\n",
       "    </tr>\n",
       "  </thead>\n",
       "  <tbody>\n",
       "    <tr>\n",
       "      <th>R2 Train</th>\n",
       "      <td>0.984048</td>\n",
       "    </tr>\n",
       "    <tr>\n",
       "      <th>RMSE Train</th>\n",
       "      <td>31.614290</td>\n",
       "    </tr>\n",
       "  </tbody>\n",
       "</table>\n",
       "</div>"
      ],
      "text/plain": [
       "            Optimized Random Forest\n",
       "R2 Train                   0.984048\n",
       "RMSE Train                31.614290"
      ]
     },
     "execution_count": 49,
     "metadata": {},
     "output_type": "execute_result"
    }
   ],
   "source": [
    "# Mostrar los resultados\n",
    "print(\"Resultados del modelo Random Forest optimizado:\")\n",
    "optimized_rf_results_df=pd.DataFrame(results)\n",
    "optimized_rf_results_df"
   ]
  },
  {
   "cell_type": "code",
   "execution_count": 39,
   "id": "dfd2298e-6794-46d7-880f-6ee8afb9bc4c",
   "metadata": {},
   "outputs": [],
   "source": [
    "#closest"
   ]
  },
  {
   "cell_type": "code",
   "execution_count": 41,
   "id": "98040711-85dd-407f-bc99-abbae8b73a3b",
   "metadata": {},
   "outputs": [],
   "source": [
    "columnas=['Fans:Electricity [kW](Hourly)',\n",
    "       'InteriorLights:Electricity [kW](Hourly)', 'month',\n",
    "       'InteriorEquipment:Electricity [kW](Hourly)', 'day_of_week', 'hour',\n",
    "       'Cooling:Electricity [kW](Hourly)']\n",
    "# Extraer características temporales\n",
    "closest_cluster_2['hour'] = closest_cluster_2.index.hour\n",
    "closest_cluster_2['day_of_week'] = closest_cluster_2.index.dayofweek\n",
    "closest_cluster_2['month'] = closest_cluster_2.index.month"
   ]
  },
  {
   "cell_type": "code",
   "execution_count": 42,
   "id": "409b5415-2acd-4859-b247-a61c06efd1e4",
   "metadata": {},
   "outputs": [],
   "source": [
    "X=closest_cluster_2.loc[:,columnas].copy()\n",
    "y=closest_cluster_2.loc[:,'Electricity:Facility [kW](Hourly)'].copy()\n",
    "X_scaled = scaler_closest_cluster_2.transform(X)\n",
    "rmse_train_opt = np.sqrt(mean_squared_error(y, modelo_closest_cluster_2.predict(X_scaled)))\n",
    "r2_train_opt = r2_score(y, modelo_closest_cluster_2.predict(X_scaled))\n",
    "# Resultados\n",
    "results = {\n",
    "    \"Optimized Random Forest\": {\n",
    "        'RMSE Train': rmse_train_opt,\n",
    "        'R2 Train': r2_train_opt\n",
    "    }\n",
    "}"
   ]
  },
  {
   "cell_type": "code",
   "execution_count": 43,
   "id": "16f155df-7044-4e0f-b34a-4154f967e6d3",
   "metadata": {},
   "outputs": [
    {
     "name": "stdout",
     "output_type": "stream",
     "text": [
      "Resultados del modelo Random Forest optimizado:\n"
     ]
    },
    {
     "data": {
      "text/html": [
       "<div>\n",
       "<style scoped>\n",
       "    .dataframe tbody tr th:only-of-type {\n",
       "        vertical-align: middle;\n",
       "    }\n",
       "\n",
       "    .dataframe tbody tr th {\n",
       "        vertical-align: top;\n",
       "    }\n",
       "\n",
       "    .dataframe thead th {\n",
       "        text-align: right;\n",
       "    }\n",
       "</style>\n",
       "<table border=\"1\" class=\"dataframe\">\n",
       "  <thead>\n",
       "    <tr style=\"text-align: right;\">\n",
       "      <th></th>\n",
       "      <th>Optimized Random Forest</th>\n",
       "    </tr>\n",
       "  </thead>\n",
       "  <tbody>\n",
       "    <tr>\n",
       "      <th>R2 Train</th>\n",
       "      <td>0.870109</td>\n",
       "    </tr>\n",
       "    <tr>\n",
       "      <th>RMSE Train</th>\n",
       "      <td>141.630643</td>\n",
       "    </tr>\n",
       "  </tbody>\n",
       "</table>\n",
       "</div>"
      ],
      "text/plain": [
       "            Optimized Random Forest\n",
       "R2 Train                   0.870109\n",
       "RMSE Train               141.630643"
      ]
     },
     "execution_count": 43,
     "metadata": {},
     "output_type": "execute_result"
    }
   ],
   "source": [
    "# Mostrar los resultados\n",
    "print(\"Resultados del modelo Random Forest optimizado:\")\n",
    "optimized_rf_results_df=pd.DataFrame(results)\n",
    "optimized_rf_results_df"
   ]
  },
  {
   "cell_type": "markdown",
   "id": "4b1e3fcd-0719-4630-b88e-092ec8892ad7",
   "metadata": {},
   "source": [
    "# PRUEBAS CLUSTER 3"
   ]
  },
  {
   "cell_type": "code",
   "execution_count": 50,
   "id": "514a9b58-aa4f-4a43-b7ef-f6b49ad65ba0",
   "metadata": {},
   "outputs": [],
   "source": [
    "# average "
   ]
  },
  {
   "cell_type": "code",
   "execution_count": 51,
   "id": "89c31a3a-7016-4fdb-a378-80c17189dea6",
   "metadata": {},
   "outputs": [],
   "source": [
    "columnas=[\"InteriorEquipment:Electricity [kW](Hourly)\",\"Cooling:Electricity [kW](Hourly)\",\"hour\"]\n",
    "# Extraer características temporales\n",
    "average_cluster_3['hour'] = average_cluster_3.index.hour\n",
    "average_cluster_3['day_of_week'] = average_cluster_3.index.dayofweek\n",
    "average_cluster_3['month'] = average_cluster_3.index.month"
   ]
  },
  {
   "cell_type": "code",
   "execution_count": 52,
   "id": "6ab30588-c741-4d36-8431-45cca9e002e5",
   "metadata": {},
   "outputs": [],
   "source": [
    "X=average_cluster_3.loc[:,columnas].copy()\n",
    "y=average_cluster_3.loc[:,'Electricity:Facility [kW](Hourly)'].copy()\n",
    "X_scaled = scaler_average_cluster_3.transform(X)\n",
    "rmse_train_opt = np.sqrt(mean_squared_error(y, modelo_average_cluster_3.predict(X_scaled)))\n",
    "r2_train_opt = r2_score(y, modelo_average_cluster_3.predict(X_scaled))\n",
    "# Resultados\n",
    "results = {\n",
    "    \"Optimized Random Forest\": {\n",
    "        'RMSE Train': rmse_train_opt,\n",
    "        'R2 Train': r2_train_opt\n",
    "    }\n",
    "}"
   ]
  },
  {
   "cell_type": "code",
   "execution_count": 53,
   "id": "5480d524-2c31-4fdd-a82c-30f22028a909",
   "metadata": {},
   "outputs": [
    {
     "name": "stdout",
     "output_type": "stream",
     "text": [
      "Resultados del modelo Random Forest optimizado:\n"
     ]
    },
    {
     "data": {
      "text/html": [
       "<div>\n",
       "<style scoped>\n",
       "    .dataframe tbody tr th:only-of-type {\n",
       "        vertical-align: middle;\n",
       "    }\n",
       "\n",
       "    .dataframe tbody tr th {\n",
       "        vertical-align: top;\n",
       "    }\n",
       "\n",
       "    .dataframe thead th {\n",
       "        text-align: right;\n",
       "    }\n",
       "</style>\n",
       "<table border=\"1\" class=\"dataframe\">\n",
       "  <thead>\n",
       "    <tr style=\"text-align: right;\">\n",
       "      <th></th>\n",
       "      <th>Optimized Random Forest</th>\n",
       "    </tr>\n",
       "  </thead>\n",
       "  <tbody>\n",
       "    <tr>\n",
       "      <th>R2 Train</th>\n",
       "      <td>-0.510640</td>\n",
       "    </tr>\n",
       "    <tr>\n",
       "      <th>RMSE Train</th>\n",
       "      <td>401.452516</td>\n",
       "    </tr>\n",
       "  </tbody>\n",
       "</table>\n",
       "</div>"
      ],
      "text/plain": [
       "            Optimized Random Forest\n",
       "R2 Train                  -0.510640\n",
       "RMSE Train               401.452516"
      ]
     },
     "execution_count": 53,
     "metadata": {},
     "output_type": "execute_result"
    }
   ],
   "source": [
    "# Mostrar los resultados\n",
    "print(\"Resultados del modelo Random Forest optimizado:\")\n",
    "optimized_rf_results_df=pd.DataFrame(results)\n",
    "optimized_rf_results_df"
   ]
  },
  {
   "cell_type": "code",
   "execution_count": null,
   "id": "0b584554-ada4-4e71-8165-6bb71ccf139c",
   "metadata": {},
   "outputs": [],
   "source": [
    "# closest "
   ]
  },
  {
   "cell_type": "code",
   "execution_count": 55,
   "id": "a9bc47e2-7a65-4b15-a6fa-f8483c62ddd4",
   "metadata": {},
   "outputs": [],
   "source": [
    "columnas=['Heating:Electricity [kW](Hourly)', 'Fans:Electricity [kW](Hourly)',\n",
    "       'Cooling:Electricity [kW](Hourly)',\n",
    "       'InteriorLights:Electricity [kW](Hourly)', 'hour']\n",
    "# Extraer características temporales\n",
    "closest_cluster_3['hour'] = closest_cluster_3.index.hour\n",
    "closest_cluster_3['day_of_week'] = closest_cluster_3.index.dayofweek\n",
    "closest_cluster_3['month'] = closest_cluster_3.index.month"
   ]
  },
  {
   "cell_type": "code",
   "execution_count": 56,
   "id": "e08a8b86-6b84-49dd-b7ba-3b8dac2f5731",
   "metadata": {},
   "outputs": [],
   "source": [
    "X=closest_cluster_3.loc[:,columnas].copy()\n",
    "y=closest_cluster_3.loc[:,'Electricity:Facility [kW](Hourly)'].copy()\n",
    "X_scaled = scaler_closest_cluster_3.transform(X)\n",
    "rmse_train_opt = np.sqrt(mean_squared_error(y, modelo_closest_cluster_3.predict(X_scaled)))\n",
    "r2_train_opt = r2_score(y, modelo_closest_cluster_3.predict(X_scaled))\n",
    "# Resultados\n",
    "results = {\n",
    "    \"Optimized Random Forest\": {\n",
    "        'RMSE Train': rmse_train_opt,\n",
    "        'R2 Train': r2_train_opt\n",
    "    }\n",
    "}"
   ]
  },
  {
   "cell_type": "code",
   "execution_count": 57,
   "id": "10c53b74-c75b-412b-bff3-a19b54f767c9",
   "metadata": {},
   "outputs": [
    {
     "name": "stdout",
     "output_type": "stream",
     "text": [
      "Resultados del modelo Random Forest optimizado:\n"
     ]
    },
    {
     "data": {
      "text/html": [
       "<div>\n",
       "<style scoped>\n",
       "    .dataframe tbody tr th:only-of-type {\n",
       "        vertical-align: middle;\n",
       "    }\n",
       "\n",
       "    .dataframe tbody tr th {\n",
       "        vertical-align: top;\n",
       "    }\n",
       "\n",
       "    .dataframe thead th {\n",
       "        text-align: right;\n",
       "    }\n",
       "</style>\n",
       "<table border=\"1\" class=\"dataframe\">\n",
       "  <thead>\n",
       "    <tr style=\"text-align: right;\">\n",
       "      <th></th>\n",
       "      <th>Optimized Random Forest</th>\n",
       "    </tr>\n",
       "  </thead>\n",
       "  <tbody>\n",
       "    <tr>\n",
       "      <th>R2 Train</th>\n",
       "      <td>0.943908</td>\n",
       "    </tr>\n",
       "    <tr>\n",
       "      <th>RMSE Train</th>\n",
       "      <td>55.752104</td>\n",
       "    </tr>\n",
       "  </tbody>\n",
       "</table>\n",
       "</div>"
      ],
      "text/plain": [
       "            Optimized Random Forest\n",
       "R2 Train                   0.943908\n",
       "RMSE Train                55.752104"
      ]
     },
     "execution_count": 57,
     "metadata": {},
     "output_type": "execute_result"
    }
   ],
   "source": [
    "# Mostrar los resultados\n",
    "print(\"Resultados del modelo Random Forest optimizado:\")\n",
    "optimized_rf_results_df=pd.DataFrame(results)\n",
    "optimized_rf_results_df"
   ]
  },
  {
   "cell_type": "code",
   "execution_count": null,
   "id": "612c104b-0df8-48b4-8912-1f39caec2904",
   "metadata": {},
   "outputs": [],
   "source": []
  },
  {
   "cell_type": "code",
   "execution_count": null,
   "id": "1203ad94-299d-4e24-9f68-eb169af18550",
   "metadata": {},
   "outputs": [],
   "source": []
  }
 ],
 "metadata": {
  "kernelspec": {
   "display_name": "Python 3 (ipykernel)",
   "language": "python",
   "name": "python3"
  },
  "language_info": {
   "codemirror_mode": {
    "name": "ipython",
    "version": 3
   },
   "file_extension": ".py",
   "mimetype": "text/x-python",
   "name": "python",
   "nbconvert_exporter": "python",
   "pygments_lexer": "ipython3",
   "version": "3.11.9"
  }
 },
 "nbformat": 4,
 "nbformat_minor": 5
}
