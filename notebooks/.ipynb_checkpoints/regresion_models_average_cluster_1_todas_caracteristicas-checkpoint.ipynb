{
 "cells": [
  {
   "cell_type": "markdown",
   "id": "d3c7855c-0aca-4b19-88fa-a21d1d67210f",
   "metadata": {},
   "source": [
    "# Importar librerias"
   ]
  },
  {
   "cell_type": "code",
   "execution_count": 1,
   "id": "cca32c39-a545-4316-82aa-bbeef64bbec5",
   "metadata": {},
   "outputs": [],
   "source": [
    "import numpy as np\n",
    "import matplotlib.pyplot as plt\n",
    "import matplotlib as mpl\n",
    "import pandas as pd\n",
    "import seaborn as sns\n",
    "from statsmodels.stats.outliers_influence import variance_inflation_factor\n",
    "from sklearn.model_selection import train_test_split\n",
    "from sklearn.preprocessing import StandardScaler\n",
    "from sklearn.linear_model import LinearRegression, Lasso\n",
    "from sklearn.tree import DecisionTreeRegressor\n",
    "from sklearn.svm import SVR\n",
    "from sklearn.ensemble import RandomForestRegressor, VotingRegressor\n",
    "from sklearn.metrics import mean_squared_error, r2_score\n",
    "from sklearn.model_selection import GridSearchCV\n",
    "from joblib import dump"
   ]
  },
  {
   "cell_type": "markdown",
   "id": "79a490d9-8eef-40ec-be92-5c361cd76895",
   "metadata": {},
   "source": [
    "# Funciones auxiliares"
   ]
  },
  {
   "cell_type": "code",
   "execution_count": 2,
   "id": "a4fa5fbc-3eae-40fd-bab5-8ad8e0e44de0",
   "metadata": {},
   "outputs": [],
   "source": [
    "# Function to calculate the correlation matrix and plot a heatmap\n",
    "def matriz_correlacion(dataset, target):\n",
    "    corr_matrix = dataset.corr()\n",
    "    corr_matrix[target].sort_values(ascending=False)\n",
    "    cm_red_blue = mpl.colormaps['RdBu']\n",
    "    mask = np.triu(np.ones_like(corr_matrix, dtype=bool))\n",
    "    f, ax = plt.subplots(figsize=(12, 10))\n",
    "    sns.heatmap(corr_matrix, mask=mask, annot=True, fmt=\".2f\", cmap=cm_red_blue, vmax=1, vmin=-1, center=0,\n",
    "                square=True, linewidths=.5, cbar_kws={\"shrink\": .5})\n",
    "    plt.title('Heatmap with Numerical Values and Colors')\n",
    "    plt.show()"
   ]
  },
  {
   "cell_type": "code",
   "execution_count": 3,
   "id": "8a1bd2c0-cc06-42b3-b987-1faf29b9b210",
   "metadata": {},
   "outputs": [],
   "source": [
    "# Calcular el VIF para cada característica\n",
    "def calculate_vif(df):\n",
    "    vif_data = pd.DataFrame()\n",
    "    vif_data[\"feature\"] = df.columns\n",
    "    vif_data[\"VIF\"] = [variance_inflation_factor(df.values, i) for i in range(df.shape[1])]\n",
    "    return vif_data"
   ]
  },
  {
   "cell_type": "code",
   "execution_count": 4,
   "id": "377f17e5-8edc-4bf2-a47f-bc86a5bfd084",
   "metadata": {},
   "outputs": [],
   "source": [
    "# Iteratively remove features with high VIF\n",
    "def remove_high_vif_features(df, threshold=10):\n",
    "    while True:\n",
    "        vif_data = calculate_vif(df)\n",
    "        max_vif = vif_data['VIF'].max()\n",
    "        if max_vif > threshold:\n",
    "            feature_to_remove = vif_data.loc[vif_data['VIF'] == max_vif, 'feature'].values[0]\n",
    "            df = df.drop(columns=[feature_to_remove])\n",
    "        else:\n",
    "            break\n",
    "    return df, vif_data"
   ]
  },
  {
   "cell_type": "code",
   "execution_count": 5,
   "id": "84b2d8c9-aa57-447e-88d7-f3c662a56e65",
   "metadata": {},
   "outputs": [],
   "source": [
    "# # Función para entrenar y evaluar un modelo\n",
    "# def train_evaluate_model(model, X_train, X_test, y_train, y_test):\n",
    "#     model.fit(X_train, y_train)\n",
    "#     y_pred = model.predict(X_test)\n",
    "#     rmse = np.sqrt(mean_squared_error(y_test, y_pred))  # Calcular RMSE\n",
    "#     r2 = r2_score(y_test, y_pred)\n",
    "#     return rmse, r2"
   ]
  },
  {
   "cell_type": "code",
   "execution_count": 6,
   "id": "25afecfd-f0ba-4bac-b2e3-3b3d842007ec",
   "metadata": {},
   "outputs": [],
   "source": [
    "# Función para entrenar y evaluar el modelo\n",
    "def train_evaluate_model(model, X_train, X_test, y_train, y_test):\n",
    "    model.fit(X_train, y_train)\n",
    "    y_train_pred = model.predict(X_train)\n",
    "    y_test_pred = model.predict(X_test)\n",
    "    \n",
    "    rmse_train = np.sqrt(mean_squared_error(y_train, y_train_pred))\n",
    "    r2_train = r2_score(y_train, y_train_pred)\n",
    "    rmse_test = np.sqrt(mean_squared_error(y_test, y_test_pred))\n",
    "    r2_test = r2_score(y_test, y_test_pred)\n",
    "    \n",
    "    return rmse_train, r2_train, rmse_test, r2_test"
   ]
  },
  {
   "cell_type": "markdown",
   "id": "7f340b51-e59f-47e7-bdd0-b4ba78dcb364",
   "metadata": {},
   "source": [
    "# Preprocesamiento"
   ]
  },
  {
   "cell_type": "code",
   "execution_count": 7,
   "id": "6b190f71-f024-449b-9a5a-dee9a70f0be8",
   "metadata": {},
   "outputs": [],
   "source": [
    "average_cluster_1=pd.read_csv(\"../data/interim/average_series_cluster_1.csv\",parse_dates=[\"Date/Time\"])\n",
    "\n",
    "#eliminamos la columna type building porque no es relevante \n",
    "average_cluster_1.drop(columns=[\"Heating:Electricity [kW](Hourly)\"], inplace=True)"
   ]
  },
  {
   "cell_type": "code",
   "execution_count": 8,
   "id": "b4769d2c-08a8-40db-aa41-d0776103c7f8",
   "metadata": {},
   "outputs": [
    {
     "data": {
      "text/plain": [
       "(8783, 6)"
      ]
     },
     "execution_count": 8,
     "metadata": {},
     "output_type": "execute_result"
    }
   ],
   "source": [
    "average_cluster_1.shape"
   ]
  },
  {
   "cell_type": "code",
   "execution_count": 9,
   "id": "27284d3a-acdb-4e88-bdf5-8631c685e606",
   "metadata": {},
   "outputs": [
    {
     "data": {
      "text/html": [
       "<div>\n",
       "<style scoped>\n",
       "    .dataframe tbody tr th:only-of-type {\n",
       "        vertical-align: middle;\n",
       "    }\n",
       "\n",
       "    .dataframe tbody tr th {\n",
       "        vertical-align: top;\n",
       "    }\n",
       "\n",
       "    .dataframe thead th {\n",
       "        text-align: right;\n",
       "    }\n",
       "</style>\n",
       "<table border=\"1\" class=\"dataframe\">\n",
       "  <thead>\n",
       "    <tr style=\"text-align: right;\">\n",
       "      <th></th>\n",
       "      <th>Date/Time</th>\n",
       "      <th>Electricity:Facility [kW](Hourly)</th>\n",
       "      <th>Fans:Electricity [kW](Hourly)</th>\n",
       "      <th>Cooling:Electricity [kW](Hourly)</th>\n",
       "      <th>InteriorLights:Electricity [kW](Hourly)</th>\n",
       "      <th>InteriorEquipment:Electricity [kW](Hourly)</th>\n",
       "    </tr>\n",
       "  </thead>\n",
       "  <tbody>\n",
       "    <tr>\n",
       "      <th>0</th>\n",
       "      <td>2004-01-01 01:00:00</td>\n",
       "      <td>304.645379</td>\n",
       "      <td>16.785654</td>\n",
       "      <td>31.908524</td>\n",
       "      <td>24.920364</td>\n",
       "      <td>149.522181</td>\n",
       "    </tr>\n",
       "    <tr>\n",
       "      <th>1</th>\n",
       "      <td>2004-01-01 02:00:00</td>\n",
       "      <td>294.471725</td>\n",
       "      <td>14.634717</td>\n",
       "      <td>26.785034</td>\n",
       "      <td>24.920364</td>\n",
       "      <td>149.522181</td>\n",
       "    </tr>\n",
       "    <tr>\n",
       "      <th>2</th>\n",
       "      <td>2004-01-01 03:00:00</td>\n",
       "      <td>308.301318</td>\n",
       "      <td>18.124114</td>\n",
       "      <td>32.976220</td>\n",
       "      <td>24.920364</td>\n",
       "      <td>149.522181</td>\n",
       "    </tr>\n",
       "    <tr>\n",
       "      <th>3</th>\n",
       "      <td>2004-01-01 04:00:00</td>\n",
       "      <td>294.863189</td>\n",
       "      <td>14.634717</td>\n",
       "      <td>26.787125</td>\n",
       "      <td>24.920364</td>\n",
       "      <td>149.522181</td>\n",
       "    </tr>\n",
       "    <tr>\n",
       "      <th>4</th>\n",
       "      <td>2004-01-01 05:00:00</td>\n",
       "      <td>320.753038</td>\n",
       "      <td>18.124114</td>\n",
       "      <td>33.244300</td>\n",
       "      <td>24.920364</td>\n",
       "      <td>149.522181</td>\n",
       "    </tr>\n",
       "  </tbody>\n",
       "</table>\n",
       "</div>"
      ],
      "text/plain": [
       "            Date/Time  Electricity:Facility [kW](Hourly)  \\\n",
       "0 2004-01-01 01:00:00                         304.645379   \n",
       "1 2004-01-01 02:00:00                         294.471725   \n",
       "2 2004-01-01 03:00:00                         308.301318   \n",
       "3 2004-01-01 04:00:00                         294.863189   \n",
       "4 2004-01-01 05:00:00                         320.753038   \n",
       "\n",
       "   Fans:Electricity [kW](Hourly)  Cooling:Electricity [kW](Hourly)  \\\n",
       "0                      16.785654                         31.908524   \n",
       "1                      14.634717                         26.785034   \n",
       "2                      18.124114                         32.976220   \n",
       "3                      14.634717                         26.787125   \n",
       "4                      18.124114                         33.244300   \n",
       "\n",
       "   InteriorLights:Electricity [kW](Hourly)  \\\n",
       "0                                24.920364   \n",
       "1                                24.920364   \n",
       "2                                24.920364   \n",
       "3                                24.920364   \n",
       "4                                24.920364   \n",
       "\n",
       "   InteriorEquipment:Electricity [kW](Hourly)  \n",
       "0                                  149.522181  \n",
       "1                                  149.522181  \n",
       "2                                  149.522181  \n",
       "3                                  149.522181  \n",
       "4                                  149.522181  "
      ]
     },
     "execution_count": 9,
     "metadata": {},
     "output_type": "execute_result"
    }
   ],
   "source": [
    "average_cluster_1.head()"
   ]
  },
  {
   "cell_type": "code",
   "execution_count": 10,
   "id": "7e9bcaf8-6a5f-46b4-ba54-7f51fbf53fd3",
   "metadata": {},
   "outputs": [
    {
     "name": "stdout",
     "output_type": "stream",
     "text": [
      "<class 'pandas.core.frame.DataFrame'>\n",
      "RangeIndex: 8783 entries, 0 to 8782\n",
      "Data columns (total 6 columns):\n",
      " #   Column                                      Non-Null Count  Dtype         \n",
      "---  ------                                      --------------  -----         \n",
      " 0   Date/Time                                   8783 non-null   datetime64[ns]\n",
      " 1   Electricity:Facility [kW](Hourly)           8395 non-null   float64       \n",
      " 2   Fans:Electricity [kW](Hourly)               8395 non-null   float64       \n",
      " 3   Cooling:Electricity [kW](Hourly)            8395 non-null   float64       \n",
      " 4   InteriorLights:Electricity [kW](Hourly)     8395 non-null   float64       \n",
      " 5   InteriorEquipment:Electricity [kW](Hourly)  8395 non-null   float64       \n",
      "dtypes: datetime64[ns](1), float64(5)\n",
      "memory usage: 411.8 KB\n"
     ]
    }
   ],
   "source": [
    "average_cluster_1.info()"
   ]
  },
  {
   "cell_type": "code",
   "execution_count": 11,
   "id": "a83e5732-4f23-4e5d-8259-418081130c5e",
   "metadata": {},
   "outputs": [
    {
     "data": {
      "text/plain": [
       "Date/Time                                       0\n",
       "Electricity:Facility [kW](Hourly)             388\n",
       "Fans:Electricity [kW](Hourly)                 388\n",
       "Cooling:Electricity [kW](Hourly)              388\n",
       "InteriorLights:Electricity [kW](Hourly)       388\n",
       "InteriorEquipment:Electricity [kW](Hourly)    388\n",
       "dtype: int64"
      ]
     },
     "execution_count": 11,
     "metadata": {},
     "output_type": "execute_result"
    }
   ],
   "source": [
    "average_cluster_1.isna().sum()"
   ]
  },
  {
   "cell_type": "code",
   "execution_count": 12,
   "id": "c65eaf12-92f7-4c2c-bc62-ee5aab6c50a8",
   "metadata": {},
   "outputs": [
    {
     "name": "stderr",
     "output_type": "stream",
     "text": [
      "C:\\Users\\ASUS TUF\\AppData\\Local\\Temp\\ipykernel_17732\\1183276167.py:2: FutureWarning: DataFrame.fillna with 'method' is deprecated and will raise in a future version. Use obj.ffill() or obj.bfill() instead.\n",
      "  average_cluster_1.fillna(method='ffill', inplace=True)\n"
     ]
    }
   ],
   "source": [
    "# Imputar o eliminar valores faltantes si existen\n",
    "average_cluster_1.fillna(method='ffill', inplace=True)"
   ]
  },
  {
   "cell_type": "code",
   "execution_count": 13,
   "id": "a7092d43-d884-42e4-89aa-f0a4d5d0e7b0",
   "metadata": {},
   "outputs": [
    {
     "data": {
      "text/plain": [
       "Date/Time                                     0\n",
       "Electricity:Facility [kW](Hourly)             0\n",
       "Fans:Electricity [kW](Hourly)                 0\n",
       "Cooling:Electricity [kW](Hourly)              0\n",
       "InteriorLights:Electricity [kW](Hourly)       0\n",
       "InteriorEquipment:Electricity [kW](Hourly)    0\n",
       "dtype: int64"
      ]
     },
     "execution_count": 13,
     "metadata": {},
     "output_type": "execute_result"
    }
   ],
   "source": [
    "average_cluster_1.isna().sum()"
   ]
  },
  {
   "cell_type": "code",
   "execution_count": 14,
   "id": "4197a69c-54bc-4924-83d2-63ec56e640f4",
   "metadata": {},
   "outputs": [],
   "source": [
    "# Establecer la columna de fecha como índice\n",
    "average_cluster_1.set_index('Date/Time', inplace=True)"
   ]
  },
  {
   "cell_type": "code",
   "execution_count": 15,
   "id": "19923402-5eed-4edd-8600-3bb8be6eea14",
   "metadata": {},
   "outputs": [],
   "source": [
    "# Extraer características temporales\n",
    "average_cluster_1['hour'] = average_cluster_1.index.hour\n",
    "average_cluster_1['day_of_week'] = average_cluster_1.index.dayofweek\n",
    "average_cluster_1['month'] = average_cluster_1.index.month"
   ]
  },
  {
   "cell_type": "code",
   "execution_count": 16,
   "id": "e2a0891f-8720-4bd9-bb39-b7d180d37c63",
   "metadata": {},
   "outputs": [],
   "source": [
    "# # Feature engineering: Adding lag features and rolling statistics\n",
    "# for lag in range(1, 25):\n",
    "#     average_cluster_0[f'lag_{lag}'] = average_cluster_0['Electricity:Facility [kW](Hourly)'].shift(lag)\n",
    "\n",
    "# average_cluster_0['rolling_mean_24'] = average_cluster_0['Electricity:Facility [kW](Hourly)'].rolling(window=24).mean()\n",
    "# average_cluster_0['rolling_std_24'] = average_cluster_0['Electricity:Facility [kW](Hourly)'].rolling(window=24).std()\n",
    "\n",
    "# # Drop rows with NaN values resulting from lag features\n",
    "# average_cluster_0.dropna(inplace=True)"
   ]
  },
  {
   "cell_type": "code",
   "execution_count": 17,
   "id": "3e318af4-38be-487e-b843-96d4a369308f",
   "metadata": {},
   "outputs": [
    {
     "data": {
      "text/html": [
       "<div>\n",
       "<style scoped>\n",
       "    .dataframe tbody tr th:only-of-type {\n",
       "        vertical-align: middle;\n",
       "    }\n",
       "\n",
       "    .dataframe tbody tr th {\n",
       "        vertical-align: top;\n",
       "    }\n",
       "\n",
       "    .dataframe thead th {\n",
       "        text-align: right;\n",
       "    }\n",
       "</style>\n",
       "<table border=\"1\" class=\"dataframe\">\n",
       "  <thead>\n",
       "    <tr style=\"text-align: right;\">\n",
       "      <th></th>\n",
       "      <th>Electricity:Facility [kW](Hourly)</th>\n",
       "      <th>Fans:Electricity [kW](Hourly)</th>\n",
       "      <th>Cooling:Electricity [kW](Hourly)</th>\n",
       "      <th>InteriorLights:Electricity [kW](Hourly)</th>\n",
       "      <th>InteriorEquipment:Electricity [kW](Hourly)</th>\n",
       "      <th>hour</th>\n",
       "      <th>day_of_week</th>\n",
       "      <th>month</th>\n",
       "    </tr>\n",
       "    <tr>\n",
       "      <th>Date/Time</th>\n",
       "      <th></th>\n",
       "      <th></th>\n",
       "      <th></th>\n",
       "      <th></th>\n",
       "      <th></th>\n",
       "      <th></th>\n",
       "      <th></th>\n",
       "      <th></th>\n",
       "    </tr>\n",
       "  </thead>\n",
       "  <tbody>\n",
       "    <tr>\n",
       "      <th>2004-01-01 01:00:00</th>\n",
       "      <td>304.645379</td>\n",
       "      <td>16.785654</td>\n",
       "      <td>31.908524</td>\n",
       "      <td>24.920364</td>\n",
       "      <td>149.522181</td>\n",
       "      <td>1</td>\n",
       "      <td>3</td>\n",
       "      <td>1</td>\n",
       "    </tr>\n",
       "    <tr>\n",
       "      <th>2004-01-01 02:00:00</th>\n",
       "      <td>294.471725</td>\n",
       "      <td>14.634717</td>\n",
       "      <td>26.785034</td>\n",
       "      <td>24.920364</td>\n",
       "      <td>149.522181</td>\n",
       "      <td>2</td>\n",
       "      <td>3</td>\n",
       "      <td>1</td>\n",
       "    </tr>\n",
       "    <tr>\n",
       "      <th>2004-01-01 03:00:00</th>\n",
       "      <td>308.301318</td>\n",
       "      <td>18.124114</td>\n",
       "      <td>32.976220</td>\n",
       "      <td>24.920364</td>\n",
       "      <td>149.522181</td>\n",
       "      <td>3</td>\n",
       "      <td>3</td>\n",
       "      <td>1</td>\n",
       "    </tr>\n",
       "    <tr>\n",
       "      <th>2004-01-01 04:00:00</th>\n",
       "      <td>294.863189</td>\n",
       "      <td>14.634717</td>\n",
       "      <td>26.787125</td>\n",
       "      <td>24.920364</td>\n",
       "      <td>149.522181</td>\n",
       "      <td>4</td>\n",
       "      <td>3</td>\n",
       "      <td>1</td>\n",
       "    </tr>\n",
       "    <tr>\n",
       "      <th>2004-01-01 05:00:00</th>\n",
       "      <td>320.753038</td>\n",
       "      <td>18.124114</td>\n",
       "      <td>33.244300</td>\n",
       "      <td>24.920364</td>\n",
       "      <td>149.522181</td>\n",
       "      <td>5</td>\n",
       "      <td>3</td>\n",
       "      <td>1</td>\n",
       "    </tr>\n",
       "  </tbody>\n",
       "</table>\n",
       "</div>"
      ],
      "text/plain": [
       "                     Electricity:Facility [kW](Hourly)  \\\n",
       "Date/Time                                                \n",
       "2004-01-01 01:00:00                         304.645379   \n",
       "2004-01-01 02:00:00                         294.471725   \n",
       "2004-01-01 03:00:00                         308.301318   \n",
       "2004-01-01 04:00:00                         294.863189   \n",
       "2004-01-01 05:00:00                         320.753038   \n",
       "\n",
       "                     Fans:Electricity [kW](Hourly)  \\\n",
       "Date/Time                                            \n",
       "2004-01-01 01:00:00                      16.785654   \n",
       "2004-01-01 02:00:00                      14.634717   \n",
       "2004-01-01 03:00:00                      18.124114   \n",
       "2004-01-01 04:00:00                      14.634717   \n",
       "2004-01-01 05:00:00                      18.124114   \n",
       "\n",
       "                     Cooling:Electricity [kW](Hourly)  \\\n",
       "Date/Time                                               \n",
       "2004-01-01 01:00:00                         31.908524   \n",
       "2004-01-01 02:00:00                         26.785034   \n",
       "2004-01-01 03:00:00                         32.976220   \n",
       "2004-01-01 04:00:00                         26.787125   \n",
       "2004-01-01 05:00:00                         33.244300   \n",
       "\n",
       "                     InteriorLights:Electricity [kW](Hourly)  \\\n",
       "Date/Time                                                      \n",
       "2004-01-01 01:00:00                                24.920364   \n",
       "2004-01-01 02:00:00                                24.920364   \n",
       "2004-01-01 03:00:00                                24.920364   \n",
       "2004-01-01 04:00:00                                24.920364   \n",
       "2004-01-01 05:00:00                                24.920364   \n",
       "\n",
       "                     InteriorEquipment:Electricity [kW](Hourly)  hour  \\\n",
       "Date/Time                                                               \n",
       "2004-01-01 01:00:00                                  149.522181     1   \n",
       "2004-01-01 02:00:00                                  149.522181     2   \n",
       "2004-01-01 03:00:00                                  149.522181     3   \n",
       "2004-01-01 04:00:00                                  149.522181     4   \n",
       "2004-01-01 05:00:00                                  149.522181     5   \n",
       "\n",
       "                     day_of_week  month  \n",
       "Date/Time                                \n",
       "2004-01-01 01:00:00            3      1  \n",
       "2004-01-01 02:00:00            3      1  \n",
       "2004-01-01 03:00:00            3      1  \n",
       "2004-01-01 04:00:00            3      1  \n",
       "2004-01-01 05:00:00            3      1  "
      ]
     },
     "execution_count": 17,
     "metadata": {},
     "output_type": "execute_result"
    }
   ],
   "source": [
    "average_cluster_1.head()"
   ]
  },
  {
   "cell_type": "code",
   "execution_count": 18,
   "id": "dcf295c8-be76-4cc9-9d97-374930b3bce7",
   "metadata": {},
   "outputs": [
    {
     "data": {
      "text/plain": [
       "Index(['Electricity:Facility [kW](Hourly)', 'Fans:Electricity [kW](Hourly)',\n",
       "       'Cooling:Electricity [kW](Hourly)',\n",
       "       'InteriorLights:Electricity [kW](Hourly)',\n",
       "       'InteriorEquipment:Electricity [kW](Hourly)', 'hour', 'day_of_week',\n",
       "       'month'],\n",
       "      dtype='object')"
      ]
     },
     "execution_count": 18,
     "metadata": {},
     "output_type": "execute_result"
    }
   ],
   "source": [
    "average_cluster_1.columns"
   ]
  },
  {
   "cell_type": "code",
   "execution_count": 19,
   "id": "4529d36c-d913-4a9d-bd95-c45f8fb6464e",
   "metadata": {},
   "outputs": [],
   "source": [
    "target='Electricity:Facility [kW](Hourly)'"
   ]
  },
  {
   "cell_type": "code",
   "execution_count": 20,
   "id": "f5f07bde-a652-4f34-8bd0-7108ace451d9",
   "metadata": {},
   "outputs": [
    {
     "data": {
      "image/png": "[encoded data removed]",
      "text/plain": [
       "<Figure size 1200x1000 with 2 Axes>"
      ]
     },
     "metadata": {},
     "output_type": "display_data"
    }
   ],
   "source": [
    "matriz_correlacion(average_cluster_1, target)"
   ]
  },
  {
   "cell_type": "code",
   "execution_count": 21,
   "id": "676a7d9e-37ca-4f93-97f1-671e0916695b",
   "metadata": {},
   "outputs": [],
   "source": [
    "features_selected_corr = average_cluster_1.drop(['Electricity:Facility [kW](Hourly)'], axis=1)"
   ]
  },
  {
   "cell_type": "code",
   "execution_count": 22,
   "id": "e928c876-48f4-48a7-9c4a-27833e491a82",
   "metadata": {},
   "outputs": [],
   "source": [
    " taget_predict=average_cluster_1['Electricity:Facility [kW](Hourly)'].copy()"
   ]
  },
  {
   "cell_type": "markdown",
   "id": "1fff6d13-3af5-4d21-8bfe-060831d15237",
   "metadata": {},
   "source": [
    "# Seleccion del modelo"
   ]
  },
  {
   "cell_type": "code",
   "execution_count": 23,
   "id": "8db868da-093c-4cbe-9e57-23a0ea03be86",
   "metadata": {},
   "outputs": [],
   "source": [
    "# Dividir los datos en conjuntos de entrenamiento y prueba\n",
    "X_train_corr, X_test_corr, y_train_corr, y_test_corr = train_test_split(features_selected_corr, taget_predict, test_size=0.2, random_state=42)"
   ]
  },
  {
   "cell_type": "code",
   "execution_count": 24,
   "id": "5f7f018d-8311-45e5-a0c0-d357d4db5697",
   "metadata": {},
   "outputs": [],
   "source": [
    "# Escalar las características\n",
    "scaler_corr = StandardScaler()\n",
    "X_train_scaled_corr = scaler_corr.fit_transform(X_train_corr)\n",
    "X_test_scaled_corr = scaler_corr.transform(X_test_corr)"
   ]
  },
  {
   "cell_type": "code",
   "execution_count": 25,
   "id": "bc206ff9-f69a-46ef-b8af-129e8cb7611d",
   "metadata": {},
   "outputs": [
    {
     "data": {
      "text/plain": [
       "Index(['Fans:Electricity [kW](Hourly)', 'Cooling:Electricity [kW](Hourly)',\n",
       "       'InteriorLights:Electricity [kW](Hourly)',\n",
       "       'InteriorEquipment:Electricity [kW](Hourly)', 'hour', 'day_of_week',\n",
       "       'month'],\n",
       "      dtype='object')"
      ]
     },
     "execution_count": 25,
     "metadata": {},
     "output_type": "execute_result"
    }
   ],
   "source": [
    "X_train_corr.columns"
   ]
  },
  {
   "cell_type": "code",
   "execution_count": 26,
   "id": "64021972-2632-4bd8-81d2-45279d3d69b9",
   "metadata": {},
   "outputs": [],
   "source": [
    "# Definición de modelos\n",
    "models = {\n",
    "    \"Linear Regression\": LinearRegression(),\n",
    "    \"Stepwise Linear Regression\": Lasso(alpha=0.01),  # Utilizando Lasso como aproximación a la regresión paso a paso\n",
    "    \"Tree\": DecisionTreeRegressor(),\n",
    "    \"SVM\": SVR(kernel='rbf'),\n",
    "    \"Efficient Linear\": LinearRegression(),  # Utilizando Linear Regression como proxy\n",
    "    \"Ensemble\": VotingRegressor(estimators=[\n",
    "        ('lr', LinearRegression()),\n",
    "        ('dt', DecisionTreeRegressor()),\n",
    "        ('rf', RandomForestRegressor(n_estimators=100, random_state=42))\n",
    "    ]),\n",
    "    \"Random Forest\": RandomForestRegressor(n_estimators=100, random_state=42)\n",
    "}\n",
    "\n",
    "# Variables para almacenar resultados y modelos entrenados\n",
    "results = {}\n",
    "trained_models = {}\n",
    "\n",
    "# Entrenar y evaluar cada modelo\n",
    "for model_name, model in models.items():\n",
    "    rmse_train, r2_train, rmse_test, r2_test = train_evaluate_model(model, X_train_scaled_corr, X_test_scaled_corr, y_train_corr, y_test_corr)\n",
    "    results[model_name] = {\n",
    "        'RMSE Train': rmse_train, \n",
    "        'R2 Train': r2_train,\n",
    "        'RMSE Test': rmse_test, \n",
    "        'R2 Test': r2_test\n",
    "    }\n",
    "    # Guardar el modelo entrenado en el diccionario\n",
    "    trained_models[model_name] = model\n"
   ]
  },
  {
   "cell_type": "code",
   "execution_count": 27,
   "id": "a09be69c-4128-4110-a749-f49d8fee42fa",
   "metadata": {},
   "outputs": [
    {
     "data": {
      "text/html": [
       "<div>\n",
       "<style scoped>\n",
       "    .dataframe tbody tr th:only-of-type {\n",
       "        vertical-align: middle;\n",
       "    }\n",
       "\n",
       "    .dataframe tbody tr th {\n",
       "        vertical-align: top;\n",
       "    }\n",
       "\n",
       "    .dataframe thead th {\n",
       "        text-align: right;\n",
       "    }\n",
       "</style>\n",
       "<table border=\"1\" class=\"dataframe\">\n",
       "  <thead>\n",
       "    <tr style=\"text-align: right;\">\n",
       "      <th></th>\n",
       "      <th>Linear Regression</th>\n",
       "      <th>Stepwise Linear Regression</th>\n",
       "      <th>Tree</th>\n",
       "      <th>SVM</th>\n",
       "      <th>Efficient Linear</th>\n",
       "      <th>Ensemble</th>\n",
       "      <th>Random Forest</th>\n",
       "    </tr>\n",
       "  </thead>\n",
       "  <tbody>\n",
       "    <tr>\n",
       "      <th>RMSE Train</th>\n",
       "      <td>34.759326</td>\n",
       "      <td>34.759388</td>\n",
       "      <td>0.770653</td>\n",
       "      <td>75.137662</td>\n",
       "      <td>34.759326</td>\n",
       "      <td>12.100381</td>\n",
       "      <td>4.343300</td>\n",
       "    </tr>\n",
       "    <tr>\n",
       "      <th>R2 Train</th>\n",
       "      <td>0.993916</td>\n",
       "      <td>0.993916</td>\n",
       "      <td>0.999997</td>\n",
       "      <td>0.971569</td>\n",
       "      <td>0.993916</td>\n",
       "      <td>0.999263</td>\n",
       "      <td>0.999905</td>\n",
       "    </tr>\n",
       "    <tr>\n",
       "      <th>RMSE Test</th>\n",
       "      <td>35.147554</td>\n",
       "      <td>35.144578</td>\n",
       "      <td>14.375766</td>\n",
       "      <td>82.161819</td>\n",
       "      <td>35.147554</td>\n",
       "      <td>15.368367</td>\n",
       "      <td>11.430956</td>\n",
       "    </tr>\n",
       "    <tr>\n",
       "      <th>R2 Test</th>\n",
       "      <td>0.993865</td>\n",
       "      <td>0.993866</td>\n",
       "      <td>0.998974</td>\n",
       "      <td>0.966478</td>\n",
       "      <td>0.993865</td>\n",
       "      <td>0.998827</td>\n",
       "      <td>0.999351</td>\n",
       "    </tr>\n",
       "  </tbody>\n",
       "</table>\n",
       "</div>"
      ],
      "text/plain": [
       "            Linear Regression  Stepwise Linear Regression       Tree  \\\n",
       "RMSE Train          34.759326                   34.759388   0.770653   \n",
       "R2 Train             0.993916                    0.993916   0.999997   \n",
       "RMSE Test           35.147554                   35.144578  14.375766   \n",
       "R2 Test              0.993865                    0.993866   0.998974   \n",
       "\n",
       "                  SVM  Efficient Linear   Ensemble  Random Forest  \n",
       "RMSE Train  75.137662         34.759326  12.100381       4.343300  \n",
       "R2 Train     0.971569          0.993916   0.999263       0.999905  \n",
       "RMSE Test   82.161819         35.147554  15.368367      11.430956  \n",
       "R2 Test      0.966478          0.993865   0.998827       0.999351  "
      ]
     },
     "execution_count": 27,
     "metadata": {},
     "output_type": "execute_result"
    }
   ],
   "source": [
    "# Convertir a DataFrame y verificar overfitting\n",
    "df_overfitting_results= pd.DataFrame(results)\n",
    "df_overfitting_results.head()"
   ]
  },
  {
   "cell_type": "code",
   "execution_count": 28,
   "id": "fa3e2033-1598-4a2b-a776-7cfaa8ba3c2b",
   "metadata": {},
   "outputs": [
    {
     "data": {
      "text/plain": [
       "['../models/scaler_average_cluster_1.joblib']"
      ]
     },
     "execution_count": 28,
     "metadata": {},
     "output_type": "execute_result"
    }
   ],
   "source": [
    "dump(trained_models[\"Random Forest\"], '../models/modelo_average_cluster_1.joblib')\n",
    "dump(scaler_corr, '../models/scaler_average_cluster_1.joblib')"
   ]
  },
  {
   "cell_type": "markdown",
   "id": "b57fa81f-27be-4140-b4fc-cd97f77acfed",
   "metadata": {
    "jp-MarkdownHeadingCollapsed": true
   },
   "source": [
    "# Mejorar hiperparametros"
   ]
  },
  {
   "cell_type": "code",
   "execution_count": 43,
   "id": "c0665f32-b66a-4075-a8d9-5407e2928990",
   "metadata": {},
   "outputs": [
    {
     "name": "stdout",
     "output_type": "stream",
     "text": [
      "Fitting 3 folds for each of 216 candidates, totalling 648 fits\n"
     ]
    }
   ],
   "source": [
    "# Definir el espacio de búsqueda de hiperparámetros\n",
    "param_grid = {\n",
    "    'n_estimators': [50, 100, 200],\n",
    "    'max_depth': [None, 10, 20, 30],\n",
    "    'min_samples_split': [2, 5, 10],\n",
    "    'min_samples_leaf': [1, 2, 4],\n",
    "    'bootstrap': [True, False]\n",
    "}\n",
    "\n",
    "# Configurar GridSearchCV\n",
    "grid_search = GridSearchCV(estimator=RandomForestRegressor(random_state=42),\n",
    "                           param_grid=param_grid,\n",
    "                           cv=3,  # Validación cruzada de 3 pliegues\n",
    "                           n_jobs=-1,  # Usar todos los núcleos disponibles\n",
    "                           scoring='neg_root_mean_squared_error',  # Usar RMSE\n",
    "                           verbose=2)\n",
    "\n",
    "# Realizar la búsqueda en cuadrícula\n",
    "grid_search.fit(X_train_scaled_corr, y_train_corr)\n",
    "\n",
    "# Obtener los mejores hiperparámetros\n",
    "best_params = grid_search.best_params_"
   ]
  },
  {
   "cell_type": "code",
   "execution_count": 44,
   "id": "8e12d6f2-65cb-47a2-9984-5792b29689ea",
   "metadata": {},
   "outputs": [
    {
     "data": {
      "text/plain": [
       "{'bootstrap': True,\n",
       " 'max_depth': 20,\n",
       " 'min_samples_leaf': 1,\n",
       " 'min_samples_split': 2,\n",
       " 'n_estimators': 200}"
      ]
     },
     "execution_count": 44,
     "metadata": {},
     "output_type": "execute_result"
    }
   ],
   "source": [
    "print(\"Mejores hiperparámetros:\", best_params)"
   ]
  },
  {
   "cell_type": "code",
   "execution_count": 45,
   "id": "e2d44881-e0a6-4d0d-90c0-f16307e0fc1f",
   "metadata": {},
   "outputs": [],
   "source": [
    "# Entrenar el modelo con los mejores hiperparámetros\n",
    "optimized_rf_model = RandomForestRegressor(**best_params, random_state=42)\n",
    "optimized_rf_model.fit(X_train_scaled_corr, y_train_corr)\n",
    "\n",
    "# Evaluar el modelo optimizado\n",
    "rmse_train_opt = np.sqrt(mean_squared_error(y_train_corr, optimized_rf_model.predict(X_train_scaled_corr)))\n",
    "r2_train_opt = r2_score(y_train_corr, optimized_rf_model.predict(X_train_scaled_corr))\n",
    "\n",
    "rmse_test_opt = np.sqrt(mean_squared_error(y_test_corr, optimized_rf_model.predict(X_test_scaled_corr)))\n",
    "r2_test_opt = r2_score(y_test_corr, optimized_rf_model.predict(X_test_scaled_corr))\n",
    "\n",
    "# Resultados\n",
    "optimized_rf_results = {\n",
    "    \"Optimized Random Forest\": {\n",
    "        'RMSE Train': rmse_train_opt,\n",
    "        'R2 Train': r2_train_opt,\n",
    "        'RMSE Test': rmse_test_opt,\n",
    "        'R2 Test': r2_test_opt\n",
    "    }\n",
    "}"
   ]
  },
  {
   "cell_type": "code",
   "execution_count": 46,
   "id": "d1817bd9-d789-4771-b790-cc9aaed41db8",
   "metadata": {},
   "outputs": [
    {
     "data": {
      "text/html": [
       "<div>\n",
       "<style scoped>\n",
       "    .dataframe tbody tr th:only-of-type {\n",
       "        vertical-align: middle;\n",
       "    }\n",
       "\n",
       "    .dataframe tbody tr th {\n",
       "        vertical-align: top;\n",
       "    }\n",
       "\n",
       "    .dataframe thead th {\n",
       "        text-align: right;\n",
       "    }\n",
       "</style>\n",
       "<table border=\"1\" class=\"dataframe\">\n",
       "  <thead>\n",
       "    <tr style=\"text-align: right;\">\n",
       "      <th></th>\n",
       "      <th>Optimized Random Forest</th>\n",
       "    </tr>\n",
       "  </thead>\n",
       "  <tbody>\n",
       "    <tr>\n",
       "      <th>MSE Test</th>\n",
       "      <td>396.865933</td>\n",
       "    </tr>\n",
       "    <tr>\n",
       "      <th>MSE Train</th>\n",
       "      <td>63.224291</td>\n",
       "    </tr>\n",
       "    <tr>\n",
       "      <th>R2 Test</th>\n",
       "      <td>0.998016</td>\n",
       "    </tr>\n",
       "    <tr>\n",
       "      <th>R2 Train</th>\n",
       "      <td>0.999682</td>\n",
       "    </tr>\n",
       "  </tbody>\n",
       "</table>\n",
       "</div>"
      ],
      "text/plain": [
       "           Optimized Random Forest\n",
       "MSE Test                396.865933\n",
       "MSE Train                63.224291\n",
       "R2 Test                   0.998016\n",
       "R2 Train                  0.999682"
      ]
     },
     "execution_count": 46,
     "metadata": {},
     "output_type": "execute_result"
    }
   ],
   "source": [
    "# Mostrar los resultados\n",
    "print(\"Resultados del modelo Random Forest optimizado:\")\n",
    "optimized_rf_results_df=pd.DataFrame(optimized_rf_results)\n",
    "optimized_rf_results_df"
   ]
  },
  {
   "cell_type": "code",
   "execution_count": null,
   "id": "5fa04289-5b38-4865-9b14-6e1feb07728b",
   "metadata": {},
   "outputs": [],
   "source": []
  },
  {
   "cell_type": "code",
   "execution_count": null,
   "id": "0a48ddad-4e79-4223-ae82-3bfa2b72440a",
   "metadata": {},
   "outputs": [],
   "source": []
  },
  {
   "cell_type": "code",
   "execution_count": null,
   "id": "76cde6bd-6f11-41a7-a600-194d01c70a25",
   "metadata": {},
   "outputs": [],
   "source": []
  }
 ],
 "metadata": {
  "kernelspec": {
   "display_name": "Python 3 (ipykernel)",
   "language": "python",
   "name": "python3"
  },
  "language_info": {
   "codemirror_mode": {
    "name": "ipython",
    "version": 3
   },
   "file_extension": ".py",
   "mimetype": "text/x-python",
   "name": "python",
   "nbconvert_exporter": "python",
   "pygments_lexer": "ipython3",
   "version": "3.11.9"
  }
 },
 "nbformat": 4,
 "nbformat_minor": 5
}
