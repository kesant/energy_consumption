{
 "cells": [
  {
   "cell_type": "markdown",
   "id": "d3c7855c-0aca-4b19-88fa-a21d1d67210f",
   "metadata": {},
   "source": [
    "# Importar librerias"
   ]
  },
  {
   "cell_type": "code",
   "execution_count": 1,
   "id": "cca32c39-a545-4316-82aa-bbeef64bbec5",
   "metadata": {},
   "outputs": [],
   "source": [
    "import numpy as np\n",
    "import matplotlib.pyplot as plt\n",
    "import matplotlib as mpl\n",
    "import pandas as pd\n",
    "import seaborn as sns\n",
    "from statsmodels.stats.outliers_influence import variance_inflation_factor\n",
    "from sklearn.model_selection import train_test_split\n",
    "from sklearn.preprocessing import StandardScaler\n",
    "from sklearn.linear_model import LinearRegression, Lasso\n",
    "from sklearn.tree import DecisionTreeRegressor\n",
    "from sklearn.svm import SVR\n",
    "from sklearn.ensemble import RandomForestRegressor, VotingRegressor\n",
    "from sklearn.metrics import mean_squared_error, r2_score\n",
    "from sklearn.model_selection import GridSearchCV\n",
    "from joblib import dump"
   ]
  },
  {
   "cell_type": "markdown",
   "id": "79a490d9-8eef-40ec-be92-5c361cd76895",
   "metadata": {},
   "source": [
    "# Funciones auxiliares"
   ]
  },
  {
   "cell_type": "code",
   "execution_count": 2,
   "id": "a4fa5fbc-3eae-40fd-bab5-8ad8e0e44de0",
   "metadata": {},
   "outputs": [],
   "source": [
    "def matriz_correlacion(dataset, target):\n",
    "    corr_matrix = dataset.corr()\n",
    "    corr_matrix[target].sort_values(ascending=False)\n",
    "    #from matplotlib.colors import ListedColormap\n",
    "    #cm_blue_orange = ListedColormap(['tab:blue', 'orange'])\n",
    "    cm_red_blue = mpl.colormaps['RdBu']\n",
    "    mask = np.triu(np.ones_like(corr_matrix, dtype=bool))\n",
    "    f, ax = plt.subplots(figsize=(8, 6))\n",
    "    sns.heatmap(corr_matrix, mask=mask, annot=True, fmt=\".2f\", cmap=cm_red_blue, vmax=1, vmin=-1, center=0,\n",
    "                square=True, linewidths=.5, cbar_kws={\"shrink\": .5})\n",
    "    plt.title('Heatmap con Valores Numéricos y Colores')\n",
    "    # Mostrar el gráfico\n",
    "    plt.show()"
   ]
  },
  {
   "cell_type": "code",
   "execution_count": 3,
   "id": "8a1bd2c0-cc06-42b3-b987-1faf29b9b210",
   "metadata": {},
   "outputs": [],
   "source": [
    "# Calcular el VIF para cada característica\n",
    "def calculate_vif(df):\n",
    "    vif_data = pd.DataFrame()\n",
    "    vif_data[\"feature\"] = df.columns\n",
    "    vif_data[\"VIF\"] = [variance_inflation_factor(df.values, i) for i in range(df.shape[1])]\n",
    "    return vif_data"
   ]
  },
  {
   "cell_type": "code",
   "execution_count": 4,
   "id": "0170f80f-3a58-4aa2-a142-34ac2ae82135",
   "metadata": {},
   "outputs": [],
   "source": [
    "# Iteratively remove features with high VIF\n",
    "def remove_high_vif_features(df, threshold=10):\n",
    "    while True:\n",
    "        vif_data = calculate_vif(df)\n",
    "        max_vif = vif_data['VIF'].max()\n",
    "        if max_vif > threshold:\n",
    "            feature_to_remove = vif_data.loc[vif_data['VIF'] == max_vif, 'feature'].values[0]\n",
    "            df = df.drop(columns=[feature_to_remove])\n",
    "        else:\n",
    "            break\n",
    "    return df, vif_data"
   ]
  },
  {
   "cell_type": "code",
   "execution_count": 5,
   "id": "84b2d8c9-aa57-447e-88d7-f3c662a56e65",
   "metadata": {},
   "outputs": [],
   "source": [
    "# # Función para entrenar y evaluar un modelo\n",
    "# def train_evaluate_model(model, X_train, X_test, y_train, y_test):\n",
    "#     model.fit(X_train, y_train)\n",
    "#     y_pred = model.predict(X_test)\n",
    "#     rmse = np.sqrt(mean_squared_error(y_test, y_pred))  # Calcular RMSE\n",
    "#     r2 = r2_score(y_test, y_pred)\n",
    "#     return rmse, r2"
   ]
  },
  {
   "cell_type": "code",
   "execution_count": 6,
   "id": "adf6c849-1fc3-4874-b251-6ad924003a8d",
   "metadata": {},
   "outputs": [],
   "source": [
    "# Función para entrenar y evaluar el modelo\n",
    "def train_evaluate_model(model, X_train, X_test, y_train, y_test):\n",
    "    model.fit(X_train, y_train)\n",
    "    y_train_pred = model.predict(X_train)\n",
    "    y_test_pred = model.predict(X_test)\n",
    "    \n",
    "    rmse_train = np.sqrt(mean_squared_error(y_train, y_train_pred))\n",
    "    r2_train = r2_score(y_train, y_train_pred)\n",
    "    rmse_test = np.sqrt(mean_squared_error(y_test, y_test_pred))\n",
    "    r2_test = r2_score(y_test, y_test_pred)\n",
    "    \n",
    "    return rmse_train, r2_train, rmse_test, r2_test"
   ]
  },
  {
   "cell_type": "markdown",
   "id": "7f340b51-e59f-47e7-bdd0-b4ba78dcb364",
   "metadata": {},
   "source": [
    "# Preprocesamiento"
   ]
  },
  {
   "cell_type": "code",
   "execution_count": 7,
   "id": "6b190f71-f024-449b-9a5a-dee9a70f0be8",
   "metadata": {},
   "outputs": [],
   "source": [
    "average_cluster_3=pd.read_csv(\"../data/interim/average_series_cluster_3.csv\",parse_dates=[\"Date/Time\"])"
   ]
  },
  {
   "cell_type": "code",
   "execution_count": 8,
   "id": "b4769d2c-08a8-40db-aa41-d0776103c7f8",
   "metadata": {},
   "outputs": [
    {
     "data": {
      "text/plain": [
       "(8783, 7)"
      ]
     },
     "execution_count": 8,
     "metadata": {},
     "output_type": "execute_result"
    }
   ],
   "source": [
    "average_cluster_3.shape"
   ]
  },
  {
   "cell_type": "code",
   "execution_count": 9,
   "id": "27284d3a-acdb-4e88-bdf5-8631c685e606",
   "metadata": {},
   "outputs": [
    {
     "data": {
      "text/html": [
       "<div>\n",
       "<style scoped>\n",
       "    .dataframe tbody tr th:only-of-type {\n",
       "        vertical-align: middle;\n",
       "    }\n",
       "\n",
       "    .dataframe tbody tr th {\n",
       "        vertical-align: top;\n",
       "    }\n",
       "\n",
       "    .dataframe thead th {\n",
       "        text-align: right;\n",
       "    }\n",
       "</style>\n",
       "<table border=\"1\" class=\"dataframe\">\n",
       "  <thead>\n",
       "    <tr style=\"text-align: right;\">\n",
       "      <th></th>\n",
       "      <th>Date/Time</th>\n",
       "      <th>Electricity:Facility [kW](Hourly)</th>\n",
       "      <th>Fans:Electricity [kW](Hourly)</th>\n",
       "      <th>Cooling:Electricity [kW](Hourly)</th>\n",
       "      <th>Heating:Electricity [kW](Hourly)</th>\n",
       "      <th>InteriorLights:Electricity [kW](Hourly)</th>\n",
       "      <th>InteriorEquipment:Electricity [kW](Hourly)</th>\n",
       "    </tr>\n",
       "  </thead>\n",
       "  <tbody>\n",
       "    <tr>\n",
       "      <th>0</th>\n",
       "      <td>2004-01-01 01:00:00</td>\n",
       "      <td>161.387407</td>\n",
       "      <td>16.394480</td>\n",
       "      <td>26.970423</td>\n",
       "      <td>0.0</td>\n",
       "      <td>43.513342</td>\n",
       "      <td>52.539744</td>\n",
       "    </tr>\n",
       "    <tr>\n",
       "      <th>1</th>\n",
       "      <td>2004-01-01 02:00:00</td>\n",
       "      <td>156.571442</td>\n",
       "      <td>16.303037</td>\n",
       "      <td>22.348740</td>\n",
       "      <td>0.0</td>\n",
       "      <td>43.513342</td>\n",
       "      <td>52.539744</td>\n",
       "    </tr>\n",
       "    <tr>\n",
       "      <th>2</th>\n",
       "      <td>2004-01-01 03:00:00</td>\n",
       "      <td>170.833916</td>\n",
       "      <td>25.161407</td>\n",
       "      <td>27.599414</td>\n",
       "      <td>0.0</td>\n",
       "      <td>43.513342</td>\n",
       "      <td>52.539744</td>\n",
       "    </tr>\n",
       "    <tr>\n",
       "      <th>3</th>\n",
       "      <td>2004-01-01 04:00:00</td>\n",
       "      <td>157.000881</td>\n",
       "      <td>16.670542</td>\n",
       "      <td>22.405555</td>\n",
       "      <td>0.0</td>\n",
       "      <td>43.513342</td>\n",
       "      <td>52.539744</td>\n",
       "    </tr>\n",
       "    <tr>\n",
       "      <th>4</th>\n",
       "      <td>2004-01-01 05:00:00</td>\n",
       "      <td>171.708903</td>\n",
       "      <td>25.424457</td>\n",
       "      <td>27.787371</td>\n",
       "      <td>0.0</td>\n",
       "      <td>43.513342</td>\n",
       "      <td>52.539744</td>\n",
       "    </tr>\n",
       "  </tbody>\n",
       "</table>\n",
       "</div>"
      ],
      "text/plain": [
       "            Date/Time  Electricity:Facility [kW](Hourly)  \\\n",
       "0 2004-01-01 01:00:00                         161.387407   \n",
       "1 2004-01-01 02:00:00                         156.571442   \n",
       "2 2004-01-01 03:00:00                         170.833916   \n",
       "3 2004-01-01 04:00:00                         157.000881   \n",
       "4 2004-01-01 05:00:00                         171.708903   \n",
       "\n",
       "   Fans:Electricity [kW](Hourly)  Cooling:Electricity [kW](Hourly)  \\\n",
       "0                      16.394480                         26.970423   \n",
       "1                      16.303037                         22.348740   \n",
       "2                      25.161407                         27.599414   \n",
       "3                      16.670542                         22.405555   \n",
       "4                      25.424457                         27.787371   \n",
       "\n",
       "   Heating:Electricity [kW](Hourly)  InteriorLights:Electricity [kW](Hourly)  \\\n",
       "0                               0.0                                43.513342   \n",
       "1                               0.0                                43.513342   \n",
       "2                               0.0                                43.513342   \n",
       "3                               0.0                                43.513342   \n",
       "4                               0.0                                43.513342   \n",
       "\n",
       "   InteriorEquipment:Electricity [kW](Hourly)  \n",
       "0                                   52.539744  \n",
       "1                                   52.539744  \n",
       "2                                   52.539744  \n",
       "3                                   52.539744  \n",
       "4                                   52.539744  "
      ]
     },
     "execution_count": 9,
     "metadata": {},
     "output_type": "execute_result"
    }
   ],
   "source": [
    "average_cluster_3.head()"
   ]
  },
  {
   "cell_type": "code",
   "execution_count": 10,
   "id": "7e9bcaf8-6a5f-46b4-ba54-7f51fbf53fd3",
   "metadata": {},
   "outputs": [
    {
     "name": "stdout",
     "output_type": "stream",
     "text": [
      "<class 'pandas.core.frame.DataFrame'>\n",
      "RangeIndex: 8783 entries, 0 to 8782\n",
      "Data columns (total 7 columns):\n",
      " #   Column                                      Non-Null Count  Dtype         \n",
      "---  ------                                      --------------  -----         \n",
      " 0   Date/Time                                   8783 non-null   datetime64[ns]\n",
      " 1   Electricity:Facility [kW](Hourly)           8395 non-null   float64       \n",
      " 2   Fans:Electricity [kW](Hourly)               8395 non-null   float64       \n",
      " 3   Cooling:Electricity [kW](Hourly)            8395 non-null   float64       \n",
      " 4   Heating:Electricity [kW](Hourly)            8395 non-null   float64       \n",
      " 5   InteriorLights:Electricity [kW](Hourly)     8395 non-null   float64       \n",
      " 6   InteriorEquipment:Electricity [kW](Hourly)  8395 non-null   float64       \n",
      "dtypes: datetime64[ns](1), float64(6)\n",
      "memory usage: 480.4 KB\n"
     ]
    }
   ],
   "source": [
    "average_cluster_3.info()"
   ]
  },
  {
   "cell_type": "code",
   "execution_count": 11,
   "id": "a83e5732-4f23-4e5d-8259-418081130c5e",
   "metadata": {},
   "outputs": [
    {
     "data": {
      "text/plain": [
       "Date/Time                                       0\n",
       "Electricity:Facility [kW](Hourly)             388\n",
       "Fans:Electricity [kW](Hourly)                 388\n",
       "Cooling:Electricity [kW](Hourly)              388\n",
       "Heating:Electricity [kW](Hourly)              388\n",
       "InteriorLights:Electricity [kW](Hourly)       388\n",
       "InteriorEquipment:Electricity [kW](Hourly)    388\n",
       "dtype: int64"
      ]
     },
     "execution_count": 11,
     "metadata": {},
     "output_type": "execute_result"
    }
   ],
   "source": [
    "average_cluster_3.isna().sum()"
   ]
  },
  {
   "cell_type": "code",
   "execution_count": 12,
   "id": "c65eaf12-92f7-4c2c-bc62-ee5aab6c50a8",
   "metadata": {},
   "outputs": [
    {
     "name": "stderr",
     "output_type": "stream",
     "text": [
      "C:\\Users\\ASUS TUF\\AppData\\Local\\Temp\\ipykernel_19388\\3538078822.py:2: FutureWarning: DataFrame.fillna with 'method' is deprecated and will raise in a future version. Use obj.ffill() or obj.bfill() instead.\n",
      "  average_cluster_3.fillna(method='ffill', inplace=True)\n"
     ]
    }
   ],
   "source": [
    "# Imputar o eliminar valores faltantes si existen\n",
    "average_cluster_3.fillna(method='ffill', inplace=True)"
   ]
  },
  {
   "cell_type": "code",
   "execution_count": 13,
   "id": "a7092d43-d884-42e4-89aa-f0a4d5d0e7b0",
   "metadata": {},
   "outputs": [
    {
     "data": {
      "text/plain": [
       "Date/Time                                     0\n",
       "Electricity:Facility [kW](Hourly)             0\n",
       "Fans:Electricity [kW](Hourly)                 0\n",
       "Cooling:Electricity [kW](Hourly)              0\n",
       "Heating:Electricity [kW](Hourly)              0\n",
       "InteriorLights:Electricity [kW](Hourly)       0\n",
       "InteriorEquipment:Electricity [kW](Hourly)    0\n",
       "dtype: int64"
      ]
     },
     "execution_count": 13,
     "metadata": {},
     "output_type": "execute_result"
    }
   ],
   "source": [
    "average_cluster_3.isna().sum()"
   ]
  },
  {
   "cell_type": "code",
   "execution_count": 14,
   "id": "4197a69c-54bc-4924-83d2-63ec56e640f4",
   "metadata": {},
   "outputs": [],
   "source": [
    "# Establecer la columna de fecha como índice\n",
    "average_cluster_3.set_index('Date/Time', inplace=True)"
   ]
  },
  {
   "cell_type": "code",
   "execution_count": 15,
   "id": "19923402-5eed-4edd-8600-3bb8be6eea14",
   "metadata": {},
   "outputs": [],
   "source": [
    "# Extraer características temporales\n",
    "average_cluster_3['hour'] = average_cluster_3.index.hour\n",
    "average_cluster_3['day_of_week'] = average_cluster_3.index.dayofweek\n",
    "average_cluster_3['month'] = average_cluster_3.index.month"
   ]
  },
  {
   "cell_type": "code",
   "execution_count": 16,
   "id": "3e318af4-38be-487e-b843-96d4a369308f",
   "metadata": {},
   "outputs": [
    {
     "data": {
      "text/html": [
       "<div>\n",
       "<style scoped>\n",
       "    .dataframe tbody tr th:only-of-type {\n",
       "        vertical-align: middle;\n",
       "    }\n",
       "\n",
       "    .dataframe tbody tr th {\n",
       "        vertical-align: top;\n",
       "    }\n",
       "\n",
       "    .dataframe thead th {\n",
       "        text-align: right;\n",
       "    }\n",
       "</style>\n",
       "<table border=\"1\" class=\"dataframe\">\n",
       "  <thead>\n",
       "    <tr style=\"text-align: right;\">\n",
       "      <th></th>\n",
       "      <th>Electricity:Facility [kW](Hourly)</th>\n",
       "      <th>Fans:Electricity [kW](Hourly)</th>\n",
       "      <th>Cooling:Electricity [kW](Hourly)</th>\n",
       "      <th>Heating:Electricity [kW](Hourly)</th>\n",
       "      <th>InteriorLights:Electricity [kW](Hourly)</th>\n",
       "      <th>InteriorEquipment:Electricity [kW](Hourly)</th>\n",
       "      <th>hour</th>\n",
       "      <th>day_of_week</th>\n",
       "      <th>month</th>\n",
       "    </tr>\n",
       "    <tr>\n",
       "      <th>Date/Time</th>\n",
       "      <th></th>\n",
       "      <th></th>\n",
       "      <th></th>\n",
       "      <th></th>\n",
       "      <th></th>\n",
       "      <th></th>\n",
       "      <th></th>\n",
       "      <th></th>\n",
       "      <th></th>\n",
       "    </tr>\n",
       "  </thead>\n",
       "  <tbody>\n",
       "    <tr>\n",
       "      <th>2004-01-01 01:00:00</th>\n",
       "      <td>161.387407</td>\n",
       "      <td>16.394480</td>\n",
       "      <td>26.970423</td>\n",
       "      <td>0.0</td>\n",
       "      <td>43.513342</td>\n",
       "      <td>52.539744</td>\n",
       "      <td>1</td>\n",
       "      <td>3</td>\n",
       "      <td>1</td>\n",
       "    </tr>\n",
       "    <tr>\n",
       "      <th>2004-01-01 02:00:00</th>\n",
       "      <td>156.571442</td>\n",
       "      <td>16.303037</td>\n",
       "      <td>22.348740</td>\n",
       "      <td>0.0</td>\n",
       "      <td>43.513342</td>\n",
       "      <td>52.539744</td>\n",
       "      <td>2</td>\n",
       "      <td>3</td>\n",
       "      <td>1</td>\n",
       "    </tr>\n",
       "    <tr>\n",
       "      <th>2004-01-01 03:00:00</th>\n",
       "      <td>170.833916</td>\n",
       "      <td>25.161407</td>\n",
       "      <td>27.599414</td>\n",
       "      <td>0.0</td>\n",
       "      <td>43.513342</td>\n",
       "      <td>52.539744</td>\n",
       "      <td>3</td>\n",
       "      <td>3</td>\n",
       "      <td>1</td>\n",
       "    </tr>\n",
       "    <tr>\n",
       "      <th>2004-01-01 04:00:00</th>\n",
       "      <td>157.000881</td>\n",
       "      <td>16.670542</td>\n",
       "      <td>22.405555</td>\n",
       "      <td>0.0</td>\n",
       "      <td>43.513342</td>\n",
       "      <td>52.539744</td>\n",
       "      <td>4</td>\n",
       "      <td>3</td>\n",
       "      <td>1</td>\n",
       "    </tr>\n",
       "    <tr>\n",
       "      <th>2004-01-01 05:00:00</th>\n",
       "      <td>171.708903</td>\n",
       "      <td>25.424457</td>\n",
       "      <td>27.787371</td>\n",
       "      <td>0.0</td>\n",
       "      <td>43.513342</td>\n",
       "      <td>52.539744</td>\n",
       "      <td>5</td>\n",
       "      <td>3</td>\n",
       "      <td>1</td>\n",
       "    </tr>\n",
       "  </tbody>\n",
       "</table>\n",
       "</div>"
      ],
      "text/plain": [
       "                     Electricity:Facility [kW](Hourly)  \\\n",
       "Date/Time                                                \n",
       "2004-01-01 01:00:00                         161.387407   \n",
       "2004-01-01 02:00:00                         156.571442   \n",
       "2004-01-01 03:00:00                         170.833916   \n",
       "2004-01-01 04:00:00                         157.000881   \n",
       "2004-01-01 05:00:00                         171.708903   \n",
       "\n",
       "                     Fans:Electricity [kW](Hourly)  \\\n",
       "Date/Time                                            \n",
       "2004-01-01 01:00:00                      16.394480   \n",
       "2004-01-01 02:00:00                      16.303037   \n",
       "2004-01-01 03:00:00                      25.161407   \n",
       "2004-01-01 04:00:00                      16.670542   \n",
       "2004-01-01 05:00:00                      25.424457   \n",
       "\n",
       "                     Cooling:Electricity [kW](Hourly)  \\\n",
       "Date/Time                                               \n",
       "2004-01-01 01:00:00                         26.970423   \n",
       "2004-01-01 02:00:00                         22.348740   \n",
       "2004-01-01 03:00:00                         27.599414   \n",
       "2004-01-01 04:00:00                         22.405555   \n",
       "2004-01-01 05:00:00                         27.787371   \n",
       "\n",
       "                     Heating:Electricity [kW](Hourly)  \\\n",
       "Date/Time                                               \n",
       "2004-01-01 01:00:00                               0.0   \n",
       "2004-01-01 02:00:00                               0.0   \n",
       "2004-01-01 03:00:00                               0.0   \n",
       "2004-01-01 04:00:00                               0.0   \n",
       "2004-01-01 05:00:00                               0.0   \n",
       "\n",
       "                     InteriorLights:Electricity [kW](Hourly)  \\\n",
       "Date/Time                                                      \n",
       "2004-01-01 01:00:00                                43.513342   \n",
       "2004-01-01 02:00:00                                43.513342   \n",
       "2004-01-01 03:00:00                                43.513342   \n",
       "2004-01-01 04:00:00                                43.513342   \n",
       "2004-01-01 05:00:00                                43.513342   \n",
       "\n",
       "                     InteriorEquipment:Electricity [kW](Hourly)  hour  \\\n",
       "Date/Time                                                               \n",
       "2004-01-01 01:00:00                                   52.539744     1   \n",
       "2004-01-01 02:00:00                                   52.539744     2   \n",
       "2004-01-01 03:00:00                                   52.539744     3   \n",
       "2004-01-01 04:00:00                                   52.539744     4   \n",
       "2004-01-01 05:00:00                                   52.539744     5   \n",
       "\n",
       "                     day_of_week  month  \n",
       "Date/Time                                \n",
       "2004-01-01 01:00:00            3      1  \n",
       "2004-01-01 02:00:00            3      1  \n",
       "2004-01-01 03:00:00            3      1  \n",
       "2004-01-01 04:00:00            3      1  \n",
       "2004-01-01 05:00:00            3      1  "
      ]
     },
     "execution_count": 16,
     "metadata": {},
     "output_type": "execute_result"
    }
   ],
   "source": [
    "average_cluster_3.head()"
   ]
  },
  {
   "cell_type": "code",
   "execution_count": 17,
   "id": "dcf295c8-be76-4cc9-9d97-374930b3bce7",
   "metadata": {},
   "outputs": [
    {
     "data": {
      "text/plain": [
       "Index(['Electricity:Facility [kW](Hourly)', 'Fans:Electricity [kW](Hourly)',\n",
       "       'Cooling:Electricity [kW](Hourly)', 'Heating:Electricity [kW](Hourly)',\n",
       "       'InteriorLights:Electricity [kW](Hourly)',\n",
       "       'InteriorEquipment:Electricity [kW](Hourly)', 'hour', 'day_of_week',\n",
       "       'month'],\n",
       "      dtype='object')"
      ]
     },
     "execution_count": 17,
     "metadata": {},
     "output_type": "execute_result"
    }
   ],
   "source": [
    "average_cluster_3.columns"
   ]
  },
  {
   "cell_type": "code",
   "execution_count": 18,
   "id": "4529d36c-d913-4a9d-bd95-c45f8fb6464e",
   "metadata": {},
   "outputs": [],
   "source": [
    "target='Electricity:Facility [kW](Hourly)'"
   ]
  },
  {
   "cell_type": "code",
   "execution_count": 19,
   "id": "f5f07bde-a652-4f34-8bd0-7108ace451d9",
   "metadata": {},
   "outputs": [
    {
     "data": {
      "image/png": "[encoded data removed]",
      "text/plain": [
       "<Figure size 800x600 with 2 Axes>"
      ]
     },
     "metadata": {},
     "output_type": "display_data"
    }
   ],
   "source": [
    "matriz_correlacion(average_cluster_3, target)"
   ]
  },
  {
   "cell_type": "markdown",
   "id": "f1b6d585-7b6f-4c6a-b90a-e73fe196a4b0",
   "metadata": {},
   "source": [
    "La correlación mide la relación entre dos variables. Puede ir de -1 a 1.\n",
    "\n",
    "* 1 significa una relación positiva perfecta.\n",
    "* -1 significa una relación negativa perfecta.\n",
    "* 0 significa que no hay relación."
   ]
  },
  {
   "cell_type": "code",
   "execution_count": 20,
   "id": "ceba78e0-5a2a-4e18-982f-8caffdfe2ac6",
   "metadata": {},
   "outputs": [
    {
     "data": {
      "text/plain": [
       "Electricity:Facility [kW](Hourly)             1.000000\n",
       "Cooling:Electricity [kW](Hourly)              0.902947\n",
       "Fans:Electricity [kW](Hourly)                 0.838700\n",
       "InteriorLights:Electricity [kW](Hourly)       0.690881\n",
       "InteriorEquipment:Electricity [kW](Hourly)    0.550753\n",
       "hour                                          0.260636\n",
       "month                                         0.059719\n",
       "day_of_week                                  -0.069509\n",
       "Heating:Electricity [kW](Hourly)                   NaN\n",
       "Name: Electricity:Facility [kW](Hourly), dtype: float64"
      ]
     },
     "execution_count": 20,
     "metadata": {},
     "output_type": "execute_result"
    }
   ],
   "source": [
    "# Calcular la correlación de cada característica con la variable objetivo\n",
    "correlation_matrix = average_cluster_3.corr()\n",
    "target_correlation = correlation_matrix['Electricity:Facility [kW](Hourly)'].sort_values(ascending=False)\n",
    "\n",
    "# Mostrar la correlación de cada característica con la variable objetivo\n",
    "target_correlation\n"
   ]
  },
  {
   "cell_type": "markdown",
   "id": "bea683c0-3c33-43f1-a1db-9276dd221803",
   "metadata": {},
   "source": [
    "Queremos saber qué variables están más relacionadas con la variable que queremos predecir (Electricity:Facility [kW](Hourly)).\n",
    "\n",
    "Las variables con alta correlación pueden ser más útiles para nuestro modelo.\n",
    "\n",
    "**Regla utilizada:**\n",
    "\n",
    "* Seleccionamos variables con una correlación absoluta mayor o igual a 0.3. \n",
    "* Esto significa que estas variables tienen una relación suficientemente fuerte con nuestra variable objetivo."
   ]
  },
  {
   "cell_type": "code",
   "execution_count": 21,
   "id": "a8ba041a-0376-4313-902f-0339ea3eb06f",
   "metadata": {},
   "outputs": [],
   "source": [
    "# Mantener características con correlación absoluta mayor o igual a 0.3\n",
    "selected_features = target_correlation[abs(target_correlation) >= 0.3].index.drop('Electricity:Facility [kW](Hourly)')\n",
    "features_corr = average_cluster_3[selected_features]"
   ]
  },
  {
   "cell_type": "code",
   "execution_count": 22,
   "id": "1f0ed0ce-38b8-4215-aaec-0cb6a6b28474",
   "metadata": {},
   "outputs": [
    {
     "data": {
      "text/plain": [
       "Index(['Cooling:Electricity [kW](Hourly)', 'Fans:Electricity [kW](Hourly)',\n",
       "       'InteriorLights:Electricity [kW](Hourly)',\n",
       "       'InteriorEquipment:Electricity [kW](Hourly)'],\n",
       "      dtype='object')"
      ]
     },
     "execution_count": 22,
     "metadata": {},
     "output_type": "execute_result"
    }
   ],
   "source": [
    "features_corr.columns"
   ]
  },
  {
   "cell_type": "markdown",
   "id": "257adc75-4dd3-4198-9efe-220b6a8a3fd0",
   "metadata": {},
   "source": [
    "**Evaluación de la Multicolinealidad**\n",
    "\n",
    "* La multicolinealidad ocurre cuando dos o más variables están altamente correlacionadas entre sí.\n",
    "\n",
    "* Esto puede causar problemas en los modelos de regresión porque dificulta determinar el efecto individual de cada variable.\n",
    "  \n",
    "**¿Cómo evaluamos la multicolinealidad?**\n",
    "\n",
    "* Usamos el Factor de Inflación de la Varianza (VIF). Un VIF alto (mayor a 10) indica multicolinealidad alta.\n",
    "\n",
    "* Eliminamos las variables con VIF mayor a 10 para reducir la multicolinealidad y simplificar nuestro modelo."
   ]
  },
  {
   "cell_type": "code",
   "execution_count": 23,
   "id": "84d2ebd7-37a4-450f-84ed-1c8594dbccd6",
   "metadata": {},
   "outputs": [
    {
     "data": {
      "text/html": [
       "<div>\n",
       "<style scoped>\n",
       "    .dataframe tbody tr th:only-of-type {\n",
       "        vertical-align: middle;\n",
       "    }\n",
       "\n",
       "    .dataframe tbody tr th {\n",
       "        vertical-align: top;\n",
       "    }\n",
       "\n",
       "    .dataframe thead th {\n",
       "        text-align: right;\n",
       "    }\n",
       "</style>\n",
       "<table border=\"1\" class=\"dataframe\">\n",
       "  <thead>\n",
       "    <tr style=\"text-align: right;\">\n",
       "      <th></th>\n",
       "      <th>feature</th>\n",
       "      <th>VIF</th>\n",
       "    </tr>\n",
       "  </thead>\n",
       "  <tbody>\n",
       "    <tr>\n",
       "      <th>0</th>\n",
       "      <td>Cooling:Electricity [kW](Hourly)</td>\n",
       "      <td>2.397073</td>\n",
       "    </tr>\n",
       "    <tr>\n",
       "      <th>1</th>\n",
       "      <td>Fans:Electricity [kW](Hourly)</td>\n",
       "      <td>12.687516</td>\n",
       "    </tr>\n",
       "    <tr>\n",
       "      <th>2</th>\n",
       "      <td>InteriorLights:Electricity [kW](Hourly)</td>\n",
       "      <td>17.163701</td>\n",
       "    </tr>\n",
       "    <tr>\n",
       "      <th>3</th>\n",
       "      <td>InteriorEquipment:Electricity [kW](Hourly)</td>\n",
       "      <td>6.257704</td>\n",
       "    </tr>\n",
       "  </tbody>\n",
       "</table>\n",
       "</div>"
      ],
      "text/plain": [
       "                                      feature        VIF\n",
       "0            Cooling:Electricity [kW](Hourly)   2.397073\n",
       "1               Fans:Electricity [kW](Hourly)  12.687516\n",
       "2     InteriorLights:Electricity [kW](Hourly)  17.163701\n",
       "3  InteriorEquipment:Electricity [kW](Hourly)   6.257704"
      ]
     },
     "execution_count": 23,
     "metadata": {},
     "output_type": "execute_result"
    }
   ],
   "source": [
    "# Paso 3: Evaluación de la Multicolinealidad\n",
    "vif_before_corr = calculate_vif(features_corr)\n",
    "vif_before_corr"
   ]
  },
  {
   "cell_type": "code",
   "execution_count": 24,
   "id": "710048b0-09ba-4f6c-84f0-713da64bbe91",
   "metadata": {},
   "outputs": [],
   "source": [
    "# Eliminar características con VIF alto (umbral de 10)\n",
    "features_selected_corr, final_vif = remove_high_vif_features(features_corr)"
   ]
  },
  {
   "cell_type": "code",
   "execution_count": 25,
   "id": "6fdf91a0-ec10-4bd6-8d23-bd297062ae23",
   "metadata": {},
   "outputs": [
    {
     "data": {
      "text/html": [
       "<div>\n",
       "<style scoped>\n",
       "    .dataframe tbody tr th:only-of-type {\n",
       "        vertical-align: middle;\n",
       "    }\n",
       "\n",
       "    .dataframe tbody tr th {\n",
       "        vertical-align: top;\n",
       "    }\n",
       "\n",
       "    .dataframe thead th {\n",
       "        text-align: right;\n",
       "    }\n",
       "</style>\n",
       "<table border=\"1\" class=\"dataframe\">\n",
       "  <thead>\n",
       "    <tr style=\"text-align: right;\">\n",
       "      <th></th>\n",
       "      <th>feature</th>\n",
       "      <th>VIF</th>\n",
       "    </tr>\n",
       "  </thead>\n",
       "  <tbody>\n",
       "    <tr>\n",
       "      <th>0</th>\n",
       "      <td>Cooling:Electricity [kW](Hourly)</td>\n",
       "      <td>2.103492</td>\n",
       "    </tr>\n",
       "    <tr>\n",
       "      <th>1</th>\n",
       "      <td>Fans:Electricity [kW](Hourly)</td>\n",
       "      <td>4.631143</td>\n",
       "    </tr>\n",
       "    <tr>\n",
       "      <th>2</th>\n",
       "      <td>InteriorEquipment:Electricity [kW](Hourly)</td>\n",
       "      <td>3.296643</td>\n",
       "    </tr>\n",
       "  </tbody>\n",
       "</table>\n",
       "</div>"
      ],
      "text/plain": [
       "                                      feature       VIF\n",
       "0            Cooling:Electricity [kW](Hourly)  2.103492\n",
       "1               Fans:Electricity [kW](Hourly)  4.631143\n",
       "2  InteriorEquipment:Electricity [kW](Hourly)  3.296643"
      ]
     },
     "execution_count": 25,
     "metadata": {},
     "output_type": "execute_result"
    }
   ],
   "source": [
    "final_vif"
   ]
  },
  {
   "cell_type": "code",
   "execution_count": 26,
   "id": "d8e0a502-b702-4a16-99ae-f5b60f77d917",
   "metadata": {},
   "outputs": [
    {
     "data": {
      "text/html": [
       "<div>\n",
       "<style scoped>\n",
       "    .dataframe tbody tr th:only-of-type {\n",
       "        vertical-align: middle;\n",
       "    }\n",
       "\n",
       "    .dataframe tbody tr th {\n",
       "        vertical-align: top;\n",
       "    }\n",
       "\n",
       "    .dataframe thead th {\n",
       "        text-align: right;\n",
       "    }\n",
       "</style>\n",
       "<table border=\"1\" class=\"dataframe\">\n",
       "  <thead>\n",
       "    <tr style=\"text-align: right;\">\n",
       "      <th></th>\n",
       "      <th>Cooling:Electricity [kW](Hourly)</th>\n",
       "      <th>Fans:Electricity [kW](Hourly)</th>\n",
       "      <th>InteriorEquipment:Electricity [kW](Hourly)</th>\n",
       "    </tr>\n",
       "    <tr>\n",
       "      <th>Date/Time</th>\n",
       "      <th></th>\n",
       "      <th></th>\n",
       "      <th></th>\n",
       "    </tr>\n",
       "  </thead>\n",
       "  <tbody>\n",
       "    <tr>\n",
       "      <th>2004-01-01 01:00:00</th>\n",
       "      <td>26.970423</td>\n",
       "      <td>16.394480</td>\n",
       "      <td>52.539744</td>\n",
       "    </tr>\n",
       "    <tr>\n",
       "      <th>2004-01-01 02:00:00</th>\n",
       "      <td>22.348740</td>\n",
       "      <td>16.303037</td>\n",
       "      <td>52.539744</td>\n",
       "    </tr>\n",
       "    <tr>\n",
       "      <th>2004-01-01 03:00:00</th>\n",
       "      <td>27.599414</td>\n",
       "      <td>25.161407</td>\n",
       "      <td>52.539744</td>\n",
       "    </tr>\n",
       "    <tr>\n",
       "      <th>2004-01-01 04:00:00</th>\n",
       "      <td>22.405555</td>\n",
       "      <td>16.670542</td>\n",
       "      <td>52.539744</td>\n",
       "    </tr>\n",
       "    <tr>\n",
       "      <th>2004-01-01 05:00:00</th>\n",
       "      <td>27.787371</td>\n",
       "      <td>25.424457</td>\n",
       "      <td>52.539744</td>\n",
       "    </tr>\n",
       "    <tr>\n",
       "      <th>...</th>\n",
       "      <td>...</td>\n",
       "      <td>...</td>\n",
       "      <td>...</td>\n",
       "    </tr>\n",
       "    <tr>\n",
       "      <th>2004-12-31 19:00:00</th>\n",
       "      <td>0.000000</td>\n",
       "      <td>5.148283</td>\n",
       "      <td>52.539744</td>\n",
       "    </tr>\n",
       "    <tr>\n",
       "      <th>2004-12-31 20:00:00</th>\n",
       "      <td>27.667241</td>\n",
       "      <td>9.847229</td>\n",
       "      <td>52.539744</td>\n",
       "    </tr>\n",
       "    <tr>\n",
       "      <th>2004-12-31 21:00:00</th>\n",
       "      <td>33.373887</td>\n",
       "      <td>7.443050</td>\n",
       "      <td>52.539744</td>\n",
       "    </tr>\n",
       "    <tr>\n",
       "      <th>2004-12-31 22:00:00</th>\n",
       "      <td>35.738865</td>\n",
       "      <td>13.390776</td>\n",
       "      <td>52.539744</td>\n",
       "    </tr>\n",
       "    <tr>\n",
       "      <th>2004-12-31 23:00:00</th>\n",
       "      <td>31.032984</td>\n",
       "      <td>13.540397</td>\n",
       "      <td>52.539744</td>\n",
       "    </tr>\n",
       "  </tbody>\n",
       "</table>\n",
       "<p>8783 rows × 3 columns</p>\n",
       "</div>"
      ],
      "text/plain": [
       "                     Cooling:Electricity [kW](Hourly)  \\\n",
       "Date/Time                                               \n",
       "2004-01-01 01:00:00                         26.970423   \n",
       "2004-01-01 02:00:00                         22.348740   \n",
       "2004-01-01 03:00:00                         27.599414   \n",
       "2004-01-01 04:00:00                         22.405555   \n",
       "2004-01-01 05:00:00                         27.787371   \n",
       "...                                               ...   \n",
       "2004-12-31 19:00:00                          0.000000   \n",
       "2004-12-31 20:00:00                         27.667241   \n",
       "2004-12-31 21:00:00                         33.373887   \n",
       "2004-12-31 22:00:00                         35.738865   \n",
       "2004-12-31 23:00:00                         31.032984   \n",
       "\n",
       "                     Fans:Electricity [kW](Hourly)  \\\n",
       "Date/Time                                            \n",
       "2004-01-01 01:00:00                      16.394480   \n",
       "2004-01-01 02:00:00                      16.303037   \n",
       "2004-01-01 03:00:00                      25.161407   \n",
       "2004-01-01 04:00:00                      16.670542   \n",
       "2004-01-01 05:00:00                      25.424457   \n",
       "...                                            ...   \n",
       "2004-12-31 19:00:00                       5.148283   \n",
       "2004-12-31 20:00:00                       9.847229   \n",
       "2004-12-31 21:00:00                       7.443050   \n",
       "2004-12-31 22:00:00                      13.390776   \n",
       "2004-12-31 23:00:00                      13.540397   \n",
       "\n",
       "                     InteriorEquipment:Electricity [kW](Hourly)  \n",
       "Date/Time                                                        \n",
       "2004-01-01 01:00:00                                   52.539744  \n",
       "2004-01-01 02:00:00                                   52.539744  \n",
       "2004-01-01 03:00:00                                   52.539744  \n",
       "2004-01-01 04:00:00                                   52.539744  \n",
       "2004-01-01 05:00:00                                   52.539744  \n",
       "...                                                         ...  \n",
       "2004-12-31 19:00:00                                   52.539744  \n",
       "2004-12-31 20:00:00                                   52.539744  \n",
       "2004-12-31 21:00:00                                   52.539744  \n",
       "2004-12-31 22:00:00                                   52.539744  \n",
       "2004-12-31 23:00:00                                   52.539744  \n",
       "\n",
       "[8783 rows x 3 columns]"
      ]
     },
     "execution_count": 26,
     "metadata": {},
     "output_type": "execute_result"
    }
   ],
   "source": [
    "features_selected_corr"
   ]
  },
  {
   "cell_type": "code",
   "execution_count": 27,
   "id": "e928c876-48f4-48a7-9c4a-27833e491a82",
   "metadata": {},
   "outputs": [],
   "source": [
    " taget_predict=average_cluster_3['Electricity:Facility [kW](Hourly)'].copy()"
   ]
  },
  {
   "cell_type": "markdown",
   "id": "1fff6d13-3af5-4d21-8bfe-060831d15237",
   "metadata": {},
   "source": [
    "# Seleccion del modelo"
   ]
  },
  {
   "cell_type": "code",
   "execution_count": 28,
   "id": "8db868da-093c-4cbe-9e57-23a0ea03be86",
   "metadata": {},
   "outputs": [],
   "source": [
    "# Dividir los datos en conjuntos de entrenamiento y prueba\n",
    "X_train_corr, X_test_corr, y_train_corr, y_test_corr = train_test_split(features_selected_corr, taget_predict, test_size=0.2, random_state=42)"
   ]
  },
  {
   "cell_type": "code",
   "execution_count": 29,
   "id": "5f7f018d-8311-45e5-a0c0-d357d4db5697",
   "metadata": {},
   "outputs": [],
   "source": [
    "# Escalar las características\n",
    "scaler_corr = StandardScaler()\n",
    "X_train_scaled_corr = scaler_corr.fit_transform(X_train_corr)\n",
    "X_test_scaled_corr = scaler_corr.transform(X_test_corr)"
   ]
  },
  {
   "cell_type": "code",
   "execution_count": 30,
   "id": "64021972-2632-4bd8-81d2-45279d3d69b9",
   "metadata": {},
   "outputs": [],
   "source": [
    "# Definición de modelos\n",
    "models = {\n",
    "    \"Linear Regression\": LinearRegression(),\n",
    "    \"Stepwise Linear Regression\": Lasso(alpha=0.01),  # Utilizando Lasso como aproximación a la regresión paso a paso\n",
    "    \"Tree\": DecisionTreeRegressor(),\n",
    "    \"SVM\": SVR(kernel='rbf'),\n",
    "    \"Efficient Linear\": LinearRegression(),  # Utilizando Linear Regression como proxy\n",
    "    \"Ensemble\": VotingRegressor(estimators=[\n",
    "        ('lr', LinearRegression()),\n",
    "        ('lasso', Lasso(alpha=0.01)),\n",
    "        ('rf', RandomForestRegressor(n_estimators=100, random_state=42))\n",
    "    ]),\n",
    "    \"Random Forest\": RandomForestRegressor(n_estimators=100, random_state=42)\n",
    "}\n",
    "\n",
    "# Variables para almacenar resultados y modelos entrenados\n",
    "results = {}\n",
    "trained_models = {}\n",
    "\n",
    "# Entrenar y evaluar cada modelo\n",
    "for model_name, model in models.items():\n",
    "    rmse_train, r2_train, rmse_test, r2_test = train_evaluate_model(model, X_train_scaled_corr, X_test_scaled_corr, y_train_corr, y_test_corr)\n",
    "    results[model_name] = {\n",
    "        'RMSE Train': rmse_train, \n",
    "        'R2 Train': r2_train,\n",
    "        'RMSE Test': rmse_test, \n",
    "        'R2 Test': r2_test\n",
    "    }\n",
    "    # Guardar el modelo entrenado en el diccionario\n",
    "    trained_models[model_name] = model"
   ]
  },
  {
   "cell_type": "code",
   "execution_count": 31,
   "id": "a09be69c-4128-4110-a749-f49d8fee42fa",
   "metadata": {},
   "outputs": [
    {
     "data": {
      "text/html": [
       "<div>\n",
       "<style scoped>\n",
       "    .dataframe tbody tr th:only-of-type {\n",
       "        vertical-align: middle;\n",
       "    }\n",
       "\n",
       "    .dataframe tbody tr th {\n",
       "        vertical-align: top;\n",
       "    }\n",
       "\n",
       "    .dataframe thead th {\n",
       "        text-align: right;\n",
       "    }\n",
       "</style>\n",
       "<table border=\"1\" class=\"dataframe\">\n",
       "  <thead>\n",
       "    <tr style=\"text-align: right;\">\n",
       "      <th></th>\n",
       "      <th>Linear Regression</th>\n",
       "      <th>Stepwise Linear Regression</th>\n",
       "      <th>Tree</th>\n",
       "      <th>SVM</th>\n",
       "      <th>Efficient Linear</th>\n",
       "      <th>Ensemble</th>\n",
       "      <th>Random Forest</th>\n",
       "    </tr>\n",
       "  </thead>\n",
       "  <tbody>\n",
       "    <tr>\n",
       "      <th>RMSE Train</th>\n",
       "      <td>32.409399</td>\n",
       "      <td>32.409402</td>\n",
       "      <td>12.621249</td>\n",
       "      <td>51.529631</td>\n",
       "      <td>32.409399</td>\n",
       "      <td>24.706692</td>\n",
       "      <td>14.665161</td>\n",
       "    </tr>\n",
       "    <tr>\n",
       "      <th>R2 Train</th>\n",
       "      <td>0.989065</td>\n",
       "      <td>0.989065</td>\n",
       "      <td>0.998342</td>\n",
       "      <td>0.972357</td>\n",
       "      <td>0.989065</td>\n",
       "      <td>0.993645</td>\n",
       "      <td>0.997761</td>\n",
       "    </tr>\n",
       "    <tr>\n",
       "      <th>RMSE Test</th>\n",
       "      <td>31.104114</td>\n",
       "      <td>31.103437</td>\n",
       "      <td>24.613919</td>\n",
       "      <td>46.482504</td>\n",
       "      <td>31.104114</td>\n",
       "      <td>25.600907</td>\n",
       "      <td>21.249423</td>\n",
       "    </tr>\n",
       "    <tr>\n",
       "      <th>R2 Test</th>\n",
       "      <td>0.989755</td>\n",
       "      <td>0.989755</td>\n",
       "      <td>0.993584</td>\n",
       "      <td>0.977120</td>\n",
       "      <td>0.989755</td>\n",
       "      <td>0.993059</td>\n",
       "      <td>0.995218</td>\n",
       "    </tr>\n",
       "  </tbody>\n",
       "</table>\n",
       "</div>"
      ],
      "text/plain": [
       "            Linear Regression  Stepwise Linear Regression       Tree  \\\n",
       "RMSE Train          32.409399                   32.409402  12.621249   \n",
       "R2 Train             0.989065                    0.989065   0.998342   \n",
       "RMSE Test           31.104114                   31.103437  24.613919   \n",
       "R2 Test              0.989755                    0.989755   0.993584   \n",
       "\n",
       "                  SVM  Efficient Linear   Ensemble  Random Forest  \n",
       "RMSE Train  51.529631         32.409399  24.706692      14.665161  \n",
       "R2 Train     0.972357          0.989065   0.993645       0.997761  \n",
       "RMSE Test   46.482504         31.104114  25.600907      21.249423  \n",
       "R2 Test      0.977120          0.989755   0.993059       0.995218  "
      ]
     },
     "execution_count": 31,
     "metadata": {},
     "output_type": "execute_result"
    }
   ],
   "source": [
    "# Convertir a DataFrame y verificar overfitting\n",
    "df_overfitting_results= pd.DataFrame(results)\n",
    "df_overfitting_results.head()"
   ]
  },
  {
   "cell_type": "markdown",
   "id": "b57fa81f-27be-4140-b4fc-cd97f77acfed",
   "metadata": {
    "jp-MarkdownHeadingCollapsed": true
   },
   "source": [
    "# Mejorar hiperparametros"
   ]
  },
  {
   "cell_type": "code",
   "execution_count": null,
   "id": "c0665f32-b66a-4075-a8d9-5407e2928990",
   "metadata": {},
   "outputs": [],
   "source": [
    "# Definir el espacio de búsqueda de hiperparámetros\n",
    "param_grid = {\n",
    "    'n_estimators': [50, 100, 200],\n",
    "    'max_depth': [None, 10, 20, 30],\n",
    "    'min_samples_split': [2, 5, 10],\n",
    "    'min_samples_leaf': [1, 2, 4],\n",
    "    'bootstrap': [True, False]\n",
    "}\n",
    "\n",
    "# Configurar GridSearchCV\n",
    "grid_search = GridSearchCV(estimator=RandomForestRegressor(random_state=42),\n",
    "                           param_grid=param_grid,\n",
    "                           cv=3,  # Validación cruzada de 3 pliegues\n",
    "                           n_jobs=-1,  # Usar todos los núcleos disponibles\n",
    "                           scoring='neg_root_mean_squared_error',  # Usar RMSE\n",
    "                           verbose=2)\n",
    "\n",
    "# Realizar la búsqueda en cuadrícula\n",
    "grid_search.fit(X_train_scaled_corr, y_train_corr)\n",
    "\n",
    "# Obtener los mejores hiperparámetros\n",
    "best_params = grid_search.best_params_"
   ]
  },
  {
   "cell_type": "code",
   "execution_count": 31,
   "id": "8e12d6f2-65cb-47a2-9984-5792b29689ea",
   "metadata": {},
   "outputs": [
    {
     "ename": "NameError",
     "evalue": "name 'best_params' is not defined",
     "output_type": "error",
     "traceback": [
      "\u001b[1;31m---------------------------------------------------------------------------\u001b[0m",
      "\u001b[1;31mNameError\u001b[0m                                 Traceback (most recent call last)",
      "Cell \u001b[1;32mIn[31], line 1\u001b[0m\n\u001b[1;32m----> 1\u001b[0m \u001b[38;5;28mprint\u001b[39m(\u001b[38;5;124m\"\u001b[39m\u001b[38;5;124mMejores hiperparámetros:\u001b[39m\u001b[38;5;124m\"\u001b[39m, best_params)\n",
      "\u001b[1;31mNameError\u001b[0m: name 'best_params' is not defined"
     ]
    }
   ],
   "source": [
    "print(\"Mejores hiperparámetros:\", best_params)"
   ]
  },
  {
   "cell_type": "code",
   "execution_count": 34,
   "id": "e2d44881-e0a6-4d0d-90c0-f16307e0fc1f",
   "metadata": {},
   "outputs": [],
   "source": [
    "# Entrenar el modelo con los mejores hiperparámetros\n",
    "optimized_rf_model = RandomForestRegressor(**best_params, random_state=42)\n",
    "optimized_rf_model.fit(X_train_scaled_corr, y_train_corr)\n",
    "\n",
    "# Evaluar el modelo optimizado\n",
    "rmse_train_opt = np.sqrt(mean_squared_error(y_train_corr, optimized_rf_model.predict(X_train_scaled_corr)))\n",
    "r2_train_opt = r2_score(y_train_corr, optimized_rf_model.predict(X_train_scaled_corr))\n",
    "\n",
    "rmse_test_opt = np.sqrt(mean_squared_error(y_test_corr, optimized_rf_model.predict(X_test_scaled_corr)))\n",
    "r2_test_opt = r2_score(y_test_corr, optimized_rf_model.predict(X_test_scaled_corr))\n",
    "\n",
    "# Resultados\n",
    "optimized_rf_results = {\n",
    "    \"Optimized Random Forest\": {\n",
    "        'RMSE Train': rmse_train_opt,\n",
    "        'R2 Train': r2_train_opt,\n",
    "        'RMSE Test': rmse_test_opt,\n",
    "        'R2 Test': r2_test_opt\n",
    "    }\n",
    "}"
   ]
  },
  {
   "cell_type": "code",
   "execution_count": 35,
   "id": "d1817bd9-d789-4771-b790-cc9aaed41db8",
   "metadata": {},
   "outputs": [
    {
     "name": "stdout",
     "output_type": "stream",
     "text": [
      "Resultados del modelo Random Forest optimizado:\n"
     ]
    },
    {
     "data": {
      "text/html": [
       "<div>\n",
       "<style scoped>\n",
       "    .dataframe tbody tr th:only-of-type {\n",
       "        vertical-align: middle;\n",
       "    }\n",
       "\n",
       "    .dataframe tbody tr th {\n",
       "        vertical-align: top;\n",
       "    }\n",
       "\n",
       "    .dataframe thead th {\n",
       "        text-align: right;\n",
       "    }\n",
       "</style>\n",
       "<table border=\"1\" class=\"dataframe\">\n",
       "  <thead>\n",
       "    <tr style=\"text-align: right;\">\n",
       "      <th></th>\n",
       "      <th>Optimized Random Forest</th>\n",
       "    </tr>\n",
       "  </thead>\n",
       "  <tbody>\n",
       "    <tr>\n",
       "      <th>R2 Test</th>\n",
       "      <td>0.997156</td>\n",
       "    </tr>\n",
       "    <tr>\n",
       "      <th>R2 Train</th>\n",
       "      <td>0.998283</td>\n",
       "    </tr>\n",
       "    <tr>\n",
       "      <th>RMSE Test</th>\n",
       "      <td>1.509315</td>\n",
       "    </tr>\n",
       "    <tr>\n",
       "      <th>RMSE Train</th>\n",
       "      <td>1.166387</td>\n",
       "    </tr>\n",
       "  </tbody>\n",
       "</table>\n",
       "</div>"
      ],
      "text/plain": [
       "            Optimized Random Forest\n",
       "R2 Test                    0.997156\n",
       "R2 Train                   0.998283\n",
       "RMSE Test                  1.509315\n",
       "RMSE Train                 1.166387"
      ]
     },
     "execution_count": 35,
     "metadata": {},
     "output_type": "execute_result"
    }
   ],
   "source": [
    "# Mostrar los resultados\n",
    "print(\"Resultados del modelo Random Forest optimizado:\")\n",
    "optimized_rf_results_df=pd.DataFrame(optimized_rf_results)\n",
    "optimized_rf_results_df"
   ]
  },
  {
   "cell_type": "code",
   "execution_count": 36,
   "id": "5fa04289-5b38-4865-9b14-6e1feb07728b",
   "metadata": {},
   "outputs": [
    {
     "data": {
      "text/plain": [
       "['../models/scaler_average_cluster_3.joblib']"
      ]
     },
     "execution_count": 36,
     "metadata": {},
     "output_type": "execute_result"
    }
   ],
   "source": [
    "dump(optimized_rf_model, '../models/modelo_average_cluster_3.joblib')\n",
    "dump(scaler_corr, '../models/scaler_average_cluster_3.joblib')"
   ]
  },
  {
   "cell_type": "code",
   "execution_count": null,
   "id": "0a48ddad-4e79-4223-ae82-3bfa2b72440a",
   "metadata": {},
   "outputs": [],
   "source": []
  },
  {
   "cell_type": "code",
   "execution_count": null,
   "id": "76cde6bd-6f11-41a7-a600-194d01c70a25",
   "metadata": {},
   "outputs": [],
   "source": []
  }
 ],
 "metadata": {
  "kernelspec": {
   "display_name": "Python 3 (ipykernel)",
   "language": "python",
   "name": "python3"
  },
  "language_info": {
   "codemirror_mode": {
    "name": "ipython",
    "version": 3
   },
   "file_extension": ".py",
   "mimetype": "text/x-python",
   "name": "python",
   "nbconvert_exporter": "python",
   "pygments_lexer": "ipython3",
   "version": "3.11.9"
  }
 },
 "nbformat": 4,
 "nbformat_minor": 5
}
