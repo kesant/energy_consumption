{
 "cells": [
  {
   "cell_type": "markdown",
   "metadata": {},
   "source": [
    "# Modelo Machine Learning"
   ]
  },
  {
   "cell_type": "code",
   "execution_count": 1,
   "metadata": {},
   "outputs": [],
   "source": [
    "import pandas as pd\n",
    "from joblib import load, dump\n",
    "import time\n",
    "from sklearn.linear_model import (HuberRegressor, RANSACRegressor, TheilSenRegressor, \n",
    "                                  LassoLars, LinearRegression, Ridge, Lasso, \n",
    "                                  OrthogonalMatchingPursuit, BayesianRidge, SGDRegressor)\n",
    "from sklearn.feature_selection import RFE\n",
    "from sklearn.preprocessing import PolynomialFeatures\n",
    "from sklearn.metrics import mean_squared_error, r2_score\n",
    "from sklearn.model_selection import train_test_split\n",
    "from sklearn.preprocessing import MinMaxScaler, StandardScaler\n",
    "from sklearn.pipeline import make_pipeline\n",
    "import matplotlib.pyplot as plt"
   ]
  },
  {
   "cell_type": "code",
   "execution_count": 2,
   "metadata": {},
   "outputs": [],
   "source": [
    "escalador = MinMaxScaler()"
   ]
  },
  {
   "cell_type": "code",
   "execution_count": 3,
   "metadata": {},
   "outputs": [],
   "source": [
    "def entrenar_modelo(listaModelos: dict, X_train, y_train, X_test, y_test):\n",
    "\n",
    "    if type(y_train) == pd.DataFrame:\n",
    "        # Convertir y_train a una serie unidimensional\n",
    "        y_train = y_train.squeeze()\n",
    "    else:\n",
    "        # O si necesitas un array unidimensional\n",
    "        y_train = y_train.ravel()\n",
    "\n",
    "    nombres_modelos = list(listaModelos.keys())\n",
    "\n",
    "    rmse_scores_train = []\n",
    "    r2_scores_train = []\n",
    "\n",
    "    rmse_scores_test = []\n",
    "    r2_scores_test = []\n",
    "\n",
    "    tiempos_train = []  # Lista para almacenar los tiempos de entrenamiento\n",
    "    tiempos_prueba = []  # Lista para almacenar los tiempos de testing\n",
    "\n",
    "\n",
    "    # Iterar a través de cada modelo\n",
    "    for nombre_modelo, modelo in listaModelos.items():\n",
    "\n",
    "        # Entrenar el modelo\n",
    "        if nombre_modelo == 'Interactions Linear':\n",
    "            modelo = make_pipeline(escalador, PolynomialFeatures(degree=2, interaction_only=True, include_bias=False), modelo)\n",
    "        else:\n",
    "            modelo = make_pipeline(escalador, modelo)\n",
    "\n",
    "        listaModelos[nombre_modelo] = modelo # Actualizo diccionario con el pipeline\n",
    "\n",
    "        #Train\n",
    "        start_time_train = time.perf_counter()\n",
    "        modelo.fit(X_train, y_train)  # Entrenar el modelo\n",
    "        tiempo_entrenamiento = time.perf_counter() - start_time_train\n",
    "        y_pred_train = modelo.predict(X_train)\n",
    "\n",
    "        \n",
    "        #Test\n",
    "        start_time_test = time.perf_counter()\n",
    "        y_pred_test = modelo.predict(X_test)\n",
    "        tiempo_prueba = time.perf_counter() - start_time_test\n",
    "        \n",
    "        \n",
    "        # Calcular RMSE y R^2\n",
    "        rmse_train = mean_squared_error(y_train, y_pred_train, squared=False)\n",
    "        r2_train = r2_score(y_train, y_pred_train)\n",
    "\n",
    "        rmse_test = mean_squared_error(y_test, y_pred_test, squared=False)\n",
    "        r2_test = r2_score(y_test, y_pred_test)\n",
    "\n",
    "        if r2_test > 0.5:\n",
    "            rmse_scores_train.append(rmse_train)\n",
    "            r2_scores_train.append(r2_train)\n",
    "\n",
    "            rmse_scores_test.append(rmse_test)\n",
    "            r2_scores_test.append(r2_test)\n",
    "\n",
    "            tiempos_train.append(tiempo_entrenamiento*1000)\n",
    "            tiempos_prueba.append(tiempo_prueba*1000)\n",
    "        else: \n",
    "            nombres_modelos.remove(nombre_modelo)\n",
    "\n",
    "    indices_ordenados = [rmse_scores_test.index(i) for i in sorted(rmse_scores_test)]\n",
    "\n",
    "    for i, indice in enumerate(indices_ordenados):\n",
    "        print(f\"Número {i+1}:\")\n",
    "        print(f\"Modelo: {nombres_modelos[indice]}\")\n",
    "        print(f\"(TRAIN) RMSE: {rmse_scores_train[indice]}, R^2: {r2_scores_train[indice]}\")\n",
    "        print(f\"(TEST) RMSE: {rmse_scores_test[indice]}, R^2: {r2_scores_test[indice]}\")\n",
    "        print(f\"Tiempo de entrenamiento: {tiempos_train[indice]:.10f} milisegundos\")\n",
    "        print(f\"Tiempo de prediccion (TEST): {tiempos_prueba[indice]:.10f} milisegundos\", end='\\n'*4)          \n",
    "\n",
    "    indice_mejor_modelo = indices_ordenados.pop(0)\n",
    "    mejor_modelo = listaModelos[nombres_modelos[indice_mejor_modelo]]\n",
    "\n",
    "    #Print de los resultados estadísticos (opcional - se puede comentar)\n",
    "    print('*'*175)\n",
    "    print(f\"Mejor modelo: {nombres_modelos[indice_mejor_modelo]}, (TEST) RMSE: {rmse_scores_test[indice_mejor_modelo]}, R^2: {r2_scores_test[indice_mejor_modelo]}, tiempo de entrenamiento de {tiempos_train[indice_mejor_modelo]:.10f} segundos\")\n",
    "    print('*'*175)\n",
    "    #Print de los resultados estadísticos (opcional - se puede comentar)\n",
    "    return mejor_modelo"
   ]
  },
  {
   "cell_type": "markdown",
   "metadata": {},
   "source": [
    "# DATASET"
   ]
  },
  {
   "cell_type": "code",
   "execution_count": 4,
   "metadata": {},
   "outputs": [],
   "source": [
    "columnas_X= ['potencia', 'frecuencia', 'workstation_ram']\n",
    "target = 'energia'\n",
    "columnas = columnas_X + [target]"
   ]
  },
  {
   "cell_type": "code",
   "execution_count": 5,
   "metadata": {},
   "outputs": [],
   "source": [
    "entrenamiento = 'G:\\\\.shortcut-targets-by-id\\\\1LnoFimDlQwBxnQ9oNCDgkRuGNz-Ae50P\\\\ProyectosTRI\\\\Consumo_Energetico\\\\Dataset\\\\Interpolacion_Datos\\\\dataset_sin_interpolacion\\\\may-jun2021_hora_sin_interpolacion.csv'\n",
    "testing = 'G:\\\\.shortcut-targets-by-id\\\\1LnoFimDlQwBxnQ9oNCDgkRuGNz-Ae50P\\\\ProyectosTRI\\\\Consumo_Energetico\\\\Dataset\\\\Interpolacion_Datos\\\\dataset_sin_interpolacion\\\\may-jun2022_hora_sin_interpolacion.csv'"
   ]
  },
  {
   "cell_type": "code",
   "execution_count": 6,
   "metadata": {},
   "outputs": [],
   "source": [
    "# Leer los DataFrames\n",
    "dataframe_train = pd.read_csv(entrenamiento)\n",
    "dataframe_testing = pd.read_csv(testing)"
   ]
  },
  {
   "cell_type": "code",
   "execution_count": 7,
   "metadata": {},
   "outputs": [],
   "source": [
    "X_train = dataframe_train[columnas_X]\n",
    "y_train = dataframe_train[[target]]\n",
    "\n",
    "X_test = dataframe_testing[columnas_X]\n",
    "y_test = dataframe_testing[[target]]"
   ]
  },
  {
   "cell_type": "markdown",
   "metadata": {},
   "source": [
    "# Entramiento"
   ]
  },
  {
   "cell_type": "code",
   "execution_count": 8,
   "metadata": {},
   "outputs": [],
   "source": [
    "listaModelos = {\"Linear Regression\":LinearRegression(), \"Interactions Linear\":LinearRegression(), \n",
    "                \"Robust Linear (HUBER)\":HuberRegressor(), \"Stepwise Linear\":RFE(estimator=LinearRegression(), n_features_to_select=1),\n",
    "                \"Robust Linear (RANSAC)\":RANSACRegressor(), \"TheilSenRegressor\":TheilSenRegressor(), \"LassoLars\":LassoLars(normalize=False),\n",
    "                \"Ridge\": Ridge(), \"Lasso\": Lasso(), \"OrthogonalMatchingPursuit\": OrthogonalMatchingPursuit(normalize=False),\n",
    "                \"BayesianRidge\": BayesianRidge(), \"SGDRegressor\":SGDRegressor()}"
   ]
  },
  {
   "cell_type": "code",
   "execution_count": 9,
   "metadata": {},
   "outputs": [
    {
     "name": "stdout",
     "output_type": "stream",
     "text": [
      "Número 1:\n",
      "Modelo: BayesianRidge\n",
      "(TRAIN) RMSE: 0.004618574897932929, R^2: 0.688310963572643\n",
      "(TEST) RMSE: 0.0013624914507925883, R^2: 0.9390919115132821\n",
      "Tiempo de entrenamiento: 2.8864000000 milisegundos\n",
      "Tiempo de prediccion (TEST): 1.0614000000 milisegundos\n",
      "\n",
      "\n",
      "\n",
      "Número 2:\n",
      "Modelo: Linear Regression\n",
      "(TRAIN) RMSE: 0.004618535020851221, R^2: 0.6883163458369951\n",
      "(TEST) RMSE: 0.0013645746830534893, R^2: 0.9389055137224911\n",
      "Tiempo de entrenamiento: 4.2577000000 milisegundos\n",
      "Tiempo de prediccion (TEST): 1.1446000000 milisegundos\n",
      "\n",
      "\n",
      "\n",
      "Número 3:\n",
      "Modelo: OrthogonalMatchingPursuit\n",
      "(TRAIN) RMSE: 0.004622275765776541, R^2: 0.6878112500827223\n",
      "(TEST) RMSE: 0.0013919883754133632, R^2: 0.9364261350293834\n",
      "Tiempo de entrenamiento: 2.6045000000 milisegundos\n",
      "Tiempo de prediccion (TEST): 1.0529000000 milisegundos\n",
      "\n",
      "\n",
      "\n",
      "Número 4:\n",
      "Modelo: Stepwise Linear\n",
      "(TRAIN) RMSE: 0.004622275765776541, R^2: 0.6878112500827223\n",
      "(TEST) RMSE: 0.0013919883754133654, R^2: 0.9364261350293832\n",
      "Tiempo de entrenamiento: 4.6780000000 milisegundos\n",
      "Tiempo de prediccion (TEST): 1.2417000000 milisegundos\n",
      "\n",
      "\n",
      "\n",
      "Número 5:\n",
      "Modelo: Robust Linear (HUBER)\n",
      "(TRAIN) RMSE: 0.0046349528932359526, R^2: 0.6860964740974578\n",
      "(TEST) RMSE: 0.0014544145424405547, R^2: 0.9305961096656672\n",
      "Tiempo de entrenamiento: 11.5301000000 milisegundos\n",
      "Tiempo de prediccion (TEST): 1.1073000000 milisegundos\n",
      "\n",
      "\n",
      "\n",
      "Número 6:\n",
      "Modelo: Ridge\n",
      "(TRAIN) RMSE: 0.004625185213868678, R^2: 0.687418117838619\n",
      "(TEST) RMSE: 0.0015477642104163802, R^2: 0.9214010040310737\n",
      "Tiempo de entrenamiento: 2.7451000000 milisegundos\n",
      "Tiempo de prediccion (TEST): 1.0224000000 milisegundos\n",
      "\n",
      "\n",
      "\n",
      "Número 7:\n",
      "Modelo: Interactions Linear\n",
      "(TRAIN) RMSE: 0.00458977234177052, R^2: 0.6921863790080074\n",
      "(TEST) RMSE: 0.003262629402281012, R^2: 0.6507447931148913\n",
      "Tiempo de entrenamiento: 3.1339000000 milisegundos\n",
      "Tiempo de prediccion (TEST): 1.1775000000 milisegundos\n",
      "\n",
      "\n",
      "\n",
      "*******************************************************************************************************************************************************************************\n",
      "Mejor modelo: BayesianRidge, (TEST) RMSE: 0.0013624914507925883, R^2: 0.9390919115132821, tiempo de entrenamiento de 2.8864000000 segundos\n",
      "*******************************************************************************************************************************************************************************\n"
     ]
    }
   ],
   "source": [
    "start_time_ejecucion = time.perf_counter()\n",
    "mejor_modelo = entrenar_modelo(listaModelos=listaModelos, X_train=X_train, y_train=y_train, X_test=X_test, y_test=y_test)\n",
    "end_time_ejecucion = time.perf_counter()"
   ]
  },
  {
   "cell_type": "code",
   "execution_count": 10,
   "metadata": {},
   "outputs": [
    {
     "name": "stdout",
     "output_type": "stream",
     "text": [
      "Tiempo de ejecución del algoritmo:  0.6582131000000002 segundos\n"
     ]
    }
   ],
   "source": [
    "tiempo_ejecucion = end_time_ejecucion - start_time_ejecucion\n",
    "print('Tiempo de ejecución del algoritmo: ', tiempo_ejecucion, 'segundos')"
   ]
  },
  {
   "cell_type": "markdown",
   "metadata": {},
   "source": [
    "# Analisis del modelo"
   ]
  },
  {
   "cell_type": "markdown",
   "metadata": {},
   "source": [
    "# Ajuste de hiperparámetros (OPCIONAL)"
   ]
  },
  {
   "cell_type": "code",
   "execution_count": 11,
   "metadata": {},
   "outputs": [
    {
     "data": {
      "image/png": "[encoded data removed]",
      "text/plain": [
       "<Figure size 640x480 with 1 Axes>"
      ]
     },
     "metadata": {},
     "output_type": "display_data"
    },
    {
     "name": "stdout",
     "output_type": "stream",
     "text": [
      "Alpha list:  [1e-08, 1e-07, 1e-06, 1e-05, 0.0001, 0.001, 0.01, 0.1, 1]\n",
      "Test Scores:  [0.9390919007331756, 0.9390919017135716, 0.9390919115132821, 0.9390920090854666, 0.9390929423302403, 0.9390980419294724, 0.9387395577658579, 0.9018326319558294, -1.8857028848955881]\n",
      "Train Scores:  [0.6883109656131643, 0.688310965427678, 0.688310963572643, 0.688310945005028, 0.6883107576030543, 0.6883087115873573, 0.6882715961581332, 0.6865329603364373, 0.5666198918964225]\n",
      "Best score (test): 0.9390980419294724 with alpha = 0.001\n"
     ]
    }
   ],
   "source": [
    "# Lista de valores para alpha_1 y alpha_2\n",
    "alpha_list = [1e-8, 1e-7, 1e-6, 1e-5, 1e-4, 1e-3, 1e-2, 1e-1, 1]\n",
    "\n",
    "if type(y_train) == pd.DataFrame:\n",
    "    # Convertir y_train a una serie unidimensional\n",
    "    y_train = y_train.squeeze()\n",
    "else:\n",
    "    # O si necesitas un array unidimensional\n",
    "    y_train = y_train.ravel()\n",
    "\n",
    "train_scores = []\n",
    "test_scores = []\n",
    "models = []\n",
    "\n",
    "for alpha in alpha_list:\n",
    "    model = make_pipeline(escalador, BayesianRidge(alpha_1=alpha, alpha_2=alpha)).fit(X_train, y_train)\n",
    "    train_scores.append(model.score(X_train, y_train))\n",
    "    test_scores.append(model.score(X_test, y_test))\n",
    "    models.append(model)\n",
    "\n",
    "best_model_index = test_scores.index(max(test_scores))\n",
    "# Graficar los resultados\n",
    "plt.plot(alpha_list, train_scores, 'b*-', label='Training')\n",
    "plt.plot(alpha_list, test_scores, 'r*-', label='Testing')\n",
    "plt.xscale('log')  # Escala logarítmica para mejor visualización\n",
    "plt.xlabel('alpha')\n",
    "plt.ylabel('R^2 Score')\n",
    "plt.legend(loc='best')\n",
    "plt.show()\n",
    "\n",
    "print('Alpha list: ', alpha_list)\n",
    "print('Test Scores: ', test_scores)\n",
    "print('Train Scores: ', train_scores)\n",
    "#print(f\"Best score (train): {max(train_scores)} with alpha = {alpha_list[train_scores.index(max(train_scores))]}\")\n",
    "print(f\"Best score (test): {max(test_scores)} with alpha = {alpha_list[best_model_index]}\")"
   ]
  },
  {
   "cell_type": "code",
   "execution_count": 12,
   "metadata": {},
   "outputs": [],
   "source": [
    "mejor_modelo = models[best_model_index]"
   ]
  },
  {
   "cell_type": "code",
   "execution_count": 13,
   "metadata": {},
   "outputs": [
    {
     "data": {
      "text/plain": [
       "{'memory': None,\n",
       " 'steps': [('minmaxscaler', MinMaxScaler()),\n",
       "  ('bayesianridge', BayesianRidge(alpha_1=0.001, alpha_2=0.001))],\n",
       " 'verbose': False,\n",
       " 'minmaxscaler': MinMaxScaler(),\n",
       " 'bayesianridge': BayesianRidge(alpha_1=0.001, alpha_2=0.001),\n",
       " 'minmaxscaler__clip': False,\n",
       " 'minmaxscaler__copy': True,\n",
       " 'minmaxscaler__feature_range': (0, 1),\n",
       " 'bayesianridge__alpha_1': 0.001,\n",
       " 'bayesianridge__alpha_2': 0.001,\n",
       " 'bayesianridge__alpha_init': None,\n",
       " 'bayesianridge__compute_score': False,\n",
       " 'bayesianridge__copy_X': True,\n",
       " 'bayesianridge__fit_intercept': True,\n",
       " 'bayesianridge__lambda_1': 1e-06,\n",
       " 'bayesianridge__lambda_2': 1e-06,\n",
       " 'bayesianridge__lambda_init': None,\n",
       " 'bayesianridge__n_iter': 300,\n",
       " 'bayesianridge__normalize': 'deprecated',\n",
       " 'bayesianridge__tol': 0.001,\n",
       " 'bayesianridge__verbose': False}"
      ]
     },
     "execution_count": 13,
     "metadata": {},
     "output_type": "execute_result"
    }
   ],
   "source": [
    "mejor_modelo.get_params()"
   ]
  },
  {
   "cell_type": "markdown",
   "metadata": {},
   "source": [
    "# Guardar modelo"
   ]
  },
  {
   "cell_type": "code",
   "execution_count": 14,
   "metadata": {},
   "outputs": [],
   "source": [
    "#dump(mejor_modelo, 'G:\\\\.shortcut-targets-by-id\\\\1LnoFimDlQwBxnQ9oNCDgkRuGNz-Ae50P\\\\ProyectosTRI\\\\Dataset\\\\mayo_junio_2021_2022\\\\modelo_ML_python\\\\modelo_pipeline.joblib')"
   ]
  },
  {
   "cell_type": "markdown",
   "metadata": {},
   "source": [
    "# Importar modelo"
   ]
  },
  {
   "cell_type": "code",
   "execution_count": 15,
   "metadata": {},
   "outputs": [],
   "source": [
    "#modelo_machine_learning = load('G:\\\\.shortcut-targets-by-id\\\\1LnoFimDlQwBxnQ9oNCDgkRuGNz-Ae50P\\\\ProyectosTRI\\\\Dataset\\\\mayo_junio_2021_2022\\\\modelo_ML_python\\\\modelo_pipeline.joblib')"
   ]
  }
 ],
 "metadata": {
  "kernelspec": {
   "display_name": "Python 3 (ipykernel)",
   "language": "python",
   "name": "python3"
  },
  "language_info": {
   "codemirror_mode": {
    "name": "ipython",
    "version": 3
   },
   "file_extension": ".py",
   "mimetype": "text/x-python",
   "name": "python",
   "nbconvert_exporter": "python",
   "pygments_lexer": "ipython3",
   "version": "3.12.3"
  }
 },
 "nbformat": 4,
 "nbformat_minor": 4
}
